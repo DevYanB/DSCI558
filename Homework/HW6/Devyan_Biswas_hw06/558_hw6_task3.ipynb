{
  "nbformat": 4,
  "nbformat_minor": 0,
  "metadata": {
    "colab": {
      "provenance": [],
      "collapsed_sections": []
    },
    "kernelspec": {
      "name": "python3",
      "display_name": "Python 3"
    },
    "language_info": {
      "name": "python"
    }
  },
  "cells": [
    {
      "cell_type": "code",
      "execution_count": 1,
      "metadata": {
        "id": "r6I4GCMhBDgv",
        "colab": {
          "base_uri": "https://localhost:8080/"
        },
        "outputId": "022c0577-40ba-4f95-fee5-e7351acd4079"
      },
      "outputs": [
        {
          "output_type": "stream",
          "name": "stdout",
          "text": [
            "Looking in indexes: https://pypi.org/simple, https://us-python.pkg.dev/colab-wheels/public/simple/\n",
            "Requirement already satisfied: torch in /usr/local/lib/python3.7/dist-packages (1.12.1+cu113)\n",
            "Requirement already satisfied: typing-extensions in /usr/local/lib/python3.7/dist-packages (from torch) (4.1.1)\n",
            "1.12.1+cu113\n",
            "Looking in indexes: https://pypi.org/simple, https://us-python.pkg.dev/colab-wheels/public/simple/\n",
            "Requirement already satisfied: pandas in /usr/local/lib/python3.7/dist-packages (1.3.5)\n",
            "Requirement already satisfied: pytz>=2017.3 in /usr/local/lib/python3.7/dist-packages (from pandas) (2022.6)\n",
            "Requirement already satisfied: python-dateutil>=2.7.3 in /usr/local/lib/python3.7/dist-packages (from pandas) (2.8.2)\n",
            "Requirement already satisfied: numpy>=1.17.3 in /usr/local/lib/python3.7/dist-packages (from pandas) (1.21.6)\n",
            "Requirement already satisfied: six>=1.5 in /usr/local/lib/python3.7/dist-packages (from python-dateutil>=2.7.3->pandas) (1.15.0)\n"
          ]
        }
      ],
      "source": [
        "!pip install torch\n",
        "import torch\n",
        "print(torch.__version__)\n",
        "\n",
        "!pip install pandas"
      ]
    },
    {
      "cell_type": "markdown",
      "source": [
        "Change torch.__version__ of following installation command.\n"
      ],
      "metadata": {
        "id": "C5Wm4DMxBNvz"
      }
    },
    {
      "cell_type": "code",
      "source": [
        "!pip install torch-geometric torch-scatter torch-sparse -f https://data.pyg.org/whl/torch-{torch.__version__}.html"
      ],
      "metadata": {
        "id": "51cJq9pDBMY-",
        "colab": {
          "base_uri": "https://localhost:8080/"
        },
        "outputId": "374c32bf-b9c1-4697-bedf-fafda5b95d94"
      },
      "execution_count": 2,
      "outputs": [
        {
          "output_type": "stream",
          "name": "stdout",
          "text": [
            "Looking in indexes: https://pypi.org/simple, https://us-python.pkg.dev/colab-wheels/public/simple/\n",
            "Looking in links: https://data.pyg.org/whl/torch-1.12.1+cu113.html\n",
            "Requirement already satisfied: torch-geometric in /usr/local/lib/python3.7/dist-packages (2.1.0.post1)\n",
            "Requirement already satisfied: torch-scatter in /usr/local/lib/python3.7/dist-packages (2.0.9)\n",
            "Requirement already satisfied: torch-sparse in /usr/local/lib/python3.7/dist-packages (0.6.15)\n",
            "Requirement already satisfied: requests in /usr/local/lib/python3.7/dist-packages (from torch-geometric) (2.23.0)\n",
            "Requirement already satisfied: numpy in /usr/local/lib/python3.7/dist-packages (from torch-geometric) (1.21.6)\n",
            "Requirement already satisfied: pyparsing in /usr/local/lib/python3.7/dist-packages (from torch-geometric) (3.0.9)\n",
            "Requirement already satisfied: tqdm in /usr/local/lib/python3.7/dist-packages (from torch-geometric) (4.64.1)\n",
            "Requirement already satisfied: scikit-learn in /usr/local/lib/python3.7/dist-packages (from torch-geometric) (1.0.2)\n",
            "Requirement already satisfied: jinja2 in /usr/local/lib/python3.7/dist-packages (from torch-geometric) (2.11.3)\n",
            "Requirement already satisfied: scipy in /usr/local/lib/python3.7/dist-packages (from torch-geometric) (1.7.3)\n",
            "Requirement already satisfied: MarkupSafe>=0.23 in /usr/local/lib/python3.7/dist-packages (from jinja2->torch-geometric) (2.0.1)\n",
            "Requirement already satisfied: certifi>=2017.4.17 in /usr/local/lib/python3.7/dist-packages (from requests->torch-geometric) (2022.9.24)\n",
            "Requirement already satisfied: chardet<4,>=3.0.2 in /usr/local/lib/python3.7/dist-packages (from requests->torch-geometric) (3.0.4)\n",
            "Requirement already satisfied: idna<3,>=2.5 in /usr/local/lib/python3.7/dist-packages (from requests->torch-geometric) (2.10)\n",
            "Requirement already satisfied: urllib3!=1.25.0,!=1.25.1,<1.26,>=1.21.1 in /usr/local/lib/python3.7/dist-packages (from requests->torch-geometric) (1.24.3)\n",
            "Requirement already satisfied: threadpoolctl>=2.0.0 in /usr/local/lib/python3.7/dist-packages (from scikit-learn->torch-geometric) (3.1.0)\n",
            "Requirement already satisfied: joblib>=0.11 in /usr/local/lib/python3.7/dist-packages (from scikit-learn->torch-geometric) (1.2.0)\n"
          ]
        }
      ]
    },
    {
      "cell_type": "markdown",
      "source": [
        "Preprocess data"
      ],
      "metadata": {
        "id": "f-5S1UVsBRa2"
      }
    },
    {
      "cell_type": "code",
      "source": [
        "import pandas as pd\n",
        "\n",
        "# Load files. (You should change file name according to your storage path)\n",
        "clicks_df = pd.read_csv('clicks.dat', header=None)\n",
        "clicks_df.columns=['session_id','timestamp','item_id','category']\n",
        "print(clicks_df.head())\n",
        " \n",
        "buy_df = pd.read_csv('transaction.dat', header=None)\n",
        "buy_df.columns=['session_id','timestamp','item_id','price','quantity']\n",
        "print(buy_df.head())\n"
      ],
      "metadata": {
        "id": "f-dyiwPOBQYY",
        "colab": {
          "base_uri": "https://localhost:8080/"
        },
        "outputId": "69c63f49-106c-4903-f2a1-e5f23d321ee1"
      },
      "execution_count": 3,
      "outputs": [
        {
          "output_type": "stream",
          "name": "stderr",
          "text": [
            "/usr/local/lib/python3.7/dist-packages/IPython/core/interactiveshell.py:3326: DtypeWarning: Columns (3) have mixed types.Specify dtype option on import or set low_memory=False.\n",
            "  exec(code_obj, self.user_global_ns, self.user_ns)\n"
          ]
        },
        {
          "output_type": "stream",
          "name": "stdout",
          "text": [
            "   session_id                 timestamp      item_id category\n",
            "0           1  2014-04-07T10:51:09.277Z  214536502.0        0\n",
            "1           1  2014-04-07T10:54:09.868Z  214536500.0        0\n",
            "2           1  2014-04-07T10:54:46.998Z  214536506.0        0\n",
            "3           1  2014-04-07T10:57:00.306Z  214577561.0        0\n",
            "4           2  2014-04-07T13:56:37.614Z  214662742.0        0\n",
            "   session_id                 timestamp    item_id  price  quantity\n",
            "0      420374  2014-04-06T18:44:58.314Z  214537888  12462         1\n",
            "1      420374  2014-04-06T18:44:58.325Z  214537850  10471         1\n",
            "2      281626  2014-04-06T09:40:13.032Z  214535653   1883         1\n",
            "3      420368  2014-04-04T06:13:28.848Z  214530572   6073         1\n",
            "4      420368  2014-04-04T06:13:28.858Z  214835025   2617         1\n"
          ]
        }
      ]
    },
    {
      "cell_type": "markdown",
      "source": [
        "Sample data: Randomly sample 100K sessions (due to huge file size)"
      ],
      "metadata": {
        "id": "j8QQ9fR8BZrQ"
      }
    },
    {
      "cell_type": "code",
      "source": [
        "import numpy as np\n",
        "sampled_session_id = np.random.choice(clicks_df.session_id.unique(), 100000, replace=False)\n",
        "clicks_df = clicks_df.loc[clicks_df.session_id.isin(sampled_session_id)]\n",
        "clicks_df.nunique()"
      ],
      "metadata": {
        "id": "63wjAllJBbl7",
        "colab": {
          "base_uri": "https://localhost:8080/"
        },
        "outputId": "26384dd5-6408-46a3-f6c7-695d9ac5e0cf"
      },
      "execution_count": 4,
      "outputs": [
        {
          "output_type": "execute_result",
          "data": {
            "text/plain": [
              "session_id    100000\n",
              "timestamp     360627\n",
              "item_id        19809\n",
              "category         128\n",
              "dtype: int64"
            ]
          },
          "metadata": {},
          "execution_count": 4
        }
      ]
    },
    {
      "cell_type": "markdown",
      "source": [
        "Encode labels with values between 0 to (num_classes - 1)"
      ],
      "metadata": {
        "id": "UITlTVcfBf0r"
      }
    },
    {
      "cell_type": "code",
      "source": [
        "from sklearn.preprocessing import LabelEncoder\n",
        "item_encoder = LabelEncoder()\n",
        "category_encoder = LabelEncoder()\n",
        "clicks_df['item_id']=item_encoder.fit_transform(clicks_df.item_id)\n",
        "clicks_df['category']=category_encoder.fit_transform(clicks_df.category.apply(str))\n",
        "clicks_df.head()\n",
        " \n",
        "buy_df=buy_df.loc[buy_df.session_id.isin(clicks_df.session_id)]\n",
        "buy_df['item_id']=item_encoder.transform(buy_df.item_id)\n",
        "buy_df.head()"
      ],
      "metadata": {
        "id": "cjM6Yu6YBjcU",
        "colab": {
          "base_uri": "https://localhost:8080/",
          "height": 330
        },
        "outputId": "99aa9440-84f7-4630-d6cb-5f13776b18f0"
      },
      "execution_count": 5,
      "outputs": [
        {
          "output_type": "stream",
          "name": "stderr",
          "text": [
            "/usr/local/lib/python3.7/dist-packages/ipykernel_launcher.py:9: SettingWithCopyWarning: \n",
            "A value is trying to be set on a copy of a slice from a DataFrame.\n",
            "Try using .loc[row_indexer,col_indexer] = value instead\n",
            "\n",
            "See the caveats in the documentation: https://pandas.pydata.org/pandas-docs/stable/user_guide/indexing.html#returning-a-view-versus-a-copy\n",
            "  if __name__ == '__main__':\n"
          ]
        },
        {
          "output_type": "execute_result",
          "data": {
            "text/plain": [
              "     session_id                 timestamp  item_id  price  quantity\n",
              "17       489756  2014-04-05T16:51:59.947Z    12793   6177         1\n",
              "84       281719  2014-04-04T17:04:56.685Z    12812   2408         2\n",
              "135      210344  2014-04-03T17:02:23.016Z    15297   2408         2\n",
              "136      210344  2014-04-03T17:02:23.078Z     6202   6282         1\n",
              "461      490243  2014-04-06T08:07:06.180Z    14561    523         1"
            ],
            "text/html": [
              "\n",
              "  <div id=\"df-bdc4dd9e-7d20-4889-80a2-4a49574ee465\">\n",
              "    <div class=\"colab-df-container\">\n",
              "      <div>\n",
              "<style scoped>\n",
              "    .dataframe tbody tr th:only-of-type {\n",
              "        vertical-align: middle;\n",
              "    }\n",
              "\n",
              "    .dataframe tbody tr th {\n",
              "        vertical-align: top;\n",
              "    }\n",
              "\n",
              "    .dataframe thead th {\n",
              "        text-align: right;\n",
              "    }\n",
              "</style>\n",
              "<table border=\"1\" class=\"dataframe\">\n",
              "  <thead>\n",
              "    <tr style=\"text-align: right;\">\n",
              "      <th></th>\n",
              "      <th>session_id</th>\n",
              "      <th>timestamp</th>\n",
              "      <th>item_id</th>\n",
              "      <th>price</th>\n",
              "      <th>quantity</th>\n",
              "    </tr>\n",
              "  </thead>\n",
              "  <tbody>\n",
              "    <tr>\n",
              "      <th>17</th>\n",
              "      <td>489756</td>\n",
              "      <td>2014-04-05T16:51:59.947Z</td>\n",
              "      <td>12793</td>\n",
              "      <td>6177</td>\n",
              "      <td>1</td>\n",
              "    </tr>\n",
              "    <tr>\n",
              "      <th>84</th>\n",
              "      <td>281719</td>\n",
              "      <td>2014-04-04T17:04:56.685Z</td>\n",
              "      <td>12812</td>\n",
              "      <td>2408</td>\n",
              "      <td>2</td>\n",
              "    </tr>\n",
              "    <tr>\n",
              "      <th>135</th>\n",
              "      <td>210344</td>\n",
              "      <td>2014-04-03T17:02:23.016Z</td>\n",
              "      <td>15297</td>\n",
              "      <td>2408</td>\n",
              "      <td>2</td>\n",
              "    </tr>\n",
              "    <tr>\n",
              "      <th>136</th>\n",
              "      <td>210344</td>\n",
              "      <td>2014-04-03T17:02:23.078Z</td>\n",
              "      <td>6202</td>\n",
              "      <td>6282</td>\n",
              "      <td>1</td>\n",
              "    </tr>\n",
              "    <tr>\n",
              "      <th>461</th>\n",
              "      <td>490243</td>\n",
              "      <td>2014-04-06T08:07:06.180Z</td>\n",
              "      <td>14561</td>\n",
              "      <td>523</td>\n",
              "      <td>1</td>\n",
              "    </tr>\n",
              "  </tbody>\n",
              "</table>\n",
              "</div>\n",
              "      <button class=\"colab-df-convert\" onclick=\"convertToInteractive('df-bdc4dd9e-7d20-4889-80a2-4a49574ee465')\"\n",
              "              title=\"Convert this dataframe to an interactive table.\"\n",
              "              style=\"display:none;\">\n",
              "        \n",
              "  <svg xmlns=\"http://www.w3.org/2000/svg\" height=\"24px\"viewBox=\"0 0 24 24\"\n",
              "       width=\"24px\">\n",
              "    <path d=\"M0 0h24v24H0V0z\" fill=\"none\"/>\n",
              "    <path d=\"M18.56 5.44l.94 2.06.94-2.06 2.06-.94-2.06-.94-.94-2.06-.94 2.06-2.06.94zm-11 1L8.5 8.5l.94-2.06 2.06-.94-2.06-.94L8.5 2.5l-.94 2.06-2.06.94zm10 10l.94 2.06.94-2.06 2.06-.94-2.06-.94-.94-2.06-.94 2.06-2.06.94z\"/><path d=\"M17.41 7.96l-1.37-1.37c-.4-.4-.92-.59-1.43-.59-.52 0-1.04.2-1.43.59L10.3 9.45l-7.72 7.72c-.78.78-.78 2.05 0 2.83L4 21.41c.39.39.9.59 1.41.59.51 0 1.02-.2 1.41-.59l7.78-7.78 2.81-2.81c.8-.78.8-2.07 0-2.86zM5.41 20L4 18.59l7.72-7.72 1.47 1.35L5.41 20z\"/>\n",
              "  </svg>\n",
              "      </button>\n",
              "      \n",
              "  <style>\n",
              "    .colab-df-container {\n",
              "      display:flex;\n",
              "      flex-wrap:wrap;\n",
              "      gap: 12px;\n",
              "    }\n",
              "\n",
              "    .colab-df-convert {\n",
              "      background-color: #E8F0FE;\n",
              "      border: none;\n",
              "      border-radius: 50%;\n",
              "      cursor: pointer;\n",
              "      display: none;\n",
              "      fill: #1967D2;\n",
              "      height: 32px;\n",
              "      padding: 0 0 0 0;\n",
              "      width: 32px;\n",
              "    }\n",
              "\n",
              "    .colab-df-convert:hover {\n",
              "      background-color: #E2EBFA;\n",
              "      box-shadow: 0px 1px 2px rgba(60, 64, 67, 0.3), 0px 1px 3px 1px rgba(60, 64, 67, 0.15);\n",
              "      fill: #174EA6;\n",
              "    }\n",
              "\n",
              "    [theme=dark] .colab-df-convert {\n",
              "      background-color: #3B4455;\n",
              "      fill: #D2E3FC;\n",
              "    }\n",
              "\n",
              "    [theme=dark] .colab-df-convert:hover {\n",
              "      background-color: #434B5C;\n",
              "      box-shadow: 0px 1px 3px 1px rgba(0, 0, 0, 0.15);\n",
              "      filter: drop-shadow(0px 1px 2px rgba(0, 0, 0, 0.3));\n",
              "      fill: #FFFFFF;\n",
              "    }\n",
              "  </style>\n",
              "\n",
              "      <script>\n",
              "        const buttonEl =\n",
              "          document.querySelector('#df-bdc4dd9e-7d20-4889-80a2-4a49574ee465 button.colab-df-convert');\n",
              "        buttonEl.style.display =\n",
              "          google.colab.kernel.accessAllowed ? 'block' : 'none';\n",
              "\n",
              "        async function convertToInteractive(key) {\n",
              "          const element = document.querySelector('#df-bdc4dd9e-7d20-4889-80a2-4a49574ee465');\n",
              "          const dataTable =\n",
              "            await google.colab.kernel.invokeFunction('convertToInteractive',\n",
              "                                                     [key], {});\n",
              "          if (!dataTable) return;\n",
              "\n",
              "          const docLinkHtml = 'Like what you see? Visit the ' +\n",
              "            '<a target=\"_blank\" href=https://colab.research.google.com/notebooks/data_table.ipynb>data table notebook</a>'\n",
              "            + ' to learn more about interactive tables.';\n",
              "          element.innerHTML = '';\n",
              "          dataTable['output_type'] = 'display_data';\n",
              "          await google.colab.output.renderOutput(dataTable, element);\n",
              "          const docLink = document.createElement('div');\n",
              "          docLink.innerHTML = docLinkHtml;\n",
              "          element.appendChild(docLink);\n",
              "        }\n",
              "      </script>\n",
              "    </div>\n",
              "  </div>\n",
              "  "
            ]
          },
          "metadata": {},
          "execution_count": 5
        }
      ]
    },
    {
      "cell_type": "markdown",
      "source": [
        "Create session_id - Item dictionary (Who bought which item?)"
      ],
      "metadata": {
        "id": "EtvbuBATBqZn"
      }
    },
    {
      "cell_type": "code",
      "source": [
        "buy_item_dict = dict(buy_df.groupby('session_id')['item_id'].apply(list))"
      ],
      "metadata": {
        "id": "mKub-eIyBr59"
      },
      "execution_count": 6,
      "outputs": []
    },
    {
      "cell_type": "markdown",
      "source": [
        "Define custom dataset class for train GNN\n",
        "Treat each item in a session as node → All items in the same session form a graph\n",
        "Items will be connected by edge.\n"
      ],
      "metadata": {
        "id": "5KkjzffCBuDC"
      }
    },
    {
      "cell_type": "code",
      "source": [
        "from torch_geometric.data import InMemoryDataset\n",
        "from torch_geometric.data import Data\n",
        "\n",
        "from tqdm import tqdm\n",
        "class CustomDataset(InMemoryDataset):\n",
        "   def __init__(self, root, transform=None, pre_transform=None):\n",
        "       super(CustomDataset, self).__init__(root, transform, pre_transform)\n",
        "       self.data, self.slices = torch.load(self.processed_paths[0])\n",
        " \n",
        "   @property\n",
        "   def raw_file_names(self):\n",
        "       return []\n",
        " \n",
        "   @property\n",
        "   def processed_file_names(self):\n",
        "       return ['save.dataset']\n",
        " \n",
        "   def download(self):\n",
        "       pass\n",
        "  \n",
        "   def process(self):\n",
        "      \n",
        "       data_list = []\n",
        "       # process by session_id\n",
        "       grouped = clicks_df.groupby('session_id')\n",
        "       for session_id, group in tqdm(grouped):\n",
        "           le = LabelEncoder()\n",
        "           sess_item_id = le.fit_transform(group.item_id)\n",
        "           group = group.reset_index(drop=True)\n",
        "           group['sess_item_id'] = sess_item_id\n",
        "           node_features = group.loc[group.session_id==session_id,['sess_item_id','item_id','category']].sort_values('sess_item_id')[['item_id','category']].drop_duplicates().values\n",
        "           node_features = torch.LongTensor(node_features).unsqueeze(1)\n",
        "           target_nodes = group.sess_item_id.values[1:]\n",
        "           source_nodes = group.sess_item_id.values[:-1]\n",
        "           edge_index = torch.tensor([source_nodes,\n",
        "                                  target_nodes], dtype=torch.long)\n",
        "           x = node_features\n",
        " \n",
        "           if session_id in buy_item_dict:\n",
        "               positive_indices = le.transform(buy_item_dict[session_id])\n",
        "               label = np.zeros(len(node_features))\n",
        "               label[positive_indices] = 1\n",
        "           else:\n",
        "               label = [0] * len(node_features)\n",
        " \n",
        "           y = torch.FloatTensor(label)\n",
        "           data = Data(x=x, edge_index=edge_index, y=y)\n",
        " \n",
        "           data_list.append(data)\n",
        "      \n",
        "       data, slices = self.collate(data_list)\n",
        "       torch.save((data, slices), self.processed_paths[0])\n",
        " \n",
        "dataset = CustomDataset('../')\n"
      ],
      "metadata": {
        "id": "QAYmVf0BBwk0"
      },
      "execution_count": 7,
      "outputs": []
    },
    {
      "cell_type": "markdown",
      "source": [
        "Model"
      ],
      "metadata": {
        "id": "T3l0_EGFDrnx"
      }
    },
    {
      "cell_type": "code",
      "source": [
        "import torch\n",
        "from torch.nn import Linear\n",
        "import torch.nn.functional as F\n",
        "from torch_geometric.nn import GCNConv\n",
        "from torch_geometric.nn import global_mean_pool\n",
        "\n",
        "num_items = clicks_df.item_id.max() +1\n",
        "num_categories = clicks_df.category.max()+1\n",
        "embed_dim = 128\n",
        "\n",
        "class Net(torch.nn.Module):\n",
        "    def __init__(self):\n",
        "        super().__init__()\n",
        "        self.item_embedding = torch.nn.Embedding(num_embeddings=num_items, embedding_dim=embed_dim)\n",
        "        self.category_embedding = torch.nn.Embedding(num_embeddings=num_categories, embedding_dim=embed_dim)        \n",
        "        self.conv1 = GCNConv(embed_dim * 2, embed_dim) # You can use other graph convolution layer\n",
        "        self.lin1 = Linear(embed_dim, 1) # You can multiple linear layers\n",
        "        self.act1 = torch.nn.ReLU()\n",
        "\n",
        "    def forward(self, data):\n",
        "        x, edge_index, batch = data.x, data.edge_index, data.batch  \n",
        "        item_id = x[:,:,0]\n",
        "        category = x[:,:,1]\n",
        "\n",
        "        # Use item embedding & category embedding to solve the problem.\n",
        "        emb_item = self.item_embedding(item_id).squeeze(1)\n",
        "        emb_category = self.category_embedding(category).squeeze(1)\n",
        "        x = torch.cat([emb_item, emb_category], dim=1)\n",
        "\n",
        "        ### You can add layers or alter the model structure. See geometric documents which layer or model you can use.\n",
        "        x = self.conv1(x, edge_index) # x.shape = (number of edges in the batch of graphs, representation dimension)\n",
        "       \n",
        "\n",
        "\n",
        "        ### Prediction score for each edge, range 0~1\n",
        "        x = torch.sigmoid(self.lin1(x)).squeeze(1)\n",
        "        \n",
        "        return x  "
      ],
      "metadata": {
        "id": "egpGodZ8DrOL"
      },
      "execution_count": 8,
      "outputs": []
    },
    {
      "cell_type": "markdown",
      "source": [
        "Dataloader"
      ],
      "metadata": {
        "id": "R0XrZBSUDcrj"
      }
    },
    {
      "cell_type": "code",
      "source": [
        "from torch_geometric.loader import DataLoader"
      ],
      "metadata": {
        "id": "TFnnPVq66At9"
      },
      "execution_count": 9,
      "outputs": []
    },
    {
      "cell_type": "code",
      "source": [
        "### add train, val, test loader.\n",
        "training_dataset = dataset[:80000]\n",
        "val_test_dataset = dataset[80000:]\n",
        "val_dataset = val_test_dataset[:10000]\n",
        "test_dataset = val_test_dataset[10000:]"
      ],
      "metadata": {
        "id": "Nk0Uz2SCDg4d"
      },
      "execution_count": 10,
      "outputs": []
    },
    {
      "cell_type": "code",
      "source": [
        "train_loader = DataLoader(training_dataset, batch_size=640, shuffle=True)\n",
        "val_loader = DataLoader(val_dataset, batch_size=640, shuffle=True)\n",
        "test_loader = DataLoader(test_dataset, batch_size=640, shuffle=True)"
      ],
      "metadata": {
        "id": "jmQ2E59N52PI"
      },
      "execution_count": 11,
      "outputs": []
    },
    {
      "cell_type": "code",
      "source": [
        "for batch in train_loader:\n",
        "  print(batch)\n",
        "  print(batch.num_graphs)"
      ],
      "metadata": {
        "colab": {
          "base_uri": "https://localhost:8080/"
        },
        "id": "1bDJa7Mq6Cda",
        "outputId": "062d4a3a-b539-402d-c27b-93003224818a"
      },
      "execution_count": 12,
      "outputs": [
        {
          "output_type": "stream",
          "name": "stdout",
          "text": [
            "DataBatch(x=[1912, 1, 2], edge_index=[2, 1827], y=[1912], batch=[1912], ptr=[641])\n",
            "640\n",
            "DataBatch(x=[2137, 1, 2], edge_index=[2, 2087], y=[2137], batch=[2137], ptr=[641])\n",
            "640\n",
            "DataBatch(x=[1905, 1, 2], edge_index=[2, 1919], y=[1905], batch=[1905], ptr=[641])\n",
            "640\n",
            "DataBatch(x=[1826, 1, 2], edge_index=[2, 1846], y=[1826], batch=[1826], ptr=[641])\n",
            "640\n",
            "DataBatch(x=[1946, 1, 2], edge_index=[2, 1968], y=[1946], batch=[1946], ptr=[641])\n",
            "640\n",
            "DataBatch(x=[1948, 1, 2], edge_index=[2, 1920], y=[1948], batch=[1948], ptr=[641])\n",
            "640\n",
            "DataBatch(x=[1852, 1, 2], edge_index=[2, 1838], y=[1852], batch=[1852], ptr=[641])\n",
            "640\n",
            "DataBatch(x=[1867, 1, 2], edge_index=[2, 1771], y=[1867], batch=[1867], ptr=[641])\n",
            "640\n",
            "DataBatch(x=[1908, 1, 2], edge_index=[2, 1816], y=[1908], batch=[1908], ptr=[641])\n",
            "640\n",
            "DataBatch(x=[1925, 1, 2], edge_index=[2, 1922], y=[1925], batch=[1925], ptr=[641])\n",
            "640\n",
            "DataBatch(x=[1799, 1, 2], edge_index=[2, 1757], y=[1799], batch=[1799], ptr=[641])\n",
            "640\n",
            "DataBatch(x=[2030, 1, 2], edge_index=[2, 2039], y=[2030], batch=[2030], ptr=[641])\n",
            "640\n",
            "DataBatch(x=[1778, 1, 2], edge_index=[2, 1734], y=[1778], batch=[1778], ptr=[641])\n",
            "640\n",
            "DataBatch(x=[1888, 1, 2], edge_index=[2, 1884], y=[1888], batch=[1888], ptr=[641])\n",
            "640\n",
            "DataBatch(x=[1928, 1, 2], edge_index=[2, 1857], y=[1928], batch=[1928], ptr=[641])\n",
            "640\n",
            "DataBatch(x=[1912, 1, 2], edge_index=[2, 1878], y=[1912], batch=[1912], ptr=[641])\n",
            "640\n",
            "DataBatch(x=[1928, 1, 2], edge_index=[2, 1865], y=[1928], batch=[1928], ptr=[641])\n",
            "640\n",
            "DataBatch(x=[1769, 1, 2], edge_index=[2, 1711], y=[1769], batch=[1769], ptr=[641])\n",
            "640\n",
            "DataBatch(x=[1949, 1, 2], edge_index=[2, 1960], y=[1949], batch=[1949], ptr=[641])\n",
            "640\n",
            "DataBatch(x=[1937, 1, 2], edge_index=[2, 1894], y=[1937], batch=[1937], ptr=[641])\n",
            "640\n",
            "DataBatch(x=[1805, 1, 2], edge_index=[2, 1725], y=[1805], batch=[1805], ptr=[641])\n",
            "640\n",
            "DataBatch(x=[1816, 1, 2], edge_index=[2, 1781], y=[1816], batch=[1816], ptr=[641])\n",
            "640\n",
            "DataBatch(x=[2130, 1, 2], edge_index=[2, 2153], y=[2130], batch=[2130], ptr=[641])\n",
            "640\n",
            "DataBatch(x=[1766, 1, 2], edge_index=[2, 1641], y=[1766], batch=[1766], ptr=[641])\n",
            "640\n",
            "DataBatch(x=[1887, 1, 2], edge_index=[2, 1903], y=[1887], batch=[1887], ptr=[641])\n",
            "640\n",
            "DataBatch(x=[1850, 1, 2], edge_index=[2, 1779], y=[1850], batch=[1850], ptr=[641])\n",
            "640\n",
            "DataBatch(x=[2005, 1, 2], edge_index=[2, 2031], y=[2005], batch=[2005], ptr=[641])\n",
            "640\n",
            "DataBatch(x=[1966, 1, 2], edge_index=[2, 1961], y=[1966], batch=[1966], ptr=[641])\n",
            "640\n",
            "DataBatch(x=[2057, 1, 2], edge_index=[2, 2145], y=[2057], batch=[2057], ptr=[641])\n",
            "640\n",
            "DataBatch(x=[1918, 1, 2], edge_index=[2, 1919], y=[1918], batch=[1918], ptr=[641])\n",
            "640\n",
            "DataBatch(x=[1748, 1, 2], edge_index=[2, 1613], y=[1748], batch=[1748], ptr=[641])\n",
            "640\n",
            "DataBatch(x=[1943, 1, 2], edge_index=[2, 1949], y=[1943], batch=[1943], ptr=[641])\n",
            "640\n",
            "DataBatch(x=[1857, 1, 2], edge_index=[2, 1773], y=[1857], batch=[1857], ptr=[641])\n",
            "640\n",
            "DataBatch(x=[2060, 1, 2], edge_index=[2, 2061], y=[2060], batch=[2060], ptr=[641])\n",
            "640\n",
            "DataBatch(x=[1865, 1, 2], edge_index=[2, 1864], y=[1865], batch=[1865], ptr=[641])\n",
            "640\n",
            "DataBatch(x=[1990, 1, 2], edge_index=[2, 2053], y=[1990], batch=[1990], ptr=[641])\n",
            "640\n",
            "DataBatch(x=[1930, 1, 2], edge_index=[2, 1950], y=[1930], batch=[1930], ptr=[641])\n",
            "640\n",
            "DataBatch(x=[1847, 1, 2], edge_index=[2, 1794], y=[1847], batch=[1847], ptr=[641])\n",
            "640\n",
            "DataBatch(x=[1996, 1, 2], edge_index=[2, 1990], y=[1996], batch=[1996], ptr=[641])\n",
            "640\n",
            "DataBatch(x=[1825, 1, 2], edge_index=[2, 1826], y=[1825], batch=[1825], ptr=[641])\n",
            "640\n",
            "DataBatch(x=[2014, 1, 2], edge_index=[2, 2077], y=[2014], batch=[2014], ptr=[641])\n",
            "640\n",
            "DataBatch(x=[1924, 1, 2], edge_index=[2, 1987], y=[1924], batch=[1924], ptr=[641])\n",
            "640\n",
            "DataBatch(x=[1788, 1, 2], edge_index=[2, 1725], y=[1788], batch=[1788], ptr=[641])\n",
            "640\n",
            "DataBatch(x=[1914, 1, 2], edge_index=[2, 1849], y=[1914], batch=[1914], ptr=[641])\n",
            "640\n",
            "DataBatch(x=[1954, 1, 2], edge_index=[2, 1952], y=[1954], batch=[1954], ptr=[641])\n",
            "640\n",
            "DataBatch(x=[2010, 1, 2], edge_index=[2, 1974], y=[2010], batch=[2010], ptr=[641])\n",
            "640\n",
            "DataBatch(x=[1990, 1, 2], edge_index=[2, 2046], y=[1990], batch=[1990], ptr=[641])\n",
            "640\n",
            "DataBatch(x=[1836, 1, 2], edge_index=[2, 1760], y=[1836], batch=[1836], ptr=[641])\n",
            "640\n",
            "DataBatch(x=[2013, 1, 2], edge_index=[2, 2067], y=[2013], batch=[2013], ptr=[641])\n",
            "640\n",
            "DataBatch(x=[2026, 1, 2], edge_index=[2, 2003], y=[2026], batch=[2026], ptr=[641])\n",
            "640\n",
            "DataBatch(x=[1833, 1, 2], edge_index=[2, 1788], y=[1833], batch=[1833], ptr=[641])\n",
            "640\n",
            "DataBatch(x=[2045, 1, 2], edge_index=[2, 2003], y=[2045], batch=[2045], ptr=[641])\n",
            "640\n",
            "DataBatch(x=[1938, 1, 2], edge_index=[2, 2076], y=[1938], batch=[1938], ptr=[641])\n",
            "640\n",
            "DataBatch(x=[1950, 1, 2], edge_index=[2, 1837], y=[1950], batch=[1950], ptr=[641])\n",
            "640\n",
            "DataBatch(x=[1876, 1, 2], edge_index=[2, 1809], y=[1876], batch=[1876], ptr=[641])\n",
            "640\n",
            "DataBatch(x=[1868, 1, 2], edge_index=[2, 1867], y=[1868], batch=[1868], ptr=[641])\n",
            "640\n",
            "DataBatch(x=[2007, 1, 2], edge_index=[2, 1988], y=[2007], batch=[2007], ptr=[641])\n",
            "640\n",
            "DataBatch(x=[1857, 1, 2], edge_index=[2, 1829], y=[1857], batch=[1857], ptr=[641])\n",
            "640\n",
            "DataBatch(x=[1990, 1, 2], edge_index=[2, 2047], y=[1990], batch=[1990], ptr=[641])\n",
            "640\n",
            "DataBatch(x=[1831, 1, 2], edge_index=[2, 1782], y=[1831], batch=[1831], ptr=[641])\n",
            "640\n",
            "DataBatch(x=[2006, 1, 2], edge_index=[2, 2021], y=[2006], batch=[2006], ptr=[641])\n",
            "640\n",
            "DataBatch(x=[1792, 1, 2], edge_index=[2, 1619], y=[1792], batch=[1792], ptr=[641])\n",
            "640\n",
            "DataBatch(x=[1898, 1, 2], edge_index=[2, 1900], y=[1898], batch=[1898], ptr=[641])\n",
            "640\n",
            "DataBatch(x=[1851, 1, 2], edge_index=[2, 1748], y=[1851], batch=[1851], ptr=[641])\n",
            "640\n",
            "DataBatch(x=[2055, 1, 2], edge_index=[2, 2054], y=[2055], batch=[2055], ptr=[641])\n",
            "640\n",
            "DataBatch(x=[1967, 1, 2], edge_index=[2, 1992], y=[1967], batch=[1967], ptr=[641])\n",
            "640\n",
            "DataBatch(x=[1941, 1, 2], edge_index=[2, 1930], y=[1941], batch=[1941], ptr=[641])\n",
            "640\n",
            "DataBatch(x=[2025, 1, 2], edge_index=[2, 2011], y=[2025], batch=[2025], ptr=[641])\n",
            "640\n",
            "DataBatch(x=[1917, 1, 2], edge_index=[2, 1918], y=[1917], batch=[1917], ptr=[641])\n",
            "640\n",
            "DataBatch(x=[1904, 1, 2], edge_index=[2, 1848], y=[1904], batch=[1904], ptr=[641])\n",
            "640\n",
            "DataBatch(x=[1969, 1, 2], edge_index=[2, 1994], y=[1969], batch=[1969], ptr=[641])\n",
            "640\n",
            "DataBatch(x=[1981, 1, 2], edge_index=[2, 2060], y=[1981], batch=[1981], ptr=[641])\n",
            "640\n",
            "DataBatch(x=[1912, 1, 2], edge_index=[2, 1828], y=[1912], batch=[1912], ptr=[641])\n",
            "640\n",
            "DataBatch(x=[2011, 1, 2], edge_index=[2, 1983], y=[2011], batch=[2011], ptr=[641])\n",
            "640\n",
            "DataBatch(x=[1797, 1, 2], edge_index=[2, 1694], y=[1797], batch=[1797], ptr=[641])\n",
            "640\n",
            "DataBatch(x=[1934, 1, 2], edge_index=[2, 1885], y=[1934], batch=[1934], ptr=[641])\n",
            "640\n",
            "DataBatch(x=[1965, 1, 2], edge_index=[2, 1945], y=[1965], batch=[1965], ptr=[641])\n",
            "640\n",
            "DataBatch(x=[1898, 1, 2], edge_index=[2, 1870], y=[1898], batch=[1898], ptr=[641])\n",
            "640\n",
            "DataBatch(x=[1954, 1, 2], edge_index=[2, 1965], y=[1954], batch=[1954], ptr=[641])\n",
            "640\n",
            "DataBatch(x=[1898, 1, 2], edge_index=[2, 1933], y=[1898], batch=[1898], ptr=[641])\n",
            "640\n",
            "DataBatch(x=[2008, 1, 2], edge_index=[2, 1953], y=[2008], batch=[2008], ptr=[641])\n",
            "640\n",
            "DataBatch(x=[1853, 1, 2], edge_index=[2, 1822], y=[1853], batch=[1853], ptr=[641])\n",
            "640\n",
            "DataBatch(x=[1888, 1, 2], edge_index=[2, 1938], y=[1888], batch=[1888], ptr=[641])\n",
            "640\n",
            "DataBatch(x=[1988, 1, 2], edge_index=[2, 2069], y=[1988], batch=[1988], ptr=[641])\n",
            "640\n",
            "DataBatch(x=[1923, 1, 2], edge_index=[2, 1848], y=[1923], batch=[1923], ptr=[641])\n",
            "640\n",
            "DataBatch(x=[1878, 1, 2], edge_index=[2, 1829], y=[1878], batch=[1878], ptr=[641])\n",
            "640\n",
            "DataBatch(x=[1791, 1, 2], edge_index=[2, 1801], y=[1791], batch=[1791], ptr=[641])\n",
            "640\n",
            "DataBatch(x=[1905, 1, 2], edge_index=[2, 1837], y=[1905], batch=[1905], ptr=[641])\n",
            "640\n",
            "DataBatch(x=[1856, 1, 2], edge_index=[2, 1825], y=[1856], batch=[1856], ptr=[641])\n",
            "640\n",
            "DataBatch(x=[1933, 1, 2], edge_index=[2, 1923], y=[1933], batch=[1933], ptr=[641])\n",
            "640\n",
            "DataBatch(x=[1957, 1, 2], edge_index=[2, 1951], y=[1957], batch=[1957], ptr=[641])\n",
            "640\n",
            "DataBatch(x=[1861, 1, 2], edge_index=[2, 1744], y=[1861], batch=[1861], ptr=[641])\n",
            "640\n",
            "DataBatch(x=[1918, 1, 2], edge_index=[2, 1884], y=[1918], batch=[1918], ptr=[641])\n",
            "640\n",
            "DataBatch(x=[1925, 1, 2], edge_index=[2, 1896], y=[1925], batch=[1925], ptr=[641])\n",
            "640\n",
            "DataBatch(x=[1965, 1, 2], edge_index=[2, 2045], y=[1965], batch=[1965], ptr=[641])\n",
            "640\n",
            "DataBatch(x=[1844, 1, 2], edge_index=[2, 1759], y=[1844], batch=[1844], ptr=[641])\n",
            "640\n",
            "DataBatch(x=[2053, 1, 2], edge_index=[2, 2018], y=[2053], batch=[2053], ptr=[641])\n",
            "640\n",
            "DataBatch(x=[1888, 1, 2], edge_index=[2, 1905], y=[1888], batch=[1888], ptr=[641])\n",
            "640\n",
            "DataBatch(x=[1854, 1, 2], edge_index=[2, 1865], y=[1854], batch=[1854], ptr=[641])\n",
            "640\n",
            "DataBatch(x=[2017, 1, 2], edge_index=[2, 2015], y=[2017], batch=[2017], ptr=[641])\n",
            "640\n",
            "DataBatch(x=[2017, 1, 2], edge_index=[2, 2031], y=[2017], batch=[2017], ptr=[641])\n",
            "640\n",
            "DataBatch(x=[1769, 1, 2], edge_index=[2, 1652], y=[1769], batch=[1769], ptr=[641])\n",
            "640\n",
            "DataBatch(x=[1850, 1, 2], edge_index=[2, 1856], y=[1850], batch=[1850], ptr=[641])\n",
            "640\n",
            "DataBatch(x=[1882, 1, 2], edge_index=[2, 1776], y=[1882], batch=[1882], ptr=[641])\n",
            "640\n",
            "DataBatch(x=[1852, 1, 2], edge_index=[2, 1878], y=[1852], batch=[1852], ptr=[641])\n",
            "640\n",
            "DataBatch(x=[2107, 1, 2], edge_index=[2, 2112], y=[2107], batch=[2107], ptr=[641])\n",
            "640\n",
            "DataBatch(x=[1930, 1, 2], edge_index=[2, 1886], y=[1930], batch=[1930], ptr=[641])\n",
            "640\n",
            "DataBatch(x=[1758, 1, 2], edge_index=[2, 1714], y=[1758], batch=[1758], ptr=[641])\n",
            "640\n",
            "DataBatch(x=[1880, 1, 2], edge_index=[2, 1816], y=[1880], batch=[1880], ptr=[641])\n",
            "640\n",
            "DataBatch(x=[1870, 1, 2], edge_index=[2, 1787], y=[1870], batch=[1870], ptr=[641])\n",
            "640\n",
            "DataBatch(x=[1883, 1, 2], edge_index=[2, 1865], y=[1883], batch=[1883], ptr=[641])\n",
            "640\n",
            "DataBatch(x=[1797, 1, 2], edge_index=[2, 1735], y=[1797], batch=[1797], ptr=[641])\n",
            "640\n",
            "DataBatch(x=[2004, 1, 2], edge_index=[2, 1976], y=[2004], batch=[2004], ptr=[641])\n",
            "640\n",
            "DataBatch(x=[1895, 1, 2], edge_index=[2, 1797], y=[1895], batch=[1895], ptr=[641])\n",
            "640\n",
            "DataBatch(x=[1852, 1, 2], edge_index=[2, 1803], y=[1852], batch=[1852], ptr=[641])\n",
            "640\n",
            "DataBatch(x=[1887, 1, 2], edge_index=[2, 1767], y=[1887], batch=[1887], ptr=[641])\n",
            "640\n",
            "DataBatch(x=[1935, 1, 2], edge_index=[2, 1883], y=[1935], batch=[1935], ptr=[641])\n",
            "640\n",
            "DataBatch(x=[1858, 1, 2], edge_index=[2, 1797], y=[1858], batch=[1858], ptr=[641])\n",
            "640\n",
            "DataBatch(x=[1866, 1, 2], edge_index=[2, 1780], y=[1866], batch=[1866], ptr=[641])\n",
            "640\n",
            "DataBatch(x=[1870, 1, 2], edge_index=[2, 1812], y=[1870], batch=[1870], ptr=[641])\n",
            "640\n",
            "DataBatch(x=[2060, 1, 2], edge_index=[2, 2091], y=[2060], batch=[2060], ptr=[641])\n",
            "640\n",
            "DataBatch(x=[1939, 1, 2], edge_index=[2, 1978], y=[1939], batch=[1939], ptr=[641])\n",
            "640\n",
            "DataBatch(x=[2003, 1, 2], edge_index=[2, 1991], y=[2003], batch=[2003], ptr=[641])\n",
            "640\n",
            "DataBatch(x=[1922, 1, 2], edge_index=[2, 1973], y=[1922], batch=[1922], ptr=[641])\n",
            "640\n",
            "DataBatch(x=[1877, 1, 2], edge_index=[2, 1857], y=[1877], batch=[1877], ptr=[641])\n",
            "640\n"
          ]
        }
      ]
    },
    {
      "cell_type": "markdown",
      "source": [
        "Train"
      ],
      "metadata": {
        "id": "8EC3TdXzDhXC"
      }
    },
    {
      "cell_type": "code",
      "source": [
        "def train():\n",
        "    model.train()\n",
        "    loss_all = 0\n",
        "    for data in train_loader:\n",
        "        data = data.to(device)\n",
        "        optimizer.zero_grad()\n",
        "        output = model(data)\n",
        "\n",
        "        label = data.y.to(device)\n",
        "        loss = torch.nn.BCELoss()(output, label)\n",
        "        loss.backward()\n",
        "        loss_all += data.num_graphs * loss.item()\n",
        "        optimizer.step()\n",
        "    return loss_all / len(training_dataset)"
      ],
      "metadata": {
        "id": "fVzx1dAdLrNl"
      },
      "execution_count": 13,
      "outputs": []
    },
    {
      "cell_type": "code",
      "source": [
        "def val():\n",
        "    model.eval()\n",
        "    loss_all = 0\n",
        "    for data in val_loader:\n",
        "        data = data.to(device)\n",
        "        optimizer.zero_grad()\n",
        "        output = model(data)\n",
        "\n",
        "        label = data.y.to(device)\n",
        "        loss = torch.nn.BCELoss()(output, label)\n",
        "        loss.backward()\n",
        "        loss_all += data.num_graphs * loss.item()\n",
        "        optimizer.step()\n",
        "    return loss_all / len(training_dataset)"
      ],
      "metadata": {
        "id": "Vxj2ULE2IC7h"
      },
      "execution_count": 14,
      "outputs": []
    },
    {
      "cell_type": "code",
      "source": [
        "device = torch.device('cuda' if torch.cuda.is_available() else 'cpu')\n",
        "model = Net().to(device)\n",
        "optimizer = torch.optim.Adam(model.parameters(), lr=0.01, weight_decay=5e-4)"
      ],
      "metadata": {
        "id": "kmsxJK_46ZfL"
      },
      "execution_count": 15,
      "outputs": []
    },
    {
      "cell_type": "code",
      "source": [
        "print(device)\n",
        "print(model)\n",
        "print(optimizer)"
      ],
      "metadata": {
        "colab": {
          "base_uri": "https://localhost:8080/"
        },
        "id": "rLmzMir76a2w",
        "outputId": "9a6b105e-193e-4342-c500-3225a46c0ee2"
      },
      "execution_count": 16,
      "outputs": [
        {
          "output_type": "stream",
          "name": "stdout",
          "text": [
            "cpu\n",
            "Net(\n",
            "  (item_embedding): Embedding(19809, 128)\n",
            "  (category_embedding): Embedding(127, 128)\n",
            "  (conv1): GCNConv(256, 128)\n",
            "  (lin1): Linear(in_features=128, out_features=1, bias=True)\n",
            "  (act1): ReLU()\n",
            ")\n",
            "Adam (\n",
            "Parameter Group 0\n",
            "    amsgrad: False\n",
            "    betas: (0.9, 0.999)\n",
            "    capturable: False\n",
            "    eps: 1e-08\n",
            "    foreach: None\n",
            "    lr: 0.01\n",
            "    maximize: False\n",
            "    weight_decay: 0.0005\n",
            ")\n"
          ]
        }
      ]
    },
    {
      "cell_type": "markdown",
      "source": [
        "Test"
      ],
      "metadata": {
        "id": "xBwRNy8zLsKb"
      }
    },
    {
      "cell_type": "code",
      "source": [
        "from sklearn.metrics import roc_auc_score\n",
        "def test(loader):\n",
        "    model.eval()\n",
        "\n",
        "    predictions = []\n",
        "    labels = []\n",
        "\n",
        "    with torch.no_grad():\n",
        "        for data in loader:\n",
        "\n",
        "            data = data.to(device)\n",
        "            pred = model(data).detach().cpu().numpy()\n",
        "\n",
        "            label = data.y.detach().cpu().numpy()\n",
        "            predictions.append(pred)\n",
        "            labels.append(label)\n",
        "\n",
        "    predictions = np.hstack(predictions)\n",
        "    labels = np.hstack(labels)\n",
        "\n",
        "    return roc_auc_score(labels, predictions)"
      ],
      "metadata": {
        "id": "bHYXPzblLsxD"
      },
      "execution_count": 17,
      "outputs": []
    },
    {
      "cell_type": "code",
      "source": [
        "model.train()\n",
        "\n",
        "number_of_epochs = 20 # You can change.\n",
        "\n",
        "lowest_val_loss = float('inf')\n",
        "best_model = None\n",
        "for epoch in range(number_of_epochs):\n",
        "    train_loss = train()\n",
        "    val_loss = val()\n",
        "\n",
        "    # Choose the lowest validation loss checkpoint (you can implement early stopping as well)\n",
        "    if val_loss < lowest_val_loss:\n",
        "      lowest_val_loss = val_loss\n",
        "      torch.save(model, \"./model/model.pt\")\n",
        "\n",
        "model = torch.load(\"./model/model.pt\")\n",
        "# Load the lowest validation loss checkpoint and check the performance.\n",
        "test_acc = test(test_loader)\n",
        "print(test_acc)"
      ],
      "metadata": {
        "colab": {
          "base_uri": "https://localhost:8080/"
        },
        "id": "xzjDbpXO7YQ-",
        "outputId": "77d5edc3-a622-49d6-ac61-848bff7f69d5"
      },
      "execution_count": 18,
      "outputs": [
        {
          "output_type": "stream",
          "name": "stdout",
          "text": [
            "0.6501818919851923\n"
          ]
        }
      ]
    },
    {
      "cell_type": "markdown",
      "source": [],
      "metadata": {
        "id": "mJqjcpyXBz1v"
      }
    }
  ]
}