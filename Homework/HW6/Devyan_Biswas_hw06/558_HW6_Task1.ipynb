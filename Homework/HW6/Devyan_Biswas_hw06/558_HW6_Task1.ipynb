{
  "nbformat": 4,
  "nbformat_minor": 0,
  "metadata": {
    "colab": {
      "provenance": [],
      "collapsed_sections": [
        "Nvs4n3T41Bv4"
      ]
    },
    "kernelspec": {
      "name": "python3",
      "display_name": "Python 3"
    },
    "language_info": {
      "name": "python"
    }
  },
  "cells": [
    {
      "cell_type": "markdown",
      "source": [
        "### Imports section"
      ],
      "metadata": {
        "id": "Nvs4n3T41Bv4"
      }
    },
    {
      "cell_type": "code",
      "execution_count": null,
      "metadata": {
        "colab": {
          "base_uri": "https://localhost:8080/"
        },
        "id": "TD5EhZ6LfCeD",
        "outputId": "08020061-f3c6-4a1c-b32e-f2268b34047a"
      },
      "outputs": [
        {
          "output_type": "stream",
          "name": "stdout",
          "text": [
            "Looking in indexes: https://pypi.org/simple, https://us-python.pkg.dev/colab-wheels/public/simple/\n",
            "Requirement already satisfied: torch in /usr/local/lib/python3.7/dist-packages (1.12.1+cu113)\n",
            "Requirement already satisfied: typing-extensions in /usr/local/lib/python3.7/dist-packages (from torch) (4.1.1)\n",
            "1.12.1+cu113\n"
          ]
        }
      ],
      "source": [
        "!pip install torch\n",
        "import torch\n",
        "print(torch.__version__)"
      ]
    },
    {
      "cell_type": "code",
      "source": [
        "!pip install torch-geometric torch-scatter torch-sparse -f https://data.pyg.org/whl/torch-{torch.__version__}.html"
      ],
      "metadata": {
        "colab": {
          "base_uri": "https://localhost:8080/"
        },
        "id": "Yrsf8reWfZe4",
        "outputId": "61d2f96e-565e-43ea-caa6-b7bc6999c85a"
      },
      "execution_count": null,
      "outputs": [
        {
          "output_type": "stream",
          "name": "stdout",
          "text": [
            "Looking in indexes: https://pypi.org/simple, https://us-python.pkg.dev/colab-wheels/public/simple/\n",
            "Looking in links: https://data.pyg.org/whl/torch-1.12.1+cu113.html\n",
            "Collecting torch-geometric\n",
            "  Downloading torch_geometric-2.1.0.post1.tar.gz (467 kB)\n",
            "\u001b[K     |████████████████████████████████| 467 kB 7.6 MB/s \n",
            "\u001b[?25hCollecting torch-scatter\n",
            "  Downloading https://data.pyg.org/whl/torch-1.12.0%2Bcu113/torch_scatter-2.0.9-cp37-cp37m-linux_x86_64.whl (7.9 MB)\n",
            "\u001b[K     |████████████████████████████████| 7.9 MB 6.3 MB/s \n",
            "\u001b[?25hCollecting torch-sparse\n",
            "  Downloading https://data.pyg.org/whl/torch-1.12.0%2Bcu113/torch_sparse-0.6.15-cp37-cp37m-linux_x86_64.whl (3.5 MB)\n",
            "\u001b[K     |████████████████████████████████| 3.5 MB 40.6 MB/s \n",
            "\u001b[?25hRequirement already satisfied: tqdm in /usr/local/lib/python3.7/dist-packages (from torch-geometric) (4.64.1)\n",
            "Requirement already satisfied: numpy in /usr/local/lib/python3.7/dist-packages (from torch-geometric) (1.21.6)\n",
            "Requirement already satisfied: scipy in /usr/local/lib/python3.7/dist-packages (from torch-geometric) (1.7.3)\n",
            "Requirement already satisfied: jinja2 in /usr/local/lib/python3.7/dist-packages (from torch-geometric) (2.11.3)\n",
            "Requirement already satisfied: requests in /usr/local/lib/python3.7/dist-packages (from torch-geometric) (2.23.0)\n",
            "Requirement already satisfied: pyparsing in /usr/local/lib/python3.7/dist-packages (from torch-geometric) (3.0.9)\n",
            "Requirement already satisfied: scikit-learn in /usr/local/lib/python3.7/dist-packages (from torch-geometric) (1.0.2)\n",
            "Requirement already satisfied: MarkupSafe>=0.23 in /usr/local/lib/python3.7/dist-packages (from jinja2->torch-geometric) (2.0.1)\n",
            "Requirement already satisfied: idna<3,>=2.5 in /usr/local/lib/python3.7/dist-packages (from requests->torch-geometric) (2.10)\n",
            "Requirement already satisfied: certifi>=2017.4.17 in /usr/local/lib/python3.7/dist-packages (from requests->torch-geometric) (2022.9.24)\n",
            "Requirement already satisfied: urllib3!=1.25.0,!=1.25.1,<1.26,>=1.21.1 in /usr/local/lib/python3.7/dist-packages (from requests->torch-geometric) (1.24.3)\n",
            "Requirement already satisfied: chardet<4,>=3.0.2 in /usr/local/lib/python3.7/dist-packages (from requests->torch-geometric) (3.0.4)\n",
            "Requirement already satisfied: joblib>=0.11 in /usr/local/lib/python3.7/dist-packages (from scikit-learn->torch-geometric) (1.2.0)\n",
            "Requirement already satisfied: threadpoolctl>=2.0.0 in /usr/local/lib/python3.7/dist-packages (from scikit-learn->torch-geometric) (3.1.0)\n",
            "Building wheels for collected packages: torch-geometric\n",
            "  Building wheel for torch-geometric (setup.py) ... \u001b[?25l\u001b[?25hdone\n",
            "  Created wheel for torch-geometric: filename=torch_geometric-2.1.0.post1-py3-none-any.whl size=689859 sha256=60066964b036041b8805582b375c16d951040cd5ee719dde59ac1efda526a3f5\n",
            "  Stored in directory: /root/.cache/pip/wheels/d1/cb/43/f7f2e472de4d7cff31bceddadc36d634e1e545fbc17961c282\n",
            "Successfully built torch-geometric\n",
            "Installing collected packages: torch-sparse, torch-scatter, torch-geometric\n",
            "Successfully installed torch-geometric-2.1.0.post1 torch-scatter-2.0.9 torch-sparse-0.6.15\n"
          ]
        }
      ]
    },
    {
      "cell_type": "markdown",
      "source": [
        "## Alrighty, now to do the tutorial\n",
        "- As described here: https://pytorch-geometric.readthedocs.io/en/latest/notes/introduction.html#"
      ],
      "metadata": {
        "id": "zhn-gduh1A3B"
      }
    },
    {
      "cell_type": "markdown",
      "source": [
        "### Intro stuff"
      ],
      "metadata": {
        "id": "POG_-Jkf3o77"
      }
    },
    {
      "cell_type": "code",
      "source": [
        "import torch\n",
        "from torch_geometric.data import Data\n",
        "\n",
        "edge_index = torch.tensor([[0, 1, 1, 2],\n",
        "                           [1, 0, 2, 1]], dtype=torch.long)\n",
        "x = torch.tensor([[-1], [0], [1]], dtype=torch.float)\n",
        "\n",
        "data = Data(x=x, edge_index=edge_index)"
      ],
      "metadata": {
        "id": "Fm0t2J5r2Dwv"
      },
      "execution_count": null,
      "outputs": []
    },
    {
      "cell_type": "code",
      "source": [
        "data"
      ],
      "metadata": {
        "colab": {
          "base_uri": "https://localhost:8080/"
        },
        "id": "8s4jzSnl2W2x",
        "outputId": "6122529a-7020-488c-a378-b700010218d0"
      },
      "execution_count": null,
      "outputs": [
        {
          "output_type": "execute_result",
          "data": {
            "text/plain": [
              "Data(x=[3, 1], edge_index=[2, 4])"
            ]
          },
          "metadata": {},
          "execution_count": 4
        }
      ]
    },
    {
      "cell_type": "code",
      "source": [
        "edge_index = torch.tensor([[0, 1],\n",
        "                           [1, 0],\n",
        "                           [1, 2],\n",
        "                           [2, 1]], dtype=torch.long)\n",
        "x = torch.tensor([[-1], [0], [1]], dtype=torch.float)\n",
        "\n",
        "data = Data(x=x, edge_index=edge_index.t().contiguous())\n",
        "#contiguous is what allows for list of index tuples def of edges as in above"
      ],
      "metadata": {
        "id": "Br-B8Wuf28mk"
      },
      "execution_count": null,
      "outputs": []
    },
    {
      "cell_type": "code",
      "source": [
        "data"
      ],
      "metadata": {
        "colab": {
          "base_uri": "https://localhost:8080/"
        },
        "id": "XfoqhcTJ29yt",
        "outputId": "51381620-9f3d-415f-abd4-809caeffc383"
      },
      "execution_count": null,
      "outputs": [
        {
          "output_type": "execute_result",
          "data": {
            "text/plain": [
              "Data(x=[3, 1], edge_index=[2, 4])"
            ]
          },
          "metadata": {},
          "execution_count": 8
        }
      ]
    },
    {
      "cell_type": "code",
      "source": [
        "data.keys"
      ],
      "metadata": {
        "colab": {
          "base_uri": "https://localhost:8080/"
        },
        "id": "MkXXVIUj3MQR",
        "outputId": "26cdb88a-b1e2-4860-e4c0-db90fef99bbf"
      },
      "execution_count": null,
      "outputs": [
        {
          "output_type": "execute_result",
          "data": {
            "text/plain": [
              "['x', 'edge_index']"
            ]
          },
          "metadata": {},
          "execution_count": 9
        }
      ]
    },
    {
      "cell_type": "code",
      "source": [
        "data['x']"
      ],
      "metadata": {
        "colab": {
          "base_uri": "https://localhost:8080/"
        },
        "id": "45XWV16Z3No5",
        "outputId": "0182d6ca-1c1e-4fbb-c77c-af09f52795f0"
      },
      "execution_count": null,
      "outputs": [
        {
          "output_type": "execute_result",
          "data": {
            "text/plain": [
              "tensor([[-1.],\n",
              "        [ 0.],\n",
              "        [ 1.]])"
            ]
          },
          "metadata": {},
          "execution_count": 10
        }
      ]
    },
    {
      "cell_type": "code",
      "source": [
        "for key, item in data:\n",
        "  print(f'{key} found in data')"
      ],
      "metadata": {
        "colab": {
          "base_uri": "https://localhost:8080/"
        },
        "id": "1nna05Cm3QCH",
        "outputId": "e4ef6288-1fd3-488d-9ea1-442d4617d303"
      },
      "execution_count": null,
      "outputs": [
        {
          "output_type": "stream",
          "name": "stdout",
          "text": [
            "x found in data\n",
            "edge_index found in data\n"
          ]
        }
      ]
    },
    {
      "cell_type": "markdown",
      "source": [
        "### Common Benchmark Datasets"
      ],
      "metadata": {
        "id": "0irn7kLz3g30"
      }
    },
    {
      "cell_type": "code",
      "source": [
        "from torch_geometric.datasets import TUDataset"
      ],
      "metadata": {
        "id": "tTC-CHGN3jFw"
      },
      "execution_count": null,
      "outputs": []
    },
    {
      "cell_type": "code",
      "source": [
        "dataset = TUDataset(root='/tmp/ENZYMES', name='ENZYMES')"
      ],
      "metadata": {
        "colab": {
          "base_uri": "https://localhost:8080/"
        },
        "id": "tAeHpTId3sai",
        "outputId": "c87774fd-c355-4cfa-f396-70715a61a3f1"
      },
      "execution_count": null,
      "outputs": [
        {
          "output_type": "stream",
          "name": "stderr",
          "text": [
            "Downloading https://www.chrsmrrs.com/graphkerneldatasets/ENZYMES.zip\n",
            "Extracting /tmp/ENZYMES/ENZYMES/ENZYMES.zip\n",
            "Processing...\n",
            "Done!\n"
          ]
        }
      ]
    },
    {
      "cell_type": "code",
      "source": [
        "dataset"
      ],
      "metadata": {
        "colab": {
          "base_uri": "https://localhost:8080/"
        },
        "id": "-95WLOic3uo3",
        "outputId": "5ace7955-ffab-44a4-fdc3-f97b0c60caf7"
      },
      "execution_count": null,
      "outputs": [
        {
          "output_type": "execute_result",
          "data": {
            "text/plain": [
              "ENZYMES(600)"
            ]
          },
          "metadata": {},
          "execution_count": 18
        }
      ]
    },
    {
      "cell_type": "code",
      "source": [
        "dataset.num_classes"
      ],
      "metadata": {
        "colab": {
          "base_uri": "https://localhost:8080/"
        },
        "id": "TjMZGCmD3vlQ",
        "outputId": "c3c955cf-32b6-4010-9954-1401dc88d697"
      },
      "execution_count": null,
      "outputs": [
        {
          "output_type": "execute_result",
          "data": {
            "text/plain": [
              "6"
            ]
          },
          "metadata": {},
          "execution_count": 19
        }
      ]
    },
    {
      "cell_type": "code",
      "source": [
        "dataset.num_node_features"
      ],
      "metadata": {
        "colab": {
          "base_uri": "https://localhost:8080/"
        },
        "id": "Txj4RzXN3xti",
        "outputId": "54cbdb77-b4b1-4faa-9b6f-f4976856efb4"
      },
      "execution_count": null,
      "outputs": [
        {
          "output_type": "execute_result",
          "data": {
            "text/plain": [
              "3"
            ]
          },
          "metadata": {},
          "execution_count": 20
        }
      ]
    },
    {
      "cell_type": "code",
      "source": [
        "data = dataset[0]\n",
        "data"
      ],
      "metadata": {
        "colab": {
          "base_uri": "https://localhost:8080/"
        },
        "id": "oz0HLGd83y9r",
        "outputId": "28d3f839-171f-47f6-812c-542ffb6d351d"
      },
      "execution_count": null,
      "outputs": [
        {
          "output_type": "execute_result",
          "data": {
            "text/plain": [
              "Data(edge_index=[2, 168], x=[37, 3], y=[1])"
            ]
          },
          "metadata": {},
          "execution_count": 22
        }
      ]
    },
    {
      "cell_type": "code",
      "source": [
        "data.is_undirected()"
      ],
      "metadata": {
        "colab": {
          "base_uri": "https://localhost:8080/"
        },
        "id": "s32zDpVR4FaU",
        "outputId": "659ebef9-4949-44d3-cb22-68b741640797"
      },
      "execution_count": null,
      "outputs": [
        {
          "output_type": "execute_result",
          "data": {
            "text/plain": [
              "True"
            ]
          },
          "metadata": {},
          "execution_count": 23
        }
      ]
    },
    {
      "cell_type": "code",
      "source": [
        "dataset = dataset.shuffle()"
      ],
      "metadata": {
        "id": "I7N6g1nF4QuW"
      },
      "execution_count": null,
      "outputs": []
    },
    {
      "cell_type": "code",
      "source": [
        "train_dataset = dataset[:540]\n",
        "train_dataset"
      ],
      "metadata": {
        "colab": {
          "base_uri": "https://localhost:8080/"
        },
        "id": "l55gtnqt4HcN",
        "outputId": "6662c668-77bd-4563-cbe6-745f640ecbd0"
      },
      "execution_count": null,
      "outputs": [
        {
          "output_type": "execute_result",
          "data": {
            "text/plain": [
              "ENZYMES(540)"
            ]
          },
          "metadata": {},
          "execution_count": 27
        }
      ]
    },
    {
      "cell_type": "code",
      "source": [
        "test_dataset = dataset[540:]\n",
        "test_dataset"
      ],
      "metadata": {
        "colab": {
          "base_uri": "https://localhost:8080/"
        },
        "id": "RF7o1Lfn4K9g",
        "outputId": "e38c4281-5477-4a2e-bc04-9c59d5f598c2"
      },
      "execution_count": null,
      "outputs": [
        {
          "output_type": "execute_result",
          "data": {
            "text/plain": [
              "ENZYMES(60)"
            ]
          },
          "metadata": {},
          "execution_count": 28
        }
      ]
    },
    {
      "cell_type": "markdown",
      "source": [
        "#### Another dataset to test with"
      ],
      "metadata": {
        "id": "FbKiQHqz4Xdd"
      }
    },
    {
      "cell_type": "code",
      "source": [
        "from torch_geometric.datasets import Planetoid"
      ],
      "metadata": {
        "id": "I-MjI8eo4Zb9"
      },
      "execution_count": null,
      "outputs": []
    },
    {
      "cell_type": "code",
      "source": [
        "dataset = Planetoid(root='/tmp/Cora', name='Cora')\n",
        "dataset"
      ],
      "metadata": {
        "colab": {
          "base_uri": "https://localhost:8080/"
        },
        "id": "fXHiup5p4e3z",
        "outputId": "555a8924-22d0-41dd-f27e-549e3ae262fe"
      },
      "execution_count": null,
      "outputs": [
        {
          "output_type": "stream",
          "name": "stderr",
          "text": [
            "Downloading https://github.com/kimiyoung/planetoid/raw/master/data/ind.cora.x\n",
            "Downloading https://github.com/kimiyoung/planetoid/raw/master/data/ind.cora.tx\n",
            "Downloading https://github.com/kimiyoung/planetoid/raw/master/data/ind.cora.allx\n",
            "Downloading https://github.com/kimiyoung/planetoid/raw/master/data/ind.cora.y\n",
            "Downloading https://github.com/kimiyoung/planetoid/raw/master/data/ind.cora.ty\n",
            "Downloading https://github.com/kimiyoung/planetoid/raw/master/data/ind.cora.ally\n",
            "Downloading https://github.com/kimiyoung/planetoid/raw/master/data/ind.cora.graph\n",
            "Downloading https://github.com/kimiyoung/planetoid/raw/master/data/ind.cora.test.index\n",
            "Processing...\n",
            "Done!\n"
          ]
        },
        {
          "output_type": "execute_result",
          "data": {
            "text/plain": [
              "Cora()"
            ]
          },
          "metadata": {},
          "execution_count": 30
        }
      ]
    },
    {
      "cell_type": "code",
      "source": [
        "len(dataset)"
      ],
      "metadata": {
        "colab": {
          "base_uri": "https://localhost:8080/"
        },
        "id": "EbhHrxGp4iL-",
        "outputId": "65c06807-1f8b-4ae7-b858-707df1a866bc"
      },
      "execution_count": null,
      "outputs": [
        {
          "output_type": "execute_result",
          "data": {
            "text/plain": [
              "1"
            ]
          },
          "metadata": {},
          "execution_count": 31
        }
      ]
    },
    {
      "cell_type": "code",
      "source": [
        "dataset.num_classes"
      ],
      "metadata": {
        "colab": {
          "base_uri": "https://localhost:8080/"
        },
        "id": "EBysuPg_4jtM",
        "outputId": "ae5100f6-8ef0-4e60-ab4c-aa1232ba6915"
      },
      "execution_count": null,
      "outputs": [
        {
          "output_type": "execute_result",
          "data": {
            "text/plain": [
              "7"
            ]
          },
          "metadata": {},
          "execution_count": 32
        }
      ]
    },
    {
      "cell_type": "code",
      "source": [
        "dataset.num_node_features"
      ],
      "metadata": {
        "colab": {
          "base_uri": "https://localhost:8080/"
        },
        "id": "Bpw0R5uU4k2i",
        "outputId": "a11ed2b9-70ed-4bc2-efc6-e6bd994b6f7a"
      },
      "execution_count": null,
      "outputs": [
        {
          "output_type": "execute_result",
          "data": {
            "text/plain": [
              "1433"
            ]
          },
          "metadata": {},
          "execution_count": 33
        }
      ]
    },
    {
      "cell_type": "code",
      "source": [
        "data = dataset[0]\n",
        "data"
      ],
      "metadata": {
        "colab": {
          "base_uri": "https://localhost:8080/"
        },
        "id": "o3MxWcRY4ozV",
        "outputId": "08d44d5d-2310-4886-9e69-c7116af1a452"
      },
      "execution_count": null,
      "outputs": [
        {
          "output_type": "execute_result",
          "data": {
            "text/plain": [
              "Data(x=[2708, 1433], edge_index=[2, 10556], y=[2708], train_mask=[2708], val_mask=[2708], test_mask=[2708])"
            ]
          },
          "metadata": {},
          "execution_count": 34
        }
      ]
    },
    {
      "cell_type": "code",
      "source": [
        "# Seems this dataset has already pre-labelled train/test/val labels on data!\n",
        "print(data.train_mask.sum().item())\n",
        "print(data.val_mask.sum().item())\n",
        "print(data.test_mask.sum().item())"
      ],
      "metadata": {
        "colab": {
          "base_uri": "https://localhost:8080/"
        },
        "id": "nYyLepu24usW",
        "outputId": "a84d84b8-c819-4759-8f98-04746a994d63"
      },
      "execution_count": null,
      "outputs": [
        {
          "output_type": "stream",
          "name": "stdout",
          "text": [
            "140\n",
            "500\n",
            "1000\n"
          ]
        }
      ]
    },
    {
      "cell_type": "markdown",
      "source": [
        "### Mini-batches"
      ],
      "metadata": {
        "id": "Juy0xqQp5AQF"
      }
    },
    {
      "cell_type": "code",
      "source": [
        "from torch_geometric.datasets import TUDataset\n",
        "from torch_geometric.loader import DataLoader"
      ],
      "metadata": {
        "id": "gnrs0A9w5Brx"
      },
      "execution_count": null,
      "outputs": []
    },
    {
      "cell_type": "code",
      "source": [
        "dataset = TUDataset(root='/tmp/ENZYMES', name='ENZYMES', use_node_attr=True)\n",
        "loader = DataLoader(dataset, batch_size=32, shuffle=True)"
      ],
      "metadata": {
        "id": "ejIEyoqb5flj"
      },
      "execution_count": null,
      "outputs": []
    },
    {
      "cell_type": "code",
      "source": [
        "for batch in loader:\n",
        "  print(batch)\n",
        "  print(batch.num_graphs)"
      ],
      "metadata": {
        "colab": {
          "base_uri": "https://localhost:8080/"
        },
        "id": "m9b_0jHd5ikA",
        "outputId": "ceaa0fcf-967e-4ab0-f2bd-5e799fed8c83"
      },
      "execution_count": null,
      "outputs": [
        {
          "output_type": "stream",
          "name": "stdout",
          "text": [
            "DataBatch(edge_index=[2, 3984], x=[1151, 21], y=[32], batch=[1151], ptr=[33])\n",
            "32\n",
            "DataBatch(edge_index=[2, 4016], x=[1057, 21], y=[32], batch=[1057], ptr=[33])\n",
            "32\n",
            "DataBatch(edge_index=[2, 4318], x=[1188, 21], y=[32], batch=[1188], ptr=[33])\n",
            "32\n",
            "DataBatch(edge_index=[2, 4314], x=[1182, 21], y=[32], batch=[1182], ptr=[33])\n",
            "32\n",
            "DataBatch(edge_index=[2, 3884], x=[991, 21], y=[32], batch=[991], ptr=[33])\n",
            "32\n",
            "DataBatch(edge_index=[2, 3670], x=[978, 21], y=[32], batch=[978], ptr=[33])\n",
            "32\n",
            "DataBatch(edge_index=[2, 3600], x=[936, 21], y=[32], batch=[936], ptr=[33])\n",
            "32\n",
            "DataBatch(edge_index=[2, 4624], x=[1166, 21], y=[32], batch=[1166], ptr=[33])\n",
            "32\n",
            "DataBatch(edge_index=[2, 3708], x=[961, 21], y=[32], batch=[961], ptr=[33])\n",
            "32\n",
            "DataBatch(edge_index=[2, 4288], x=[1126, 21], y=[32], batch=[1126], ptr=[33])\n",
            "32\n",
            "DataBatch(edge_index=[2, 3886], x=[1050, 21], y=[32], batch=[1050], ptr=[33])\n",
            "32\n",
            "DataBatch(edge_index=[2, 4424], x=[1177, 21], y=[32], batch=[1177], ptr=[33])\n",
            "32\n",
            "DataBatch(edge_index=[2, 3932], x=[982, 21], y=[32], batch=[982], ptr=[33])\n",
            "32\n",
            "DataBatch(edge_index=[2, 3930], x=[996, 21], y=[32], batch=[996], ptr=[33])\n",
            "32\n",
            "DataBatch(edge_index=[2, 3466], x=[903, 21], y=[32], batch=[903], ptr=[33])\n",
            "32\n",
            "DataBatch(edge_index=[2, 4094], x=[1046, 21], y=[32], batch=[1046], ptr=[33])\n",
            "32\n",
            "DataBatch(edge_index=[2, 3488], x=[905, 21], y=[32], batch=[905], ptr=[33])\n",
            "32\n",
            "DataBatch(edge_index=[2, 4404], x=[1113, 21], y=[32], batch=[1113], ptr=[33])\n",
            "32\n",
            "DataBatch(edge_index=[2, 2534], x=[672, 21], y=[24], batch=[672], ptr=[25])\n",
            "24\n"
          ]
        }
      ]
    },
    {
      "cell_type": "markdown",
      "source": [
        "#### Averaging node features in node dim (for each graph individually) example\n",
        "- btw, batch is a column vector which maps each node to its respective graph in the batcha"
      ],
      "metadata": {
        "id": "-bUyWLAp6DL4"
      }
    },
    {
      "cell_type": "code",
      "source": [
        "from torch_scatter import scatter_mean\n",
        "from torch_geometric.datasets import TUDataset\n",
        "from torch_geometric.loader import DataLoader\\"
      ],
      "metadata": {
        "id": "-Ye83Qle52PC"
      },
      "execution_count": null,
      "outputs": []
    },
    {
      "cell_type": "code",
      "source": [
        "\n",
        "dataset = TUDataset(root='/tmp/ENZYMES', name='ENZYMES', use_node_attr=True)\n",
        "loader = DataLoader(dataset, batch_size=32, shuffle=True)"
      ],
      "metadata": {
        "id": "7JkFaqsH6JfT"
      },
      "execution_count": null,
      "outputs": []
    },
    {
      "cell_type": "code",
      "source": [
        "for data in loader:\n",
        "  print(data)\n",
        "  print(data.num_graphs)\n",
        "  x = scatter_mean(data.x, data.batch, dim=0)\n",
        "  print(x.size())"
      ],
      "metadata": {
        "colab": {
          "base_uri": "https://localhost:8080/"
        },
        "id": "DScxcj0F6LTA",
        "outputId": "107ba0da-38fb-4047-8467-27d6baeb597a"
      },
      "execution_count": null,
      "outputs": [
        {
          "output_type": "stream",
          "name": "stdout",
          "text": [
            "DataBatch(edge_index=[2, 4188], x=[1066, 21], y=[32], batch=[1066], ptr=[33])\n",
            "32\n",
            "torch.Size([32, 21])\n",
            "DataBatch(edge_index=[2, 3902], x=[1012, 21], y=[32], batch=[1012], ptr=[33])\n",
            "32\n",
            "torch.Size([32, 21])\n",
            "DataBatch(edge_index=[2, 3864], x=[1042, 21], y=[32], batch=[1042], ptr=[33])\n",
            "32\n",
            "torch.Size([32, 21])\n",
            "DataBatch(edge_index=[2, 4184], x=[1103, 21], y=[32], batch=[1103], ptr=[33])\n",
            "32\n",
            "torch.Size([32, 21])\n",
            "DataBatch(edge_index=[2, 3622], x=[945, 21], y=[32], batch=[945], ptr=[33])\n",
            "32\n",
            "torch.Size([32, 21])\n",
            "DataBatch(edge_index=[2, 4308], x=[1186, 21], y=[32], batch=[1186], ptr=[33])\n",
            "32\n",
            "torch.Size([32, 21])\n",
            "DataBatch(edge_index=[2, 3866], x=[972, 21], y=[32], batch=[972], ptr=[33])\n",
            "32\n",
            "torch.Size([32, 21])\n",
            "DataBatch(edge_index=[2, 4192], x=[1089, 21], y=[32], batch=[1089], ptr=[33])\n",
            "32\n",
            "torch.Size([32, 21])\n",
            "DataBatch(edge_index=[2, 4052], x=[1032, 21], y=[32], batch=[1032], ptr=[33])\n",
            "32\n",
            "torch.Size([32, 21])\n",
            "DataBatch(edge_index=[2, 3620], x=[927, 21], y=[32], batch=[927], ptr=[33])\n",
            "32\n",
            "torch.Size([32, 21])\n",
            "DataBatch(edge_index=[2, 3896], x=[1133, 21], y=[32], batch=[1133], ptr=[33])\n",
            "32\n",
            "torch.Size([32, 21])\n",
            "DataBatch(edge_index=[2, 4348], x=[1113, 21], y=[32], batch=[1113], ptr=[33])\n",
            "32\n",
            "torch.Size([32, 21])\n",
            "DataBatch(edge_index=[2, 4102], x=[1004, 21], y=[32], batch=[1004], ptr=[33])\n",
            "32\n",
            "torch.Size([32, 21])\n",
            "DataBatch(edge_index=[2, 4198], x=[1130, 21], y=[32], batch=[1130], ptr=[33])\n",
            "32\n",
            "torch.Size([32, 21])\n",
            "DataBatch(edge_index=[2, 3734], x=[985, 21], y=[32], batch=[985], ptr=[33])\n",
            "32\n",
            "torch.Size([32, 21])\n",
            "DataBatch(edge_index=[2, 4356], x=[1187, 21], y=[32], batch=[1187], ptr=[33])\n",
            "32\n",
            "torch.Size([32, 21])\n",
            "DataBatch(edge_index=[2, 3394], x=[884, 21], y=[32], batch=[884], ptr=[33])\n",
            "32\n",
            "torch.Size([32, 21])\n",
            "DataBatch(edge_index=[2, 3758], x=[980, 21], y=[32], batch=[980], ptr=[33])\n",
            "32\n",
            "torch.Size([32, 21])\n",
            "DataBatch(edge_index=[2, 2980], x=[790, 21], y=[24], batch=[790], ptr=[25])\n",
            "24\n",
            "torch.Size([24, 21])\n"
          ]
        }
      ]
    },
    {
      "cell_type": "markdown",
      "source": [
        "### Data Transforms"
      ],
      "metadata": {
        "id": "hIxWbUu76bB_"
      }
    },
    {
      "cell_type": "code",
      "source": [
        "from torch_geometric.datasets import ShapeNet"
      ],
      "metadata": {
        "id": "q3q0mpK46ciI"
      },
      "execution_count": null,
      "outputs": []
    },
    {
      "cell_type": "code",
      "source": [
        "dataset = ShapeNet(root='/tmp/ShapeNet', categories=['Airplane'])\n",
        "dataset[0]"
      ],
      "metadata": {
        "colab": {
          "base_uri": "https://localhost:8080/"
        },
        "id": "stc6Hoab8eyB",
        "outputId": "70e1b1b9-5ab8-46c6-d68f-c00c23f8acd2"
      },
      "execution_count": null,
      "outputs": [
        {
          "output_type": "stream",
          "name": "stderr",
          "text": [
            "Processing...\n",
            "Done!\n"
          ]
        },
        {
          "output_type": "execute_result",
          "data": {
            "text/plain": [
              "Data(x=[2518, 3], y=[2518], pos=[2518, 3], category=[1])"
            ]
          },
          "metadata": {},
          "execution_count": 57
        }
      ]
    },
    {
      "cell_type": "code",
      "source": [
        "import torch_geometric.transforms as T\n",
        "from torch_geometric.datasets import ShapeNet"
      ],
      "metadata": {
        "id": "wgiRWBRP9B9n"
      },
      "execution_count": null,
      "outputs": []
    },
    {
      "cell_type": "code",
      "source": [
        "dataset = ShapeNet(root='/tmp/ShapeNet', categories=['Airplane'] ,pre_transform=T.KNNGraph(k=6))\n",
        "dataset[0]"
      ],
      "metadata": {
        "colab": {
          "base_uri": "https://localhost:8080/"
        },
        "id": "AorcNwFK9EIg",
        "outputId": "e0c59b70-aef1-4a35-e9f1-9a1834064f83"
      },
      "execution_count": null,
      "outputs": [
        {
          "output_type": "execute_result",
          "data": {
            "text/plain": [
              "Data(x=[2518, 3], y=[2518], pos=[2518, 3], category=[1])"
            ]
          },
          "metadata": {},
          "execution_count": 59
        }
      ]
    },
    {
      "cell_type": "code",
      "source": [
        "import torch_geometric.transforms as T\n",
        "from torch_geometric.datasets import ShapeNet"
      ],
      "metadata": {
        "id": "Q_HMt-4U-Ads"
      },
      "execution_count": null,
      "outputs": []
    },
    {
      "cell_type": "code",
      "source": [
        "dataset = ShapeNet(root='/tmp/ShapeNet', categories=['Airplane'], pre_transform=T.KNNGraph(k=6), transform=T.RandomJitter(0.01))"
      ],
      "metadata": {
        "id": "Myu799nF-CDP"
      },
      "execution_count": null,
      "outputs": []
    },
    {
      "cell_type": "code",
      "source": [
        "dataset[0]"
      ],
      "metadata": {
        "colab": {
          "base_uri": "https://localhost:8080/"
        },
        "id": "yD0u-o_X-POy",
        "outputId": "e10d6867-41cd-4561-b26f-8363830a4456"
      },
      "execution_count": null,
      "outputs": [
        {
          "output_type": "execute_result",
          "data": {
            "text/plain": [
              "Data(x=[2518, 3], y=[2518], pos=[2518, 3], category=[1])"
            ]
          },
          "metadata": {},
          "execution_count": 62
        }
      ]
    },
    {
      "cell_type": "markdown",
      "source": [
        "### Learning mthds on a graph: finally!"
      ],
      "metadata": {
        "id": "e5qpHUau-Rrh"
      }
    },
    {
      "cell_type": "code",
      "source": [
        "from torch_geometric.datasets import Planetoid\n",
        "\n",
        "dataset = Planetoid(root='/tmp/Cora', name='Cora')\n",
        "dataset"
      ],
      "metadata": {
        "colab": {
          "base_uri": "https://localhost:8080/"
        },
        "id": "rtIhe8bx-UK5",
        "outputId": "57198605-90a1-4ab8-f21b-40f3305c5e64"
      },
      "execution_count": null,
      "outputs": [
        {
          "output_type": "execute_result",
          "data": {
            "text/plain": [
              "Cora()"
            ]
          },
          "metadata": {},
          "execution_count": 63
        }
      ]
    },
    {
      "cell_type": "code",
      "source": [
        "import torch\n",
        "import torch.nn.functional as F\n",
        "from torch_geometric.nn import GCNConv\n",
        "\n",
        "# 2 layer graph convolutional neural net\n",
        "class GCN(torch.nn.Module):\n",
        "    def __init__(self):\n",
        "        super().__init__()\n",
        "        self.conv1 = GCNConv(dataset.num_node_features, 16)\n",
        "        self.conv2 = GCNConv(16, dataset.num_classes)\n",
        "\n",
        "    def forward(self, data):\n",
        "        x, edge_index = data.x, data.edge_index\n",
        "\n",
        "        x = self.conv1(x, edge_index)\n",
        "        x = F.relu(x)\n",
        "        x = F.dropout(x, training=self.training)\n",
        "        x = self.conv2(x, edge_index)\n",
        "\n",
        "        return F.log_softmax(x, dim=1)"
      ],
      "metadata": {
        "id": "fbro6b5G-YBS"
      },
      "execution_count": null,
      "outputs": []
    },
    {
      "cell_type": "code",
      "source": [
        "device = torch.device('cuda' if torch.cuda.is_available() else 'cpu')\n",
        "model = GCN().to(device)\n",
        "data = dataset[0].to(device)\n",
        "optimizer = torch.optim.Adam(model.parameters(), lr=0.01, weight_decay=5e-4)\n",
        "\n",
        "model.train()\n",
        "for epoch in range(200):\n",
        "    optimizer.zero_grad()\n",
        "    out = model(data)\n",
        "    loss = F.nll_loss(out[data.train_mask], data.y[data.train_mask])\n",
        "    loss.backward()\n",
        "    optimizer.step()"
      ],
      "metadata": {
        "id": "gdpTMrvr-wGK"
      },
      "execution_count": null,
      "outputs": []
    },
    {
      "cell_type": "code",
      "source": [
        "model.eval()\n",
        "pred = model(data).argmax(dim=1)\n",
        "correct = (pred[data.test_mask] == data.y[data.test_mask]).sum()\n",
        "acc = int(correct) / int(data.test_mask.sum())\n",
        "print(f'Accuracy: {acc:.4f}')"
      ],
      "metadata": {
        "colab": {
          "base_uri": "https://localhost:8080/"
        },
        "id": "IE45yydC-20K",
        "outputId": "35272aeb-8911-4d31-8711-c9d86c397482"
      },
      "execution_count": null,
      "outputs": [
        {
          "output_type": "stream",
          "name": "stdout",
          "text": [
            "Accuracy: 0.7950\n"
          ]
        }
      ]
    }
  ]
}