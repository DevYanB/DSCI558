{
  "nbformat": 4,
  "nbformat_minor": 0,
  "metadata": {
    "colab": {
      "provenance": [],
      "collapsed_sections": [
        "tPYTknZotzYV"
      ]
    },
    "kernelspec": {
      "name": "python3",
      "display_name": "Python 3"
    },
    "language_info": {
      "name": "python"
    }
  },
  "cells": [
    {
      "cell_type": "markdown",
      "source": [
        "# Installs"
      ],
      "metadata": {
        "id": "tPYTknZotzYV"
      }
    },
    {
      "cell_type": "code",
      "execution_count": 1,
      "metadata": {
        "id": "LuQvvpzl1KFn",
        "colab": {
          "base_uri": "https://localhost:8080/"
        },
        "outputId": "bffab383-6e64-423b-aefe-6c593b3735ef"
      },
      "outputs": [
        {
          "output_type": "stream",
          "name": "stdout",
          "text": [
            "Looking in indexes: https://pypi.org/simple, https://us-python.pkg.dev/colab-wheels/public/simple/\n",
            "Requirement already satisfied: torch in /usr/local/lib/python3.7/dist-packages (1.12.1+cu113)\n",
            "Requirement already satisfied: typing-extensions in /usr/local/lib/python3.7/dist-packages (from torch) (4.1.1)\n",
            "1.12.1+cu113\n"
          ]
        }
      ],
      "source": [
        "!pip install torch\n",
        "import torch\n",
        "print(torch.__version__)"
      ]
    },
    {
      "cell_type": "markdown",
      "source": [
        "Change torch.__version__ of following installation command.\n",
        "\n",
        "\n"
      ],
      "metadata": {
        "id": "1BuufsZW1RdV"
      }
    },
    {
      "cell_type": "code",
      "source": [
        "!pip install torch-geometric torch-scatter torch-sparse -f https://data.pyg.org/whl/torch-{torch.__version__}.html"
      ],
      "metadata": {
        "id": "e-XDBJWC1NKb",
        "colab": {
          "base_uri": "https://localhost:8080/"
        },
        "outputId": "8ec05e70-7345-4631-b69e-bbae8913d749"
      },
      "execution_count": 2,
      "outputs": [
        {
          "output_type": "stream",
          "name": "stdout",
          "text": [
            "Looking in indexes: https://pypi.org/simple, https://us-python.pkg.dev/colab-wheels/public/simple/\n",
            "Looking in links: https://data.pyg.org/whl/torch-1.12.1+cu113.html\n",
            "Collecting torch-geometric\n",
            "  Downloading torch_geometric-2.1.0.post1.tar.gz (467 kB)\n",
            "\u001b[K     |████████████████████████████████| 467 kB 5.3 MB/s \n",
            "\u001b[?25hCollecting torch-scatter\n",
            "  Downloading https://data.pyg.org/whl/torch-1.12.0%2Bcu113/torch_scatter-2.0.9-cp37-cp37m-linux_x86_64.whl (7.9 MB)\n",
            "\u001b[K     |████████████████████████████████| 7.9 MB 5.3 MB/s \n",
            "\u001b[?25hCollecting torch-sparse\n",
            "  Downloading https://data.pyg.org/whl/torch-1.12.0%2Bcu113/torch_sparse-0.6.15-cp37-cp37m-linux_x86_64.whl (3.5 MB)\n",
            "\u001b[K     |████████████████████████████████| 3.5 MB 8.2 MB/s \n",
            "\u001b[?25hRequirement already satisfied: tqdm in /usr/local/lib/python3.7/dist-packages (from torch-geometric) (4.64.1)\n",
            "Requirement already satisfied: numpy in /usr/local/lib/python3.7/dist-packages (from torch-geometric) (1.21.6)\n",
            "Requirement already satisfied: scipy in /usr/local/lib/python3.7/dist-packages (from torch-geometric) (1.7.3)\n",
            "Requirement already satisfied: jinja2 in /usr/local/lib/python3.7/dist-packages (from torch-geometric) (2.11.3)\n",
            "Requirement already satisfied: requests in /usr/local/lib/python3.7/dist-packages (from torch-geometric) (2.23.0)\n",
            "Requirement already satisfied: pyparsing in /usr/local/lib/python3.7/dist-packages (from torch-geometric) (3.0.9)\n",
            "Requirement already satisfied: scikit-learn in /usr/local/lib/python3.7/dist-packages (from torch-geometric) (1.0.2)\n",
            "Requirement already satisfied: MarkupSafe>=0.23 in /usr/local/lib/python3.7/dist-packages (from jinja2->torch-geometric) (2.0.1)\n",
            "Requirement already satisfied: urllib3!=1.25.0,!=1.25.1,<1.26,>=1.21.1 in /usr/local/lib/python3.7/dist-packages (from requests->torch-geometric) (1.24.3)\n",
            "Requirement already satisfied: chardet<4,>=3.0.2 in /usr/local/lib/python3.7/dist-packages (from requests->torch-geometric) (3.0.4)\n",
            "Requirement already satisfied: idna<3,>=2.5 in /usr/local/lib/python3.7/dist-packages (from requests->torch-geometric) (2.10)\n",
            "Requirement already satisfied: certifi>=2017.4.17 in /usr/local/lib/python3.7/dist-packages (from requests->torch-geometric) (2022.9.24)\n",
            "Requirement already satisfied: joblib>=0.11 in /usr/local/lib/python3.7/dist-packages (from scikit-learn->torch-geometric) (1.2.0)\n",
            "Requirement already satisfied: threadpoolctl>=2.0.0 in /usr/local/lib/python3.7/dist-packages (from scikit-learn->torch-geometric) (3.1.0)\n",
            "Building wheels for collected packages: torch-geometric\n",
            "  Building wheel for torch-geometric (setup.py) ... \u001b[?25l\u001b[?25hdone\n",
            "  Created wheel for torch-geometric: filename=torch_geometric-2.1.0.post1-py3-none-any.whl size=689857 sha256=93f98ea72d9f919575bd10ec51f30759991442a6a004541ae3c387d64b77d84d\n",
            "  Stored in directory: /root/.cache/pip/wheels/d1/cb/43/f7f2e472de4d7cff31bceddadc36d634e1e545fbc17961c282\n",
            "Successfully built torch-geometric\n",
            "Installing collected packages: torch-sparse, torch-scatter, torch-geometric\n",
            "Successfully installed torch-geometric-2.1.0.post1 torch-scatter-2.0.9 torch-sparse-0.6.15\n"
          ]
        }
      ]
    },
    {
      "cell_type": "markdown",
      "source": [
        "# Dataset Setup"
      ],
      "metadata": {
        "id": "zzmywOKX64q9"
      }
    },
    {
      "cell_type": "code",
      "source": [
        "import os.path as osp\n",
        "\n",
        "import torch\n",
        "\n",
        "import torch_geometric.transforms as T\n",
        "from torch_geometric.datasets import TUDataset\n",
        "from torch_geometric.utils import degree"
      ],
      "metadata": {
        "id": "bZ_0CNp3x0fK"
      },
      "execution_count": 3,
      "outputs": []
    },
    {
      "cell_type": "code",
      "source": [
        "dataset = TUDataset(root='/tmp/imdb', name='IMDB-BINARY')"
      ],
      "metadata": {
        "id": "qa71S04A69Tc",
        "colab": {
          "base_uri": "https://localhost:8080/"
        },
        "outputId": "eb98f1cc-43f7-453c-9a7b-38eeeab888e4"
      },
      "execution_count": 4,
      "outputs": [
        {
          "output_type": "stream",
          "name": "stderr",
          "text": [
            "Downloading https://www.chrsmrrs.com/graphkerneldatasets/IMDB-BINARY.zip\n",
            "Extracting /tmp/imdb/IMDB-BINARY/IMDB-BINARY.zip\n",
            "Processing...\n",
            "Done!\n"
          ]
        }
      ]
    },
    {
      "cell_type": "code",
      "source": [
        "dataset"
      ],
      "metadata": {
        "colab": {
          "base_uri": "https://localhost:8080/"
        },
        "id": "J59grYD2x54W",
        "outputId": "01424d0f-7989-4a70-c288-f6ac07a94ab9"
      },
      "execution_count": 5,
      "outputs": [
        {
          "output_type": "execute_result",
          "data": {
            "text/plain": [
              "IMDB-BINARY(1000)"
            ]
          },
          "metadata": {},
          "execution_count": 5
        }
      ]
    },
    {
      "cell_type": "code",
      "source": [
        "dataset[0]"
      ],
      "metadata": {
        "colab": {
          "base_uri": "https://localhost:8080/"
        },
        "id": "rZxBZgd_kYjX",
        "outputId": "bba3ff3c-743d-45d8-aeec-7cd4c2184807"
      },
      "execution_count": 6,
      "outputs": [
        {
          "output_type": "execute_result",
          "data": {
            "text/plain": [
              "Data(edge_index=[2, 146], y=[1], num_nodes=20)"
            ]
          },
          "metadata": {},
          "execution_count": 6
        }
      ]
    },
    {
      "cell_type": "markdown",
      "source": [
        "## add code for using the node degree as input features."
      ],
      "metadata": {
        "id": "Cm-QbKGVw-Ui"
      }
    },
    {
      "cell_type": "code",
      "source": [
        "# class NormalizedDegree(object):\n",
        "#     def __init__(self, mean, std):\n",
        "#         self.mean = mean\n",
        "#         self.std = std\n",
        "\n",
        "#     def __call__(self, data):\n",
        "#         deg = degree(data.edge_index[0], dtype=torch.float)\n",
        "#         deg = (deg - self.mean) / self.std\n",
        "#         data.x = deg.view(-1, 1)\n",
        "#         return data"
      ],
      "metadata": {
        "id": "3YpH6i3B0Q9k"
      },
      "execution_count": 7,
      "outputs": []
    },
    {
      "cell_type": "code",
      "source": [
        "if dataset.data.x is None:\n",
        "        max_degree = 0\n",
        "        degs = []\n",
        "        for data in dataset:\n",
        "            degs += [degree(data.edge_index[0], dtype=torch.long)]\n",
        "            max_degree = max(max_degree, degs[-1].max().item())\n",
        "\n",
        "        if max_degree < 1000:\n",
        "            dataset.transform = T.OneHotDegree(max_degree)\n",
        "        # else:\n",
        "        #     print(\"HERE\")\n",
        "        #     deg = torch.cat(degs, dim=0).to(torch.float)\n",
        "        #     mean, std = deg.mean().item(), deg.std().item()\n",
        "        #     dataset.transform = NormalizedDegree(mean, std)"
      ],
      "metadata": {
        "id": "wTpTrHjR1Xme"
      },
      "execution_count": 8,
      "outputs": []
    },
    {
      "cell_type": "code",
      "source": [
        "dataset[0]"
      ],
      "metadata": {
        "colab": {
          "base_uri": "https://localhost:8080/"
        },
        "id": "GUDOWfKJ1wv3",
        "outputId": "65614538-df70-40cd-b208-03cf5df636bf"
      },
      "execution_count": 9,
      "outputs": [
        {
          "output_type": "execute_result",
          "data": {
            "text/plain": [
              "Data(edge_index=[2, 146], y=[1], num_nodes=20, x=[20, 136])"
            ]
          },
          "metadata": {},
          "execution_count": 9
        }
      ]
    },
    {
      "cell_type": "markdown",
      "source": [
        "## add train, val, test loader."
      ],
      "metadata": {
        "id": "s-N4FbUgj2ZE"
      }
    },
    {
      "cell_type": "code",
      "source": [
        "from torch_geometric.datasets import TUDataset\n",
        "from torch_geometric.loader import DataLoader"
      ],
      "metadata": {
        "id": "ym211bQ6_ylt"
      },
      "execution_count": 10,
      "outputs": []
    },
    {
      "cell_type": "code",
      "source": [
        "dataset = dataset.shuffle()\n",
        "dataset"
      ],
      "metadata": {
        "colab": {
          "base_uri": "https://localhost:8080/"
        },
        "id": "SLks8Cpfnybm",
        "outputId": "1665371a-f794-4dd6-8cd4-2eb734aa93a9"
      },
      "execution_count": 11,
      "outputs": [
        {
          "output_type": "execute_result",
          "data": {
            "text/plain": [
              "IMDB-BINARY(1000)"
            ]
          },
          "metadata": {},
          "execution_count": 11
        }
      ]
    },
    {
      "cell_type": "code",
      "source": [
        "train_perc = 0.8\n",
        "val_perc = 0.1\n",
        "test_perc = 0.1"
      ],
      "metadata": {
        "id": "RojgPASUmEDK"
      },
      "execution_count": 12,
      "outputs": []
    },
    {
      "cell_type": "code",
      "source": [
        "training_dataset = dataset[:800]\n",
        "val_test_dataset = dataset[800:]\n",
        "val_dataset = val_test_dataset[:100]\n",
        "test_dataset = val_test_dataset[100:]"
      ],
      "metadata": {
        "id": "pzNvAR3mnseM"
      },
      "execution_count": 13,
      "outputs": []
    },
    {
      "cell_type": "code",
      "source": [
        "train_loader = DataLoader(training_dataset, batch_size=32, shuffle=True)\n",
        "val_loader = DataLoader(val_dataset, batch_size=32, shuffle=True)\n",
        "test_loader = DataLoader(test_dataset, batch_size=32, shuffle=True)"
      ],
      "metadata": {
        "id": "6ZfiAU1yo5Wb"
      },
      "execution_count": 14,
      "outputs": []
    },
    {
      "cell_type": "code",
      "source": [
        "for batch in train_loader:\n",
        "  print(batch)\n",
        "  print(batch.num_graphs)"
      ],
      "metadata": {
        "colab": {
          "base_uri": "https://localhost:8080/"
        },
        "id": "PwyyuJ28pUoq",
        "outputId": "806a75f1-036d-4d48-c391-cf27735215e7"
      },
      "execution_count": 15,
      "outputs": [
        {
          "output_type": "stream",
          "name": "stdout",
          "text": [
            "DataBatch(edge_index=[2, 5512], y=[32], num_nodes=564, x=[564, 136], batch=[564], ptr=[33])\n",
            "32\n",
            "DataBatch(edge_index=[2, 7370], y=[32], num_nodes=551, x=[551, 136], batch=[551], ptr=[33])\n",
            "32\n",
            "DataBatch(edge_index=[2, 4284], y=[32], num_nodes=542, x=[542, 136], batch=[542], ptr=[33])\n",
            "32\n",
            "DataBatch(edge_index=[2, 6296], y=[32], num_nodes=562, x=[562, 136], batch=[562], ptr=[33])\n",
            "32\n",
            "DataBatch(edge_index=[2, 7356], y=[32], num_nodes=701, x=[701, 136], batch=[701], ptr=[33])\n",
            "32\n",
            "DataBatch(edge_index=[2, 6364], y=[32], num_nodes=592, x=[592, 136], batch=[592], ptr=[33])\n",
            "32\n",
            "DataBatch(edge_index=[2, 6158], y=[32], num_nodes=636, x=[636, 136], batch=[636], ptr=[33])\n",
            "32\n",
            "DataBatch(edge_index=[2, 7328], y=[32], num_nodes=731, x=[731, 136], batch=[731], ptr=[33])\n",
            "32\n",
            "DataBatch(edge_index=[2, 6184], y=[32], num_nodes=694, x=[694, 136], batch=[694], ptr=[33])\n",
            "32\n",
            "DataBatch(edge_index=[2, 8788], y=[32], num_nodes=765, x=[765, 136], batch=[765], ptr=[33])\n",
            "32\n",
            "DataBatch(edge_index=[2, 7454], y=[32], num_nodes=705, x=[705, 136], batch=[705], ptr=[33])\n",
            "32\n",
            "DataBatch(edge_index=[2, 6620], y=[32], num_nodes=608, x=[608, 136], batch=[608], ptr=[33])\n",
            "32\n",
            "DataBatch(edge_index=[2, 6036], y=[32], num_nodes=616, x=[616, 136], batch=[616], ptr=[33])\n",
            "32\n",
            "DataBatch(edge_index=[2, 7090], y=[32], num_nodes=670, x=[670, 136], batch=[670], ptr=[33])\n",
            "32\n",
            "DataBatch(edge_index=[2, 4394], y=[32], num_nodes=504, x=[504, 136], batch=[504], ptr=[33])\n",
            "32\n",
            "DataBatch(edge_index=[2, 6390], y=[32], num_nodes=784, x=[784, 136], batch=[784], ptr=[33])\n",
            "32\n",
            "DataBatch(edge_index=[2, 5330], y=[32], num_nodes=705, x=[705, 136], batch=[705], ptr=[33])\n",
            "32\n",
            "DataBatch(edge_index=[2, 4540], y=[32], num_nodes=562, x=[562, 136], batch=[562], ptr=[33])\n",
            "32\n",
            "DataBatch(edge_index=[2, 6774], y=[32], num_nodes=603, x=[603, 136], batch=[603], ptr=[33])\n",
            "32\n",
            "DataBatch(edge_index=[2, 4378], y=[32], num_nodes=661, x=[661, 136], batch=[661], ptr=[33])\n",
            "32\n",
            "DataBatch(edge_index=[2, 8196], y=[32], num_nodes=677, x=[677, 136], batch=[677], ptr=[33])\n",
            "32\n",
            "DataBatch(edge_index=[2, 5160], y=[32], num_nodes=585, x=[585, 136], batch=[585], ptr=[33])\n",
            "32\n",
            "DataBatch(edge_index=[2, 6108], y=[32], num_nodes=635, x=[635, 136], batch=[635], ptr=[33])\n",
            "32\n",
            "DataBatch(edge_index=[2, 6738], y=[32], num_nodes=665, x=[665, 136], batch=[665], ptr=[33])\n",
            "32\n",
            "DataBatch(edge_index=[2, 6982], y=[32], num_nodes=652, x=[652, 136], batch=[652], ptr=[33])\n",
            "32\n"
          ]
        }
      ]
    },
    {
      "cell_type": "markdown",
      "source": [
        "Model"
      ],
      "metadata": {
        "id": "T9o5Cmdg_JOw"
      }
    },
    {
      "cell_type": "code",
      "source": [
        "import torch\n",
        "from torch.nn import Linear\n",
        "import torch.nn.functional as F\n",
        "from torch_geometric.nn import GCNConv, aggr\n",
        "from torch.optim import Adam\n",
        "\n",
        "class GCN(torch.nn.Module):\n",
        "    def __init__(self):\n",
        "        super().__init__()\n",
        "        self.conv1 = GCNConv(dataset.num_node_features, 16)\n",
        "        self.lin1 = Linear(16, dataset.num_classes)\n",
        "\n",
        "    def forward(self, data):\n",
        "        x, edge_index = data.x, data.edge_index\n",
        "\n",
        "        ### You can add more layers or alter the model structure. See geometric documents which layer or model you can use.\n",
        "        x = self.conv1(x, edge_index)\n",
        "\n",
        "        \n",
        "        ### aggregate node embeddings into one representation\n",
        "        mean_aggr = aggr.MeanAggregation()\n",
        "        x = mean_aggr(x, data.batch)\n",
        "\n",
        "\n",
        "        ### Pass aggregated representation to linear layer to make final prediction\n",
        "        x = F.relu(x)\n",
        "        x = F.dropout(x, training=self.training)\n",
        "        x = self.lin1(x)\n",
        "        return F.log_softmax(x, dim=1)"
      ],
      "metadata": {
        "id": "g9owzc4n_Ivc"
      },
      "execution_count": 16,
      "outputs": []
    },
    {
      "cell_type": "code",
      "source": [
        "device = torch.device('cuda' if torch.cuda.is_available() else 'cpu')\n",
        "model = GCN().to(device)\n",
        "optimizer = torch.optim.Adam(model.parameters(), lr=0.01, weight_decay=5e-4)"
      ],
      "metadata": {
        "id": "Q9alITGeBflT"
      },
      "execution_count": 17,
      "outputs": []
    },
    {
      "cell_type": "code",
      "source": [
        "print(device)\n",
        "print(model)\n",
        "print(optimizer)"
      ],
      "metadata": {
        "colab": {
          "base_uri": "https://localhost:8080/"
        },
        "id": "fCCWMJ-sEULs",
        "outputId": "254ec7a5-932e-4808-dac6-b3f2432ddfda"
      },
      "execution_count": 18,
      "outputs": [
        {
          "output_type": "stream",
          "name": "stdout",
          "text": [
            "cpu\n",
            "GCN(\n",
            "  (conv1): GCNConv(136, 16)\n",
            "  (lin1): Linear(in_features=16, out_features=2, bias=True)\n",
            ")\n",
            "Adam (\n",
            "Parameter Group 0\n",
            "    amsgrad: False\n",
            "    betas: (0.9, 0.999)\n",
            "    capturable: False\n",
            "    eps: 1e-08\n",
            "    foreach: None\n",
            "    lr: 0.01\n",
            "    maximize: False\n",
            "    weight_decay: 0.0005\n",
            ")\n"
          ]
        }
      ]
    },
    {
      "cell_type": "markdown",
      "source": [
        "Train function"
      ],
      "metadata": {
        "id": "NvWzPpdO1tUA"
      }
    },
    {
      "cell_type": "code",
      "source": [
        "def train():\n",
        "    model.train()\n",
        "    loss_all = 0\n",
        "    for data in train_loader:\n",
        "        data = data.to(device)\n",
        "        optimizer.zero_grad()\n",
        "        output = model(data)\n",
        "        loss = F.nll_loss(output, data.y.view(-1))\n",
        "        loss.backward()\n",
        "        loss_all += loss.item() * data.num_graphs\n",
        "        optimizer.step()\n",
        "    return loss_all / len(training_dataset)"
      ],
      "metadata": {
        "id": "4VsB7RDR1XPm"
      },
      "execution_count": 19,
      "outputs": []
    },
    {
      "cell_type": "markdown",
      "source": [
        "Validation function"
      ],
      "metadata": {
        "id": "1O7At9Td18N9"
      }
    },
    {
      "cell_type": "code",
      "source": [
        "def val(loader):\n",
        "    model.eval()\n",
        "    loss_all = 0\n",
        "    for data in loader:\n",
        "        data = data.to(device)\n",
        "        output = model(data)\n",
        "        loss = F.nll_loss(output, data.y.view(-1))\n",
        "        loss_all += loss.item() * data.num_graphs\n",
        "    return loss_all / len(training_dataset)"
      ],
      "metadata": {
        "id": "PSIBQfM017Hc"
      },
      "execution_count": 20,
      "outputs": []
    },
    {
      "cell_type": "markdown",
      "source": [
        "Test function"
      ],
      "metadata": {
        "id": "1K7uh53LAQ85"
      }
    },
    {
      "cell_type": "code",
      "source": [
        "def test(loader):\n",
        "    model.eval()\n",
        "    correct = 0\n",
        "    for data in loader:\n",
        "        data = data.to(device)\n",
        "        output = model(data)\n",
        "        pred = output.max(dim=1)[1]\n",
        "        correct += pred.eq(data.y).sum().item()\n",
        "    return correct / len(loader.dataset)\n"
      ],
      "metadata": {
        "id": "1STWHVtmAR3e"
      },
      "execution_count": 21,
      "outputs": []
    },
    {
      "cell_type": "markdown",
      "source": [
        "Main code"
      ],
      "metadata": {
        "id": "qFpnv-5U1-dK"
      }
    },
    {
      "cell_type": "code",
      "source": [
        "model.train()\n",
        "\n",
        "number_of_epochs = 300 # You can change.\n",
        "\n",
        "lowest_val_loss = float('inf')\n",
        "best_model = None\n",
        "for epoch in range(number_of_epochs):\n",
        "    train_loss = train()\n",
        "    val_loss = val(val_loader)\n",
        "\n",
        "    # Choose the lowest validation loss checkpoint (you can implement early stopping as well)\n",
        "    if val_loss < lowest_val_loss:\n",
        "      lowest_val_loss = val_loss\n",
        "      break\n",
        "      # torch.save(model, \"./model/model.pt\")\n",
        "\n",
        "# model = torch.load(\"./model/model.pt\")\n",
        "# Load the lowest validation loss checkpoint and check the performance.\n",
        "test_acc = test(test_loader)\n",
        "print(test_acc)"
      ],
      "metadata": {
        "id": "Kqw5zHpyAYC7",
        "colab": {
          "base_uri": "https://localhost:8080/"
        },
        "outputId": "c93ebd60-f05d-4ff8-998a-454ed48d66ad"
      },
      "execution_count": 22,
      "outputs": [
        {
          "output_type": "stream",
          "name": "stdout",
          "text": [
            "0.75\n"
          ]
        }
      ]
    },
    {
      "cell_type": "code",
      "source": [],
      "metadata": {
        "id": "fVvQ-rJ08HxJ"
      },
      "execution_count": 22,
      "outputs": []
    },
    {
      "cell_type": "markdown",
      "source": [],
      "metadata": {
        "id": "ymh2qsAT17iU"
      }
    }
  ]
}