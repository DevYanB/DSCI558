{
  "cells": [
    {
      "cell_type": "markdown",
      "metadata": {
        "id": "g3O65uWghaqI"
      },
      "source": [
        "# Network Analysis Using KGTK and graph-tool\n",
        "\n",
        "In this part of the tutorial you will learn how to do network analysis on a knowledge graph using KGTK and graph-tool (https://graph-tool.skewed.de/), a library for efficient network analysis on large networks. The typical network analysis workflow first extracts a network of interest from a KG, and then applies network analysis tools to the extracted network. KGTK is useful to extract the network as extraction of networks is often an expensive operation on large KGs. KGTK also provides basic, commonly used network analytics (pagerank, connected components, reachability and paths), and can export the networks into the format required by graph-tool, which supports a wide selection onf sophisticated network analytics algorithms (e.g., community detection).\n",
        "\n",
        "This tutorial is divided into multiple subsections:\n",
        "- Computing network metrics on the original graph\n",
        "- Extracting a network of interest from our KG (the extended family of Arnold Schwarzenegger)\n",
        "- Computing network analytics on the Arnold family graph\n",
        "- Creating visualizations of KGs using graph-tools\n",
        "- Computing connected components of a KG"
      ]
    },
    {
      "cell_type": "markdown",
      "metadata": {
        "id": "_KKLy7uEhaqK"
      },
      "source": [
        "## Step 0: Install KGTK"
      ]
    },
    {
      "cell_type": "markdown",
      "metadata": {
        "id": "TpZ2PKW1haqL"
      },
      "source": [
        "Only run the following cell if KGTK is not installed.\n",
        " For example, if running in [Google Colab](https://colab.research.google.com/)"
      ]
    },
    {
      "cell_type": "code",
      "execution_count": 1,
      "metadata": {
        "id": "vbY5ZsrxhaqL",
        "colab": {
          "base_uri": "https://localhost:8080/"
        },
        "outputId": "b51eb6cb-c9e2-4afb-f3af-fac9fee9f304"
      },
      "outputs": [
        {
          "output_type": "stream",
          "name": "stdout",
          "text": [
            "Looking in indexes: https://pypi.org/simple, https://us-python.pkg.dev/colab-wheels/public/simple/\n",
            "Requirement already satisfied: kgtk in /usr/local/lib/python3.7/dist-packages (1.4.3)\n",
            "Requirement already satisfied: lz4 in /usr/local/lib/python3.7/dist-packages (from kgtk) (4.0.2)\n",
            "Requirement already satisfied: pyrallel.lib==0.0.9 in /usr/local/lib/python3.7/dist-packages (from kgtk) (0.0.9)\n",
            "Requirement already satisfied: pyshacl>=0.17.1 in /usr/local/lib/python3.7/dist-packages (from kgtk) (0.20.0)\n",
            "Requirement already satisfied: iso-639 in /usr/local/lib/python3.7/dist-packages (from kgtk) (0.4.5)\n",
            "Requirement already satisfied: tqdm in /usr/local/lib/python3.7/dist-packages (from kgtk) (4.64.1)\n",
            "Requirement already satisfied: mypy in /usr/local/lib/python3.7/dist-packages (from kgtk) (0.982)\n",
            "Requirement already satisfied: parsley>=1.3 in /usr/local/lib/python3.7/dist-packages (from kgtk) (1.3)\n",
            "Requirement already satisfied: loguru in /usr/local/lib/python3.7/dist-packages (from kgtk) (0.6.0)\n",
            "Requirement already satisfied: SPARQLWrapper in /usr/local/lib/python3.7/dist-packages (from kgtk) (2.0.0)\n",
            "Requirement already satisfied: odictliteral in /usr/local/lib/python3.7/dist-packages (from kgtk) (1.0.0)\n",
            "Requirement already satisfied: sklearn in /usr/local/lib/python3.7/dist-packages (from kgtk) (0.0)\n",
            "Requirement already satisfied: rfc3986 in /usr/local/lib/python3.7/dist-packages (from kgtk) (2.0.0)\n",
            "Requirement already satisfied: shortuuid in /usr/local/lib/python3.7/dist-packages (from kgtk) (1.0.9)\n",
            "Requirement already satisfied: rltk in /usr/local/lib/python3.7/dist-packages (from kgtk) (2.0.0a20)\n",
            "Requirement already satisfied: attrs in /usr/local/lib/python3.7/dist-packages (from kgtk) (22.1.0)\n",
            "Requirement already satisfied: seaborn in /usr/local/lib/python3.7/dist-packages (from kgtk) (0.11.2)\n",
            "Requirement already satisfied: rdflib>=6.0.2 in /usr/local/lib/python3.7/dist-packages (from kgtk) (6.2.0)\n",
            "Requirement already satisfied: sentence-transformers in /usr/local/lib/python3.7/dist-packages (from kgtk) (2.2.2)\n",
            "Requirement already satisfied: simplejson in /usr/local/lib/python3.7/dist-packages (from kgtk) (3.17.6)\n",
            "Requirement already satisfied: pycountry in /usr/local/lib/python3.7/dist-packages (from kgtk) (22.3.5)\n",
            "Requirement already satisfied: unidecode in /usr/local/lib/python3.7/dist-packages (from kgtk) (1.3.6)\n",
            "Requirement already satisfied: torchbiggraph in /usr/local/lib/python3.7/dist-packages (from kgtk) (1.0.0)\n",
            "Requirement already satisfied: plac==1.1.3 in /usr/local/lib/python3.7/dist-packages (from kgtk) (1.1.3)\n",
            "Requirement already satisfied: sh>=1.13 in /usr/local/lib/python3.7/dist-packages (from kgtk) (1.14.3)\n",
            "Requirement already satisfied: dill>=0.3.2 in /usr/local/lib/python3.7/dist-packages (from kgtk) (0.3.5.1)\n",
            "Requirement already satisfied: thinc==7.4.0 in /usr/local/lib/python3.7/dist-packages (from kgtk) (7.4.0)\n",
            "Requirement already satisfied: rdflib-jsonld>=0.6.2 in /usr/local/lib/python3.7/dist-packages (from kgtk) (0.6.2)\n",
            "Requirement already satisfied: usc-isi-i2-mgzip>=0.2.1.3 in /usr/local/lib/python3.7/dist-packages (from kgtk) (0.2.1.3)\n",
            "Requirement already satisfied: redis in /usr/local/lib/python3.7/dist-packages (from kgtk) (4.3.4)\n",
            "Requirement already satisfied: typing>=3.6 in /usr/local/lib/python3.7/dist-packages (from pyrallel.lib==0.0.9->kgtk) (3.7.4.3)\n",
            "Requirement already satisfied: multiprocess>=0.70 in /usr/local/lib/python3.7/dist-packages (from pyrallel.lib==0.0.9->kgtk) (0.70.13)\n",
            "Requirement already satisfied: murmurhash<1.1.0,>=0.28.0 in /usr/local/lib/python3.7/dist-packages (from thinc==7.4.0->kgtk) (1.0.8)\n",
            "Requirement already satisfied: catalogue<1.1.0,>=0.0.7 in /usr/local/lib/python3.7/dist-packages (from thinc==7.4.0->kgtk) (1.0.1)\n",
            "Requirement already satisfied: blis<0.5.0,>=0.4.0 in /usr/local/lib/python3.7/dist-packages (from thinc==7.4.0->kgtk) (0.4.1)\n",
            "Requirement already satisfied: srsly<1.1.0,>=0.0.6 in /usr/local/lib/python3.7/dist-packages (from thinc==7.4.0->kgtk) (1.0.5)\n",
            "Requirement already satisfied: numpy>=1.7.0 in /usr/local/lib/python3.7/dist-packages (from thinc==7.4.0->kgtk) (1.21.6)\n",
            "Requirement already satisfied: wasabi<1.1.0,>=0.0.9 in /usr/local/lib/python3.7/dist-packages (from thinc==7.4.0->kgtk) (0.10.1)\n",
            "Requirement already satisfied: preshed<3.1.0,>=1.0.1 in /usr/local/lib/python3.7/dist-packages (from thinc==7.4.0->kgtk) (3.0.7)\n",
            "Requirement already satisfied: cymem<2.1.0,>=2.0.2 in /usr/local/lib/python3.7/dist-packages (from thinc==7.4.0->kgtk) (2.0.6)\n",
            "Requirement already satisfied: typing-extensions>=3.6.4 in /usr/local/lib/python3.7/dist-packages (from catalogue<1.1.0,>=0.0.7->thinc==7.4.0->kgtk) (4.1.1)\n",
            "Requirement already satisfied: zipp>=0.5 in /usr/local/lib/python3.7/dist-packages (from catalogue<1.1.0,>=0.0.7->thinc==7.4.0->kgtk) (3.9.0)\n",
            "Requirement already satisfied: owlrl<7,>=6.0.2 in /usr/local/lib/python3.7/dist-packages (from pyshacl>=0.17.1->kgtk) (6.0.2)\n",
            "Requirement already satisfied: prettytable<3.0.0,>=2.2.1 in /usr/local/lib/python3.7/dist-packages (from pyshacl>=0.17.1->kgtk) (2.5.0)\n",
            "Requirement already satisfied: html5lib<2,>=1.1 in /usr/local/lib/python3.7/dist-packages (from pyshacl>=0.17.1->kgtk) (1.1)\n",
            "Requirement already satisfied: packaging>=21.3 in /usr/local/lib/python3.7/dist-packages (from pyshacl>=0.17.1->kgtk) (21.3)\n",
            "Requirement already satisfied: webencodings in /usr/local/lib/python3.7/dist-packages (from html5lib<2,>=1.1->pyshacl>=0.17.1->kgtk) (0.5.1)\n",
            "Requirement already satisfied: six>=1.9 in /usr/local/lib/python3.7/dist-packages (from html5lib<2,>=1.1->pyshacl>=0.17.1->kgtk) (1.15.0)\n",
            "Requirement already satisfied: pyparsing!=3.0.5,>=2.0.2 in /usr/local/lib/python3.7/dist-packages (from packaging>=21.3->pyshacl>=0.17.1->kgtk) (3.0.9)\n",
            "Requirement already satisfied: importlib-metadata in /usr/local/lib/python3.7/dist-packages (from prettytable<3.0.0,>=2.2.1->pyshacl>=0.17.1->kgtk) (5.0.0)\n",
            "Requirement already satisfied: wcwidth in /usr/local/lib/python3.7/dist-packages (from prettytable<3.0.0,>=2.2.1->pyshacl>=0.17.1->kgtk) (0.2.5)\n",
            "Requirement already satisfied: isodate in /usr/local/lib/python3.7/dist-packages (from rdflib>=6.0.2->kgtk) (0.6.1)\n",
            "Requirement already satisfied: setuptools in /usr/local/lib/python3.7/dist-packages (from rdflib>=6.0.2->kgtk) (57.4.0)\n",
            "Requirement already satisfied: tomli>=1.1.0 in /usr/local/lib/python3.7/dist-packages (from mypy->kgtk) (2.0.1)\n",
            "Requirement already satisfied: typed-ast<2,>=1.4.0 in /usr/local/lib/python3.7/dist-packages (from mypy->kgtk) (1.5.4)\n",
            "Requirement already satisfied: mypy-extensions>=0.4.3 in /usr/local/lib/python3.7/dist-packages (from mypy->kgtk) (0.4.3)\n",
            "Requirement already satisfied: deprecated>=1.2.3 in /usr/local/lib/python3.7/dist-packages (from redis->kgtk) (1.2.13)\n",
            "Requirement already satisfied: async-timeout>=4.0.2 in /usr/local/lib/python3.7/dist-packages (from redis->kgtk) (4.0.2)\n",
            "Requirement already satisfied: wrapt<2,>=1.10 in /usr/local/lib/python3.7/dist-packages (from deprecated>=1.2.3->redis->kgtk) (1.14.1)\n",
            "Requirement already satisfied: dask>=0.19.2 in /usr/local/lib/python3.7/dist-packages (from rltk->kgtk) (2022.2.0)\n",
            "Requirement already satisfied: distributed>=1.23 in /usr/local/lib/python3.7/dist-packages (from rltk->kgtk) (2022.2.0)\n",
            "Requirement already satisfied: matplotlib>=2.0.0 in /usr/local/lib/python3.7/dist-packages (from rltk->kgtk) (3.2.2)\n",
            "Requirement already satisfied: Cython>=0.28.0 in /usr/local/lib/python3.7/dist-packages (from rltk->kgtk) (0.29.32)\n",
            "Requirement already satisfied: scipy>=1.1.0 in /usr/local/lib/python3.7/dist-packages (from rltk->kgtk) (1.7.3)\n",
            "Requirement already satisfied: pandas>=1.2.0 in /usr/local/lib/python3.7/dist-packages (from rltk->kgtk) (1.3.5)\n",
            "Requirement already satisfied: fsspec>=0.6.0 in /usr/local/lib/python3.7/dist-packages (from dask>=0.19.2->rltk->kgtk) (2022.8.2)\n",
            "Requirement already satisfied: toolz>=0.8.2 in /usr/local/lib/python3.7/dist-packages (from dask>=0.19.2->rltk->kgtk) (0.12.0)\n",
            "Requirement already satisfied: cloudpickle>=1.1.1 in /usr/local/lib/python3.7/dist-packages (from dask>=0.19.2->rltk->kgtk) (1.5.0)\n",
            "Requirement already satisfied: pyyaml>=5.3.1 in /usr/local/lib/python3.7/dist-packages (from dask>=0.19.2->rltk->kgtk) (6.0)\n",
            "Requirement already satisfied: partd>=0.3.10 in /usr/local/lib/python3.7/dist-packages (from dask>=0.19.2->rltk->kgtk) (1.3.0)\n",
            "Requirement already satisfied: zict>=0.1.3 in /usr/local/lib/python3.7/dist-packages (from distributed>=1.23->rltk->kgtk) (2.2.0)\n",
            "Requirement already satisfied: psutil>=5.0 in /usr/local/lib/python3.7/dist-packages (from distributed>=1.23->rltk->kgtk) (5.4.8)\n",
            "Requirement already satisfied: jinja2 in /usr/local/lib/python3.7/dist-packages (from distributed>=1.23->rltk->kgtk) (2.11.3)\n",
            "Requirement already satisfied: tblib>=1.6.0 in /usr/local/lib/python3.7/dist-packages (from distributed>=1.23->rltk->kgtk) (1.7.0)\n",
            "Requirement already satisfied: msgpack>=0.6.0 in /usr/local/lib/python3.7/dist-packages (from distributed>=1.23->rltk->kgtk) (1.0.4)\n",
            "Requirement already satisfied: click>=6.6 in /usr/local/lib/python3.7/dist-packages (from distributed>=1.23->rltk->kgtk) (7.1.2)\n",
            "Requirement already satisfied: tornado>=5 in /usr/local/lib/python3.7/dist-packages (from distributed>=1.23->rltk->kgtk) (5.1.1)\n",
            "Requirement already satisfied: sortedcontainers!=2.0.0,!=2.0.1 in /usr/local/lib/python3.7/dist-packages (from distributed>=1.23->rltk->kgtk) (2.4.0)\n",
            "Requirement already satisfied: python-dateutil>=2.1 in /usr/local/lib/python3.7/dist-packages (from matplotlib>=2.0.0->rltk->kgtk) (2.8.2)\n",
            "Requirement already satisfied: kiwisolver>=1.0.1 in /usr/local/lib/python3.7/dist-packages (from matplotlib>=2.0.0->rltk->kgtk) (1.4.4)\n",
            "Requirement already satisfied: cycler>=0.10 in /usr/local/lib/python3.7/dist-packages (from matplotlib>=2.0.0->rltk->kgtk) (0.11.0)\n",
            "Requirement already satisfied: pytz>=2017.3 in /usr/local/lib/python3.7/dist-packages (from pandas>=1.2.0->rltk->kgtk) (2022.4)\n",
            "Requirement already satisfied: locket in /usr/local/lib/python3.7/dist-packages (from partd>=0.3.10->dask>=0.19.2->rltk->kgtk) (1.0.0)\n",
            "Requirement already satisfied: heapdict in /usr/local/lib/python3.7/dist-packages (from zict>=0.1.3->distributed>=1.23->rltk->kgtk) (1.0.1)\n",
            "Requirement already satisfied: MarkupSafe>=0.23 in /usr/local/lib/python3.7/dist-packages (from jinja2->distributed>=1.23->rltk->kgtk) (2.0.1)\n",
            "Requirement already satisfied: torch>=1.6.0 in /usr/local/lib/python3.7/dist-packages (from sentence-transformers->kgtk) (1.12.1+cu113)\n",
            "Requirement already satisfied: scikit-learn in /usr/local/lib/python3.7/dist-packages (from sentence-transformers->kgtk) (1.0.2)\n",
            "Requirement already satisfied: huggingface-hub>=0.4.0 in /usr/local/lib/python3.7/dist-packages (from sentence-transformers->kgtk) (0.10.1)\n",
            "Requirement already satisfied: sentencepiece in /usr/local/lib/python3.7/dist-packages (from sentence-transformers->kgtk) (0.1.97)\n",
            "Requirement already satisfied: torchvision in /usr/local/lib/python3.7/dist-packages (from sentence-transformers->kgtk) (0.13.1+cu113)\n",
            "Requirement already satisfied: nltk in /usr/local/lib/python3.7/dist-packages (from sentence-transformers->kgtk) (3.7)\n",
            "Requirement already satisfied: transformers<5.0.0,>=4.6.0 in /usr/local/lib/python3.7/dist-packages (from sentence-transformers->kgtk) (4.23.1)\n",
            "Requirement already satisfied: requests in /usr/local/lib/python3.7/dist-packages (from huggingface-hub>=0.4.0->sentence-transformers->kgtk) (2.23.0)\n",
            "Requirement already satisfied: filelock in /usr/local/lib/python3.7/dist-packages (from huggingface-hub>=0.4.0->sentence-transformers->kgtk) (3.8.0)\n",
            "Requirement already satisfied: regex!=2019.12.17 in /usr/local/lib/python3.7/dist-packages (from transformers<5.0.0,>=4.6.0->sentence-transformers->kgtk) (2022.6.2)\n",
            "Requirement already satisfied: tokenizers!=0.11.3,<0.14,>=0.11.1 in /usr/local/lib/python3.7/dist-packages (from transformers<5.0.0,>=4.6.0->sentence-transformers->kgtk) (0.13.1)\n",
            "Requirement already satisfied: joblib in /usr/local/lib/python3.7/dist-packages (from nltk->sentence-transformers->kgtk) (1.2.0)\n",
            "Requirement already satisfied: chardet<4,>=3.0.2 in /usr/local/lib/python3.7/dist-packages (from requests->huggingface-hub>=0.4.0->sentence-transformers->kgtk) (3.0.4)\n",
            "Requirement already satisfied: urllib3!=1.25.0,!=1.25.1,<1.26,>=1.21.1 in /usr/local/lib/python3.7/dist-packages (from requests->huggingface-hub>=0.4.0->sentence-transformers->kgtk) (1.24.3)\n",
            "Requirement already satisfied: idna<3,>=2.5 in /usr/local/lib/python3.7/dist-packages (from requests->huggingface-hub>=0.4.0->sentence-transformers->kgtk) (2.10)\n",
            "Requirement already satisfied: certifi>=2017.4.17 in /usr/local/lib/python3.7/dist-packages (from requests->huggingface-hub>=0.4.0->sentence-transformers->kgtk) (2022.9.24)\n",
            "Requirement already satisfied: threadpoolctl>=2.0.0 in /usr/local/lib/python3.7/dist-packages (from scikit-learn->sentence-transformers->kgtk) (3.1.0)\n",
            "Requirement already satisfied: h5py>=2.8 in /usr/local/lib/python3.7/dist-packages (from torchbiggraph->kgtk) (3.1.0)\n",
            "Requirement already satisfied: cached-property in /usr/local/lib/python3.7/dist-packages (from h5py>=2.8->torchbiggraph->kgtk) (1.5.2)\n",
            "Requirement already satisfied: pillow!=8.3.*,>=5.3.0 in /usr/local/lib/python3.7/dist-packages (from torchvision->sentence-transformers->kgtk) (7.1.2)\n"
          ]
        }
      ],
      "source": [
        "!pip install kgtk"
      ]
    },
    {
      "cell_type": "code",
      "source": [
        "from google.colab import files"
      ],
      "metadata": {
        "id": "ENEUAZcmhnvy"
      },
      "execution_count": 2,
      "outputs": []
    },
    {
      "cell_type": "markdown",
      "metadata": {
        "id": "-aYCKFVphaqM"
      },
      "source": [
        "**Run the following cell only in Google Golab, to install graph-tool. There is no conda installed in google colab, so we install it using apt-get**"
      ]
    },
    {
      "cell_type": "code",
      "execution_count": 3,
      "metadata": {
        "id": "DnSuNsLphaqM",
        "colab": {
          "base_uri": "https://localhost:8080/"
        },
        "outputId": "75f61db5-5cd1-4327-aa10-b102a972c6fa"
      },
      "outputs": [
        {
          "output_type": "stream",
          "name": "stdout",
          "text": [
            "Executing: /tmp/apt-key-gpghome.N21yY0mohp/gpg.1.sh --keyserver keys.openpgp.org --recv-key 612DEFB798507F25\n",
            "gpg: key 612DEFB798507F25: public key \"Tiago de Paula Peixoto <tiago@skewed.de>\" imported\n",
            "gpg: Total number processed: 1\n",
            "gpg:               imported: 1\n",
            "Get:1 https://cloud.r-project.org/bin/linux/ubuntu bionic-cran40/ InRelease [3,626 B]\n",
            "Hit:2 http://archive.ubuntu.com/ubuntu bionic InRelease\n",
            "Get:3 http://security.ubuntu.com/ubuntu bionic-security InRelease [88.7 kB]\n",
            "Ign:4 https://developer.download.nvidia.com/compute/machine-learning/repos/ubuntu1804/x86_64  InRelease\n",
            "Hit:5 https://developer.download.nvidia.com/compute/cuda/repos/ubuntu1804/x86_64  InRelease\n",
            "Hit:6 https://developer.download.nvidia.com/compute/machine-learning/repos/ubuntu1804/x86_64  Release\n",
            "Hit:7 http://ppa.launchpad.net/c2d4u.team/c2d4u4.0+/ubuntu bionic InRelease\n",
            "Get:8 http://archive.ubuntu.com/ubuntu bionic-updates InRelease [88.7 kB]\n",
            "Get:9 http://downloads.skewed.de/apt bionic InRelease [7,540 B]\n",
            "Hit:10 http://ppa.launchpad.net/cran/libgit2/ubuntu bionic InRelease\n",
            "Get:11 http://archive.ubuntu.com/ubuntu bionic-backports InRelease [83.3 kB]\n",
            "Get:12 http://ppa.launchpad.net/deadsnakes/ppa/ubuntu bionic InRelease [15.9 kB]\n",
            "Hit:14 http://ppa.launchpad.net/graphics-drivers/ppa/ubuntu bionic InRelease\n",
            "Get:15 http://downloads.skewed.de/apt bionic/main amd64 Packages [3,333 B]\n",
            "Get:16 http://archive.ubuntu.com/ubuntu bionic-updates/main amd64 Packages [3,454 kB]\n",
            "Get:17 http://ppa.launchpad.net/deadsnakes/ppa/ubuntu bionic/main amd64 Packages [44.0 kB]\n",
            "Get:18 http://archive.ubuntu.com/ubuntu bionic-updates/restricted amd64 Packages [1,232 kB]\n",
            "Fetched 5,020 kB in 7s (761 kB/s)\n",
            "Reading package lists... Done\n",
            "Reading package lists... Done\n",
            "Building dependency tree       \n",
            "Reading state information... Done\n",
            "The following package was automatically installed and is no longer required:\n",
            "  libnvidia-common-460\n",
            "Use 'apt autoremove' to remove it.\n",
            "The following additional packages will be installed:\n",
            "  fonts-lyx gir1.2-atk-1.0 gir1.2-freedesktop gir1.2-gdkpixbuf-2.0\n",
            "  gir1.2-gtk-3.0 gir1.2-pango-1.0 javascript-common libcairomm-1.0-1v5\n",
            "  libjs-jquery libjs-jquery-ui libpangoxft-1.0-0 libsigc++-2.0-0v5\n",
            "  python-backports.functools-lru-cache python-cairo python-cycler\n",
            "  python-dateutil python-gi python-gi-cairo python-gv python-matplotlib\n",
            "  python-matplotlib-data python-olefile python-pil python-pyparsing python-six\n",
            "  python-subprocess32 python-tz python3-cycler python3-dateutil\n",
            "  python3-decorator python3-numpy python3-olefile python3-pil\n",
            "  python3-pyparsing python3-scipy python3-six python3-tz ttf-bitstream-vera\n",
            "Suggested packages:\n",
            "  apache2 | lighttpd | httpd libjs-jquery-ui-docs python-cycler-doc dvipng\n",
            "  ghostscript inkscape ipython python-cairocffi python-configobj\n",
            "  python-excelerator python-gobject python-matplotlib-doc python-nose\n",
            "  python-qt4 python-scipy python-sip python-tornado python-traits\n",
            "  python-wxgtk3.0 texlive-extra-utils texlive-latex-extra ttf-staypuft\n",
            "  python-pil-doc python-pil-dbg python-pyparsing-doc ipython3\n",
            "  python3-cairocffi python3-gi-cairo python3-gobject python3-nose\n",
            "  python3-pyqt4 python3-sip python3-tornado python-numpy-doc python3-numpy-dbg\n",
            "  python3-pil-dbg python-scipy-doc\n",
            "The following NEW packages will be installed:\n",
            "  fonts-lyx gir1.2-atk-1.0 gir1.2-freedesktop gir1.2-gdkpixbuf-2.0\n",
            "  gir1.2-gtk-3.0 gir1.2-pango-1.0 javascript-common libcairomm-1.0-1v5\n",
            "  libjs-jquery libjs-jquery-ui libpangoxft-1.0-0 libsigc++-2.0-0v5\n",
            "  python-backports.functools-lru-cache python-cairo python-cycler\n",
            "  python-dateutil python-gi python-gi-cairo python-gv python-matplotlib\n",
            "  python-matplotlib-data python-olefile python-pil python-pyparsing python-six\n",
            "  python-subprocess32 python-tz python3-cairo python3-cycler python3-dateutil\n",
            "  python3-decorator python3-graph-tool python3-matplotlib python3-numpy\n",
            "  python3-olefile python3-pil python3-pyparsing python3-scipy python3-six\n",
            "  python3-tz ttf-bitstream-vera\n",
            "0 upgraded, 41 newly installed, 0 to remove and 22 not upgraded.\n",
            "Need to get 68.6 MB of archives.\n",
            "After this operation, 453 MB of additional disk space will be used.\n",
            "Get:1 http://downloads.skewed.de/apt bionic/main amd64 python3-graph-tool amd64 2.45 [42.9 MB]\n",
            "Get:2 http://archive.ubuntu.com/ubuntu bionic-updates/universe amd64 fonts-lyx all 2.2.4-0ubuntu0.18.04.1 [155 kB]\n",
            "Get:3 http://archive.ubuntu.com/ubuntu bionic/main amd64 gir1.2-atk-1.0 amd64 2.28.1-1 [17.8 kB]\n",
            "Get:4 http://archive.ubuntu.com/ubuntu bionic/main amd64 gir1.2-freedesktop amd64 1.56.1-1 [9,080 B]\n",
            "Get:5 http://archive.ubuntu.com/ubuntu bionic/main amd64 gir1.2-gdkpixbuf-2.0 amd64 2.36.11-2 [7,748 B]\n",
            "Get:6 http://archive.ubuntu.com/ubuntu bionic-updates/main amd64 libpangoxft-1.0-0 amd64 1.40.14-1ubuntu0.1 [15.0 kB]\n",
            "Get:7 http://archive.ubuntu.com/ubuntu bionic-updates/main amd64 gir1.2-pango-1.0 amd64 1.40.14-1ubuntu0.1 [21.6 kB]\n",
            "Get:8 http://archive.ubuntu.com/ubuntu bionic-updates/main amd64 gir1.2-gtk-3.0 amd64 3.22.30-1ubuntu4 [194 kB]\n",
            "Get:9 http://archive.ubuntu.com/ubuntu bionic/main amd64 javascript-common all 11 [6,066 B]\n",
            "Get:10 http://archive.ubuntu.com/ubuntu bionic/main amd64 libsigc++-2.0-0v5 amd64 2.10.0-2 [10.9 kB]\n",
            "Get:11 http://archive.ubuntu.com/ubuntu bionic/main amd64 libcairomm-1.0-1v5 amd64 1.12.2-3 [37.1 kB]\n",
            "Get:12 http://archive.ubuntu.com/ubuntu bionic/main amd64 libjs-jquery all 3.2.1-1 [152 kB]\n",
            "Get:13 http://archive.ubuntu.com/ubuntu bionic/universe amd64 libjs-jquery-ui all 1.12.1+dfsg-5 [232 kB]\n",
            "Get:14 http://archive.ubuntu.com/ubuntu bionic/universe amd64 python-backports.functools-lru-cache all 1.4-2 [5,960 B]\n",
            "Get:15 http://archive.ubuntu.com/ubuntu bionic/main amd64 python-cairo amd64 1.16.2-1 [56.4 kB]\n",
            "Get:16 http://archive.ubuntu.com/ubuntu bionic/main amd64 python-six all 1.11.0-2 [11.3 kB]\n",
            "Get:17 http://archive.ubuntu.com/ubuntu bionic/universe amd64 python-cycler all 0.10.0-1 [7,520 B]\n",
            "Get:18 http://archive.ubuntu.com/ubuntu bionic/main amd64 python-dateutil all 2.6.1-1 [60.6 kB]\n",
            "Get:19 http://archive.ubuntu.com/ubuntu bionic-updates/main amd64 python-gi amd64 3.26.1-2ubuntu1 [197 kB]\n",
            "Get:20 http://archive.ubuntu.com/ubuntu bionic-updates/universe amd64 python-gi-cairo amd64 3.26.1-2ubuntu1 [6,632 B]\n",
            "Get:21 http://archive.ubuntu.com/ubuntu bionic/universe amd64 python-gv amd64 2.40.1-2 [32.3 kB]\n",
            "Get:22 http://archive.ubuntu.com/ubuntu bionic/universe amd64 ttf-bitstream-vera all 1.10-8 [352 kB]\n",
            "Get:23 http://archive.ubuntu.com/ubuntu bionic/universe amd64 python-matplotlib-data all 2.1.1-2ubuntu3 [3,774 kB]\n",
            "Get:24 http://archive.ubuntu.com/ubuntu bionic/main amd64 python-pyparsing all 2.2.0+dfsg1-2 [52.1 kB]\n",
            "Get:25 http://archive.ubuntu.com/ubuntu bionic/main amd64 python-tz all 2018.3-2 [31.6 kB]\n",
            "Get:26 http://archive.ubuntu.com/ubuntu bionic/universe amd64 python-subprocess32 amd64 3.2.7-3 [27.2 kB]\n",
            "Get:27 http://archive.ubuntu.com/ubuntu bionic/universe amd64 python-matplotlib amd64 2.1.1-2ubuntu3 [3,901 kB]\n",
            "Get:28 http://archive.ubuntu.com/ubuntu bionic/main amd64 python-olefile all 0.45.1-1 [33.2 kB]\n",
            "Get:29 http://archive.ubuntu.com/ubuntu bionic-updates/main amd64 python-pil amd64 5.1.0-1ubuntu0.7 [303 kB]\n",
            "Get:30 http://archive.ubuntu.com/ubuntu bionic/main amd64 python3-cairo amd64 1.16.2-1 [56.1 kB]\n",
            "Get:31 http://archive.ubuntu.com/ubuntu bionic/main amd64 python3-six all 1.11.0-2 [11.4 kB]\n",
            "Get:32 http://archive.ubuntu.com/ubuntu bionic/universe amd64 python3-cycler all 0.10.0-1 [7,622 B]\n",
            "Get:33 http://archive.ubuntu.com/ubuntu bionic/main amd64 python3-dateutil all 2.6.1-1 [52.3 kB]\n",
            "Get:34 http://archive.ubuntu.com/ubuntu bionic/universe amd64 python3-decorator all 4.1.2-1 [9,364 B]\n",
            "Get:35 http://archive.ubuntu.com/ubuntu bionic/main amd64 python3-pyparsing all 2.2.0+dfsg1-2 [52.2 kB]\n",
            "Get:36 http://archive.ubuntu.com/ubuntu bionic/main amd64 python3-tz all 2018.3-2 [25.1 kB]\n",
            "Get:37 http://archive.ubuntu.com/ubuntu bionic/main amd64 python3-numpy amd64 1:1.13.3-2ubuntu1 [1,943 kB]\n",
            "Get:38 http://archive.ubuntu.com/ubuntu bionic/universe amd64 python3-matplotlib amd64 2.1.1-2ubuntu3 [3,907 kB]\n",
            "Get:39 http://archive.ubuntu.com/ubuntu bionic/main amd64 python3-olefile all 0.45.1-1 [33.3 kB]\n",
            "Get:40 http://archive.ubuntu.com/ubuntu bionic-updates/main amd64 python3-pil amd64 5.1.0-1ubuntu0.7 [331 kB]\n",
            "Get:41 http://archive.ubuntu.com/ubuntu bionic/universe amd64 python3-scipy amd64 0.19.1-2ubuntu1 [9,619 kB]\n",
            "Fetched 68.6 MB in 6s (11.1 MB/s)\n",
            "Extracting templates from packages: 100%\n",
            "Selecting previously unselected package fonts-lyx.\n",
            "(Reading database ... 123941 files and directories currently installed.)\n",
            "Preparing to unpack .../00-fonts-lyx_2.2.4-0ubuntu0.18.04.1_all.deb ...\n",
            "Unpacking fonts-lyx (2.2.4-0ubuntu0.18.04.1) ...\n",
            "Selecting previously unselected package gir1.2-atk-1.0:amd64.\n",
            "Preparing to unpack .../01-gir1.2-atk-1.0_2.28.1-1_amd64.deb ...\n",
            "Unpacking gir1.2-atk-1.0:amd64 (2.28.1-1) ...\n",
            "Selecting previously unselected package gir1.2-freedesktop:amd64.\n",
            "Preparing to unpack .../02-gir1.2-freedesktop_1.56.1-1_amd64.deb ...\n",
            "Unpacking gir1.2-freedesktop:amd64 (1.56.1-1) ...\n",
            "Selecting previously unselected package gir1.2-gdkpixbuf-2.0:amd64.\n",
            "Preparing to unpack .../03-gir1.2-gdkpixbuf-2.0_2.36.11-2_amd64.deb ...\n",
            "Unpacking gir1.2-gdkpixbuf-2.0:amd64 (2.36.11-2) ...\n",
            "Selecting previously unselected package libpangoxft-1.0-0:amd64.\n",
            "Preparing to unpack .../04-libpangoxft-1.0-0_1.40.14-1ubuntu0.1_amd64.deb ...\n",
            "Unpacking libpangoxft-1.0-0:amd64 (1.40.14-1ubuntu0.1) ...\n",
            "Selecting previously unselected package gir1.2-pango-1.0:amd64.\n",
            "Preparing to unpack .../05-gir1.2-pango-1.0_1.40.14-1ubuntu0.1_amd64.deb ...\n",
            "Unpacking gir1.2-pango-1.0:amd64 (1.40.14-1ubuntu0.1) ...\n",
            "Selecting previously unselected package gir1.2-gtk-3.0:amd64.\n",
            "Preparing to unpack .../06-gir1.2-gtk-3.0_3.22.30-1ubuntu4_amd64.deb ...\n",
            "Unpacking gir1.2-gtk-3.0:amd64 (3.22.30-1ubuntu4) ...\n",
            "Selecting previously unselected package javascript-common.\n",
            "Preparing to unpack .../07-javascript-common_11_all.deb ...\n",
            "Unpacking javascript-common (11) ...\n",
            "Selecting previously unselected package libsigc++-2.0-0v5:amd64.\n",
            "Preparing to unpack .../08-libsigc++-2.0-0v5_2.10.0-2_amd64.deb ...\n",
            "Unpacking libsigc++-2.0-0v5:amd64 (2.10.0-2) ...\n",
            "Selecting previously unselected package libcairomm-1.0-1v5:amd64.\n",
            "Preparing to unpack .../09-libcairomm-1.0-1v5_1.12.2-3_amd64.deb ...\n",
            "Unpacking libcairomm-1.0-1v5:amd64 (1.12.2-3) ...\n",
            "Selecting previously unselected package libjs-jquery.\n",
            "Preparing to unpack .../10-libjs-jquery_3.2.1-1_all.deb ...\n",
            "Unpacking libjs-jquery (3.2.1-1) ...\n",
            "Selecting previously unselected package libjs-jquery-ui.\n",
            "Preparing to unpack .../11-libjs-jquery-ui_1.12.1+dfsg-5_all.deb ...\n",
            "Unpacking libjs-jquery-ui (1.12.1+dfsg-5) ...\n",
            "Selecting previously unselected package python-backports.functools-lru-cache.\n",
            "Preparing to unpack .../12-python-backports.functools-lru-cache_1.4-2_all.deb ...\n",
            "Unpacking python-backports.functools-lru-cache (1.4-2) ...\n",
            "Selecting previously unselected package python-cairo:amd64.\n",
            "Preparing to unpack .../13-python-cairo_1.16.2-1_amd64.deb ...\n",
            "Unpacking python-cairo:amd64 (1.16.2-1) ...\n",
            "Selecting previously unselected package python-six.\n",
            "Preparing to unpack .../14-python-six_1.11.0-2_all.deb ...\n",
            "Unpacking python-six (1.11.0-2) ...\n",
            "Selecting previously unselected package python-cycler.\n",
            "Preparing to unpack .../15-python-cycler_0.10.0-1_all.deb ...\n",
            "Unpacking python-cycler (0.10.0-1) ...\n",
            "Selecting previously unselected package python-dateutil.\n",
            "Preparing to unpack .../16-python-dateutil_2.6.1-1_all.deb ...\n",
            "Unpacking python-dateutil (2.6.1-1) ...\n",
            "Selecting previously unselected package python-gi.\n",
            "Preparing to unpack .../17-python-gi_3.26.1-2ubuntu1_amd64.deb ...\n",
            "Unpacking python-gi (3.26.1-2ubuntu1) ...\n",
            "Selecting previously unselected package python-gi-cairo.\n",
            "Preparing to unpack .../18-python-gi-cairo_3.26.1-2ubuntu1_amd64.deb ...\n",
            "Unpacking python-gi-cairo (3.26.1-2ubuntu1) ...\n",
            "Selecting previously unselected package python-gv.\n",
            "Preparing to unpack .../19-python-gv_2.40.1-2_amd64.deb ...\n",
            "Unpacking python-gv (2.40.1-2) ...\n",
            "Selecting previously unselected package ttf-bitstream-vera.\n",
            "Preparing to unpack .../20-ttf-bitstream-vera_1.10-8_all.deb ...\n",
            "Unpacking ttf-bitstream-vera (1.10-8) ...\n",
            "Selecting previously unselected package python-matplotlib-data.\n",
            "Preparing to unpack .../21-python-matplotlib-data_2.1.1-2ubuntu3_all.deb ...\n",
            "Unpacking python-matplotlib-data (2.1.1-2ubuntu3) ...\n",
            "Selecting previously unselected package python-pyparsing.\n",
            "Preparing to unpack .../22-python-pyparsing_2.2.0+dfsg1-2_all.deb ...\n",
            "Unpacking python-pyparsing (2.2.0+dfsg1-2) ...\n",
            "Selecting previously unselected package python-tz.\n",
            "Preparing to unpack .../23-python-tz_2018.3-2_all.deb ...\n",
            "Unpacking python-tz (2018.3-2) ...\n",
            "Selecting previously unselected package python-subprocess32.\n",
            "Preparing to unpack .../24-python-subprocess32_3.2.7-3_amd64.deb ...\n",
            "Unpacking python-subprocess32 (3.2.7-3) ...\n",
            "Selecting previously unselected package python-matplotlib.\n",
            "Preparing to unpack .../25-python-matplotlib_2.1.1-2ubuntu3_amd64.deb ...\n",
            "Unpacking python-matplotlib (2.1.1-2ubuntu3) ...\n",
            "Selecting previously unselected package python-olefile.\n",
            "Preparing to unpack .../26-python-olefile_0.45.1-1_all.deb ...\n",
            "Unpacking python-olefile (0.45.1-1) ...\n",
            "Selecting previously unselected package python-pil:amd64.\n",
            "Preparing to unpack .../27-python-pil_5.1.0-1ubuntu0.7_amd64.deb ...\n",
            "Unpacking python-pil:amd64 (5.1.0-1ubuntu0.7) ...\n",
            "Selecting previously unselected package python3-cairo:amd64.\n",
            "Preparing to unpack .../28-python3-cairo_1.16.2-1_amd64.deb ...\n",
            "Unpacking python3-cairo:amd64 (1.16.2-1) ...\n",
            "Selecting previously unselected package python3-six.\n",
            "Preparing to unpack .../29-python3-six_1.11.0-2_all.deb ...\n",
            "Unpacking python3-six (1.11.0-2) ...\n",
            "Selecting previously unselected package python3-cycler.\n",
            "Preparing to unpack .../30-python3-cycler_0.10.0-1_all.deb ...\n",
            "Unpacking python3-cycler (0.10.0-1) ...\n",
            "Selecting previously unselected package python3-dateutil.\n",
            "Preparing to unpack .../31-python3-dateutil_2.6.1-1_all.deb ...\n",
            "Unpacking python3-dateutil (2.6.1-1) ...\n",
            "Selecting previously unselected package python3-decorator.\n",
            "Preparing to unpack .../32-python3-decorator_4.1.2-1_all.deb ...\n",
            "Unpacking python3-decorator (4.1.2-1) ...\n",
            "Selecting previously unselected package python3-pyparsing.\n",
            "Preparing to unpack .../33-python3-pyparsing_2.2.0+dfsg1-2_all.deb ...\n",
            "Unpacking python3-pyparsing (2.2.0+dfsg1-2) ...\n",
            "Selecting previously unselected package python3-tz.\n",
            "Preparing to unpack .../34-python3-tz_2018.3-2_all.deb ...\n",
            "Unpacking python3-tz (2018.3-2) ...\n",
            "Selecting previously unselected package python3-numpy.\n",
            "Preparing to unpack .../35-python3-numpy_1%3a1.13.3-2ubuntu1_amd64.deb ...\n",
            "Unpacking python3-numpy (1:1.13.3-2ubuntu1) ...\n",
            "Selecting previously unselected package python3-matplotlib.\n",
            "Preparing to unpack .../36-python3-matplotlib_2.1.1-2ubuntu3_amd64.deb ...\n",
            "Unpacking python3-matplotlib (2.1.1-2ubuntu3) ...\n",
            "Selecting previously unselected package python3-olefile.\n",
            "Preparing to unpack .../37-python3-olefile_0.45.1-1_all.deb ...\n",
            "Unpacking python3-olefile (0.45.1-1) ...\n",
            "Selecting previously unselected package python3-pil:amd64.\n",
            "Preparing to unpack .../38-python3-pil_5.1.0-1ubuntu0.7_amd64.deb ...\n",
            "Unpacking python3-pil:amd64 (5.1.0-1ubuntu0.7) ...\n",
            "Selecting previously unselected package python3-scipy.\n",
            "Preparing to unpack .../39-python3-scipy_0.19.1-2ubuntu1_amd64.deb ...\n",
            "Unpacking python3-scipy (0.19.1-2ubuntu1) ...\n",
            "Selecting previously unselected package python3-graph-tool.\n",
            "Preparing to unpack .../40-python3-graph-tool_2.45_amd64.deb ...\n",
            "Unpacking python3-graph-tool (2.45) ...\n",
            "Setting up libjs-jquery (3.2.1-1) ...\n",
            "Setting up gir1.2-atk-1.0:amd64 (2.28.1-1) ...\n",
            "Setting up python3-pil:amd64 (5.1.0-1ubuntu0.7) ...\n",
            "Setting up python3-olefile (0.45.1-1) ...\n",
            "Setting up python-backports.functools-lru-cache (1.4-2) ...\n",
            "Setting up gir1.2-freedesktop:amd64 (1.56.1-1) ...\n",
            "Setting up python3-numpy (1:1.13.3-2ubuntu1) ...\n",
            "Setting up python3-six (1.11.0-2) ...\n",
            "Setting up libpangoxft-1.0-0:amd64 (1.40.14-1ubuntu0.1) ...\n",
            "Setting up python-tz (2018.3-2) ...\n",
            "Setting up python3-pyparsing (2.2.0+dfsg1-2) ...\n",
            "Setting up python3-cycler (0.10.0-1) ...\n",
            "Setting up gir1.2-gdkpixbuf-2.0:amd64 (2.36.11-2) ...\n",
            "Setting up gir1.2-pango-1.0:amd64 (1.40.14-1ubuntu0.1) ...\n",
            "Setting up python-gi (3.26.1-2ubuntu1) ...\n",
            "Setting up python-six (1.11.0-2) ...\n",
            "Setting up python-gv (2.40.1-2) ...\n",
            "Setting up libjs-jquery-ui (1.12.1+dfsg-5) ...\n",
            "Setting up python-cairo:amd64 (1.16.2-1) ...\n",
            "Setting up python-olefile (0.45.1-1) ...\n",
            "Setting up ttf-bitstream-vera (1.10-8) ...\n",
            "Setting up python3-cairo:amd64 (1.16.2-1) ...\n",
            "Setting up javascript-common (11) ...\n",
            "Setting up python-subprocess32 (3.2.7-3) ...\n",
            "Setting up python3-decorator (4.1.2-1) ...\n",
            "Setting up python-pil:amd64 (5.1.0-1ubuntu0.7) ...\n",
            "Setting up libsigc++-2.0-0v5:amd64 (2.10.0-2) ...\n",
            "Setting up python3-tz (2018.3-2) ...\n",
            "Setting up python3-dateutil (2.6.1-1) ...\n",
            "Setting up fonts-lyx (2.2.4-0ubuntu0.18.04.1) ...\n",
            "Setting up python-pyparsing (2.2.0+dfsg1-2) ...\n",
            "Setting up python-gi-cairo (3.26.1-2ubuntu1) ...\n",
            "Setting up libcairomm-1.0-1v5:amd64 (1.12.2-3) ...\n",
            "Setting up python3-scipy (0.19.1-2ubuntu1) ...\n",
            "Setting up gir1.2-gtk-3.0:amd64 (3.22.30-1ubuntu4) ...\n",
            "Setting up python-matplotlib-data (2.1.1-2ubuntu3) ...\n",
            "Setting up python3-graph-tool (2.45) ...\n",
            "Setting up python-cycler (0.10.0-1) ...\n",
            "Setting up python-dateutil (2.6.1-1) ...\n",
            "Setting up python3-matplotlib (2.1.1-2ubuntu3) ...\n",
            "Setting up python-matplotlib (2.1.1-2ubuntu3) ...\n",
            "Processing triggers for man-db (2.8.3-2ubuntu0.1) ...\n",
            "Processing triggers for fontconfig (2.12.6-0ubuntu2) ...\n",
            "Processing triggers for libc-bin (2.27-3ubuntu1.6) ...\n",
            "Reading package lists... Done\n",
            "Building dependency tree       \n",
            "Reading state information... Done\n",
            "The following package was automatically installed and is no longer required:\n",
            "  libnvidia-common-460\n",
            "Use 'apt autoremove' to remove it.\n",
            "The following additional packages will be installed:\n",
            "  libcairo-script-interpreter2 libpixman-1-dev libxcb-shm0-dev\n",
            "Suggested packages:\n",
            "  libcairo2-doc\n",
            "The following NEW packages will be installed:\n",
            "  libcairo-script-interpreter2 libcairo2-dev libpixman-1-dev libxcb-shm0-dev\n",
            "0 upgraded, 4 newly installed, 0 to remove and 22 not upgraded.\n",
            "Need to get 930 kB of archives.\n",
            "After this operation, 3,986 kB of additional disk space will be used.\n",
            "Get:1 http://archive.ubuntu.com/ubuntu bionic-updates/main amd64 libcairo-script-interpreter2 amd64 1.15.10-2ubuntu0.1 [53.5 kB]\n",
            "Get:2 http://archive.ubuntu.com/ubuntu bionic/main amd64 libpixman-1-dev amd64 0.34.0-2 [244 kB]\n",
            "Get:3 http://archive.ubuntu.com/ubuntu bionic-updates/main amd64 libxcb-shm0-dev amd64 1.13-2~ubuntu18.04 [6,684 B]\n",
            "Get:4 http://archive.ubuntu.com/ubuntu bionic-updates/main amd64 libcairo2-dev amd64 1.15.10-2ubuntu0.1 [626 kB]\n",
            "Fetched 930 kB in 2s (446 kB/s)\n",
            "Selecting previously unselected package libcairo-script-interpreter2:amd64.\n",
            "(Reading database ... 127721 files and directories currently installed.)\n",
            "Preparing to unpack .../libcairo-script-interpreter2_1.15.10-2ubuntu0.1_amd64.deb ...\n",
            "Unpacking libcairo-script-interpreter2:amd64 (1.15.10-2ubuntu0.1) ...\n",
            "Selecting previously unselected package libpixman-1-dev:amd64.\n",
            "Preparing to unpack .../libpixman-1-dev_0.34.0-2_amd64.deb ...\n",
            "Unpacking libpixman-1-dev:amd64 (0.34.0-2) ...\n",
            "Selecting previously unselected package libxcb-shm0-dev:amd64.\n",
            "Preparing to unpack .../libxcb-shm0-dev_1.13-2~ubuntu18.04_amd64.deb ...\n",
            "Unpacking libxcb-shm0-dev:amd64 (1.13-2~ubuntu18.04) ...\n",
            "Selecting previously unselected package libcairo2-dev:amd64.\n",
            "Preparing to unpack .../libcairo2-dev_1.15.10-2ubuntu0.1_amd64.deb ...\n",
            "Unpacking libcairo2-dev:amd64 (1.15.10-2ubuntu0.1) ...\n",
            "Setting up libcairo-script-interpreter2:amd64 (1.15.10-2ubuntu0.1) ...\n",
            "Setting up libxcb-shm0-dev:amd64 (1.13-2~ubuntu18.04) ...\n",
            "Setting up libpixman-1-dev:amd64 (0.34.0-2) ...\n",
            "Setting up libcairo2-dev:amd64 (1.15.10-2ubuntu0.1) ...\n",
            "Processing triggers for libc-bin (2.27-3ubuntu1.6) ...\n"
          ]
        }
      ],
      "source": [
        "!echo \"deb http://downloads.skewed.de/apt bionic main\" >> /etc/apt/sources.list\n",
        "!apt-key adv --keyserver keys.openpgp.org --recv-key 612DEFB798507F25\n",
        "!apt-get update\n",
        "!apt-get install python3-graph-tool python3-cairo python3-matplotlib\n",
        "!apt-get install libcairo2-dev "
      ]
    },
    {
      "cell_type": "markdown",
      "metadata": {
        "id": "IKsGKd_MhaqM"
      },
      "source": [
        "## Preamble: set up the environment and files used in the tutorial"
      ]
    },
    {
      "cell_type": "code",
      "execution_count": 4,
      "metadata": {
        "id": "nufDdc16haqN"
      },
      "outputs": [],
      "source": [
        "import io\n",
        "import os\n",
        "import sys\n",
        "\n",
        "from kgtk.configure_kgtk_notebooks import ConfigureKGTK\n",
        "from kgtk.functions import kgtk, kypher"
      ]
    },
    {
      "cell_type": "code",
      "execution_count": 5,
      "metadata": {
        "tags": [
          "parameters"
        ],
        "id": "Z6wbdg-MhaqN"
      },
      "outputs": [],
      "source": [
        "# Parameters\n",
        "\n",
        "input_path = None\n",
        "\n",
        "output_path = \"/tmp/projects\"\n",
        "project_name = \"tutorial-network-analysis\"\n",
        "\n",
        "input_files_url = \"https://github.com/usc-isi-i2/kgtk-tutorial-files/raw/main/datasets/arnold-profiled\""
      ]
    },
    {
      "cell_type": "markdown",
      "metadata": {
        "id": "Y77M6gWyhaqN"
      },
      "source": [
        "These are all the files that we have, but I am tempted to just use the `all` file as it helps to keep the tutorial simpler"
      ]
    },
    {
      "cell_type": "code",
      "execution_count": 6,
      "metadata": {
        "id": "MxCcMO-NhaqO",
        "colab": {
          "base_uri": "https://localhost:8080/"
        },
        "outputId": "dab00174-29ee-43bc-be57-6091e8964d59"
      },
      "outputs": [
        {
          "output_type": "stream",
          "name": "stdout",
          "text": [
            "User home: /root\n",
            "Current dir: /content\n",
            "KGTK dir: /\n",
            "Use-cases dir: //use-cases\n",
            "--2022-10-17 16:40:29--  https://github.com/usc-isi-i2/kgtk-tutorial-files/raw/main/datasets/arnold-profiled/labels.en.tsv.gz\n",
            "Resolving github.com (github.com)... 20.27.177.113\n",
            "Connecting to github.com (github.com)|20.27.177.113|:443... connected.\n",
            "HTTP request sent, awaiting response... 301 Moved Permanently\n",
            "Location: https://github.com/usc-isi-i2/kgtk-notebooks/raw/main/datasets/arnold-profiled/labels.en.tsv.gz [following]\n",
            "--2022-10-17 16:40:30--  https://github.com/usc-isi-i2/kgtk-notebooks/raw/main/datasets/arnold-profiled/labels.en.tsv.gz\n",
            "Reusing existing connection to github.com:443.\n",
            "HTTP request sent, awaiting response... 302 Found\n",
            "Location: https://raw.githubusercontent.com/usc-isi-i2/kgtk-notebooks/main/datasets/arnold-profiled/labels.en.tsv.gz [following]\n",
            "--2022-10-17 16:40:30--  https://raw.githubusercontent.com/usc-isi-i2/kgtk-notebooks/main/datasets/arnold-profiled/labels.en.tsv.gz\n",
            "Resolving raw.githubusercontent.com (raw.githubusercontent.com)... 185.199.111.133, 185.199.109.133, 185.199.108.133, ...\n",
            "Connecting to raw.githubusercontent.com (raw.githubusercontent.com)|185.199.111.133|:443... connected.\n",
            "HTTP request sent, awaiting response... 200 OK\n",
            "Length: 1064283 (1.0M) [application/octet-stream]\n",
            "Saving to: ‘/root/isi-kgtk-tutorial/tutorial-network-analysis_input/labels.en.tsv.gz’\n",
            "\n",
            "     0K .......... .......... .......... .......... ..........  4% 3.39M 0s\n",
            "    50K .......... .......... .......... .......... ..........  9% 4.63M 0s\n",
            "   100K .......... .......... .......... .......... .......... 14% 15.4M 0s\n",
            "   150K .......... .......... .......... .......... .......... 19% 25.3M 0s\n",
            "   200K .......... .......... .......... .......... .......... 24% 6.67M 0s\n",
            "   250K .......... .......... .......... .......... .......... 28% 40.7M 0s\n",
            "   300K .......... .......... .......... .......... .......... 33% 28.8M 0s\n",
            "   350K .......... .......... .......... .......... .......... 38% 23.4M 0s\n",
            "   400K .......... .......... .......... .......... .......... 43% 71.2M 0s\n",
            "   450K .......... .......... .......... .......... .......... 48% 7.52M 0s\n",
            "   500K .......... .......... .......... .......... .......... 52%  113M 0s\n",
            "   550K .......... .......... .......... .......... .......... 57% 42.3M 0s\n",
            "   600K .......... .......... .......... .......... .......... 62% 82.0M 0s\n",
            "   650K .......... .......... .......... .......... .......... 67% 54.3M 0s\n",
            "   700K .......... .......... .......... .......... .......... 72% 54.5M 0s\n",
            "   750K .......... .......... .......... .......... .......... 76%  140M 0s\n",
            "   800K .......... .......... .......... .......... .......... 81% 40.2M 0s\n",
            "   850K .......... .......... .......... .......... .......... 86%  126M 0s\n",
            "   900K .......... .......... .......... .......... .......... 91% 72.6M 0s\n",
            "   950K .......... .......... .......... .......... .......... 96%  123M 0s\n",
            "  1000K .......... .......... .......... .........            100% 6.74M=0.06s\n",
            "\n",
            "2022-10-17 16:40:31 (16.3 MB/s) - ‘/root/isi-kgtk-tutorial/tutorial-network-analysis_input/labels.en.tsv.gz’ saved [1064283/1064283]\n",
            "\n",
            "--2022-10-17 16:40:31--  https://github.com/usc-isi-i2/kgtk-tutorial-files/raw/main/datasets/arnold-profiled/claims.wikibase-item.tsv.gz\n",
            "Resolving github.com (github.com)... 20.27.177.113\n",
            "Connecting to github.com (github.com)|20.27.177.113|:443... connected.\n",
            "HTTP request sent, awaiting response... 301 Moved Permanently\n",
            "Location: https://github.com/usc-isi-i2/kgtk-notebooks/raw/main/datasets/arnold-profiled/claims.wikibase-item.tsv.gz [following]\n",
            "--2022-10-17 16:40:31--  https://github.com/usc-isi-i2/kgtk-notebooks/raw/main/datasets/arnold-profiled/claims.wikibase-item.tsv.gz\n",
            "Reusing existing connection to github.com:443.\n",
            "HTTP request sent, awaiting response... 302 Found\n",
            "Location: https://raw.githubusercontent.com/usc-isi-i2/kgtk-notebooks/main/datasets/arnold-profiled/claims.wikibase-item.tsv.gz [following]\n",
            "--2022-10-17 16:40:32--  https://raw.githubusercontent.com/usc-isi-i2/kgtk-notebooks/main/datasets/arnold-profiled/claims.wikibase-item.tsv.gz\n",
            "Resolving raw.githubusercontent.com (raw.githubusercontent.com)... 185.199.111.133, 185.199.109.133, 185.199.108.133, ...\n",
            "Connecting to raw.githubusercontent.com (raw.githubusercontent.com)|185.199.111.133|:443... connected.\n",
            "HTTP request sent, awaiting response... 200 OK\n",
            "Length: 6332200 (6.0M) [application/octet-stream]\n",
            "Saving to: ‘/root/isi-kgtk-tutorial/tutorial-network-analysis_input/claims.wikibase-item.tsv.gz’\n",
            "\n",
            "     0K .......... .......... .......... .......... ..........  0% 3.29M 2s\n",
            "    50K .......... .......... .......... .......... ..........  1% 4.49M 2s\n",
            "   100K .......... .......... .......... .......... ..........  2% 16.5M 1s\n",
            "   150K .......... .......... .......... .......... ..........  3% 17.8M 1s\n",
            "   200K .......... .......... .......... .......... ..........  4% 7.29M 1s\n",
            "   250K .......... .......... .......... .......... ..........  4% 35.0M 1s\n",
            "   300K .......... .......... .......... .......... ..........  5% 22.6M 1s\n",
            "   350K .......... .......... .......... .......... ..........  6% 30.4M 1s\n",
            "   400K .......... .......... .......... .......... ..........  7% 33.7M 1s\n",
            "   450K .......... .......... .......... .......... ..........  8% 7.83M 1s\n",
            "   500K .......... .......... .......... .......... ..........  8% 97.8M 1s\n",
            "   550K .......... .......... .......... .......... ..........  9% 39.1M 0s\n",
            "   600K .......... .......... .......... .......... .......... 10% 46.5M 0s\n",
            "   650K .......... .......... .......... .......... .......... 11% 56.9M 0s\n",
            "   700K .......... .......... .......... .......... .......... 12%  150M 0s\n",
            "   750K .......... .......... .......... .......... .......... 12% 40.0M 0s\n",
            "   800K .......... .......... .......... .......... .......... 13%  145M 0s\n",
            "   850K .......... .......... .......... .......... .......... 14% 48.5M 0s\n",
            "   900K .......... .......... .......... .......... .......... 15% 75.4M 0s\n",
            "   950K .......... .......... .......... .......... .......... 16% 49.2M 0s\n",
            "  1000K .......... .......... .......... .......... .......... 16% 8.74M 0s\n",
            "  1050K .......... .......... .......... .......... .......... 17%  110M 0s\n",
            "  1100K .......... .......... .......... .......... .......... 18% 94.9M 0s\n",
            "  1150K .......... .......... .......... .......... .......... 19%  113M 0s\n",
            "  1200K .......... .......... .......... .......... .......... 20%  115M 0s\n",
            "  1250K .......... .......... .......... .......... .......... 21%  128M 0s\n",
            "  1300K .......... .......... .......... .......... .......... 21%  137M 0s\n",
            "  1350K .......... .......... .......... .......... .......... 22% 51.5M 0s\n",
            "  1400K .......... .......... .......... .......... .......... 23% 99.6M 0s\n",
            "  1450K .......... .......... .......... .......... .......... 24%  123M 0s\n",
            "  1500K .......... .......... .......... .......... .......... 25%  139M 0s\n",
            "  1550K .......... .......... .......... .......... .......... 25% 45.2M 0s\n",
            "  1600K .......... .......... .......... .......... .......... 26% 53.4M 0s\n",
            "  1650K .......... .......... .......... .......... .......... 27% 90.4M 0s\n",
            "  1700K .......... .......... .......... .......... .......... 28%  194M 0s\n",
            "  1750K .......... .......... .......... .......... .......... 29% 78.9M 0s\n",
            "  1800K .......... .......... .......... .......... .......... 29% 61.5M 0s\n",
            "  1850K .......... .......... .......... .......... .......... 30%  124M 0s\n",
            "  1900K .......... .......... .......... .......... .......... 31% 59.2M 0s\n",
            "  1950K .......... .......... .......... .......... .......... 32%  117M 0s\n",
            "  2000K .......... .......... .......... .......... .......... 33% 23.5M 0s\n",
            "  2050K .......... .......... .......... .......... .......... 33%  109M 0s\n",
            "  2100K .......... .......... .......... .......... .......... 34%  131M 0s\n",
            "  2150K .......... .......... .......... .......... .......... 35% 95.4M 0s\n",
            "  2200K .......... .......... .......... .......... .......... 36%  122M 0s\n",
            "  2250K .......... .......... .......... .......... .......... 37%  131M 0s\n",
            "  2300K .......... .......... .......... .......... .......... 38%  120M 0s\n",
            "  2350K .......... .......... .......... .......... .......... 38%  119M 0s\n",
            "  2400K .......... .......... .......... .......... .......... 39%  149M 0s\n",
            "  2450K .......... .......... .......... .......... .......... 40%  147M 0s\n",
            "  2500K .......... .......... .......... .......... .......... 41% 82.5M 0s\n",
            "  2550K .......... .......... .......... .......... .......... 42% 88.6M 0s\n",
            "  2600K .......... .......... .......... .......... .......... 42% 91.3M 0s\n",
            "  2650K .......... .......... .......... .......... .......... 43% 49.4M 0s\n",
            "  2700K .......... .......... .......... .......... .......... 44%  128M 0s\n",
            "  2750K .......... .......... .......... .......... .......... 45% 59.4M 0s\n",
            "  2800K .......... .......... .......... .......... .......... 46% 82.1M 0s\n",
            "  2850K .......... .......... .......... .......... .......... 46% 33.1M 0s\n",
            "  2900K .......... .......... .......... .......... .......... 47% 33.0M 0s\n",
            "  2950K .......... .......... .......... .......... .......... 48% 49.9M 0s\n",
            "  3000K .......... .......... .......... .......... .......... 49%  129M 0s\n",
            "  3050K .......... .......... .......... .......... .......... 50%  137M 0s\n",
            "  3100K .......... .......... .......... .......... .......... 50%  189M 0s\n",
            "  3150K .......... .......... .......... .......... .......... 51% 79.3M 0s\n",
            "  3200K .......... .......... .......... .......... .......... 52%  164M 0s\n",
            "  3250K .......... .......... .......... .......... .......... 53%  218M 0s\n",
            "  3300K .......... .......... .......... .......... .......... 54%  210M 0s\n",
            "  3350K .......... .......... .......... .......... .......... 54% 84.1M 0s\n",
            "  3400K .......... .......... .......... .......... .......... 55%  124M 0s\n",
            "  3450K .......... .......... .......... .......... .......... 56%  127M 0s\n",
            "  3500K .......... .......... .......... .......... .......... 57%  149M 0s\n",
            "  3550K .......... .......... .......... .......... .......... 58%  125M 0s\n",
            "  3600K .......... .......... .......... .......... .......... 59%  144M 0s\n",
            "  3650K .......... .......... .......... .......... .......... 59%  192M 0s\n",
            "  3700K .......... .......... .......... .......... .......... 60%  163M 0s\n",
            "  3750K .......... .......... .......... .......... .......... 61%  119M 0s\n",
            "  3800K .......... .......... .......... .......... .......... 62%  154M 0s\n",
            "  3850K .......... .......... .......... .......... .......... 63%  138M 0s\n",
            "  3900K .......... .......... .......... .......... .......... 63%  151M 0s\n",
            "  3950K .......... .......... .......... .......... .......... 64% 27.1M 0s\n",
            "  4000K .......... .......... .......... .......... .......... 65%  120M 0s\n",
            "  4050K .......... .......... .......... .......... .......... 66%  174M 0s\n",
            "  4100K .......... .......... .......... .......... .......... 67% 69.4M 0s\n",
            "  4150K .......... .......... .......... .......... .......... 67% 14.2M 0s\n",
            "  4200K .......... .......... .......... .......... .......... 68%  120M 0s\n",
            "  4250K .......... .......... .......... .......... .......... 69% 19.4M 0s\n",
            "  4300K .......... .......... .......... .......... .......... 70%  125M 0s\n",
            "  4350K .......... .......... .......... .......... .......... 71%  121M 0s\n",
            "  4400K .......... .......... .......... .......... .......... 71%  145M 0s\n",
            "  4450K .......... .......... .......... .......... .......... 72%  117M 0s\n",
            "  4500K .......... .......... .......... .......... .......... 73%  110M 0s\n",
            "  4550K .......... .......... .......... .......... .......... 74%  114M 0s\n",
            "  4600K .......... .......... .......... .......... .......... 75%  141M 0s\n",
            "  4650K .......... .......... .......... .......... .......... 76%  119M 0s\n",
            "  4700K .......... .......... .......... .......... .......... 76%  135M 0s\n",
            "  4750K .......... .......... .......... .......... .......... 77%  121M 0s\n",
            "  4800K .......... .......... .......... .......... .......... 78%  146M 0s\n",
            "  4850K .......... .......... .......... .......... .......... 79% 56.8M 0s\n",
            "  4900K .......... .......... .......... .......... .......... 80% 15.5M 0s\n",
            "  4950K .......... .......... .......... .......... .......... 80% 38.2M 0s\n",
            "  5000K .......... .......... .......... .......... .......... 81% 15.6M 0s\n",
            "  5050K .......... .......... .......... .......... .......... 82% 43.1M 0s\n",
            "  5100K .......... .......... .......... .......... .......... 83% 31.2M 0s\n",
            "  5150K .......... .......... .......... .......... .......... 84% 53.3M 0s\n",
            "  5200K .......... .......... .......... .......... .......... 84% 85.9M 0s\n",
            "  5250K .......... .......... .......... .......... .......... 85% 90.9M 0s\n",
            "  5300K .......... .......... .......... .......... .......... 86% 81.5M 0s\n",
            "  5350K .......... .......... .......... .......... .......... 87% 78.1M 0s\n",
            "  5400K .......... .......... .......... .......... .......... 88% 95.6M 0s\n",
            "  5450K .......... .......... .......... .......... .......... 88% 90.6M 0s\n",
            "  5500K .......... .......... .......... .......... .......... 89% 73.4M 0s\n",
            "  5550K .......... .......... .......... .......... .......... 90% 77.8M 0s\n",
            "  5600K .......... .......... .......... .......... .......... 91% 40.9M 0s\n",
            "  5650K .......... .......... .......... .......... .......... 92% 73.7M 0s\n",
            "  5700K .......... .......... .......... .......... .......... 92% 33.7M 0s\n",
            "  5750K .......... .......... .......... .......... .......... 93% 75.5M 0s\n",
            "  5800K .......... .......... .......... .......... .......... 94% 92.6M 0s\n",
            "  5850K .......... .......... .......... .......... .......... 95% 63.2M 0s\n",
            "  5900K .......... .......... .......... .......... .......... 96% 48.1M 0s\n",
            "  5950K .......... .......... .......... .......... .......... 97% 77.7M 0s\n",
            "  6000K .......... .......... .......... .......... .......... 97% 98.5M 0s\n",
            "  6050K .......... .......... .......... .......... .......... 98% 94.3M 0s\n",
            "  6100K .......... .......... .......... .......... .......... 99% 87.9M 0s\n",
            "  6150K .......... .......... .......... ...                  100% 75.5M=0.1s\n",
            "\n",
            "2022-10-17 16:40:33 (44.5 MB/s) - ‘/root/isi-kgtk-tutorial/tutorial-network-analysis_input/claims.wikibase-item.tsv.gz’ saved [6332200/6332200]\n",
            "\n",
            "--2022-10-17 16:40:33--  https://github.com/usc-isi-i2/kgtk-tutorial-files/raw/main/datasets/arnold-profiled/claims.time.tsv.gz\n",
            "Resolving github.com (github.com)... 20.27.177.113\n",
            "Connecting to github.com (github.com)|20.27.177.113|:443... connected.\n",
            "HTTP request sent, awaiting response... 301 Moved Permanently\n",
            "Location: https://github.com/usc-isi-i2/kgtk-notebooks/raw/main/datasets/arnold-profiled/claims.time.tsv.gz [following]\n",
            "--2022-10-17 16:40:33--  https://github.com/usc-isi-i2/kgtk-notebooks/raw/main/datasets/arnold-profiled/claims.time.tsv.gz\n",
            "Reusing existing connection to github.com:443.\n",
            "HTTP request sent, awaiting response... 302 Found\n",
            "Location: https://raw.githubusercontent.com/usc-isi-i2/kgtk-notebooks/main/datasets/arnold-profiled/claims.time.tsv.gz [following]\n",
            "--2022-10-17 16:40:34--  https://raw.githubusercontent.com/usc-isi-i2/kgtk-notebooks/main/datasets/arnold-profiled/claims.time.tsv.gz\n",
            "Resolving raw.githubusercontent.com (raw.githubusercontent.com)... 185.199.111.133, 185.199.108.133, 185.199.109.133, ...\n",
            "Connecting to raw.githubusercontent.com (raw.githubusercontent.com)|185.199.111.133|:443... connected.\n",
            "HTTP request sent, awaiting response... 200 OK\n",
            "Length: 781182 (763K) [application/octet-stream]\n",
            "Saving to: ‘/root/isi-kgtk-tutorial/tutorial-network-analysis_input/claims.time.tsv.gz’\n",
            "\n",
            "     0K .......... .......... .......... .......... ..........  6% 3.38M 0s\n",
            "    50K .......... .......... .......... .......... .......... 13% 4.62M 0s\n",
            "   100K .......... .......... .......... .......... .......... 19% 19.0M 0s\n",
            "   150K .......... .......... .......... .......... .......... 26% 20.3M 0s\n",
            "   200K .......... .......... .......... .......... .......... 32% 6.61M 0s\n",
            "   250K .......... .......... .......... .......... .......... 39% 60.4M 0s\n",
            "   300K .......... .......... .......... .......... .......... 45% 23.5M 0s\n",
            "   350K .......... .......... .......... .......... .......... 52% 10.4M 0s\n",
            "   400K .......... .......... .......... .......... .......... 58% 78.0M 0s\n",
            "   450K .......... .......... .......... .......... .......... 65% 45.0M 0s\n",
            "   500K .......... .......... .......... .......... .......... 72% 15.2M 0s\n",
            "   550K .......... .......... .......... .......... .......... 78%  117M 0s\n",
            "   600K .......... .......... .......... .......... .......... 85% 59.7M 0s\n",
            "   650K .......... .......... .......... .......... .......... 91% 31.8M 0s\n",
            "   700K .......... .......... .......... .......... .......... 98% 11.0M 0s\n",
            "   750K .......... ..                                         100% 52.8M=0.06s\n",
            "\n",
            "2022-10-17 16:40:34 (13.0 MB/s) - ‘/root/isi-kgtk-tutorial/tutorial-network-analysis_input/claims.time.tsv.gz’ saved [781182/781182]\n",
            "\n",
            "--2022-10-17 16:40:34--  https://github.com/usc-isi-i2/kgtk-tutorial-files/raw/main/datasets/arnold-profiled/claims.quantity.tsv.gz\n",
            "Resolving github.com (github.com)... 20.27.177.113\n",
            "Connecting to github.com (github.com)|20.27.177.113|:443... connected.\n",
            "HTTP request sent, awaiting response... 301 Moved Permanently\n",
            "Location: https://github.com/usc-isi-i2/kgtk-notebooks/raw/main/datasets/arnold-profiled/claims.quantity.tsv.gz [following]\n",
            "--2022-10-17 16:40:35--  https://github.com/usc-isi-i2/kgtk-notebooks/raw/main/datasets/arnold-profiled/claims.quantity.tsv.gz\n",
            "Reusing existing connection to github.com:443.\n",
            "HTTP request sent, awaiting response... 302 Found\n",
            "Location: https://raw.githubusercontent.com/usc-isi-i2/kgtk-notebooks/main/datasets/arnold-profiled/claims.quantity.tsv.gz [following]\n",
            "--2022-10-17 16:40:35--  https://raw.githubusercontent.com/usc-isi-i2/kgtk-notebooks/main/datasets/arnold-profiled/claims.quantity.tsv.gz\n",
            "Resolving raw.githubusercontent.com (raw.githubusercontent.com)... 185.199.108.133, 185.199.109.133, 185.199.110.133, ...\n",
            "Connecting to raw.githubusercontent.com (raw.githubusercontent.com)|185.199.108.133|:443... connected.\n",
            "HTTP request sent, awaiting response... 200 OK\n",
            "Length: 1936951 (1.8M) [application/octet-stream]\n",
            "Saving to: ‘/root/isi-kgtk-tutorial/tutorial-network-analysis_input/claims.quantity.tsv.gz’\n",
            "\n",
            "     0K .......... .......... .......... .......... ..........  2% 3.25M 1s\n",
            "    50K .......... .......... .......... .......... ..........  5% 4.30M 0s\n",
            "   100K .......... .......... .......... .......... ..........  7% 21.5M 0s\n",
            "   150K .......... .......... .......... .......... .......... 10% 7.99M 0s\n",
            "   200K .......... .......... .......... .......... .......... 13% 9.16M 0s\n",
            "   250K .......... .......... .......... .......... .......... 15% 55.4M 0s\n",
            "   300K .......... .......... .......... .......... .......... 18% 21.3M 0s\n",
            "   350K .......... .......... .......... .......... .......... 21% 81.6M 0s\n",
            "   400K .......... .......... .......... .......... .......... 23% 29.9M 0s\n",
            "   450K .......... .......... .......... .......... .......... 26% 29.5M 0s\n",
            "   500K .......... .......... .......... .......... .......... 29% 7.72M 0s\n",
            "   550K .......... .......... .......... .......... .......... 31% 57.9M 0s\n",
            "   600K .......... .......... .......... .......... .......... 34% 91.6M 0s\n",
            "   650K .......... .......... .......... .......... .......... 37% 83.4M 0s\n",
            "   700K .......... .......... .......... .......... .......... 39% 27.1M 0s\n",
            "   750K .......... .......... .......... .......... .......... 42%  222M 0s\n",
            "   800K .......... .......... .......... .......... .......... 44% 48.6M 0s\n",
            "   850K .......... .......... .......... .......... .......... 47% 96.2M 0s\n",
            "   900K .......... .......... .......... .......... .......... 50% 74.0M 0s\n",
            "   950K .......... .......... .......... .......... .......... 52% 76.4M 0s\n",
            "  1000K .......... .......... .......... .......... .......... 55% 81.4M 0s\n",
            "  1050K .......... .......... .......... .......... .......... 58%  185M 0s\n",
            "  1100K .......... .......... .......... .......... .......... 60% 7.98M 0s\n",
            "  1150K .......... .......... .......... .......... .......... 63%  149M 0s\n",
            "  1200K .......... .......... .......... .......... .......... 66%  133M 0s\n",
            "  1250K .......... .......... .......... .......... .......... 68% 85.0M 0s\n",
            "  1300K .......... .......... .......... .......... .......... 71%  151M 0s\n",
            "  1350K .......... .......... .......... .......... .......... 74% 55.7M 0s\n",
            "  1400K .......... .......... .......... .......... .......... 76%  160M 0s\n",
            "  1450K .......... .......... .......... .......... .......... 79%  155M 0s\n",
            "  1500K .......... .......... .......... .......... .......... 81%  152M 0s\n",
            "  1550K .......... .......... .......... .......... .......... 84%  178M 0s\n",
            "  1600K .......... .......... .......... .......... .......... 87%  175M 0s\n",
            "  1650K .......... .......... .......... .......... .......... 89% 80.8M 0s\n",
            "  1700K .......... .......... .......... .......... .......... 92%  163M 0s\n",
            "  1750K .......... .......... .......... .......... .......... 95%  140M 0s\n",
            "  1800K .......... .......... .......... .......... .......... 97%  187M 0s\n",
            "  1850K .......... .......... .......... .......... .         100%  115M=0.07s\n",
            "\n",
            "2022-10-17 16:40:36 (25.3 MB/s) - ‘/root/isi-kgtk-tutorial/tutorial-network-analysis_input/claims.quantity.tsv.gz’ saved [1936951/1936951]\n",
            "\n"
          ]
        }
      ],
      "source": [
        "files = [\n",
        "    \"label\",\n",
        "    \"item\",\n",
        "    \"time\",\n",
        "    \"quantity\"\n",
        "]\n",
        "ck = ConfigureKGTK(files, input_files_url=input_files_url)\n",
        "ck.configure_kgtk(input_graph_path=input_path,\n",
        "                  output_path=output_path,\n",
        "                  project_name=project_name)"
      ]
    },
    {
      "cell_type": "code",
      "execution_count": 7,
      "metadata": {
        "id": "_3K8njQ4haqP",
        "outputId": "b33f7b7f-0069-4234-e0d5-bb89dbb5f6c2",
        "colab": {
          "base_uri": "https://localhost:8080/"
        }
      },
      "outputs": [
        {
          "output_type": "stream",
          "name": "stdout",
          "text": [
            "KGTK_OPTION_DEBUG: false\n",
            "kgtk: kgtk\n",
            "OUT: /tmp/projects/tutorial-network-analysis\n",
            "TEMP: /tmp/projects/tutorial-network-analysis/temp.tutorial-network-analysis\n",
            "KGTK_GRAPH_CACHE: /tmp/projects/tutorial-network-analysis/temp.tutorial-network-analysis/wikidata.sqlite3.db\n",
            "kypher: kgtk query --graph-cache /tmp/projects/tutorial-network-analysis/temp.tutorial-network-analysis/wikidata.sqlite3.db\n",
            "GRAPH: /root/isi-kgtk-tutorial/tutorial-network-analysis_input\n",
            "EXAMPLES_DIR: //examples\n",
            "USE_CASES_DIR: //use-cases\n",
            "KGTK_LABEL_FILE: /root/isi-kgtk-tutorial/tutorial-network-analysis_input/labels.en.tsv.gz\n",
            "STORE: /tmp/projects/tutorial-network-analysis/temp.tutorial-network-analysis/wikidata.sqlite3.db\n",
            "label: /root/isi-kgtk-tutorial/tutorial-network-analysis_input/labels.en.tsv.gz\n",
            "item: /root/isi-kgtk-tutorial/tutorial-network-analysis_input/claims.wikibase-item.tsv.gz\n",
            "time: /root/isi-kgtk-tutorial/tutorial-network-analysis_input/claims.time.tsv.gz\n",
            "quantity: /root/isi-kgtk-tutorial/tutorial-network-analysis_input/claims.quantity.tsv.gz\n"
          ]
        }
      ],
      "source": [
        "ck.print_env_variables()"
      ]
    },
    {
      "cell_type": "markdown",
      "metadata": {
        "id": "5Sxhy8sAhaqP"
      },
      "source": [
        "Load all my files into the kypher cache so that all graph aliases are defined"
      ]
    },
    {
      "cell_type": "code",
      "execution_count": 8,
      "metadata": {
        "id": "aKBOHBPshaqP",
        "outputId": "fc36281c-136a-488b-c797-a6f305013917",
        "colab": {
          "base_uri": "https://localhost:8080/"
        }
      },
      "outputs": [
        {
          "output_type": "stream",
          "name": "stdout",
          "text": [
            "kgtk query --graph-cache /tmp/projects/tutorial-network-analysis/temp.tutorial-network-analysis/wikidata.sqlite3.db -i \"/root/isi-kgtk-tutorial/tutorial-network-analysis_input/labels.en.tsv.gz\" --as label  -i \"/root/isi-kgtk-tutorial/tutorial-network-analysis_input/claims.wikibase-item.tsv.gz\" --as item  -i \"/root/isi-kgtk-tutorial/tutorial-network-analysis_input/claims.time.tsv.gz\" --as time  -i \"/root/isi-kgtk-tutorial/tutorial-network-analysis_input/claims.quantity.tsv.gz\" --as quantity  --limit 3\n",
            "node1\tlabel\tnode2\tid\n",
            "P10\tlabel\t'video'@en\tP10-label-en\n",
            "P1000\tlabel\t'record held'@en\tP1000-label-en\n",
            "P1001\tlabel\t'applies to jurisdiction'@en\tP1001-label-en\n",
            "CPU times: user 73.3 ms, sys: 13.5 ms, total: 86.9 ms\n",
            "Wall time: 8.45 s\n"
          ]
        }
      ],
      "source": [
        "%%time\n",
        "ck.load_files_into_cache()"
      ]
    },
    {
      "cell_type": "markdown",
      "metadata": {
        "id": "GTBSvjpnhaqP"
      },
      "source": [
        "# Compute network metrics on the original graph\n",
        "\n",
        "Pagerank centrality is one of the most useful network metrics as we can use it to rank the results of queries. You can compute pagerank on a KG using the KGTK `graph-statistics` command. We are going to compute pagerank on the KG graph containing items only (no literals or qualifiers) because in our experience we get good results on this subgraph and the algorithm runs faster. \n",
        "> You can replace `$item` by `$all` and compute pagerank on the whole graph.\n",
        "\n",
        "The `graph-statistics` command can also compute in/out degree and hits centrality. In the invocation below we turn off computation of `hits` as it takes longer. You can also specify the properties to be used to construct the graph containing your graph statistics. We are also treating the graph as undirected, as in our experience the pagerank results are more intuitive on the undirected graph:"
      ]
    },
    {
      "cell_type": "code",
      "execution_count": 9,
      "metadata": {
        "id": "kpoDP48xhaqQ",
        "outputId": "da7f6c0c-7663-47a3-c7d0-2e370ed8bc46",
        "colab": {
          "base_uri": "https://localhost:8080/"
        }
      },
      "outputs": [
        {
          "output_type": "stream",
          "name": "stdout",
          "text": [
            "/usr/lib/python3/dist-packages/graph_tool/draw/cairo_draw.py:32: RuntimeWarning: Error importing cairo. Graph drawing will not work.\n",
            "  warnings.warn(msg, RuntimeWarning)\n",
            "/usr/lib/python3/dist-packages/graph_tool/draw/cairo_draw.py:32: RuntimeWarning: Error importing cairo. Graph drawing will not work.\n",
            "  warnings.warn(msg, RuntimeWarning)\n",
            "/usr/lib/python3/dist-packages/graph_tool/draw/cairo_draw.py:32: RuntimeWarning: Error importing cairo. Graph drawing will not work.\n",
            "  warnings.warn(msg, RuntimeWarning)\n",
            "/usr/lib/python3/dist-packages/graph_tool/all.py:39: RuntimeWarning: Error importing draw module, proceeding nevertheless: No module named 'cairo._cairo'\n",
            "  warnings.warn(msg, RuntimeWarning)\n",
            "\n",
            "CPU times: user 86.6 ms, sys: 24.6 ms, total: 111 ms\n",
            "Wall time: 14 s\n"
          ]
        }
      ],
      "source": [
        "%%time\n",
        "kgtk(\"\"\"\n",
        "    graph-statistics -i \"$item\" -o $OUT/metadata.pagerank.undirected.tsv.gz \n",
        "    --compute-pagerank True \n",
        "    --compute-hits False \n",
        "    --page-rank-property Pdirected_pagerank \n",
        "    --vertex-in-degree-property Pindegree\n",
        "    --vertex-out-degree-property Poutdegree\n",
        "    --output-degrees True \n",
        "    --output-pagerank True \n",
        "    --output-hits False \\\n",
        "    --output-statistics-only \n",
        "    --undirected True \n",
        "    --log-file $TEMP/metadata.pagerank.undirected.summary.txt\n",
        "\"\"\")"
      ]
    },
    {
      "cell_type": "markdown",
      "metadata": {
        "id": "n3bJIBJShaqQ"
      },
      "source": [
        "The output is a KG, and is represented using the usual `node1/label/node2/id` TSV file:"
      ]
    },
    {
      "cell_type": "code",
      "execution_count": 10,
      "metadata": {
        "id": "C-A4VWnKhaqR",
        "outputId": "21eb500e-d7e1-4906-fde1-5d9382358b1d",
        "colab": {
          "base_uri": "https://localhost:8080/",
          "height": 363
        }
      },
      "outputs": [
        {
          "output_type": "execute_result",
          "data": {
            "text/plain": [
              "       node1               label      node2                              id\n",
              "0        P10           Pindegree   0.000000                 P10-Pindegree-0\n",
              "1        P10          Poutdegree   1.000000                P10-Poutdegree-1\n",
              "2        P10  Pdirected_pagerank   0.000005        P10-Pdirected_pagerank-2\n",
              "3  Q18610173           Pindegree   0.000000           Q18610173-Pindegree-3\n",
              "4  Q18610173          Poutdegree  18.000000          Q18610173-Poutdegree-4\n",
              "5  Q18610173  Pdirected_pagerank   0.000056  Q18610173-Pdirected_pagerank-5\n",
              "6      P1000           Pindegree   0.000000               P1000-Pindegree-6\n",
              "7      P1000          Poutdegree   1.000000              P1000-Poutdegree-7\n",
              "8      P1000  Pdirected_pagerank   0.000004      P1000-Pdirected_pagerank-8\n",
              "9  Q18608871           Pindegree   0.000000           Q18608871-Pindegree-9"
            ],
            "text/html": [
              "\n",
              "  <div id=\"df-ec0eb102-4c20-4908-8e07-fa920b59f98e\">\n",
              "    <div class=\"colab-df-container\">\n",
              "      <div>\n",
              "<style scoped>\n",
              "    .dataframe tbody tr th:only-of-type {\n",
              "        vertical-align: middle;\n",
              "    }\n",
              "\n",
              "    .dataframe tbody tr th {\n",
              "        vertical-align: top;\n",
              "    }\n",
              "\n",
              "    .dataframe thead th {\n",
              "        text-align: right;\n",
              "    }\n",
              "</style>\n",
              "<table border=\"1\" class=\"dataframe\">\n",
              "  <thead>\n",
              "    <tr style=\"text-align: right;\">\n",
              "      <th></th>\n",
              "      <th>node1</th>\n",
              "      <th>label</th>\n",
              "      <th>node2</th>\n",
              "      <th>id</th>\n",
              "    </tr>\n",
              "  </thead>\n",
              "  <tbody>\n",
              "    <tr>\n",
              "      <th>0</th>\n",
              "      <td>P10</td>\n",
              "      <td>Pindegree</td>\n",
              "      <td>0.000000</td>\n",
              "      <td>P10-Pindegree-0</td>\n",
              "    </tr>\n",
              "    <tr>\n",
              "      <th>1</th>\n",
              "      <td>P10</td>\n",
              "      <td>Poutdegree</td>\n",
              "      <td>1.000000</td>\n",
              "      <td>P10-Poutdegree-1</td>\n",
              "    </tr>\n",
              "    <tr>\n",
              "      <th>2</th>\n",
              "      <td>P10</td>\n",
              "      <td>Pdirected_pagerank</td>\n",
              "      <td>0.000005</td>\n",
              "      <td>P10-Pdirected_pagerank-2</td>\n",
              "    </tr>\n",
              "    <tr>\n",
              "      <th>3</th>\n",
              "      <td>Q18610173</td>\n",
              "      <td>Pindegree</td>\n",
              "      <td>0.000000</td>\n",
              "      <td>Q18610173-Pindegree-3</td>\n",
              "    </tr>\n",
              "    <tr>\n",
              "      <th>4</th>\n",
              "      <td>Q18610173</td>\n",
              "      <td>Poutdegree</td>\n",
              "      <td>18.000000</td>\n",
              "      <td>Q18610173-Poutdegree-4</td>\n",
              "    </tr>\n",
              "    <tr>\n",
              "      <th>5</th>\n",
              "      <td>Q18610173</td>\n",
              "      <td>Pdirected_pagerank</td>\n",
              "      <td>0.000056</td>\n",
              "      <td>Q18610173-Pdirected_pagerank-5</td>\n",
              "    </tr>\n",
              "    <tr>\n",
              "      <th>6</th>\n",
              "      <td>P1000</td>\n",
              "      <td>Pindegree</td>\n",
              "      <td>0.000000</td>\n",
              "      <td>P1000-Pindegree-6</td>\n",
              "    </tr>\n",
              "    <tr>\n",
              "      <th>7</th>\n",
              "      <td>P1000</td>\n",
              "      <td>Poutdegree</td>\n",
              "      <td>1.000000</td>\n",
              "      <td>P1000-Poutdegree-7</td>\n",
              "    </tr>\n",
              "    <tr>\n",
              "      <th>8</th>\n",
              "      <td>P1000</td>\n",
              "      <td>Pdirected_pagerank</td>\n",
              "      <td>0.000004</td>\n",
              "      <td>P1000-Pdirected_pagerank-8</td>\n",
              "    </tr>\n",
              "    <tr>\n",
              "      <th>9</th>\n",
              "      <td>Q18608871</td>\n",
              "      <td>Pindegree</td>\n",
              "      <td>0.000000</td>\n",
              "      <td>Q18608871-Pindegree-9</td>\n",
              "    </tr>\n",
              "  </tbody>\n",
              "</table>\n",
              "</div>\n",
              "      <button class=\"colab-df-convert\" onclick=\"convertToInteractive('df-ec0eb102-4c20-4908-8e07-fa920b59f98e')\"\n",
              "              title=\"Convert this dataframe to an interactive table.\"\n",
              "              style=\"display:none;\">\n",
              "        \n",
              "  <svg xmlns=\"http://www.w3.org/2000/svg\" height=\"24px\"viewBox=\"0 0 24 24\"\n",
              "       width=\"24px\">\n",
              "    <path d=\"M0 0h24v24H0V0z\" fill=\"none\"/>\n",
              "    <path d=\"M18.56 5.44l.94 2.06.94-2.06 2.06-.94-2.06-.94-.94-2.06-.94 2.06-2.06.94zm-11 1L8.5 8.5l.94-2.06 2.06-.94-2.06-.94L8.5 2.5l-.94 2.06-2.06.94zm10 10l.94 2.06.94-2.06 2.06-.94-2.06-.94-.94-2.06-.94 2.06-2.06.94z\"/><path d=\"M17.41 7.96l-1.37-1.37c-.4-.4-.92-.59-1.43-.59-.52 0-1.04.2-1.43.59L10.3 9.45l-7.72 7.72c-.78.78-.78 2.05 0 2.83L4 21.41c.39.39.9.59 1.41.59.51 0 1.02-.2 1.41-.59l7.78-7.78 2.81-2.81c.8-.78.8-2.07 0-2.86zM5.41 20L4 18.59l7.72-7.72 1.47 1.35L5.41 20z\"/>\n",
              "  </svg>\n",
              "      </button>\n",
              "      \n",
              "  <style>\n",
              "    .colab-df-container {\n",
              "      display:flex;\n",
              "      flex-wrap:wrap;\n",
              "      gap: 12px;\n",
              "    }\n",
              "\n",
              "    .colab-df-convert {\n",
              "      background-color: #E8F0FE;\n",
              "      border: none;\n",
              "      border-radius: 50%;\n",
              "      cursor: pointer;\n",
              "      display: none;\n",
              "      fill: #1967D2;\n",
              "      height: 32px;\n",
              "      padding: 0 0 0 0;\n",
              "      width: 32px;\n",
              "    }\n",
              "\n",
              "    .colab-df-convert:hover {\n",
              "      background-color: #E2EBFA;\n",
              "      box-shadow: 0px 1px 2px rgba(60, 64, 67, 0.3), 0px 1px 3px 1px rgba(60, 64, 67, 0.15);\n",
              "      fill: #174EA6;\n",
              "    }\n",
              "\n",
              "    [theme=dark] .colab-df-convert {\n",
              "      background-color: #3B4455;\n",
              "      fill: #D2E3FC;\n",
              "    }\n",
              "\n",
              "    [theme=dark] .colab-df-convert:hover {\n",
              "      background-color: #434B5C;\n",
              "      box-shadow: 0px 1px 3px 1px rgba(0, 0, 0, 0.15);\n",
              "      filter: drop-shadow(0px 1px 2px rgba(0, 0, 0, 0.3));\n",
              "      fill: #FFFFFF;\n",
              "    }\n",
              "  </style>\n",
              "\n",
              "      <script>\n",
              "        const buttonEl =\n",
              "          document.querySelector('#df-ec0eb102-4c20-4908-8e07-fa920b59f98e button.colab-df-convert');\n",
              "        buttonEl.style.display =\n",
              "          google.colab.kernel.accessAllowed ? 'block' : 'none';\n",
              "\n",
              "        async function convertToInteractive(key) {\n",
              "          const element = document.querySelector('#df-ec0eb102-4c20-4908-8e07-fa920b59f98e');\n",
              "          const dataTable =\n",
              "            await google.colab.kernel.invokeFunction('convertToInteractive',\n",
              "                                                     [key], {});\n",
              "          if (!dataTable) return;\n",
              "\n",
              "          const docLinkHtml = 'Like what you see? Visit the ' +\n",
              "            '<a target=\"_blank\" href=https://colab.research.google.com/notebooks/data_table.ipynb>data table notebook</a>'\n",
              "            + ' to learn more about interactive tables.';\n",
              "          element.innerHTML = '';\n",
              "          dataTable['output_type'] = 'display_data';\n",
              "          await google.colab.output.renderOutput(dataTable, element);\n",
              "          const docLink = document.createElement('div');\n",
              "          docLink.innerHTML = docLinkHtml;\n",
              "          element.appendChild(docLink);\n",
              "        }\n",
              "      </script>\n",
              "    </div>\n",
              "  </div>\n",
              "  "
            ]
          },
          "metadata": {},
          "execution_count": 10
        }
      ],
      "source": [
        "kgtk(\"\"\"\n",
        "    head -i $OUT/metadata.pagerank.undirected.tsv.gz\n",
        "\"\"\")"
      ]
    },
    {
      "cell_type": "markdown",
      "metadata": {
        "id": "gPTga-lxhaqR"
      },
      "source": [
        "Now that we have a graph with pagerank information, we can use it in any query to rank the results by pagerank. \n",
        "The following query retrieves all `instance of (P31)` of `human (Q5)` from the `item` graph and uses the `pagerank` graph to rank the results by pagerank:"
      ]
    },
    {
      "cell_type": "code",
      "execution_count": 11,
      "metadata": {
        "id": "iTW-_YdehaqR",
        "outputId": "6807e83f-fc0b-42ce-e795-f83eb37606ea",
        "colab": {
          "base_uri": "https://localhost:8080/",
          "height": 459
        }
      },
      "outputs": [
        {
          "output_type": "stream",
          "name": "stdout",
          "text": [
            "CPU times: user 181 ms, sys: 47.6 ms, total: 229 ms\n",
            "Wall time: 5.43 s\n"
          ]
        },
        {
          "output_type": "execute_result",
          "data": {
            "text/plain": [
              "           node1     node2                node1;label\n",
              "0         Q22686  0.000135          'Donald Trump'@en\n",
              "1            Q76  0.000131          'Barack Obama'@en\n",
              "2         Q11812  0.000113      'Thomas Jefferson'@en\n",
              "3          Q9916  0.000108  'Dwight D. Eisenhower'@en\n",
              "4         Q23505  0.000104     'George H. W. Bush'@en\n",
              "...          ...       ...                        ...\n",
              "13866     Q99850  0.000004            'Hu Yaobang'@en\n",
              "13867  Q99885632  0.000004     'Jean-Marc Gayraud'@en\n",
              "13868  Q99887066  0.000004      'Gilbert Narcisse'@en\n",
              "13869    Q999332  0.000004            'Buck Henry'@en\n",
              "13870    Q999726  0.000004        'Dale Van Every'@en\n",
              "\n",
              "[13871 rows x 3 columns]"
            ],
            "text/html": [
              "\n",
              "  <div id=\"df-66c2836f-7363-4c14-804d-8622578b4878\">\n",
              "    <div class=\"colab-df-container\">\n",
              "      <div>\n",
              "<style scoped>\n",
              "    .dataframe tbody tr th:only-of-type {\n",
              "        vertical-align: middle;\n",
              "    }\n",
              "\n",
              "    .dataframe tbody tr th {\n",
              "        vertical-align: top;\n",
              "    }\n",
              "\n",
              "    .dataframe thead th {\n",
              "        text-align: right;\n",
              "    }\n",
              "</style>\n",
              "<table border=\"1\" class=\"dataframe\">\n",
              "  <thead>\n",
              "    <tr style=\"text-align: right;\">\n",
              "      <th></th>\n",
              "      <th>node1</th>\n",
              "      <th>node2</th>\n",
              "      <th>node1;label</th>\n",
              "    </tr>\n",
              "  </thead>\n",
              "  <tbody>\n",
              "    <tr>\n",
              "      <th>0</th>\n",
              "      <td>Q22686</td>\n",
              "      <td>0.000135</td>\n",
              "      <td>'Donald Trump'@en</td>\n",
              "    </tr>\n",
              "    <tr>\n",
              "      <th>1</th>\n",
              "      <td>Q76</td>\n",
              "      <td>0.000131</td>\n",
              "      <td>'Barack Obama'@en</td>\n",
              "    </tr>\n",
              "    <tr>\n",
              "      <th>2</th>\n",
              "      <td>Q11812</td>\n",
              "      <td>0.000113</td>\n",
              "      <td>'Thomas Jefferson'@en</td>\n",
              "    </tr>\n",
              "    <tr>\n",
              "      <th>3</th>\n",
              "      <td>Q9916</td>\n",
              "      <td>0.000108</td>\n",
              "      <td>'Dwight D. Eisenhower'@en</td>\n",
              "    </tr>\n",
              "    <tr>\n",
              "      <th>4</th>\n",
              "      <td>Q23505</td>\n",
              "      <td>0.000104</td>\n",
              "      <td>'George H. W. Bush'@en</td>\n",
              "    </tr>\n",
              "    <tr>\n",
              "      <th>...</th>\n",
              "      <td>...</td>\n",
              "      <td>...</td>\n",
              "      <td>...</td>\n",
              "    </tr>\n",
              "    <tr>\n",
              "      <th>13866</th>\n",
              "      <td>Q99850</td>\n",
              "      <td>0.000004</td>\n",
              "      <td>'Hu Yaobang'@en</td>\n",
              "    </tr>\n",
              "    <tr>\n",
              "      <th>13867</th>\n",
              "      <td>Q99885632</td>\n",
              "      <td>0.000004</td>\n",
              "      <td>'Jean-Marc Gayraud'@en</td>\n",
              "    </tr>\n",
              "    <tr>\n",
              "      <th>13868</th>\n",
              "      <td>Q99887066</td>\n",
              "      <td>0.000004</td>\n",
              "      <td>'Gilbert Narcisse'@en</td>\n",
              "    </tr>\n",
              "    <tr>\n",
              "      <th>13869</th>\n",
              "      <td>Q999332</td>\n",
              "      <td>0.000004</td>\n",
              "      <td>'Buck Henry'@en</td>\n",
              "    </tr>\n",
              "    <tr>\n",
              "      <th>13870</th>\n",
              "      <td>Q999726</td>\n",
              "      <td>0.000004</td>\n",
              "      <td>'Dale Van Every'@en</td>\n",
              "    </tr>\n",
              "  </tbody>\n",
              "</table>\n",
              "<p>13871 rows × 3 columns</p>\n",
              "</div>\n",
              "      <button class=\"colab-df-convert\" onclick=\"convertToInteractive('df-66c2836f-7363-4c14-804d-8622578b4878')\"\n",
              "              title=\"Convert this dataframe to an interactive table.\"\n",
              "              style=\"display:none;\">\n",
              "        \n",
              "  <svg xmlns=\"http://www.w3.org/2000/svg\" height=\"24px\"viewBox=\"0 0 24 24\"\n",
              "       width=\"24px\">\n",
              "    <path d=\"M0 0h24v24H0V0z\" fill=\"none\"/>\n",
              "    <path d=\"M18.56 5.44l.94 2.06.94-2.06 2.06-.94-2.06-.94-.94-2.06-.94 2.06-2.06.94zm-11 1L8.5 8.5l.94-2.06 2.06-.94-2.06-.94L8.5 2.5l-.94 2.06-2.06.94zm10 10l.94 2.06.94-2.06 2.06-.94-2.06-.94-.94-2.06-.94 2.06-2.06.94z\"/><path d=\"M17.41 7.96l-1.37-1.37c-.4-.4-.92-.59-1.43-.59-.52 0-1.04.2-1.43.59L10.3 9.45l-7.72 7.72c-.78.78-.78 2.05 0 2.83L4 21.41c.39.39.9.59 1.41.59.51 0 1.02-.2 1.41-.59l7.78-7.78 2.81-2.81c.8-.78.8-2.07 0-2.86zM5.41 20L4 18.59l7.72-7.72 1.47 1.35L5.41 20z\"/>\n",
              "  </svg>\n",
              "      </button>\n",
              "      \n",
              "  <style>\n",
              "    .colab-df-container {\n",
              "      display:flex;\n",
              "      flex-wrap:wrap;\n",
              "      gap: 12px;\n",
              "    }\n",
              "\n",
              "    .colab-df-convert {\n",
              "      background-color: #E8F0FE;\n",
              "      border: none;\n",
              "      border-radius: 50%;\n",
              "      cursor: pointer;\n",
              "      display: none;\n",
              "      fill: #1967D2;\n",
              "      height: 32px;\n",
              "      padding: 0 0 0 0;\n",
              "      width: 32px;\n",
              "    }\n",
              "\n",
              "    .colab-df-convert:hover {\n",
              "      background-color: #E2EBFA;\n",
              "      box-shadow: 0px 1px 2px rgba(60, 64, 67, 0.3), 0px 1px 3px 1px rgba(60, 64, 67, 0.15);\n",
              "      fill: #174EA6;\n",
              "    }\n",
              "\n",
              "    [theme=dark] .colab-df-convert {\n",
              "      background-color: #3B4455;\n",
              "      fill: #D2E3FC;\n",
              "    }\n",
              "\n",
              "    [theme=dark] .colab-df-convert:hover {\n",
              "      background-color: #434B5C;\n",
              "      box-shadow: 0px 1px 3px 1px rgba(0, 0, 0, 0.15);\n",
              "      filter: drop-shadow(0px 1px 2px rgba(0, 0, 0, 0.3));\n",
              "      fill: #FFFFFF;\n",
              "    }\n",
              "  </style>\n",
              "\n",
              "      <script>\n",
              "        const buttonEl =\n",
              "          document.querySelector('#df-66c2836f-7363-4c14-804d-8622578b4878 button.colab-df-convert');\n",
              "        buttonEl.style.display =\n",
              "          google.colab.kernel.accessAllowed ? 'block' : 'none';\n",
              "\n",
              "        async function convertToInteractive(key) {\n",
              "          const element = document.querySelector('#df-66c2836f-7363-4c14-804d-8622578b4878');\n",
              "          const dataTable =\n",
              "            await google.colab.kernel.invokeFunction('convertToInteractive',\n",
              "                                                     [key], {});\n",
              "          if (!dataTable) return;\n",
              "\n",
              "          const docLinkHtml = 'Like what you see? Visit the ' +\n",
              "            '<a target=\"_blank\" href=https://colab.research.google.com/notebooks/data_table.ipynb>data table notebook</a>'\n",
              "            + ' to learn more about interactive tables.';\n",
              "          element.innerHTML = '';\n",
              "          dataTable['output_type'] = 'display_data';\n",
              "          await google.colab.output.renderOutput(dataTable, element);\n",
              "          const docLink = document.createElement('div');\n",
              "          docLink.innerHTML = docLinkHtml;\n",
              "          element.appendChild(docLink);\n",
              "        }\n",
              "      </script>\n",
              "    </div>\n",
              "  </div>\n",
              "  "
            ]
          },
          "metadata": {},
          "execution_count": 11
        }
      ],
      "source": [
        "%%time\n",
        "kgtk(\"\"\"\n",
        "    query -i item -i $OUT/metadata.pagerank.undirected.tsv.gz\n",
        "        --match '\n",
        "            item: (human)-[:P31]->(:Q5),\n",
        "            pagerank: (human)-[:Pdirected_pagerank]->(pagerank)'\n",
        "        --return 'human as node1, pagerank as node2'\n",
        "        --order-by 'cast(pagerank, float) desc'\n",
        "    / add-labels\n",
        "\"\"\")"
      ]
    },
    {
      "cell_type": "markdown",
      "metadata": {
        "id": "oD_2GlUnhaqR"
      },
      "source": [
        "## Create a network of the extended family of `Arnold Schwarzenegger (Q2685)`\n",
        "We will use the following properties to build the network:\n",
        "- `child (P40)`\n",
        "- `sibling (P3373)`\n",
        "- `spouse (P26)`\n",
        "- `unmarried partner (P451)`\n",
        "- `father (P22)`\n",
        "- `mother (P25)`\n",
        "\n",
        "And we will exclude:\n",
        "- `relative (P1038)` (exclude)\n",
        "\n",
        "Approach:\n",
        "- Starting from `Arnold Schwarzenegger (Q2685)` find all the nodes that can be reached using the properties listed above\n",
        "- Extract from the KG all the edges any two nodes computed in the previous step.\n",
        "\n",
        "> Note: the `reachable-nodes` command only reports nodes, so we have to use the two steps as described above."
      ]
    },
    {
      "cell_type": "markdown",
      "metadata": {
        "id": "KvrbmuahhaqS"
      },
      "source": [
        "The `reachable-nodes` command can compute all the nodes reachable from a set of roots. The roots can be supplied in the command line, and for bulk processing, the root nodes can be specified in a file (it is possible to specify millions of root nodes)."
      ]
    },
    {
      "cell_type": "code",
      "execution_count": 12,
      "metadata": {
        "id": "YMU9zzkehaqS",
        "outputId": "c705fca6-b03b-4868-81e0-f325813cb20a",
        "colab": {
          "base_uri": "https://localhost:8080/",
          "height": 459
        }
      },
      "outputs": [
        {
          "output_type": "stream",
          "name": "stdout",
          "text": [
            "CPU times: user 34 ms, sys: 9.43 ms, total: 43.4 ms\n",
            "Wall time: 3.79 s\n"
          ]
        },
        {
          "output_type": "execute_result",
          "data": {
            "text/plain": [
              "    node1             label      node2                 node1;label  \\\n",
              "0   Q2685  Pextended_family   Q3288486  'Arnold Schwarzenegger'@en   \n",
              "1   Q2685  Pextended_family  Q23800370  'Arnold Schwarzenegger'@en   \n",
              "2   Q2685  Pextended_family  Q96076900  'Arnold Schwarzenegger'@en   \n",
              "3   Q2685  Pextended_family  Q38196234  'Arnold Schwarzenegger'@en   \n",
              "4   Q2685  Pextended_family  Q24004771  'Arnold Schwarzenegger'@en   \n",
              "..    ...               ...        ...                         ...   \n",
              "67  Q2685  Pextended_family  Q43100988  'Arnold Schwarzenegger'@en   \n",
              "68  Q2685  Pextended_family    Q901541  'Arnold Schwarzenegger'@en   \n",
              "69  Q2685  Pextended_family  Q23800185  'Arnold Schwarzenegger'@en   \n",
              "70  Q2685  Pextended_family  Q75494768  'Arnold Schwarzenegger'@en   \n",
              "71  Q2685  Pextended_family  Q75496774  'Arnold Schwarzenegger'@en   \n",
              "\n",
              "                             node2;label  \n",
              "0             'Gustav Schwarzenegger'@en  \n",
              "1            'Aurelia Schwarzenegger'@en  \n",
              "2                            'Jadrny'@en  \n",
              "3           'Meinhard Schwarzenegger'@en  \n",
              "4   'Patrick M. Knapp Schwarzenegger'@en  \n",
              "..                                   ...  \n",
              "67                       'Jack Pratt'@en  \n",
              "68           'Patrick Schwarzenegger'@en  \n",
              "69                     'Joseph Baena'@en  \n",
              "70           'Mildred Patricia Baena'@en  \n",
              "71                    'Rogelio Baena'@en  \n",
              "\n",
              "[72 rows x 5 columns]"
            ],
            "text/html": [
              "\n",
              "  <div id=\"df-375a1fdb-2dd1-4786-a381-a5cd966abca1\">\n",
              "    <div class=\"colab-df-container\">\n",
              "      <div>\n",
              "<style scoped>\n",
              "    .dataframe tbody tr th:only-of-type {\n",
              "        vertical-align: middle;\n",
              "    }\n",
              "\n",
              "    .dataframe tbody tr th {\n",
              "        vertical-align: top;\n",
              "    }\n",
              "\n",
              "    .dataframe thead th {\n",
              "        text-align: right;\n",
              "    }\n",
              "</style>\n",
              "<table border=\"1\" class=\"dataframe\">\n",
              "  <thead>\n",
              "    <tr style=\"text-align: right;\">\n",
              "      <th></th>\n",
              "      <th>node1</th>\n",
              "      <th>label</th>\n",
              "      <th>node2</th>\n",
              "      <th>node1;label</th>\n",
              "      <th>node2;label</th>\n",
              "    </tr>\n",
              "  </thead>\n",
              "  <tbody>\n",
              "    <tr>\n",
              "      <th>0</th>\n",
              "      <td>Q2685</td>\n",
              "      <td>Pextended_family</td>\n",
              "      <td>Q3288486</td>\n",
              "      <td>'Arnold Schwarzenegger'@en</td>\n",
              "      <td>'Gustav Schwarzenegger'@en</td>\n",
              "    </tr>\n",
              "    <tr>\n",
              "      <th>1</th>\n",
              "      <td>Q2685</td>\n",
              "      <td>Pextended_family</td>\n",
              "      <td>Q23800370</td>\n",
              "      <td>'Arnold Schwarzenegger'@en</td>\n",
              "      <td>'Aurelia Schwarzenegger'@en</td>\n",
              "    </tr>\n",
              "    <tr>\n",
              "      <th>2</th>\n",
              "      <td>Q2685</td>\n",
              "      <td>Pextended_family</td>\n",
              "      <td>Q96076900</td>\n",
              "      <td>'Arnold Schwarzenegger'@en</td>\n",
              "      <td>'Jadrny'@en</td>\n",
              "    </tr>\n",
              "    <tr>\n",
              "      <th>3</th>\n",
              "      <td>Q2685</td>\n",
              "      <td>Pextended_family</td>\n",
              "      <td>Q38196234</td>\n",
              "      <td>'Arnold Schwarzenegger'@en</td>\n",
              "      <td>'Meinhard Schwarzenegger'@en</td>\n",
              "    </tr>\n",
              "    <tr>\n",
              "      <th>4</th>\n",
              "      <td>Q2685</td>\n",
              "      <td>Pextended_family</td>\n",
              "      <td>Q24004771</td>\n",
              "      <td>'Arnold Schwarzenegger'@en</td>\n",
              "      <td>'Patrick M. Knapp Schwarzenegger'@en</td>\n",
              "    </tr>\n",
              "    <tr>\n",
              "      <th>...</th>\n",
              "      <td>...</td>\n",
              "      <td>...</td>\n",
              "      <td>...</td>\n",
              "      <td>...</td>\n",
              "      <td>...</td>\n",
              "    </tr>\n",
              "    <tr>\n",
              "      <th>67</th>\n",
              "      <td>Q2685</td>\n",
              "      <td>Pextended_family</td>\n",
              "      <td>Q43100988</td>\n",
              "      <td>'Arnold Schwarzenegger'@en</td>\n",
              "      <td>'Jack Pratt'@en</td>\n",
              "    </tr>\n",
              "    <tr>\n",
              "      <th>68</th>\n",
              "      <td>Q2685</td>\n",
              "      <td>Pextended_family</td>\n",
              "      <td>Q901541</td>\n",
              "      <td>'Arnold Schwarzenegger'@en</td>\n",
              "      <td>'Patrick Schwarzenegger'@en</td>\n",
              "    </tr>\n",
              "    <tr>\n",
              "      <th>69</th>\n",
              "      <td>Q2685</td>\n",
              "      <td>Pextended_family</td>\n",
              "      <td>Q23800185</td>\n",
              "      <td>'Arnold Schwarzenegger'@en</td>\n",
              "      <td>'Joseph Baena'@en</td>\n",
              "    </tr>\n",
              "    <tr>\n",
              "      <th>70</th>\n",
              "      <td>Q2685</td>\n",
              "      <td>Pextended_family</td>\n",
              "      <td>Q75494768</td>\n",
              "      <td>'Arnold Schwarzenegger'@en</td>\n",
              "      <td>'Mildred Patricia Baena'@en</td>\n",
              "    </tr>\n",
              "    <tr>\n",
              "      <th>71</th>\n",
              "      <td>Q2685</td>\n",
              "      <td>Pextended_family</td>\n",
              "      <td>Q75496774</td>\n",
              "      <td>'Arnold Schwarzenegger'@en</td>\n",
              "      <td>'Rogelio Baena'@en</td>\n",
              "    </tr>\n",
              "  </tbody>\n",
              "</table>\n",
              "<p>72 rows × 5 columns</p>\n",
              "</div>\n",
              "      <button class=\"colab-df-convert\" onclick=\"convertToInteractive('df-375a1fdb-2dd1-4786-a381-a5cd966abca1')\"\n",
              "              title=\"Convert this dataframe to an interactive table.\"\n",
              "              style=\"display:none;\">\n",
              "        \n",
              "  <svg xmlns=\"http://www.w3.org/2000/svg\" height=\"24px\"viewBox=\"0 0 24 24\"\n",
              "       width=\"24px\">\n",
              "    <path d=\"M0 0h24v24H0V0z\" fill=\"none\"/>\n",
              "    <path d=\"M18.56 5.44l.94 2.06.94-2.06 2.06-.94-2.06-.94-.94-2.06-.94 2.06-2.06.94zm-11 1L8.5 8.5l.94-2.06 2.06-.94-2.06-.94L8.5 2.5l-.94 2.06-2.06.94zm10 10l.94 2.06.94-2.06 2.06-.94-2.06-.94-.94-2.06-.94 2.06-2.06.94z\"/><path d=\"M17.41 7.96l-1.37-1.37c-.4-.4-.92-.59-1.43-.59-.52 0-1.04.2-1.43.59L10.3 9.45l-7.72 7.72c-.78.78-.78 2.05 0 2.83L4 21.41c.39.39.9.59 1.41.59.51 0 1.02-.2 1.41-.59l7.78-7.78 2.81-2.81c.8-.78.8-2.07 0-2.86zM5.41 20L4 18.59l7.72-7.72 1.47 1.35L5.41 20z\"/>\n",
              "  </svg>\n",
              "      </button>\n",
              "      \n",
              "  <style>\n",
              "    .colab-df-container {\n",
              "      display:flex;\n",
              "      flex-wrap:wrap;\n",
              "      gap: 12px;\n",
              "    }\n",
              "\n",
              "    .colab-df-convert {\n",
              "      background-color: #E8F0FE;\n",
              "      border: none;\n",
              "      border-radius: 50%;\n",
              "      cursor: pointer;\n",
              "      display: none;\n",
              "      fill: #1967D2;\n",
              "      height: 32px;\n",
              "      padding: 0 0 0 0;\n",
              "      width: 32px;\n",
              "    }\n",
              "\n",
              "    .colab-df-convert:hover {\n",
              "      background-color: #E2EBFA;\n",
              "      box-shadow: 0px 1px 2px rgba(60, 64, 67, 0.3), 0px 1px 3px 1px rgba(60, 64, 67, 0.15);\n",
              "      fill: #174EA6;\n",
              "    }\n",
              "\n",
              "    [theme=dark] .colab-df-convert {\n",
              "      background-color: #3B4455;\n",
              "      fill: #D2E3FC;\n",
              "    }\n",
              "\n",
              "    [theme=dark] .colab-df-convert:hover {\n",
              "      background-color: #434B5C;\n",
              "      box-shadow: 0px 1px 3px 1px rgba(0, 0, 0, 0.15);\n",
              "      filter: drop-shadow(0px 1px 2px rgba(0, 0, 0, 0.3));\n",
              "      fill: #FFFFFF;\n",
              "    }\n",
              "  </style>\n",
              "\n",
              "      <script>\n",
              "        const buttonEl =\n",
              "          document.querySelector('#df-375a1fdb-2dd1-4786-a381-a5cd966abca1 button.colab-df-convert');\n",
              "        buttonEl.style.display =\n",
              "          google.colab.kernel.accessAllowed ? 'block' : 'none';\n",
              "\n",
              "        async function convertToInteractive(key) {\n",
              "          const element = document.querySelector('#df-375a1fdb-2dd1-4786-a381-a5cd966abca1');\n",
              "          const dataTable =\n",
              "            await google.colab.kernel.invokeFunction('convertToInteractive',\n",
              "                                                     [key], {});\n",
              "          if (!dataTable) return;\n",
              "\n",
              "          const docLinkHtml = 'Like what you see? Visit the ' +\n",
              "            '<a target=\"_blank\" href=https://colab.research.google.com/notebooks/data_table.ipynb>data table notebook</a>'\n",
              "            + ' to learn more about interactive tables.';\n",
              "          element.innerHTML = '';\n",
              "          dataTable['output_type'] = 'display_data';\n",
              "          await google.colab.output.renderOutput(dataTable, element);\n",
              "          const docLink = document.createElement('div');\n",
              "          docLink.innerHTML = docLinkHtml;\n",
              "          element.appendChild(docLink);\n",
              "        }\n",
              "      </script>\n",
              "    </div>\n",
              "  </div>\n",
              "  "
            ]
          },
          "metadata": {},
          "execution_count": 12
        }
      ],
      "source": [
        "%%time\n",
        "kgtk(\"\"\"\n",
        "    reachable-nodes -i $item\n",
        "        --root Q2685\n",
        "        --props P40 P3373 P26 P451 P22 P25\n",
        "        --label Pextended_family\n",
        "    / add-labels\n",
        "\"\"\")"
      ]
    },
    {
      "cell_type": "markdown",
      "metadata": {
        "id": "Yf049Oa4haqS"
      },
      "source": [
        "The extended family of Arnold Schwarzenegger in the tutorial KG contains 71 people. \n",
        "We store the nodes as a new graph so that it can be used in other KGTK commands:"
      ]
    },
    {
      "cell_type": "code",
      "execution_count": 13,
      "metadata": {
        "id": "QgENYcu9haqT",
        "outputId": "55bf7866-592e-4020-9cd9-13aa40efc332",
        "colab": {
          "base_uri": "https://localhost:8080/"
        }
      },
      "outputs": [
        {
          "output_type": "stream",
          "name": "stdout",
          "text": [
            "CPU times: user 18.7 ms, sys: 13.3 ms, total: 32 ms\n",
            "Wall time: 2.07 s\n"
          ]
        }
      ],
      "source": [
        "%%time\n",
        "kgtk(\"\"\"\n",
        "    reachable-nodes -i $item\n",
        "        --root Q2685\n",
        "        --props P40 P3373 P26 P451 P22 P25\n",
        "        --label Pextended_family\n",
        "        --selflink True\n",
        "    -o $TEMP/arnold_family_members.tsv\n",
        "\"\"\")"
      ]
    },
    {
      "cell_type": "markdown",
      "metadata": {
        "id": "wZRNS7g4haqT"
      },
      "source": [
        "In step 2 we extract the edges that connect nodes in the set of reachable nodes. The `where` clause excludes the `relative (P1038)` property:"
      ]
    },
    {
      "cell_type": "code",
      "execution_count": 14,
      "metadata": {
        "id": "2WWIl7p3haqT",
        "outputId": "70cd5e41-e5a4-4273-f4cf-0f3d67714d4e",
        "colab": {
          "base_uri": "https://localhost:8080/",
          "height": 424
        }
      },
      "outputs": [
        {
          "output_type": "execute_result",
          "data": {
            "text/plain": [
              "        node1  label      node2               node1;label  \\\n",
              "0    Q1086823    P22    Q345517  'Christopher Lawford'@en   \n",
              "1    Q1086823    P25    Q432694  'Christopher Lawford'@en   \n",
              "2    Q1086823    P26  Q75326809  'Christopher Lawford'@en   \n",
              "3    Q1086823  P3373  Q75326777  'Christopher Lawford'@en   \n",
              "4    Q1086823  P3373  Q75326779  'Christopher Lawford'@en   \n",
              "..        ...    ...        ...                       ...   \n",
              "489     Q9696    P40    Q230303      'John F. Kennedy'@en   \n",
              "490     Q9696    P40    Q316064      'John F. Kennedy'@en   \n",
              "491     Q9696    P40   Q3290402      'John F. Kennedy'@en   \n",
              "492     Q9696    P40  Q75326753      'John F. Kennedy'@en   \n",
              "493     Q9696   P451      Q4616      'John F. Kennedy'@en   \n",
              "\n",
              "                label;label                    node2;label  \n",
              "0               'father'@en             'Peter Lawford'@en  \n",
              "1               'mother'@en  'Patricia Kennedy Lawford'@en  \n",
              "2               'spouse'@en         'Jean Edith Olssen'@en  \n",
              "3              'sibling'@en          'Victoria Lawford'@en  \n",
              "4              'sibling'@en            'Sydney Lawford'@en  \n",
              "..                      ...                            ...  \n",
              "489              'child'@en          'Caroline Kennedy'@en  \n",
              "490              'child'@en       'John F. Kennedy Jr.'@en  \n",
              "491              'child'@en   'Patrick Bouvier Kennedy'@en  \n",
              "492              'child'@en          'Arabelle Kennedy'@en  \n",
              "493  'unmarried partner'@en            'Marilyn Monroe'@en  \n",
              "\n",
              "[494 rows x 6 columns]"
            ],
            "text/html": [
              "\n",
              "  <div id=\"df-c625080e-2631-46bd-809b-42618a0542f7\">\n",
              "    <div class=\"colab-df-container\">\n",
              "      <div>\n",
              "<style scoped>\n",
              "    .dataframe tbody tr th:only-of-type {\n",
              "        vertical-align: middle;\n",
              "    }\n",
              "\n",
              "    .dataframe tbody tr th {\n",
              "        vertical-align: top;\n",
              "    }\n",
              "\n",
              "    .dataframe thead th {\n",
              "        text-align: right;\n",
              "    }\n",
              "</style>\n",
              "<table border=\"1\" class=\"dataframe\">\n",
              "  <thead>\n",
              "    <tr style=\"text-align: right;\">\n",
              "      <th></th>\n",
              "      <th>node1</th>\n",
              "      <th>label</th>\n",
              "      <th>node2</th>\n",
              "      <th>node1;label</th>\n",
              "      <th>label;label</th>\n",
              "      <th>node2;label</th>\n",
              "    </tr>\n",
              "  </thead>\n",
              "  <tbody>\n",
              "    <tr>\n",
              "      <th>0</th>\n",
              "      <td>Q1086823</td>\n",
              "      <td>P22</td>\n",
              "      <td>Q345517</td>\n",
              "      <td>'Christopher Lawford'@en</td>\n",
              "      <td>'father'@en</td>\n",
              "      <td>'Peter Lawford'@en</td>\n",
              "    </tr>\n",
              "    <tr>\n",
              "      <th>1</th>\n",
              "      <td>Q1086823</td>\n",
              "      <td>P25</td>\n",
              "      <td>Q432694</td>\n",
              "      <td>'Christopher Lawford'@en</td>\n",
              "      <td>'mother'@en</td>\n",
              "      <td>'Patricia Kennedy Lawford'@en</td>\n",
              "    </tr>\n",
              "    <tr>\n",
              "      <th>2</th>\n",
              "      <td>Q1086823</td>\n",
              "      <td>P26</td>\n",
              "      <td>Q75326809</td>\n",
              "      <td>'Christopher Lawford'@en</td>\n",
              "      <td>'spouse'@en</td>\n",
              "      <td>'Jean Edith Olssen'@en</td>\n",
              "    </tr>\n",
              "    <tr>\n",
              "      <th>3</th>\n",
              "      <td>Q1086823</td>\n",
              "      <td>P3373</td>\n",
              "      <td>Q75326777</td>\n",
              "      <td>'Christopher Lawford'@en</td>\n",
              "      <td>'sibling'@en</td>\n",
              "      <td>'Victoria Lawford'@en</td>\n",
              "    </tr>\n",
              "    <tr>\n",
              "      <th>4</th>\n",
              "      <td>Q1086823</td>\n",
              "      <td>P3373</td>\n",
              "      <td>Q75326779</td>\n",
              "      <td>'Christopher Lawford'@en</td>\n",
              "      <td>'sibling'@en</td>\n",
              "      <td>'Sydney Lawford'@en</td>\n",
              "    </tr>\n",
              "    <tr>\n",
              "      <th>...</th>\n",
              "      <td>...</td>\n",
              "      <td>...</td>\n",
              "      <td>...</td>\n",
              "      <td>...</td>\n",
              "      <td>...</td>\n",
              "      <td>...</td>\n",
              "    </tr>\n",
              "    <tr>\n",
              "      <th>489</th>\n",
              "      <td>Q9696</td>\n",
              "      <td>P40</td>\n",
              "      <td>Q230303</td>\n",
              "      <td>'John F. Kennedy'@en</td>\n",
              "      <td>'child'@en</td>\n",
              "      <td>'Caroline Kennedy'@en</td>\n",
              "    </tr>\n",
              "    <tr>\n",
              "      <th>490</th>\n",
              "      <td>Q9696</td>\n",
              "      <td>P40</td>\n",
              "      <td>Q316064</td>\n",
              "      <td>'John F. Kennedy'@en</td>\n",
              "      <td>'child'@en</td>\n",
              "      <td>'John F. Kennedy Jr.'@en</td>\n",
              "    </tr>\n",
              "    <tr>\n",
              "      <th>491</th>\n",
              "      <td>Q9696</td>\n",
              "      <td>P40</td>\n",
              "      <td>Q3290402</td>\n",
              "      <td>'John F. Kennedy'@en</td>\n",
              "      <td>'child'@en</td>\n",
              "      <td>'Patrick Bouvier Kennedy'@en</td>\n",
              "    </tr>\n",
              "    <tr>\n",
              "      <th>492</th>\n",
              "      <td>Q9696</td>\n",
              "      <td>P40</td>\n",
              "      <td>Q75326753</td>\n",
              "      <td>'John F. Kennedy'@en</td>\n",
              "      <td>'child'@en</td>\n",
              "      <td>'Arabelle Kennedy'@en</td>\n",
              "    </tr>\n",
              "    <tr>\n",
              "      <th>493</th>\n",
              "      <td>Q9696</td>\n",
              "      <td>P451</td>\n",
              "      <td>Q4616</td>\n",
              "      <td>'John F. Kennedy'@en</td>\n",
              "      <td>'unmarried partner'@en</td>\n",
              "      <td>'Marilyn Monroe'@en</td>\n",
              "    </tr>\n",
              "  </tbody>\n",
              "</table>\n",
              "<p>494 rows × 6 columns</p>\n",
              "</div>\n",
              "      <button class=\"colab-df-convert\" onclick=\"convertToInteractive('df-c625080e-2631-46bd-809b-42618a0542f7')\"\n",
              "              title=\"Convert this dataframe to an interactive table.\"\n",
              "              style=\"display:none;\">\n",
              "        \n",
              "  <svg xmlns=\"http://www.w3.org/2000/svg\" height=\"24px\"viewBox=\"0 0 24 24\"\n",
              "       width=\"24px\">\n",
              "    <path d=\"M0 0h24v24H0V0z\" fill=\"none\"/>\n",
              "    <path d=\"M18.56 5.44l.94 2.06.94-2.06 2.06-.94-2.06-.94-.94-2.06-.94 2.06-2.06.94zm-11 1L8.5 8.5l.94-2.06 2.06-.94-2.06-.94L8.5 2.5l-.94 2.06-2.06.94zm10 10l.94 2.06.94-2.06 2.06-.94-2.06-.94-.94-2.06-.94 2.06-2.06.94z\"/><path d=\"M17.41 7.96l-1.37-1.37c-.4-.4-.92-.59-1.43-.59-.52 0-1.04.2-1.43.59L10.3 9.45l-7.72 7.72c-.78.78-.78 2.05 0 2.83L4 21.41c.39.39.9.59 1.41.59.51 0 1.02-.2 1.41-.59l7.78-7.78 2.81-2.81c.8-.78.8-2.07 0-2.86zM5.41 20L4 18.59l7.72-7.72 1.47 1.35L5.41 20z\"/>\n",
              "  </svg>\n",
              "      </button>\n",
              "      \n",
              "  <style>\n",
              "    .colab-df-container {\n",
              "      display:flex;\n",
              "      flex-wrap:wrap;\n",
              "      gap: 12px;\n",
              "    }\n",
              "\n",
              "    .colab-df-convert {\n",
              "      background-color: #E8F0FE;\n",
              "      border: none;\n",
              "      border-radius: 50%;\n",
              "      cursor: pointer;\n",
              "      display: none;\n",
              "      fill: #1967D2;\n",
              "      height: 32px;\n",
              "      padding: 0 0 0 0;\n",
              "      width: 32px;\n",
              "    }\n",
              "\n",
              "    .colab-df-convert:hover {\n",
              "      background-color: #E2EBFA;\n",
              "      box-shadow: 0px 1px 2px rgba(60, 64, 67, 0.3), 0px 1px 3px 1px rgba(60, 64, 67, 0.15);\n",
              "      fill: #174EA6;\n",
              "    }\n",
              "\n",
              "    [theme=dark] .colab-df-convert {\n",
              "      background-color: #3B4455;\n",
              "      fill: #D2E3FC;\n",
              "    }\n",
              "\n",
              "    [theme=dark] .colab-df-convert:hover {\n",
              "      background-color: #434B5C;\n",
              "      box-shadow: 0px 1px 3px 1px rgba(0, 0, 0, 0.15);\n",
              "      filter: drop-shadow(0px 1px 2px rgba(0, 0, 0, 0.3));\n",
              "      fill: #FFFFFF;\n",
              "    }\n",
              "  </style>\n",
              "\n",
              "      <script>\n",
              "        const buttonEl =\n",
              "          document.querySelector('#df-c625080e-2631-46bd-809b-42618a0542f7 button.colab-df-convert');\n",
              "        buttonEl.style.display =\n",
              "          google.colab.kernel.accessAllowed ? 'block' : 'none';\n",
              "\n",
              "        async function convertToInteractive(key) {\n",
              "          const element = document.querySelector('#df-c625080e-2631-46bd-809b-42618a0542f7');\n",
              "          const dataTable =\n",
              "            await google.colab.kernel.invokeFunction('convertToInteractive',\n",
              "                                                     [key], {});\n",
              "          if (!dataTable) return;\n",
              "\n",
              "          const docLinkHtml = 'Like what you see? Visit the ' +\n",
              "            '<a target=\"_blank\" href=https://colab.research.google.com/notebooks/data_table.ipynb>data table notebook</a>'\n",
              "            + ' to learn more about interactive tables.';\n",
              "          element.innerHTML = '';\n",
              "          dataTable['output_type'] = 'display_data';\n",
              "          await google.colab.output.renderOutput(dataTable, element);\n",
              "          const docLink = document.createElement('div');\n",
              "          docLink.innerHTML = docLinkHtml;\n",
              "          element.appendChild(docLink);\n",
              "        }\n",
              "      </script>\n",
              "    </div>\n",
              "  </div>\n",
              "  "
            ]
          },
          "metadata": {},
          "execution_count": 14
        }
      ],
      "source": [
        "kgtk(\"\"\"\n",
        "    query -i item -i $TEMP/arnold_family_members.tsv\n",
        "        --match '\n",
        "            item: (n1)-[l {label: property}]->(n2),\n",
        "            arnold: ()-[]->(n1),\n",
        "            arnold: ()-[]->(n2)'\n",
        "        --where 'property != \"P1038\"'\n",
        "        --return 'distinct n1 as node1, property as label, n2 as node2'\n",
        "    / add-labels\n",
        "\"\"\")"
      ]
    },
    {
      "cell_type": "markdown",
      "metadata": {
        "id": "4KGXpmROhaqU"
      },
      "source": [
        "Save the Arnold family in graph `arnold_family`:"
      ]
    },
    {
      "cell_type": "code",
      "execution_count": 15,
      "metadata": {
        "id": "XwvdH36ShaqU",
        "outputId": "c5681882-946a-4884-9375-2c8b2d7250a5",
        "colab": {
          "base_uri": "https://localhost:8080/",
          "height": 399
        }
      },
      "outputs": [
        {
          "output_type": "stream",
          "name": "stdout",
          "text": [
            "CPU times: user 42.2 ms, sys: 12.5 ms, total: 54.7 ms\n",
            "Wall time: 3.77 s\n"
          ]
        },
        {
          "output_type": "execute_result",
          "data": {
            "text/plain": [
              "      node1  label      node2                        id\n",
              "0  Q1086823    P22    Q345517      Q1086823-P22-Q345517\n",
              "1  Q1086823    P25    Q432694      Q1086823-P25-Q432694\n",
              "2  Q1086823    P26  Q75326809    Q1086823-P26-Q75326809\n",
              "3  Q1086823  P3373  Q75326777  Q1086823-P3373-Q75326777\n",
              "4  Q1086823  P3373  Q75326779  Q1086823-P3373-Q75326779\n",
              "5  Q1086823  P3373  Q75326780  Q1086823-P3373-Q75326780\n",
              "6  Q1086823  P3448  Q96079835  Q1086823-P3448-Q96079835\n",
              "7  Q1086823  P3448  Q96079836  Q1086823-P3448-Q96079836\n",
              "8  Q1086823  P3448  Q96079838  Q1086823-P3448-Q96079838\n",
              "9  Q1086823    P40  Q76363382    Q1086823-P40-Q76363382"
            ],
            "text/html": [
              "\n",
              "  <div id=\"df-94a4d59e-8206-4375-8651-00f18f620f81\">\n",
              "    <div class=\"colab-df-container\">\n",
              "      <div>\n",
              "<style scoped>\n",
              "    .dataframe tbody tr th:only-of-type {\n",
              "        vertical-align: middle;\n",
              "    }\n",
              "\n",
              "    .dataframe tbody tr th {\n",
              "        vertical-align: top;\n",
              "    }\n",
              "\n",
              "    .dataframe thead th {\n",
              "        text-align: right;\n",
              "    }\n",
              "</style>\n",
              "<table border=\"1\" class=\"dataframe\">\n",
              "  <thead>\n",
              "    <tr style=\"text-align: right;\">\n",
              "      <th></th>\n",
              "      <th>node1</th>\n",
              "      <th>label</th>\n",
              "      <th>node2</th>\n",
              "      <th>id</th>\n",
              "    </tr>\n",
              "  </thead>\n",
              "  <tbody>\n",
              "    <tr>\n",
              "      <th>0</th>\n",
              "      <td>Q1086823</td>\n",
              "      <td>P22</td>\n",
              "      <td>Q345517</td>\n",
              "      <td>Q1086823-P22-Q345517</td>\n",
              "    </tr>\n",
              "    <tr>\n",
              "      <th>1</th>\n",
              "      <td>Q1086823</td>\n",
              "      <td>P25</td>\n",
              "      <td>Q432694</td>\n",
              "      <td>Q1086823-P25-Q432694</td>\n",
              "    </tr>\n",
              "    <tr>\n",
              "      <th>2</th>\n",
              "      <td>Q1086823</td>\n",
              "      <td>P26</td>\n",
              "      <td>Q75326809</td>\n",
              "      <td>Q1086823-P26-Q75326809</td>\n",
              "    </tr>\n",
              "    <tr>\n",
              "      <th>3</th>\n",
              "      <td>Q1086823</td>\n",
              "      <td>P3373</td>\n",
              "      <td>Q75326777</td>\n",
              "      <td>Q1086823-P3373-Q75326777</td>\n",
              "    </tr>\n",
              "    <tr>\n",
              "      <th>4</th>\n",
              "      <td>Q1086823</td>\n",
              "      <td>P3373</td>\n",
              "      <td>Q75326779</td>\n",
              "      <td>Q1086823-P3373-Q75326779</td>\n",
              "    </tr>\n",
              "    <tr>\n",
              "      <th>5</th>\n",
              "      <td>Q1086823</td>\n",
              "      <td>P3373</td>\n",
              "      <td>Q75326780</td>\n",
              "      <td>Q1086823-P3373-Q75326780</td>\n",
              "    </tr>\n",
              "    <tr>\n",
              "      <th>6</th>\n",
              "      <td>Q1086823</td>\n",
              "      <td>P3448</td>\n",
              "      <td>Q96079835</td>\n",
              "      <td>Q1086823-P3448-Q96079835</td>\n",
              "    </tr>\n",
              "    <tr>\n",
              "      <th>7</th>\n",
              "      <td>Q1086823</td>\n",
              "      <td>P3448</td>\n",
              "      <td>Q96079836</td>\n",
              "      <td>Q1086823-P3448-Q96079836</td>\n",
              "    </tr>\n",
              "    <tr>\n",
              "      <th>8</th>\n",
              "      <td>Q1086823</td>\n",
              "      <td>P3448</td>\n",
              "      <td>Q96079838</td>\n",
              "      <td>Q1086823-P3448-Q96079838</td>\n",
              "    </tr>\n",
              "    <tr>\n",
              "      <th>9</th>\n",
              "      <td>Q1086823</td>\n",
              "      <td>P40</td>\n",
              "      <td>Q76363382</td>\n",
              "      <td>Q1086823-P40-Q76363382</td>\n",
              "    </tr>\n",
              "  </tbody>\n",
              "</table>\n",
              "</div>\n",
              "      <button class=\"colab-df-convert\" onclick=\"convertToInteractive('df-94a4d59e-8206-4375-8651-00f18f620f81')\"\n",
              "              title=\"Convert this dataframe to an interactive table.\"\n",
              "              style=\"display:none;\">\n",
              "        \n",
              "  <svg xmlns=\"http://www.w3.org/2000/svg\" height=\"24px\"viewBox=\"0 0 24 24\"\n",
              "       width=\"24px\">\n",
              "    <path d=\"M0 0h24v24H0V0z\" fill=\"none\"/>\n",
              "    <path d=\"M18.56 5.44l.94 2.06.94-2.06 2.06-.94-2.06-.94-.94-2.06-.94 2.06-2.06.94zm-11 1L8.5 8.5l.94-2.06 2.06-.94-2.06-.94L8.5 2.5l-.94 2.06-2.06.94zm10 10l.94 2.06.94-2.06 2.06-.94-2.06-.94-.94-2.06-.94 2.06-2.06.94z\"/><path d=\"M17.41 7.96l-1.37-1.37c-.4-.4-.92-.59-1.43-.59-.52 0-1.04.2-1.43.59L10.3 9.45l-7.72 7.72c-.78.78-.78 2.05 0 2.83L4 21.41c.39.39.9.59 1.41.59.51 0 1.02-.2 1.41-.59l7.78-7.78 2.81-2.81c.8-.78.8-2.07 0-2.86zM5.41 20L4 18.59l7.72-7.72 1.47 1.35L5.41 20z\"/>\n",
              "  </svg>\n",
              "      </button>\n",
              "      \n",
              "  <style>\n",
              "    .colab-df-container {\n",
              "      display:flex;\n",
              "      flex-wrap:wrap;\n",
              "      gap: 12px;\n",
              "    }\n",
              "\n",
              "    .colab-df-convert {\n",
              "      background-color: #E8F0FE;\n",
              "      border: none;\n",
              "      border-radius: 50%;\n",
              "      cursor: pointer;\n",
              "      display: none;\n",
              "      fill: #1967D2;\n",
              "      height: 32px;\n",
              "      padding: 0 0 0 0;\n",
              "      width: 32px;\n",
              "    }\n",
              "\n",
              "    .colab-df-convert:hover {\n",
              "      background-color: #E2EBFA;\n",
              "      box-shadow: 0px 1px 2px rgba(60, 64, 67, 0.3), 0px 1px 3px 1px rgba(60, 64, 67, 0.15);\n",
              "      fill: #174EA6;\n",
              "    }\n",
              "\n",
              "    [theme=dark] .colab-df-convert {\n",
              "      background-color: #3B4455;\n",
              "      fill: #D2E3FC;\n",
              "    }\n",
              "\n",
              "    [theme=dark] .colab-df-convert:hover {\n",
              "      background-color: #434B5C;\n",
              "      box-shadow: 0px 1px 3px 1px rgba(0, 0, 0, 0.15);\n",
              "      filter: drop-shadow(0px 1px 2px rgba(0, 0, 0, 0.3));\n",
              "      fill: #FFFFFF;\n",
              "    }\n",
              "  </style>\n",
              "\n",
              "      <script>\n",
              "        const buttonEl =\n",
              "          document.querySelector('#df-94a4d59e-8206-4375-8651-00f18f620f81 button.colab-df-convert');\n",
              "        buttonEl.style.display =\n",
              "          google.colab.kernel.accessAllowed ? 'block' : 'none';\n",
              "\n",
              "        async function convertToInteractive(key) {\n",
              "          const element = document.querySelector('#df-94a4d59e-8206-4375-8651-00f18f620f81');\n",
              "          const dataTable =\n",
              "            await google.colab.kernel.invokeFunction('convertToInteractive',\n",
              "                                                     [key], {});\n",
              "          if (!dataTable) return;\n",
              "\n",
              "          const docLinkHtml = 'Like what you see? Visit the ' +\n",
              "            '<a target=\"_blank\" href=https://colab.research.google.com/notebooks/data_table.ipynb>data table notebook</a>'\n",
              "            + ' to learn more about interactive tables.';\n",
              "          element.innerHTML = '';\n",
              "          dataTable['output_type'] = 'display_data';\n",
              "          await google.colab.output.renderOutput(dataTable, element);\n",
              "          const docLink = document.createElement('div');\n",
              "          docLink.innerHTML = docLinkHtml;\n",
              "          element.appendChild(docLink);\n",
              "        }\n",
              "      </script>\n",
              "    </div>\n",
              "  </div>\n",
              "  "
            ]
          },
          "metadata": {},
          "execution_count": 15
        }
      ],
      "source": [
        "%%time\n",
        "kgtk(\"\"\"\n",
        "    query -i item -i $TEMP/arnold_family_members.tsv\n",
        "        --match '\n",
        "            item: (n1)-[l {label: property}]->(n2),\n",
        "            arnold: ()-[]->(n1),\n",
        "            arnold: ()-[]->(n2)'\n",
        "        --where 'property != \"P1038\"'\n",
        "        --return 'distinct n1 as node1, property as label, n2 as node2'\n",
        "    / add-id --id-style wikidata\n",
        "    -o $OUT/arnold.family.tsv\n",
        "\"\"\")\n",
        "\n",
        "kgtk(\"query -i $OUT/arnold.family.tsv --as arnold_family --limit 10\")"
      ]
    },
    {
      "cell_type": "markdown",
      "metadata": {
        "id": "HV6bPXWwhaqU"
      },
      "source": [
        "### Summary of this section:\n",
        "In this section:\n",
        "- We illustrated how to extract a network from a KG focusing on specific relations.\n",
        "- We built a KG with the family memebers of Arnold."
      ]
    },
    {
      "cell_type": "markdown",
      "metadata": {
        "id": "E95XdUsEhaqU"
      },
      "source": [
        "## Do analytics on the Arnold family graph\n",
        "\n",
        "In this part of the tutorial we show how to use KGTK to find paths between nodes. We will use the family network we built in the previous step. We specify the source and destination nodes for the paths also as a graph, which in general can be the output of other KGTK commands. Here we built a custom file to provide a few source and destination nodes: \n",
        "> We need a nicer way to provide a portable way to define the `path-query` file so that folks can edit it."
      ]
    },
    {
      "cell_type": "code",
      "execution_count": 16,
      "metadata": {
        "id": "GW0L9z23haqU"
      },
      "outputs": [],
      "source": [
        "%%bash\n",
        "cat <<EOF >$TEMP/path-query.tsv\n",
        "node1\tnode2\tlabel\n",
        "Q2685\tQ4616\tpath\n",
        "Q9696\tQ230303\tpath\n",
        "Q75326777\tQ4616\tpath\n",
        "Q5112377\tQ38196234\tpath\n",
        "EOF"
      ]
    },
    {
      "cell_type": "markdown",
      "metadata": {
        "id": "ZQbHUJz5haqV"
      },
      "source": [
        "Add labels to the path file to confirm that our input is what we want:"
      ]
    },
    {
      "cell_type": "code",
      "execution_count": 17,
      "metadata": {
        "id": "twFLCrLrhaqV",
        "outputId": "016acc0a-28c8-43d3-8400-eb2621b05d9d",
        "colab": {
          "base_uri": "https://localhost:8080/",
          "height": 175
        }
      },
      "outputs": [
        {
          "output_type": "execute_result",
          "data": {
            "text/plain": [
              "       node1      node2 label                  node1;label  \\\n",
              "0      Q2685      Q4616  path   'Arnold Schwarzenegger'@en   \n",
              "1      Q9696    Q230303  path         'John F. Kennedy'@en   \n",
              "2  Q75326777      Q4616  path        'Victoria Lawford'@en   \n",
              "3   Q5112377  Q38196234  path  'Christopher G. Kennedy'@en   \n",
              "\n",
              "                    node2;label  \n",
              "0           'Marilyn Monroe'@en  \n",
              "1         'Caroline Kennedy'@en  \n",
              "2           'Marilyn Monroe'@en  \n",
              "3  'Meinhard Schwarzenegger'@en  "
            ],
            "text/html": [
              "\n",
              "  <div id=\"df-641117f7-9b4a-4ed4-8100-4be0818fb81b\">\n",
              "    <div class=\"colab-df-container\">\n",
              "      <div>\n",
              "<style scoped>\n",
              "    .dataframe tbody tr th:only-of-type {\n",
              "        vertical-align: middle;\n",
              "    }\n",
              "\n",
              "    .dataframe tbody tr th {\n",
              "        vertical-align: top;\n",
              "    }\n",
              "\n",
              "    .dataframe thead th {\n",
              "        text-align: right;\n",
              "    }\n",
              "</style>\n",
              "<table border=\"1\" class=\"dataframe\">\n",
              "  <thead>\n",
              "    <tr style=\"text-align: right;\">\n",
              "      <th></th>\n",
              "      <th>node1</th>\n",
              "      <th>node2</th>\n",
              "      <th>label</th>\n",
              "      <th>node1;label</th>\n",
              "      <th>node2;label</th>\n",
              "    </tr>\n",
              "  </thead>\n",
              "  <tbody>\n",
              "    <tr>\n",
              "      <th>0</th>\n",
              "      <td>Q2685</td>\n",
              "      <td>Q4616</td>\n",
              "      <td>path</td>\n",
              "      <td>'Arnold Schwarzenegger'@en</td>\n",
              "      <td>'Marilyn Monroe'@en</td>\n",
              "    </tr>\n",
              "    <tr>\n",
              "      <th>1</th>\n",
              "      <td>Q9696</td>\n",
              "      <td>Q230303</td>\n",
              "      <td>path</td>\n",
              "      <td>'John F. Kennedy'@en</td>\n",
              "      <td>'Caroline Kennedy'@en</td>\n",
              "    </tr>\n",
              "    <tr>\n",
              "      <th>2</th>\n",
              "      <td>Q75326777</td>\n",
              "      <td>Q4616</td>\n",
              "      <td>path</td>\n",
              "      <td>'Victoria Lawford'@en</td>\n",
              "      <td>'Marilyn Monroe'@en</td>\n",
              "    </tr>\n",
              "    <tr>\n",
              "      <th>3</th>\n",
              "      <td>Q5112377</td>\n",
              "      <td>Q38196234</td>\n",
              "      <td>path</td>\n",
              "      <td>'Christopher G. Kennedy'@en</td>\n",
              "      <td>'Meinhard Schwarzenegger'@en</td>\n",
              "    </tr>\n",
              "  </tbody>\n",
              "</table>\n",
              "</div>\n",
              "      <button class=\"colab-df-convert\" onclick=\"convertToInteractive('df-641117f7-9b4a-4ed4-8100-4be0818fb81b')\"\n",
              "              title=\"Convert this dataframe to an interactive table.\"\n",
              "              style=\"display:none;\">\n",
              "        \n",
              "  <svg xmlns=\"http://www.w3.org/2000/svg\" height=\"24px\"viewBox=\"0 0 24 24\"\n",
              "       width=\"24px\">\n",
              "    <path d=\"M0 0h24v24H0V0z\" fill=\"none\"/>\n",
              "    <path d=\"M18.56 5.44l.94 2.06.94-2.06 2.06-.94-2.06-.94-.94-2.06-.94 2.06-2.06.94zm-11 1L8.5 8.5l.94-2.06 2.06-.94-2.06-.94L8.5 2.5l-.94 2.06-2.06.94zm10 10l.94 2.06.94-2.06 2.06-.94-2.06-.94-.94-2.06-.94 2.06-2.06.94z\"/><path d=\"M17.41 7.96l-1.37-1.37c-.4-.4-.92-.59-1.43-.59-.52 0-1.04.2-1.43.59L10.3 9.45l-7.72 7.72c-.78.78-.78 2.05 0 2.83L4 21.41c.39.39.9.59 1.41.59.51 0 1.02-.2 1.41-.59l7.78-7.78 2.81-2.81c.8-.78.8-2.07 0-2.86zM5.41 20L4 18.59l7.72-7.72 1.47 1.35L5.41 20z\"/>\n",
              "  </svg>\n",
              "      </button>\n",
              "      \n",
              "  <style>\n",
              "    .colab-df-container {\n",
              "      display:flex;\n",
              "      flex-wrap:wrap;\n",
              "      gap: 12px;\n",
              "    }\n",
              "\n",
              "    .colab-df-convert {\n",
              "      background-color: #E8F0FE;\n",
              "      border: none;\n",
              "      border-radius: 50%;\n",
              "      cursor: pointer;\n",
              "      display: none;\n",
              "      fill: #1967D2;\n",
              "      height: 32px;\n",
              "      padding: 0 0 0 0;\n",
              "      width: 32px;\n",
              "    }\n",
              "\n",
              "    .colab-df-convert:hover {\n",
              "      background-color: #E2EBFA;\n",
              "      box-shadow: 0px 1px 2px rgba(60, 64, 67, 0.3), 0px 1px 3px 1px rgba(60, 64, 67, 0.15);\n",
              "      fill: #174EA6;\n",
              "    }\n",
              "\n",
              "    [theme=dark] .colab-df-convert {\n",
              "      background-color: #3B4455;\n",
              "      fill: #D2E3FC;\n",
              "    }\n",
              "\n",
              "    [theme=dark] .colab-df-convert:hover {\n",
              "      background-color: #434B5C;\n",
              "      box-shadow: 0px 1px 3px 1px rgba(0, 0, 0, 0.15);\n",
              "      filter: drop-shadow(0px 1px 2px rgba(0, 0, 0, 0.3));\n",
              "      fill: #FFFFFF;\n",
              "    }\n",
              "  </style>\n",
              "\n",
              "      <script>\n",
              "        const buttonEl =\n",
              "          document.querySelector('#df-641117f7-9b4a-4ed4-8100-4be0818fb81b button.colab-df-convert');\n",
              "        buttonEl.style.display =\n",
              "          google.colab.kernel.accessAllowed ? 'block' : 'none';\n",
              "\n",
              "        async function convertToInteractive(key) {\n",
              "          const element = document.querySelector('#df-641117f7-9b4a-4ed4-8100-4be0818fb81b');\n",
              "          const dataTable =\n",
              "            await google.colab.kernel.invokeFunction('convertToInteractive',\n",
              "                                                     [key], {});\n",
              "          if (!dataTable) return;\n",
              "\n",
              "          const docLinkHtml = 'Like what you see? Visit the ' +\n",
              "            '<a target=\"_blank\" href=https://colab.research.google.com/notebooks/data_table.ipynb>data table notebook</a>'\n",
              "            + ' to learn more about interactive tables.';\n",
              "          element.innerHTML = '';\n",
              "          dataTable['output_type'] = 'display_data';\n",
              "          await google.colab.output.renderOutput(dataTable, element);\n",
              "          const docLink = document.createElement('div');\n",
              "          docLink.innerHTML = docLinkHtml;\n",
              "          element.appendChild(docLink);\n",
              "        }\n",
              "      </script>\n",
              "    </div>\n",
              "  </div>\n",
              "  "
            ]
          },
          "metadata": {},
          "execution_count": 17
        }
      ],
      "source": [
        "kgtk(\"\"\"\n",
        "    add-labels -i $TEMP/path-query.tsv\n",
        "\"\"\")"
      ]
    },
    {
      "cell_type": "markdown",
      "metadata": {
        "id": "4k2Tq4KYhaqV"
      },
      "source": [
        "We invoke the `paths` command to find the shortest paths between `node1` and `node2`:"
      ]
    },
    {
      "cell_type": "code",
      "execution_count": 18,
      "metadata": {
        "id": "RIiD2roEhaqV",
        "colab": {
          "base_uri": "https://localhost:8080/"
        },
        "outputId": "afb99e01-796c-4baf-96cc-0b30f9b69e79"
      },
      "outputs": [
        {
          "output_type": "stream",
          "name": "stdout",
          "text": [
            "/usr/lib/python3/dist-packages/graph_tool/draw/cairo_draw.py:32: RuntimeWarning: Error importing cairo. Graph drawing will not work.\n",
            "  warnings.warn(msg, RuntimeWarning)\n",
            "/usr/lib/python3/dist-packages/graph_tool/draw/cairo_draw.py:32: RuntimeWarning: Error importing cairo. Graph drawing will not work.\n",
            "  warnings.warn(msg, RuntimeWarning)\n",
            "/usr/lib/python3/dist-packages/graph_tool/draw/cairo_draw.py:32: RuntimeWarning: Error importing cairo. Graph drawing will not work.\n",
            "  warnings.warn(msg, RuntimeWarning)\n",
            "/usr/lib/python3/dist-packages/graph_tool/all.py:39: RuntimeWarning: Error importing draw module, proceeding nevertheless: No module named 'cairo._cairo'\n",
            "  warnings.warn(msg, RuntimeWarning)\n",
            "\n"
          ]
        }
      ],
      "source": [
        "kgtk(\"\"\"\n",
        "    paths -i $OUT/arnold.family.tsv\n",
        "        --verbose False\n",
        "        --shortest-path True\n",
        "        --statistics-only True\n",
        "        --path-file $TEMP/path-query.tsv\n",
        "    -o $TEMP/path-results.tsv\n",
        "\"\"\")"
      ]
    },
    {
      "cell_type": "code",
      "execution_count": 19,
      "metadata": {
        "id": "WtDsugIAhaqW",
        "outputId": "3e2ab23f-40cf-41f3-a024-26217ebd4f9a",
        "colab": {
          "base_uri": "https://localhost:8080/"
        }
      },
      "outputs": [
        {
          "output_type": "stream",
          "name": "stdout",
          "text": [
            "node1\tlabel\tnode2\tid\n",
            "p0\t0\tQ2685-P26-Q230654\tp0-0-0\n",
            "p0\t1\tQ230654-P25-Q272908\tp0-1-1\n",
            "p0\t2\tQ272908-P3373-Q9696\tp0-2-2\n",
            "p0\t3\tQ9696-P451-Q4616\tp0-3-3\n",
            "p1\t0\tQ9696-P40-Q230303\tp1-0-4\n",
            "p2\t0\tQ75326777-P25-Q432694\tp2-0-5\n",
            "p2\t1\tQ432694-P3373-Q9696\tp2-1-6\n",
            "p2\t2\tQ9696-P451-Q4616\tp2-2-7\n",
            "p3\t0\tQ5112377-P22-Q25310\tp3-0-8\n"
          ]
        }
      ],
      "source": [
        "!head $TEMP/path-results.tsv"
      ]
    },
    {
      "cell_type": "markdown",
      "metadata": {
        "id": "2BeOtYj6haqW"
      },
      "source": [
        "In the output from the `paths` command, `node1` contains an identifier for a path, `node2` contains the edge identifier in the input graph, and `label` contains an integer to order the edges in the path.\n",
        "\n",
        "The next command uses a query to retrieve the `node1, label, node2` for each of the edges in the paths. We pipe the results through `add-labels` to help us interpret the results."
      ]
    },
    {
      "cell_type": "code",
      "execution_count": 20,
      "metadata": {
        "id": "wPEk9dzDhaqW",
        "outputId": "173900b1-4118-4390-b1e7-05ef1d96416e",
        "colab": {
          "base_uri": "https://localhost:8080/",
          "height": 457
        }
      },
      "outputs": [
        {
          "output_type": "execute_result",
          "data": {
            "text/plain": [
              "        node1  label      node2 path  segment                    node1;label  \\\n",
              "0       Q2685    P26    Q230654   p0   p0-0-0     'Arnold Schwarzenegger'@en   \n",
              "1     Q230654    P25    Q272908   p0   p0-1-1             'Maria Shriver'@en   \n",
              "2     Q272908  P3373      Q9696   p0   p0-2-2    'Eunice Kennedy Shriver'@en   \n",
              "3       Q9696   P451      Q4616   p0   p0-3-3           'John F. Kennedy'@en   \n",
              "4       Q9696    P40    Q230303   p1   p1-0-4           'John F. Kennedy'@en   \n",
              "5   Q75326777    P25    Q432694   p2   p2-0-5          'Victoria Lawford'@en   \n",
              "6     Q432694  P3373      Q9696   p2   p2-1-6  'Patricia Kennedy Lawford'@en   \n",
              "7       Q9696   P451      Q4616   p2   p2-2-7           'John F. Kennedy'@en   \n",
              "8    Q5112377    P22     Q25310   p3   p3-0-8    'Christopher G. Kennedy'@en   \n",
              "9      Q25310  P3373    Q272908   p3   p3-1-9         'Robert F. Kennedy'@en   \n",
              "10    Q272908    P40    Q230654   p3  p3-2-10    'Eunice Kennedy Shriver'@en   \n",
              "11    Q230654    P26      Q2685   p3  p3-3-11             'Maria Shriver'@en   \n",
              "12      Q2685  P3373  Q38196234   p3  p3-4-12     'Arnold Schwarzenegger'@en   \n",
              "\n",
              "               label;label                    node2;label  \n",
              "0              'spouse'@en             'Maria Shriver'@en  \n",
              "1              'mother'@en    'Eunice Kennedy Shriver'@en  \n",
              "2             'sibling'@en           'John F. Kennedy'@en  \n",
              "3   'unmarried partner'@en            'Marilyn Monroe'@en  \n",
              "4               'child'@en          'Caroline Kennedy'@en  \n",
              "5              'mother'@en  'Patricia Kennedy Lawford'@en  \n",
              "6             'sibling'@en           'John F. Kennedy'@en  \n",
              "7   'unmarried partner'@en            'Marilyn Monroe'@en  \n",
              "8              'father'@en         'Robert F. Kennedy'@en  \n",
              "9             'sibling'@en    'Eunice Kennedy Shriver'@en  \n",
              "10              'child'@en             'Maria Shriver'@en  \n",
              "11             'spouse'@en     'Arnold Schwarzenegger'@en  \n",
              "12            'sibling'@en   'Meinhard Schwarzenegger'@en  "
            ],
            "text/html": [
              "\n",
              "  <div id=\"df-8fe25c55-6752-48c7-b10d-1064214da603\">\n",
              "    <div class=\"colab-df-container\">\n",
              "      <div>\n",
              "<style scoped>\n",
              "    .dataframe tbody tr th:only-of-type {\n",
              "        vertical-align: middle;\n",
              "    }\n",
              "\n",
              "    .dataframe tbody tr th {\n",
              "        vertical-align: top;\n",
              "    }\n",
              "\n",
              "    .dataframe thead th {\n",
              "        text-align: right;\n",
              "    }\n",
              "</style>\n",
              "<table border=\"1\" class=\"dataframe\">\n",
              "  <thead>\n",
              "    <tr style=\"text-align: right;\">\n",
              "      <th></th>\n",
              "      <th>node1</th>\n",
              "      <th>label</th>\n",
              "      <th>node2</th>\n",
              "      <th>path</th>\n",
              "      <th>segment</th>\n",
              "      <th>node1;label</th>\n",
              "      <th>label;label</th>\n",
              "      <th>node2;label</th>\n",
              "    </tr>\n",
              "  </thead>\n",
              "  <tbody>\n",
              "    <tr>\n",
              "      <th>0</th>\n",
              "      <td>Q2685</td>\n",
              "      <td>P26</td>\n",
              "      <td>Q230654</td>\n",
              "      <td>p0</td>\n",
              "      <td>p0-0-0</td>\n",
              "      <td>'Arnold Schwarzenegger'@en</td>\n",
              "      <td>'spouse'@en</td>\n",
              "      <td>'Maria Shriver'@en</td>\n",
              "    </tr>\n",
              "    <tr>\n",
              "      <th>1</th>\n",
              "      <td>Q230654</td>\n",
              "      <td>P25</td>\n",
              "      <td>Q272908</td>\n",
              "      <td>p0</td>\n",
              "      <td>p0-1-1</td>\n",
              "      <td>'Maria Shriver'@en</td>\n",
              "      <td>'mother'@en</td>\n",
              "      <td>'Eunice Kennedy Shriver'@en</td>\n",
              "    </tr>\n",
              "    <tr>\n",
              "      <th>2</th>\n",
              "      <td>Q272908</td>\n",
              "      <td>P3373</td>\n",
              "      <td>Q9696</td>\n",
              "      <td>p0</td>\n",
              "      <td>p0-2-2</td>\n",
              "      <td>'Eunice Kennedy Shriver'@en</td>\n",
              "      <td>'sibling'@en</td>\n",
              "      <td>'John F. Kennedy'@en</td>\n",
              "    </tr>\n",
              "    <tr>\n",
              "      <th>3</th>\n",
              "      <td>Q9696</td>\n",
              "      <td>P451</td>\n",
              "      <td>Q4616</td>\n",
              "      <td>p0</td>\n",
              "      <td>p0-3-3</td>\n",
              "      <td>'John F. Kennedy'@en</td>\n",
              "      <td>'unmarried partner'@en</td>\n",
              "      <td>'Marilyn Monroe'@en</td>\n",
              "    </tr>\n",
              "    <tr>\n",
              "      <th>4</th>\n",
              "      <td>Q9696</td>\n",
              "      <td>P40</td>\n",
              "      <td>Q230303</td>\n",
              "      <td>p1</td>\n",
              "      <td>p1-0-4</td>\n",
              "      <td>'John F. Kennedy'@en</td>\n",
              "      <td>'child'@en</td>\n",
              "      <td>'Caroline Kennedy'@en</td>\n",
              "    </tr>\n",
              "    <tr>\n",
              "      <th>5</th>\n",
              "      <td>Q75326777</td>\n",
              "      <td>P25</td>\n",
              "      <td>Q432694</td>\n",
              "      <td>p2</td>\n",
              "      <td>p2-0-5</td>\n",
              "      <td>'Victoria Lawford'@en</td>\n",
              "      <td>'mother'@en</td>\n",
              "      <td>'Patricia Kennedy Lawford'@en</td>\n",
              "    </tr>\n",
              "    <tr>\n",
              "      <th>6</th>\n",
              "      <td>Q432694</td>\n",
              "      <td>P3373</td>\n",
              "      <td>Q9696</td>\n",
              "      <td>p2</td>\n",
              "      <td>p2-1-6</td>\n",
              "      <td>'Patricia Kennedy Lawford'@en</td>\n",
              "      <td>'sibling'@en</td>\n",
              "      <td>'John F. Kennedy'@en</td>\n",
              "    </tr>\n",
              "    <tr>\n",
              "      <th>7</th>\n",
              "      <td>Q9696</td>\n",
              "      <td>P451</td>\n",
              "      <td>Q4616</td>\n",
              "      <td>p2</td>\n",
              "      <td>p2-2-7</td>\n",
              "      <td>'John F. Kennedy'@en</td>\n",
              "      <td>'unmarried partner'@en</td>\n",
              "      <td>'Marilyn Monroe'@en</td>\n",
              "    </tr>\n",
              "    <tr>\n",
              "      <th>8</th>\n",
              "      <td>Q5112377</td>\n",
              "      <td>P22</td>\n",
              "      <td>Q25310</td>\n",
              "      <td>p3</td>\n",
              "      <td>p3-0-8</td>\n",
              "      <td>'Christopher G. Kennedy'@en</td>\n",
              "      <td>'father'@en</td>\n",
              "      <td>'Robert F. Kennedy'@en</td>\n",
              "    </tr>\n",
              "    <tr>\n",
              "      <th>9</th>\n",
              "      <td>Q25310</td>\n",
              "      <td>P3373</td>\n",
              "      <td>Q272908</td>\n",
              "      <td>p3</td>\n",
              "      <td>p3-1-9</td>\n",
              "      <td>'Robert F. Kennedy'@en</td>\n",
              "      <td>'sibling'@en</td>\n",
              "      <td>'Eunice Kennedy Shriver'@en</td>\n",
              "    </tr>\n",
              "    <tr>\n",
              "      <th>10</th>\n",
              "      <td>Q272908</td>\n",
              "      <td>P40</td>\n",
              "      <td>Q230654</td>\n",
              "      <td>p3</td>\n",
              "      <td>p3-2-10</td>\n",
              "      <td>'Eunice Kennedy Shriver'@en</td>\n",
              "      <td>'child'@en</td>\n",
              "      <td>'Maria Shriver'@en</td>\n",
              "    </tr>\n",
              "    <tr>\n",
              "      <th>11</th>\n",
              "      <td>Q230654</td>\n",
              "      <td>P26</td>\n",
              "      <td>Q2685</td>\n",
              "      <td>p3</td>\n",
              "      <td>p3-3-11</td>\n",
              "      <td>'Maria Shriver'@en</td>\n",
              "      <td>'spouse'@en</td>\n",
              "      <td>'Arnold Schwarzenegger'@en</td>\n",
              "    </tr>\n",
              "    <tr>\n",
              "      <th>12</th>\n",
              "      <td>Q2685</td>\n",
              "      <td>P3373</td>\n",
              "      <td>Q38196234</td>\n",
              "      <td>p3</td>\n",
              "      <td>p3-4-12</td>\n",
              "      <td>'Arnold Schwarzenegger'@en</td>\n",
              "      <td>'sibling'@en</td>\n",
              "      <td>'Meinhard Schwarzenegger'@en</td>\n",
              "    </tr>\n",
              "  </tbody>\n",
              "</table>\n",
              "</div>\n",
              "      <button class=\"colab-df-convert\" onclick=\"convertToInteractive('df-8fe25c55-6752-48c7-b10d-1064214da603')\"\n",
              "              title=\"Convert this dataframe to an interactive table.\"\n",
              "              style=\"display:none;\">\n",
              "        \n",
              "  <svg xmlns=\"http://www.w3.org/2000/svg\" height=\"24px\"viewBox=\"0 0 24 24\"\n",
              "       width=\"24px\">\n",
              "    <path d=\"M0 0h24v24H0V0z\" fill=\"none\"/>\n",
              "    <path d=\"M18.56 5.44l.94 2.06.94-2.06 2.06-.94-2.06-.94-.94-2.06-.94 2.06-2.06.94zm-11 1L8.5 8.5l.94-2.06 2.06-.94-2.06-.94L8.5 2.5l-.94 2.06-2.06.94zm10 10l.94 2.06.94-2.06 2.06-.94-2.06-.94-.94-2.06-.94 2.06-2.06.94z\"/><path d=\"M17.41 7.96l-1.37-1.37c-.4-.4-.92-.59-1.43-.59-.52 0-1.04.2-1.43.59L10.3 9.45l-7.72 7.72c-.78.78-.78 2.05 0 2.83L4 21.41c.39.39.9.59 1.41.59.51 0 1.02-.2 1.41-.59l7.78-7.78 2.81-2.81c.8-.78.8-2.07 0-2.86zM5.41 20L4 18.59l7.72-7.72 1.47 1.35L5.41 20z\"/>\n",
              "  </svg>\n",
              "      </button>\n",
              "      \n",
              "  <style>\n",
              "    .colab-df-container {\n",
              "      display:flex;\n",
              "      flex-wrap:wrap;\n",
              "      gap: 12px;\n",
              "    }\n",
              "\n",
              "    .colab-df-convert {\n",
              "      background-color: #E8F0FE;\n",
              "      border: none;\n",
              "      border-radius: 50%;\n",
              "      cursor: pointer;\n",
              "      display: none;\n",
              "      fill: #1967D2;\n",
              "      height: 32px;\n",
              "      padding: 0 0 0 0;\n",
              "      width: 32px;\n",
              "    }\n",
              "\n",
              "    .colab-df-convert:hover {\n",
              "      background-color: #E2EBFA;\n",
              "      box-shadow: 0px 1px 2px rgba(60, 64, 67, 0.3), 0px 1px 3px 1px rgba(60, 64, 67, 0.15);\n",
              "      fill: #174EA6;\n",
              "    }\n",
              "\n",
              "    [theme=dark] .colab-df-convert {\n",
              "      background-color: #3B4455;\n",
              "      fill: #D2E3FC;\n",
              "    }\n",
              "\n",
              "    [theme=dark] .colab-df-convert:hover {\n",
              "      background-color: #434B5C;\n",
              "      box-shadow: 0px 1px 3px 1px rgba(0, 0, 0, 0.15);\n",
              "      filter: drop-shadow(0px 1px 2px rgba(0, 0, 0, 0.3));\n",
              "      fill: #FFFFFF;\n",
              "    }\n",
              "  </style>\n",
              "\n",
              "      <script>\n",
              "        const buttonEl =\n",
              "          document.querySelector('#df-8fe25c55-6752-48c7-b10d-1064214da603 button.colab-df-convert');\n",
              "        buttonEl.style.display =\n",
              "          google.colab.kernel.accessAllowed ? 'block' : 'none';\n",
              "\n",
              "        async function convertToInteractive(key) {\n",
              "          const element = document.querySelector('#df-8fe25c55-6752-48c7-b10d-1064214da603');\n",
              "          const dataTable =\n",
              "            await google.colab.kernel.invokeFunction('convertToInteractive',\n",
              "                                                     [key], {});\n",
              "          if (!dataTable) return;\n",
              "\n",
              "          const docLinkHtml = 'Like what you see? Visit the ' +\n",
              "            '<a target=\"_blank\" href=https://colab.research.google.com/notebooks/data_table.ipynb>data table notebook</a>'\n",
              "            + ' to learn more about interactive tables.';\n",
              "          element.innerHTML = '';\n",
              "          dataTable['output_type'] = 'display_data';\n",
              "          await google.colab.output.renderOutput(dataTable, element);\n",
              "          const docLink = document.createElement('div');\n",
              "          docLink.innerHTML = docLinkHtml;\n",
              "          element.appendChild(docLink);\n",
              "        }\n",
              "      </script>\n",
              "    </div>\n",
              "  </div>\n",
              "  "
            ]
          },
          "metadata": {},
          "execution_count": 20
        }
      ],
      "source": [
        "kgtk(\"\"\"\n",
        "    query -i arnold_family -i $TEMP/path-results.tsv\n",
        "        --match '\n",
        "            path: (path)-[segment]->(edge),\n",
        "            arnold_family: (n1)-[edge {label: property}]->(n2)'\n",
        "        --return 'n1 as node1, property as label, n2 as node2, path as path, segment as segment'\n",
        "        --order-by 'path, segment'\n",
        "    / add-labels\n",
        "\"\"\")"
      ]
    },
    {
      "cell_type": "markdown",
      "metadata": {
        "tags": [],
        "id": "iAzNBGoKhaqW"
      },
      "source": [
        "### Visualization of the Arnold family graph"
      ]
    },
    {
      "cell_type": "markdown",
      "metadata": {
        "tags": [],
        "id": "4fSeVvshhaqW"
      },
      "source": [
        "Add labels for property Pnodes"
      ]
    },
    {
      "cell_type": "code",
      "execution_count": 21,
      "metadata": {
        "id": "jvad0rwGhaqX"
      },
      "outputs": [],
      "source": [
        "kgtk(f\"\"\"query -i $OUT/arnold.family.tsv -i label --force\n",
        "         --match 'family: (n1)-[l {{label: property}}]->(n2),\n",
        "                  label: (property)-[]->(p_label)'\n",
        "         --return 'n1 as node1, kgtk_lqstring_text(p_label) as label, n2 as node2'\n",
        "         -o $TEMP/arnold.family.visualize.tsv\n",
        "\"\"\")"
      ]
    },
    {
      "cell_type": "markdown",
      "metadata": {
        "id": "qzKACH-HhaqX"
      },
      "source": [
        "Get list of all nodes in the `node1` column"
      ]
    },
    {
      "cell_type": "code",
      "execution_count": 22,
      "metadata": {
        "id": "1bo8y92lhaqX"
      },
      "outputs": [],
      "source": [
        "kgtk(f\"\"\"query -i $OUT/arnold.family.tsv\n",
        "         --match 'family: (n1)-[]->()'\n",
        "         --return 'distinct n1 as node1'\n",
        "         -o $TEMP/arnold.family.node1.tsv\n",
        "\"\"\")"
      ]
    },
    {
      "cell_type": "markdown",
      "metadata": {
        "tags": [],
        "id": "lgZHxVHPhaqX"
      },
      "source": [
        "Get list of all nodes in the `node2` column"
      ]
    },
    {
      "cell_type": "code",
      "execution_count": 23,
      "metadata": {
        "id": "xNyAGoJyhaqX"
      },
      "outputs": [],
      "source": [
        "kgtk(f\"\"\"query -i $OUT/arnold.family.tsv\n",
        "         --match 'family: ()-[]->(n2)'\n",
        "         --return 'distinct n2 as node1'\n",
        "         -o $TEMP/arnold.family.node2.tsv\n",
        "\"\"\")"
      ]
    },
    {
      "cell_type": "markdown",
      "metadata": {
        "tags": [],
        "id": "rQjBOC9fhaqX"
      },
      "source": [
        "Concatenate them together to build the node file for visualization"
      ]
    },
    {
      "cell_type": "code",
      "execution_count": 24,
      "metadata": {
        "tags": [],
        "id": "n7Yk1QK5haqX"
      },
      "outputs": [],
      "source": [
        "kgtk(f\"\"\"cat -i $TEMP/arnold.family.node1.tsv -i $TEMP/arnold.family.node2.tsv --mode NONE  -o $TEMP/arnold.family.node.tsv\n",
        "\"\"\")"
      ]
    },
    {
      "cell_type": "markdown",
      "metadata": {
        "id": "-gU5DG0ihaqY"
      },
      "source": [
        "Add labels and country of citizenship for the visualization"
      ]
    },
    {
      "cell_type": "code",
      "execution_count": 25,
      "metadata": {
        "tags": [],
        "id": "J6B9T20YhaqY"
      },
      "outputs": [],
      "source": [
        "kgtk(f\"\"\"query -i $TEMP/arnold.family.node.tsv -i item -i label\n",
        "         --match 'node: (n1)-[]->(),\n",
        "                 label: (n1)-[]->(n1_label)'\n",
        "         --opt   'item: (n1)-[:P27]->(country)'\n",
        "         --opt   'label: (country)-[]->(c_label)'\n",
        "         --return 'distinct n1 as id, n1_label as label,  group_concat(distinct c_label) as country_label,\n",
        "         printf(\"Citizenship: %s\", replace(group_concat(distinct kgtk_lqstring_text(c_label)), \",\", \", \")) as tooltip'\n",
        "         -o $TEMP/arnold.family.node.file.tsv\n",
        "\"\"\")"
      ]
    },
    {
      "cell_type": "markdown",
      "metadata": {
        "tags": [],
        "id": "QrgxF2SJhaqY"
      },
      "source": [
        "Run the [kgtk visualize-graph](https://kgtk.readthedocs.io/en/latest/analysis/visualize-graph) command\n",
        "\n",
        "The following command will draw the graph as:\n",
        "\n",
        "- Node color represents the country of citizenship.\n",
        "- Edge label specifies the relation between nodes."
      ]
    },
    {
      "cell_type": "code",
      "execution_count": 26,
      "metadata": {
        "tags": [],
        "id": "nt-siiUKhaqY",
        "colab": {
          "base_uri": "https://localhost:8080/"
        },
        "outputId": "2358c5f8-b664-44c9-d33e-7d85fdaaf0a0"
      },
      "outputs": [
        {
          "output_type": "stream",
          "name": "stdout",
          "text": [
            "Unknown value: categorical for option: --node-color-style. Please choose one of the following: d3.schemeCategory10, d3.schemeAccent, d3.schemeDark2, d3.schemePaired, d3.schemePastel1, d3.schemePastel2, d3.schemeSet1, d3.schemeSet2, d3.schemeSet3, d3.schemeTableau10, d3.interpolateBrBG, d3.interpolatePRGn, d3.interpolatePiYG, d3.interpolatePuOr, d3.interpolateRdBu, d3.interpolateRdGy, d3.interpolateRdYlBu, d3.interpolateRdYlGn, d3.interpolateSpectral, d3.interpolateBlues, d3.interpolateGreens, d3.interpolateOranges, d3.interpolatePurples, d3.interpolateReds, d3.interpolateGreys, d3.interpolateTurbo, d3.interpolateViridis, d3.interpolateInferno, d3.interpolateMagma, d3.interpolatePlasma, d3.interpolateCividis, d3.interpolateWarm, d3.interpolateCool, d3.interpolateCubehelixDefault, d3.interpolateBuGn, d3.interpolateBuPu, d3.interpolateGnBu, d3.interpolateOrRd, d3.interpolatePuBuGn, d3.interpolatePuBu, d3.interpolatePuRd, d3.interpolateRdPu, d3.interpolateYlGnBu, d3.interpolateYlGn, d3.interpolateYlOrBr, d3.interpolateYlOrRd, d3.interpolateRainbow\n",
            "\n"
          ]
        },
        {
          "output_type": "stream",
          "name": "stderr",
          "text": [
            "Exception in thread background thread for pid 2702:\n",
            "Traceback (most recent call last):\n",
            "  File \"/usr/lib/python3.7/threading.py\", line 926, in _bootstrap_inner\n",
            "    self.run()\n",
            "  File \"/usr/lib/python3.7/threading.py\", line 870, in run\n",
            "    self._target(*self._args, **self._kwargs)\n",
            "  File \"/usr/local/lib/python3.7/dist-packages/sh.py\", line 1641, in wrap\n",
            "    fn(*rgs, **kwargs)\n",
            "  File \"/usr/local/lib/python3.7/dist-packages/sh.py\", line 2569, in background_thread\n",
            "    handle_exit_code(exit_code)\n",
            "  File \"/usr/local/lib/python3.7/dist-packages/sh.py\", line 2269, in fn\n",
            "    return self.command.handle_command_exit_code(exit_code)\n",
            "  File \"/usr/local/lib/python3.7/dist-packages/sh.py\", line 869, in handle_command_exit_code\n",
            "    raise exc\n",
            "sh.ErrorReturnCode_1: \n",
            "\n",
            "  RAN: /bin/bash -c 'kgtk visualize-graph          -i $TEMP/arnold.family.visualize.tsv         --node-file $TEMP/arnold.family.node.file.tsv         --show-edge-label         --node-color-column country_label         --node-color-style categorical         --node-size-default 4         --tooltip-column tooltip         --show-text above         -o $OUT/arnold.family.graph.html'\n",
            "\n",
            "  STDOUT:\n",
            "\n",
            "\n",
            "  STDERR:\n",
            "\n",
            "\n"
          ]
        }
      ],
      "source": [
        "kgtk(\"\"\"visualize-graph \n",
        "        -i $TEMP/arnold.family.visualize.tsv\n",
        "        --node-file $TEMP/arnold.family.node.file.tsv\n",
        "        --show-edge-label\n",
        "        --node-color-column country_label\n",
        "        --node-color-style categorical\n",
        "        --node-size-default 4\n",
        "        --tooltip-column tooltip\n",
        "        --show-text above\n",
        "        -o $OUT/arnold.family.graph.html\"\"\")"
      ]
    },
    {
      "cell_type": "markdown",
      "metadata": {
        "id": "SVBEAHMshaqY"
      },
      "source": [
        "![Arnold Family Visualization](https://raw.githubusercontent.com/usc-isi-i2/kgtk-notebooks/main/tutorial/assets/arnold-family-graph-citizenship.png)"
      ]
    },
    {
      "cell_type": "code",
      "execution_count": 27,
      "metadata": {
        "id": "nuKxjkIHhaqZ",
        "colab": {
          "base_uri": "https://localhost:8080/",
          "height": 169
        },
        "outputId": "bc76f51b-8896-4b24-e972-448dae700e5e"
      },
      "outputs": [
        {
          "output_type": "error",
          "ename": "AttributeError",
          "evalue": "ignored",
          "traceback": [
            "\u001b[0;31m---------------------------------------------------------------------------\u001b[0m",
            "\u001b[0;31mAttributeError\u001b[0m                            Traceback (most recent call last)",
            "\u001b[0;32m<ipython-input-27-0b42a8f70eb0>\u001b[0m in \u001b[0;36m<module>\u001b[0;34m\u001b[0m\n\u001b[0;32m----> 1\u001b[0;31m \u001b[0mfiles\u001b[0m\u001b[0;34m.\u001b[0m\u001b[0mdownload\u001b[0m\u001b[0;34m(\u001b[0m\u001b[0;34mf\"{os.environ['OUT']}/arnold.family.graph.html\"\u001b[0m\u001b[0;34m)\u001b[0m\u001b[0;34m\u001b[0m\u001b[0;34m\u001b[0m\u001b[0m\n\u001b[0m",
            "\u001b[0;31mAttributeError\u001b[0m: 'list' object has no attribute 'download'"
          ]
        }
      ],
      "source": [
        "files.download(f\"{os.environ['OUT']}/arnold.family.graph.html\")"
      ]
    },
    {
      "cell_type": "markdown",
      "metadata": {
        "id": "eYpxrzmVhaqZ"
      },
      "source": [
        "### Visualize Movies' Graph with common Actors"
      ]
    },
    {
      "cell_type": "markdown",
      "metadata": {
        "id": "WTzgDlOUhaqZ"
      },
      "source": [
        "`Q11424`: film\n",
        "\n",
        "`P162`: cast\n",
        "\n",
        "`P31`: instance of\n",
        "\n",
        "Build a graph of movies with common actors. Add ids and labels to the KGTK edge file."
      ]
    },
    {
      "cell_type": "code",
      "execution_count": 29,
      "metadata": {
        "id": "BGAfPuIHhaqZ"
      },
      "outputs": [],
      "source": [
        "kgtk(f\"\"\"\n",
        "    query -i item\n",
        "        --match '\n",
        "            item: (film1)-[:P31]->(:Q11424),\n",
        "            item: (film2)-[:P31]->(:Q11424),\n",
        "            item: (film1)-[:P161]->(actor),\n",
        "            item: (film2)-[:P161]->(actor)'\n",
        "        --where 'film1 < film2'\n",
        "        --return 'distinct film1 as node1, \"Pcommon_actor\" as label, film2 as node2, actor as actor'\n",
        "    / add-id --id-style wikidata \n",
        "    / add-labels\n",
        "    -o $TEMP/movies.common_actors.tsv.gz\n",
        "\"\"\")"
      ]
    },
    {
      "cell_type": "code",
      "execution_count": 30,
      "metadata": {
        "id": "grzXt1DjhaqZ",
        "outputId": "69f6d175-70ac-45cd-b41c-296abae4da2a",
        "colab": {
          "base_uri": "https://localhost:8080/",
          "height": 581
        }
      },
      "outputs": [
        {
          "output_type": "execute_result",
          "data": {
            "text/plain": [
              "      node1          label     node2    actor  \\\n",
              "0  Q1009788  Pcommon_actor   Q104137  Q150943   \n",
              "1  Q1009788  Pcommon_actor  Q1140085  Q150943   \n",
              "2  Q1009788  Pcommon_actor  Q1355172  Q150943   \n",
              "3  Q1009788  Pcommon_actor  Q1514670  Q150943   \n",
              "4  Q1009788  Pcommon_actor  Q1591594  Q150943   \n",
              "5  Q1009788  Pcommon_actor   Q181776  Q150943   \n",
              "6  Q1009788  Pcommon_actor   Q213053  Q150943   \n",
              "7  Q1009788  Pcommon_actor   Q220735  Q150943   \n",
              "8  Q1009788  Pcommon_actor   Q232248  Q150943   \n",
              "9  Q1009788  Pcommon_actor   Q261305  Q150943   \n",
              "\n",
              "                                id            node1;label  \\\n",
              "0   Q1009788-Pcommon_actor-Q104137  'The Conversation'@en   \n",
              "1  Q1009788-Pcommon_actor-Q1140085  'The Conversation'@en   \n",
              "2  Q1009788-Pcommon_actor-Q1355172  'The Conversation'@en   \n",
              "3  Q1009788-Pcommon_actor-Q1514670  'The Conversation'@en   \n",
              "4  Q1009788-Pcommon_actor-Q1591594  'The Conversation'@en   \n",
              "5   Q1009788-Pcommon_actor-Q181776  'The Conversation'@en   \n",
              "6   Q1009788-Pcommon_actor-Q213053  'The Conversation'@en   \n",
              "7   Q1009788-Pcommon_actor-Q220735  'The Conversation'@en   \n",
              "8   Q1009788-Pcommon_actor-Q232248  'The Conversation'@en   \n",
              "9   Q1009788-Pcommon_actor-Q261305  'The Conversation'@en   \n",
              "\n",
              "                         node2;label        actor;label  \n",
              "0                    'Unforgiven'@en  'Gene Hackman'@en  \n",
              "1                  'Crimson Tide'@en  'Gene Hackman'@en  \n",
              "2                    'Wyatt Earp'@en  'Gene Hackman'@en  \n",
              "3  'Geronimo: An American Legend'@en  'Gene Hackman'@en  \n",
              "4                        'Hawaii'@en  'Gene Hackman'@en  \n",
              "5              'Bonnie and Clyde'@en  'Gene Hackman'@en  \n",
              "6                      'Superman'@en  'Gene Hackman'@en  \n",
              "7         'The French Connection'@en  'Gene Hackman'@en  \n",
              "8                 'Two of a Kind'@en  'Gene Hackman'@en  \n",
              "9               'Bite the Bullet'@en  'Gene Hackman'@en  "
            ],
            "text/html": [
              "\n",
              "  <div id=\"df-8e4bc36b-6cc6-413d-987e-76d74fbb6d20\">\n",
              "    <div class=\"colab-df-container\">\n",
              "      <div>\n",
              "<style scoped>\n",
              "    .dataframe tbody tr th:only-of-type {\n",
              "        vertical-align: middle;\n",
              "    }\n",
              "\n",
              "    .dataframe tbody tr th {\n",
              "        vertical-align: top;\n",
              "    }\n",
              "\n",
              "    .dataframe thead th {\n",
              "        text-align: right;\n",
              "    }\n",
              "</style>\n",
              "<table border=\"1\" class=\"dataframe\">\n",
              "  <thead>\n",
              "    <tr style=\"text-align: right;\">\n",
              "      <th></th>\n",
              "      <th>node1</th>\n",
              "      <th>label</th>\n",
              "      <th>node2</th>\n",
              "      <th>actor</th>\n",
              "      <th>id</th>\n",
              "      <th>node1;label</th>\n",
              "      <th>node2;label</th>\n",
              "      <th>actor;label</th>\n",
              "    </tr>\n",
              "  </thead>\n",
              "  <tbody>\n",
              "    <tr>\n",
              "      <th>0</th>\n",
              "      <td>Q1009788</td>\n",
              "      <td>Pcommon_actor</td>\n",
              "      <td>Q104137</td>\n",
              "      <td>Q150943</td>\n",
              "      <td>Q1009788-Pcommon_actor-Q104137</td>\n",
              "      <td>'The Conversation'@en</td>\n",
              "      <td>'Unforgiven'@en</td>\n",
              "      <td>'Gene Hackman'@en</td>\n",
              "    </tr>\n",
              "    <tr>\n",
              "      <th>1</th>\n",
              "      <td>Q1009788</td>\n",
              "      <td>Pcommon_actor</td>\n",
              "      <td>Q1140085</td>\n",
              "      <td>Q150943</td>\n",
              "      <td>Q1009788-Pcommon_actor-Q1140085</td>\n",
              "      <td>'The Conversation'@en</td>\n",
              "      <td>'Crimson Tide'@en</td>\n",
              "      <td>'Gene Hackman'@en</td>\n",
              "    </tr>\n",
              "    <tr>\n",
              "      <th>2</th>\n",
              "      <td>Q1009788</td>\n",
              "      <td>Pcommon_actor</td>\n",
              "      <td>Q1355172</td>\n",
              "      <td>Q150943</td>\n",
              "      <td>Q1009788-Pcommon_actor-Q1355172</td>\n",
              "      <td>'The Conversation'@en</td>\n",
              "      <td>'Wyatt Earp'@en</td>\n",
              "      <td>'Gene Hackman'@en</td>\n",
              "    </tr>\n",
              "    <tr>\n",
              "      <th>3</th>\n",
              "      <td>Q1009788</td>\n",
              "      <td>Pcommon_actor</td>\n",
              "      <td>Q1514670</td>\n",
              "      <td>Q150943</td>\n",
              "      <td>Q1009788-Pcommon_actor-Q1514670</td>\n",
              "      <td>'The Conversation'@en</td>\n",
              "      <td>'Geronimo: An American Legend'@en</td>\n",
              "      <td>'Gene Hackman'@en</td>\n",
              "    </tr>\n",
              "    <tr>\n",
              "      <th>4</th>\n",
              "      <td>Q1009788</td>\n",
              "      <td>Pcommon_actor</td>\n",
              "      <td>Q1591594</td>\n",
              "      <td>Q150943</td>\n",
              "      <td>Q1009788-Pcommon_actor-Q1591594</td>\n",
              "      <td>'The Conversation'@en</td>\n",
              "      <td>'Hawaii'@en</td>\n",
              "      <td>'Gene Hackman'@en</td>\n",
              "    </tr>\n",
              "    <tr>\n",
              "      <th>5</th>\n",
              "      <td>Q1009788</td>\n",
              "      <td>Pcommon_actor</td>\n",
              "      <td>Q181776</td>\n",
              "      <td>Q150943</td>\n",
              "      <td>Q1009788-Pcommon_actor-Q181776</td>\n",
              "      <td>'The Conversation'@en</td>\n",
              "      <td>'Bonnie and Clyde'@en</td>\n",
              "      <td>'Gene Hackman'@en</td>\n",
              "    </tr>\n",
              "    <tr>\n",
              "      <th>6</th>\n",
              "      <td>Q1009788</td>\n",
              "      <td>Pcommon_actor</td>\n",
              "      <td>Q213053</td>\n",
              "      <td>Q150943</td>\n",
              "      <td>Q1009788-Pcommon_actor-Q213053</td>\n",
              "      <td>'The Conversation'@en</td>\n",
              "      <td>'Superman'@en</td>\n",
              "      <td>'Gene Hackman'@en</td>\n",
              "    </tr>\n",
              "    <tr>\n",
              "      <th>7</th>\n",
              "      <td>Q1009788</td>\n",
              "      <td>Pcommon_actor</td>\n",
              "      <td>Q220735</td>\n",
              "      <td>Q150943</td>\n",
              "      <td>Q1009788-Pcommon_actor-Q220735</td>\n",
              "      <td>'The Conversation'@en</td>\n",
              "      <td>'The French Connection'@en</td>\n",
              "      <td>'Gene Hackman'@en</td>\n",
              "    </tr>\n",
              "    <tr>\n",
              "      <th>8</th>\n",
              "      <td>Q1009788</td>\n",
              "      <td>Pcommon_actor</td>\n",
              "      <td>Q232248</td>\n",
              "      <td>Q150943</td>\n",
              "      <td>Q1009788-Pcommon_actor-Q232248</td>\n",
              "      <td>'The Conversation'@en</td>\n",
              "      <td>'Two of a Kind'@en</td>\n",
              "      <td>'Gene Hackman'@en</td>\n",
              "    </tr>\n",
              "    <tr>\n",
              "      <th>9</th>\n",
              "      <td>Q1009788</td>\n",
              "      <td>Pcommon_actor</td>\n",
              "      <td>Q261305</td>\n",
              "      <td>Q150943</td>\n",
              "      <td>Q1009788-Pcommon_actor-Q261305</td>\n",
              "      <td>'The Conversation'@en</td>\n",
              "      <td>'Bite the Bullet'@en</td>\n",
              "      <td>'Gene Hackman'@en</td>\n",
              "    </tr>\n",
              "  </tbody>\n",
              "</table>\n",
              "</div>\n",
              "      <button class=\"colab-df-convert\" onclick=\"convertToInteractive('df-8e4bc36b-6cc6-413d-987e-76d74fbb6d20')\"\n",
              "              title=\"Convert this dataframe to an interactive table.\"\n",
              "              style=\"display:none;\">\n",
              "        \n",
              "  <svg xmlns=\"http://www.w3.org/2000/svg\" height=\"24px\"viewBox=\"0 0 24 24\"\n",
              "       width=\"24px\">\n",
              "    <path d=\"M0 0h24v24H0V0z\" fill=\"none\"/>\n",
              "    <path d=\"M18.56 5.44l.94 2.06.94-2.06 2.06-.94-2.06-.94-.94-2.06-.94 2.06-2.06.94zm-11 1L8.5 8.5l.94-2.06 2.06-.94-2.06-.94L8.5 2.5l-.94 2.06-2.06.94zm10 10l.94 2.06.94-2.06 2.06-.94-2.06-.94-.94-2.06-.94 2.06-2.06.94z\"/><path d=\"M17.41 7.96l-1.37-1.37c-.4-.4-.92-.59-1.43-.59-.52 0-1.04.2-1.43.59L10.3 9.45l-7.72 7.72c-.78.78-.78 2.05 0 2.83L4 21.41c.39.39.9.59 1.41.59.51 0 1.02-.2 1.41-.59l7.78-7.78 2.81-2.81c.8-.78.8-2.07 0-2.86zM5.41 20L4 18.59l7.72-7.72 1.47 1.35L5.41 20z\"/>\n",
              "  </svg>\n",
              "      </button>\n",
              "      \n",
              "  <style>\n",
              "    .colab-df-container {\n",
              "      display:flex;\n",
              "      flex-wrap:wrap;\n",
              "      gap: 12px;\n",
              "    }\n",
              "\n",
              "    .colab-df-convert {\n",
              "      background-color: #E8F0FE;\n",
              "      border: none;\n",
              "      border-radius: 50%;\n",
              "      cursor: pointer;\n",
              "      display: none;\n",
              "      fill: #1967D2;\n",
              "      height: 32px;\n",
              "      padding: 0 0 0 0;\n",
              "      width: 32px;\n",
              "    }\n",
              "\n",
              "    .colab-df-convert:hover {\n",
              "      background-color: #E2EBFA;\n",
              "      box-shadow: 0px 1px 2px rgba(60, 64, 67, 0.3), 0px 1px 3px 1px rgba(60, 64, 67, 0.15);\n",
              "      fill: #174EA6;\n",
              "    }\n",
              "\n",
              "    [theme=dark] .colab-df-convert {\n",
              "      background-color: #3B4455;\n",
              "      fill: #D2E3FC;\n",
              "    }\n",
              "\n",
              "    [theme=dark] .colab-df-convert:hover {\n",
              "      background-color: #434B5C;\n",
              "      box-shadow: 0px 1px 3px 1px rgba(0, 0, 0, 0.15);\n",
              "      filter: drop-shadow(0px 1px 2px rgba(0, 0, 0, 0.3));\n",
              "      fill: #FFFFFF;\n",
              "    }\n",
              "  </style>\n",
              "\n",
              "      <script>\n",
              "        const buttonEl =\n",
              "          document.querySelector('#df-8e4bc36b-6cc6-413d-987e-76d74fbb6d20 button.colab-df-convert');\n",
              "        buttonEl.style.display =\n",
              "          google.colab.kernel.accessAllowed ? 'block' : 'none';\n",
              "\n",
              "        async function convertToInteractive(key) {\n",
              "          const element = document.querySelector('#df-8e4bc36b-6cc6-413d-987e-76d74fbb6d20');\n",
              "          const dataTable =\n",
              "            await google.colab.kernel.invokeFunction('convertToInteractive',\n",
              "                                                     [key], {});\n",
              "          if (!dataTable) return;\n",
              "\n",
              "          const docLinkHtml = 'Like what you see? Visit the ' +\n",
              "            '<a target=\"_blank\" href=https://colab.research.google.com/notebooks/data_table.ipynb>data table notebook</a>'\n",
              "            + ' to learn more about interactive tables.';\n",
              "          element.innerHTML = '';\n",
              "          dataTable['output_type'] = 'display_data';\n",
              "          await google.colab.output.renderOutput(dataTable, element);\n",
              "          const docLink = document.createElement('div');\n",
              "          docLink.innerHTML = docLinkHtml;\n",
              "          element.appendChild(docLink);\n",
              "        }\n",
              "      </script>\n",
              "    </div>\n",
              "  </div>\n",
              "  "
            ]
          },
          "metadata": {},
          "execution_count": 30
        }
      ],
      "source": [
        "kgtk(\"\"\"head -i $TEMP/movies.common_actors.tsv.gz\"\"\")"
      ]
    },
    {
      "cell_type": "markdown",
      "metadata": {
        "id": "qLJAqsFkhaqZ"
      },
      "source": [
        "Count the number of common actors a pair of movies have and store the count in a separate column"
      ]
    },
    {
      "cell_type": "code",
      "execution_count": 31,
      "metadata": {
        "id": "QLQXs-j8haqa"
      },
      "outputs": [],
      "source": [
        "kgtk(\"\"\"\n",
        "    query -i $TEMP/movies.common_actors.tsv.gz\n",
        "        --match '(film1)-[eid]->(film2)'\n",
        "        --return 'film1 as node1, \"Pcommon_actor\" as label, film2 as node2, \n",
        "        count(eid) as P1114, eid as id, group_concat(distinct kgtk_lqstring_text(eid.`actor;label`)) as actors'\n",
        "        --order-by 'node1, node2'\n",
        "    -o $TEMP/movies.common_actors.count.1.tsv.gz\n",
        "\"\"\")"
      ]
    },
    {
      "cell_type": "markdown",
      "metadata": {
        "id": "uhqd-D6hhaqa"
      },
      "source": [
        "#### Movies with 1 or more common actors"
      ]
    },
    {
      "cell_type": "code",
      "execution_count": 32,
      "metadata": {
        "id": "_rdyNqn6haqa"
      },
      "outputs": [],
      "source": [
        "kgtk(\"\"\"\n",
        "    query -i $TEMP/movies.common_actors.count.1.tsv.gz\n",
        "        --match 'common_actor: (film1)-[eid {P1114: count}]->(film2)'\n",
        "        --where 'cast(count, int) > 0'\n",
        "        --return 'film1 as node1, \"Pcommon_actor\" as label, film2 as node2, count as P1114, eid.actors as actors'\n",
        "    -o $TEMP/movies.common_actors.count.tsv.gz\n",
        "\"\"\")"
      ]
    },
    {
      "cell_type": "code",
      "execution_count": 33,
      "metadata": {
        "id": "4qMYF68jhaqa",
        "outputId": "413ca9b6-7ccc-40ad-d3d1-3fd802d64f0c",
        "colab": {
          "base_uri": "https://localhost:8080/",
          "height": 363
        }
      },
      "outputs": [
        {
          "output_type": "execute_result",
          "data": {
            "text/plain": [
              "      node1          label     node2  P1114                      actors  \\\n",
              "0  Q1009788  Pcommon_actor  Q1035124      1               Robert Duvall   \n",
              "1  Q1009788  Pcommon_actor   Q104137      1                Gene Hackman   \n",
              "2  Q1009788  Pcommon_actor  Q1140085      1                Gene Hackman   \n",
              "3  Q1009788  Pcommon_actor  Q1141457      1               Robert Duvall   \n",
              "4  Q1009788  Pcommon_actor  Q1160186      1             Michael Higgins   \n",
              "5  Q1009788  Pcommon_actor  Q1197684      1               Robert Duvall   \n",
              "6  Q1009788  Pcommon_actor  Q1355172      1                Gene Hackman   \n",
              "7  Q1009788  Pcommon_actor  Q1514670      2  Gene Hackman,Robert Duvall   \n",
              "8  Q1009788  Pcommon_actor   Q155458      1             Michael Higgins   \n",
              "9  Q1009788  Pcommon_actor  Q1591594      1                Gene Hackman   \n",
              "\n",
              "             node1;label                        node2;label  \n",
              "0  'The Conversation'@en          'Captain Newman, M.D.'@en  \n",
              "1  'The Conversation'@en                    'Unforgiven'@en  \n",
              "2  'The Conversation'@en                  'Crimson Tide'@en  \n",
              "3  'The Conversation'@en                        'John Q'@en  \n",
              "4  'The Conversation'@en             'Death Becomes Her'@en  \n",
              "5  'The Conversation'@en                   'The Natural'@en  \n",
              "6  'The Conversation'@en                    'Wyatt Earp'@en  \n",
              "7  'The Conversation'@en  'Geronimo: An American Legend'@en  \n",
              "8  'The Conversation'@en                 'Staying Alive'@en  \n",
              "9  'The Conversation'@en                        'Hawaii'@en  "
            ],
            "text/html": [
              "\n",
              "  <div id=\"df-9d3ec614-3bb9-4544-8328-1853db05ee87\">\n",
              "    <div class=\"colab-df-container\">\n",
              "      <div>\n",
              "<style scoped>\n",
              "    .dataframe tbody tr th:only-of-type {\n",
              "        vertical-align: middle;\n",
              "    }\n",
              "\n",
              "    .dataframe tbody tr th {\n",
              "        vertical-align: top;\n",
              "    }\n",
              "\n",
              "    .dataframe thead th {\n",
              "        text-align: right;\n",
              "    }\n",
              "</style>\n",
              "<table border=\"1\" class=\"dataframe\">\n",
              "  <thead>\n",
              "    <tr style=\"text-align: right;\">\n",
              "      <th></th>\n",
              "      <th>node1</th>\n",
              "      <th>label</th>\n",
              "      <th>node2</th>\n",
              "      <th>P1114</th>\n",
              "      <th>actors</th>\n",
              "      <th>node1;label</th>\n",
              "      <th>node2;label</th>\n",
              "    </tr>\n",
              "  </thead>\n",
              "  <tbody>\n",
              "    <tr>\n",
              "      <th>0</th>\n",
              "      <td>Q1009788</td>\n",
              "      <td>Pcommon_actor</td>\n",
              "      <td>Q1035124</td>\n",
              "      <td>1</td>\n",
              "      <td>Robert Duvall</td>\n",
              "      <td>'The Conversation'@en</td>\n",
              "      <td>'Captain Newman, M.D.'@en</td>\n",
              "    </tr>\n",
              "    <tr>\n",
              "      <th>1</th>\n",
              "      <td>Q1009788</td>\n",
              "      <td>Pcommon_actor</td>\n",
              "      <td>Q104137</td>\n",
              "      <td>1</td>\n",
              "      <td>Gene Hackman</td>\n",
              "      <td>'The Conversation'@en</td>\n",
              "      <td>'Unforgiven'@en</td>\n",
              "    </tr>\n",
              "    <tr>\n",
              "      <th>2</th>\n",
              "      <td>Q1009788</td>\n",
              "      <td>Pcommon_actor</td>\n",
              "      <td>Q1140085</td>\n",
              "      <td>1</td>\n",
              "      <td>Gene Hackman</td>\n",
              "      <td>'The Conversation'@en</td>\n",
              "      <td>'Crimson Tide'@en</td>\n",
              "    </tr>\n",
              "    <tr>\n",
              "      <th>3</th>\n",
              "      <td>Q1009788</td>\n",
              "      <td>Pcommon_actor</td>\n",
              "      <td>Q1141457</td>\n",
              "      <td>1</td>\n",
              "      <td>Robert Duvall</td>\n",
              "      <td>'The Conversation'@en</td>\n",
              "      <td>'John Q'@en</td>\n",
              "    </tr>\n",
              "    <tr>\n",
              "      <th>4</th>\n",
              "      <td>Q1009788</td>\n",
              "      <td>Pcommon_actor</td>\n",
              "      <td>Q1160186</td>\n",
              "      <td>1</td>\n",
              "      <td>Michael Higgins</td>\n",
              "      <td>'The Conversation'@en</td>\n",
              "      <td>'Death Becomes Her'@en</td>\n",
              "    </tr>\n",
              "    <tr>\n",
              "      <th>5</th>\n",
              "      <td>Q1009788</td>\n",
              "      <td>Pcommon_actor</td>\n",
              "      <td>Q1197684</td>\n",
              "      <td>1</td>\n",
              "      <td>Robert Duvall</td>\n",
              "      <td>'The Conversation'@en</td>\n",
              "      <td>'The Natural'@en</td>\n",
              "    </tr>\n",
              "    <tr>\n",
              "      <th>6</th>\n",
              "      <td>Q1009788</td>\n",
              "      <td>Pcommon_actor</td>\n",
              "      <td>Q1355172</td>\n",
              "      <td>1</td>\n",
              "      <td>Gene Hackman</td>\n",
              "      <td>'The Conversation'@en</td>\n",
              "      <td>'Wyatt Earp'@en</td>\n",
              "    </tr>\n",
              "    <tr>\n",
              "      <th>7</th>\n",
              "      <td>Q1009788</td>\n",
              "      <td>Pcommon_actor</td>\n",
              "      <td>Q1514670</td>\n",
              "      <td>2</td>\n",
              "      <td>Gene Hackman,Robert Duvall</td>\n",
              "      <td>'The Conversation'@en</td>\n",
              "      <td>'Geronimo: An American Legend'@en</td>\n",
              "    </tr>\n",
              "    <tr>\n",
              "      <th>8</th>\n",
              "      <td>Q1009788</td>\n",
              "      <td>Pcommon_actor</td>\n",
              "      <td>Q155458</td>\n",
              "      <td>1</td>\n",
              "      <td>Michael Higgins</td>\n",
              "      <td>'The Conversation'@en</td>\n",
              "      <td>'Staying Alive'@en</td>\n",
              "    </tr>\n",
              "    <tr>\n",
              "      <th>9</th>\n",
              "      <td>Q1009788</td>\n",
              "      <td>Pcommon_actor</td>\n",
              "      <td>Q1591594</td>\n",
              "      <td>1</td>\n",
              "      <td>Gene Hackman</td>\n",
              "      <td>'The Conversation'@en</td>\n",
              "      <td>'Hawaii'@en</td>\n",
              "    </tr>\n",
              "  </tbody>\n",
              "</table>\n",
              "</div>\n",
              "      <button class=\"colab-df-convert\" onclick=\"convertToInteractive('df-9d3ec614-3bb9-4544-8328-1853db05ee87')\"\n",
              "              title=\"Convert this dataframe to an interactive table.\"\n",
              "              style=\"display:none;\">\n",
              "        \n",
              "  <svg xmlns=\"http://www.w3.org/2000/svg\" height=\"24px\"viewBox=\"0 0 24 24\"\n",
              "       width=\"24px\">\n",
              "    <path d=\"M0 0h24v24H0V0z\" fill=\"none\"/>\n",
              "    <path d=\"M18.56 5.44l.94 2.06.94-2.06 2.06-.94-2.06-.94-.94-2.06-.94 2.06-2.06.94zm-11 1L8.5 8.5l.94-2.06 2.06-.94-2.06-.94L8.5 2.5l-.94 2.06-2.06.94zm10 10l.94 2.06.94-2.06 2.06-.94-2.06-.94-.94-2.06-.94 2.06-2.06.94z\"/><path d=\"M17.41 7.96l-1.37-1.37c-.4-.4-.92-.59-1.43-.59-.52 0-1.04.2-1.43.59L10.3 9.45l-7.72 7.72c-.78.78-.78 2.05 0 2.83L4 21.41c.39.39.9.59 1.41.59.51 0 1.02-.2 1.41-.59l7.78-7.78 2.81-2.81c.8-.78.8-2.07 0-2.86zM5.41 20L4 18.59l7.72-7.72 1.47 1.35L5.41 20z\"/>\n",
              "  </svg>\n",
              "      </button>\n",
              "      \n",
              "  <style>\n",
              "    .colab-df-container {\n",
              "      display:flex;\n",
              "      flex-wrap:wrap;\n",
              "      gap: 12px;\n",
              "    }\n",
              "\n",
              "    .colab-df-convert {\n",
              "      background-color: #E8F0FE;\n",
              "      border: none;\n",
              "      border-radius: 50%;\n",
              "      cursor: pointer;\n",
              "      display: none;\n",
              "      fill: #1967D2;\n",
              "      height: 32px;\n",
              "      padding: 0 0 0 0;\n",
              "      width: 32px;\n",
              "    }\n",
              "\n",
              "    .colab-df-convert:hover {\n",
              "      background-color: #E2EBFA;\n",
              "      box-shadow: 0px 1px 2px rgba(60, 64, 67, 0.3), 0px 1px 3px 1px rgba(60, 64, 67, 0.15);\n",
              "      fill: #174EA6;\n",
              "    }\n",
              "\n",
              "    [theme=dark] .colab-df-convert {\n",
              "      background-color: #3B4455;\n",
              "      fill: #D2E3FC;\n",
              "    }\n",
              "\n",
              "    [theme=dark] .colab-df-convert:hover {\n",
              "      background-color: #434B5C;\n",
              "      box-shadow: 0px 1px 3px 1px rgba(0, 0, 0, 0.15);\n",
              "      filter: drop-shadow(0px 1px 2px rgba(0, 0, 0, 0.3));\n",
              "      fill: #FFFFFF;\n",
              "    }\n",
              "  </style>\n",
              "\n",
              "      <script>\n",
              "        const buttonEl =\n",
              "          document.querySelector('#df-9d3ec614-3bb9-4544-8328-1853db05ee87 button.colab-df-convert');\n",
              "        buttonEl.style.display =\n",
              "          google.colab.kernel.accessAllowed ? 'block' : 'none';\n",
              "\n",
              "        async function convertToInteractive(key) {\n",
              "          const element = document.querySelector('#df-9d3ec614-3bb9-4544-8328-1853db05ee87');\n",
              "          const dataTable =\n",
              "            await google.colab.kernel.invokeFunction('convertToInteractive',\n",
              "                                                     [key], {});\n",
              "          if (!dataTable) return;\n",
              "\n",
              "          const docLinkHtml = 'Like what you see? Visit the ' +\n",
              "            '<a target=\"_blank\" href=https://colab.research.google.com/notebooks/data_table.ipynb>data table notebook</a>'\n",
              "            + ' to learn more about interactive tables.';\n",
              "          element.innerHTML = '';\n",
              "          dataTable['output_type'] = 'display_data';\n",
              "          await google.colab.output.renderOutput(dataTable, element);\n",
              "          const docLink = document.createElement('div');\n",
              "          docLink.innerHTML = docLinkHtml;\n",
              "          element.appendChild(docLink);\n",
              "        }\n",
              "      </script>\n",
              "    </div>\n",
              "  </div>\n",
              "  "
            ]
          },
          "metadata": {},
          "execution_count": 33
        }
      ],
      "source": [
        "kgtk(\"\"\"head -i $TEMP/movies.common_actors.count.tsv.gz / add-labels\"\"\")"
      ]
    },
    {
      "cell_type": "code",
      "execution_count": 34,
      "metadata": {
        "id": "BkR7NoMThaqa"
      },
      "outputs": [],
      "source": [
        "kgtk(f\"\"\"query -i $TEMP/movies.common_actors.count.tsv.gz\n",
        "         --match 'common_actor: (n1)-[]->()'\n",
        "         --return 'distinct n1 as node1'\n",
        "         -o $TEMP/movies.common_actors.node1.tsv\n",
        "\"\"\")"
      ]
    },
    {
      "cell_type": "code",
      "execution_count": 35,
      "metadata": {
        "id": "FoDDPPsRhaqa"
      },
      "outputs": [],
      "source": [
        "kgtk(f\"\"\"query -i $TEMP/movies.common_actors.count.tsv.gz\n",
        "         --match 'common_actor: ()-[]->(n2)'\n",
        "         --return 'distinct n2 as node1'\n",
        "         -o $TEMP/movies.common_actors.node2.tsv\n",
        "\"\"\")"
      ]
    },
    {
      "cell_type": "code",
      "execution_count": 36,
      "metadata": {
        "id": "5NxrxWQPhaqb"
      },
      "outputs": [],
      "source": [
        "kgtk(f\"\"\"cat -i $TEMP/movies.common_actors.node1.tsv \n",
        "             -i $TEMP/movies.common_actors.node2.tsv \n",
        "             --mode NONE  \n",
        "             -o $TEMP/movies.common_actors.node.tsv\n",
        "\"\"\")"
      ]
    },
    {
      "cell_type": "markdown",
      "metadata": {
        "id": "FkN6Gob_haqb"
      },
      "source": [
        "The following kypher query create a node file to be used as an input to the `kgtk visualize-graph` command.\n",
        "\n",
        "Finds the genre and actors for a movie, concatenating multiple genres and actors to a comma separated string."
      ]
    },
    {
      "cell_type": "code",
      "execution_count": 37,
      "metadata": {
        "id": "zr7bqx1Jhaqb"
      },
      "outputs": [],
      "source": [
        "kgtk(f\"\"\"query -i $TEMP/movies.common_actors.node.tsv -i label -i item\n",
        "         --match 'common_actor: (n1)-[]->(),\n",
        "                 label: (n1)-[]->(n1_label),\n",
        "                 item: (n1)-[:P161]->(actor),\n",
        "                 label: (actor)-[]->(actor_label)'\n",
        "         --opt   'item: (n1)-[:P136]->(genre)'\n",
        "         --opt   'label: (genre)-[]->(g_label)'\n",
        "         --return 'distinct n1 as id, \n",
        "                   n1_label as label,  \n",
        "                   group_concat(distinct kgtk_lqstring_text(g_label)) as genre, \n",
        "                   group_concat(distinct kgtk_lqstring_text(actor_label)) as actors,\n",
        "                   printf(\"%s<BR>Genre: %s<BR>Cast: %s\", kgtk_lqstring_text(n1_label), \n",
        "                   replace(group_concat(distinct kgtk_lqstring_text(g_label)), \",\", \", \"), replace(group_concat(distinct kgtk_lqstring_text(actor_label)), \",\", \", \")) as tooltip'\n",
        "         -o $TEMP/movies.node.file.tsv\n",
        "\"\"\")"
      ]
    },
    {
      "cell_type": "markdown",
      "metadata": {
        "id": "0y_XbJ7mhaqb"
      },
      "source": [
        "Run the [kgtk visualize-graph](https://kgtk.readthedocs.io/en/latest/analysis/visualize-graph) command\n",
        "\n",
        "The following command will draw the graph as:\n",
        "\n",
        "- an edge exists between two movie nodes if they have `1` or more common actors\n",
        "- edge width between two movies is proportionate to number of common actors\n",
        "- movie node color represents the genre of the movie"
      ]
    },
    {
      "cell_type": "code",
      "execution_count": 38,
      "metadata": {
        "id": "1IlLMoTFhaqb",
        "colab": {
          "base_uri": "https://localhost:8080/"
        },
        "outputId": "37c73a05-ed85-462a-97b5-ed9304c87dab"
      },
      "outputs": [
        {
          "output_type": "stream",
          "name": "stdout",
          "text": [
            "Unknown value: categorical for option: --node-color-style. Please choose one of the following: d3.schemeCategory10, d3.schemeAccent, d3.schemeDark2, d3.schemePaired, d3.schemePastel1, d3.schemePastel2, d3.schemeSet1, d3.schemeSet2, d3.schemeSet3, d3.schemeTableau10, d3.interpolateBrBG, d3.interpolatePRGn, d3.interpolatePiYG, d3.interpolatePuOr, d3.interpolateRdBu, d3.interpolateRdGy, d3.interpolateRdYlBu, d3.interpolateRdYlGn, d3.interpolateSpectral, d3.interpolateBlues, d3.interpolateGreens, d3.interpolateOranges, d3.interpolatePurples, d3.interpolateReds, d3.interpolateGreys, d3.interpolateTurbo, d3.interpolateViridis, d3.interpolateInferno, d3.interpolateMagma, d3.interpolatePlasma, d3.interpolateCividis, d3.interpolateWarm, d3.interpolateCool, d3.interpolateCubehelixDefault, d3.interpolateBuGn, d3.interpolateBuPu, d3.interpolateGnBu, d3.interpolateOrRd, d3.interpolatePuBuGn, d3.interpolatePuBu, d3.interpolatePuRd, d3.interpolateRdPu, d3.interpolateYlGnBu, d3.interpolateYlGn, d3.interpolateYlOrBr, d3.interpolateYlOrRd, d3.interpolateRainbow\n",
            "\n"
          ]
        },
        {
          "output_type": "stream",
          "name": "stderr",
          "text": [
            "Exception in thread background thread for pid 2923:\n",
            "Traceback (most recent call last):\n",
            "  File \"/usr/lib/python3.7/threading.py\", line 926, in _bootstrap_inner\n",
            "    self.run()\n",
            "  File \"/usr/lib/python3.7/threading.py\", line 870, in run\n",
            "    self._target(*self._args, **self._kwargs)\n",
            "  File \"/usr/local/lib/python3.7/dist-packages/sh.py\", line 1641, in wrap\n",
            "    fn(*rgs, **kwargs)\n",
            "  File \"/usr/local/lib/python3.7/dist-packages/sh.py\", line 2569, in background_thread\n",
            "    handle_exit_code(exit_code)\n",
            "  File \"/usr/local/lib/python3.7/dist-packages/sh.py\", line 2269, in fn\n",
            "    return self.command.handle_command_exit_code(exit_code)\n",
            "  File \"/usr/local/lib/python3.7/dist-packages/sh.py\", line 869, in handle_command_exit_code\n",
            "    raise exc\n",
            "sh.ErrorReturnCode_1: \n",
            "\n",
            "  RAN: /bin/bash -c 'kgtk visualize-graph          -i $TEMP/movies.common_actors.count.tsv.gz         --node-file $TEMP/movies.node.file.tsv         --edge-width-column P1114         --edge-width-minimum 0.5         --edge-width-maximum 1         --edge-color-default '\"'\"'#888888'\"'\"'         --edge-width-scale linear         --node-color-column genre         --node-color-style categorical         --tooltip-column tooltip         --show-text above         -o $OUT/movies.gt1.common_actors.genre.html'\n",
            "\n",
            "  STDOUT:\n",
            "\n",
            "\n",
            "  STDERR:\n",
            "\n",
            "\n"
          ]
        }
      ],
      "source": [
        "kgtk(\"\"\"visualize-graph \n",
        "        -i $TEMP/movies.common_actors.count.tsv.gz\n",
        "        --node-file $TEMP/movies.node.file.tsv\n",
        "        --edge-width-column P1114\n",
        "        --edge-width-minimum 0.5\n",
        "        --edge-width-maximum 1\n",
        "        --edge-color-default '#888888'\n",
        "        --edge-width-scale linear\n",
        "        --node-color-column genre\n",
        "        --node-color-style categorical\n",
        "        --tooltip-column tooltip\n",
        "        --show-text above\n",
        "        -o $OUT/movies.gt1.common_actors.genre.html\"\"\")"
      ]
    },
    {
      "cell_type": "markdown",
      "metadata": {
        "id": "LVgOadZxhaqb"
      },
      "source": [
        "![Movies](https://raw.githubusercontent.com/usc-isi-i2/kgtk-notebooks/main/tutorial/assets/movies.gt1.genre.png)"
      ]
    },
    {
      "cell_type": "code",
      "execution_count": 40,
      "metadata": {
        "id": "lgFjkPH4haqc",
        "colab": {
          "base_uri": "https://localhost:8080/",
          "height": 169
        },
        "outputId": "5a12ffb2-a580-496b-db1d-5ee274a5698c"
      },
      "outputs": [
        {
          "output_type": "error",
          "ename": "AttributeError",
          "evalue": "ignored",
          "traceback": [
            "\u001b[0;31m---------------------------------------------------------------------------\u001b[0m",
            "\u001b[0;31mAttributeError\u001b[0m                            Traceback (most recent call last)",
            "\u001b[0;32m<ipython-input-40-0ae9cdfdf84a>\u001b[0m in \u001b[0;36m<module>\u001b[0;34m\u001b[0m\n\u001b[0;32m----> 1\u001b[0;31m \u001b[0mfiles\u001b[0m\u001b[0;34m.\u001b[0m\u001b[0mdownload\u001b[0m\u001b[0;34m(\u001b[0m\u001b[0;34mf\"{os.environ['OUT']}/movies.gt1.common_actors.genre.html\"\u001b[0m\u001b[0;34m)\u001b[0m\u001b[0;34m\u001b[0m\u001b[0;34m\u001b[0m\u001b[0m\n\u001b[0m",
            "\u001b[0;31mAttributeError\u001b[0m: 'list' object has no attribute 'download'"
          ]
        }
      ],
      "source": [
        "files.download(f\"{os.environ['OUT']}/movies.gt1.common_actors.genre.html\")"
      ]
    },
    {
      "cell_type": "markdown",
      "metadata": {
        "id": "mMs-3wEThaqc"
      },
      "source": [
        "#### Movies with 3 or more common actors"
      ]
    },
    {
      "cell_type": "code",
      "execution_count": 41,
      "metadata": {
        "id": "-hYD1gpzhaqc"
      },
      "outputs": [],
      "source": [
        "kgtk(\"\"\"\n",
        "    query -i $TEMP/movies.common_actors.count.1.tsv.gz\n",
        "        --match 'common_actor: (film1)-[eid {P1114: count}]->(film2)'\n",
        "        --where 'cast(count, int) > 2'\n",
        "        --return 'film1 as node1, \"Pcommon_actor\" as label, film2 as node2, count as P1114, eid.actors as actors'\n",
        "    -o $TEMP/movies.common_actors.count.3.tsv.gz\n",
        "\"\"\")"
      ]
    },
    {
      "cell_type": "code",
      "execution_count": 42,
      "metadata": {
        "id": "S0wKFvt3haqc"
      },
      "outputs": [],
      "source": [
        "kgtk(f\"\"\"query -i $TEMP/movies.common_actors.count.3.tsv.gz\n",
        "         --match 'common_actor: (n1)-[]->()'\n",
        "         --return 'distinct n1 as node1'\n",
        "         -o $TEMP/movies.common_actors.node31.tsv\n",
        "\"\"\")"
      ]
    },
    {
      "cell_type": "code",
      "execution_count": 43,
      "metadata": {
        "id": "fN3A8pwdhaqc"
      },
      "outputs": [],
      "source": [
        "kgtk(f\"\"\"query -i $TEMP/movies.common_actors.count.3.tsv.gz\n",
        "         --match 'common_actor: ()-[]->(n2)'\n",
        "         --return 'distinct n2 as node1'\n",
        "         -o $TEMP/movies.common_actors.node32.tsv\n",
        "\"\"\")"
      ]
    },
    {
      "cell_type": "code",
      "execution_count": 44,
      "metadata": {
        "id": "UZSWr1fehaqc"
      },
      "outputs": [],
      "source": [
        "kgtk(f\"\"\"cat -i $TEMP/movies.common_actors.node31.tsv \n",
        "             -i $TEMP/movies.common_actors.node32.tsv \n",
        "             --mode NONE  \n",
        "             -o $TEMP/movies.common_actors.node.3.tsv\n",
        "\"\"\")"
      ]
    },
    {
      "cell_type": "markdown",
      "metadata": {
        "id": "pz2xW2k_haqd"
      },
      "source": [
        "The following kypher query create a node file to be used as an input to the `kgtk visualize-graph` command.\n",
        "\n",
        "Finds the genre and actors for a movie, concatenating multiple genres and actors to a comma separated string."
      ]
    },
    {
      "cell_type": "code",
      "execution_count": 45,
      "metadata": {
        "id": "Y_qivjPfhaqd"
      },
      "outputs": [],
      "source": [
        "kgtk(f\"\"\"query -i $TEMP/movies.common_actors.node.3.tsv -i label -i item\n",
        "         --match 'common_actor: (n1)-[]->(),\n",
        "                 label: (n1)-[]->(n1_label),\n",
        "                 item: (n1)-[:P161]->(actor),\n",
        "                 label: (actor)-[]->(actor_label)'\n",
        "         --opt   'item: (n1)-[:P136]->(genre)'\n",
        "         --opt   'label: (genre)-[]->(g_label)'\n",
        "         --return 'distinct n1 as id, \n",
        "                   n1_label as label,  \n",
        "                   group_concat(distinct kgtk_lqstring_text(g_label)) as genre, \n",
        "                   group_concat(distinct kgtk_lqstring_text(actor_label)) as actors,\n",
        "                   printf(\"%s<BR>Genre: %s<BR>Cast: %s\", kgtk_lqstring_text(n1_label), \n",
        "                   replace(group_concat(distinct kgtk_lqstring_text(g_label)), \",\", \", \"), \n",
        "                   replace(group_concat(distinct kgtk_lqstring_text(actor_label)), \",\", \", \")) as tooltip'\n",
        "         -o $TEMP/movies.node.file.2.tsv\n",
        "\"\"\")"
      ]
    },
    {
      "cell_type": "markdown",
      "metadata": {
        "id": "W6Zhrwbbhaqd"
      },
      "source": [
        "Run the [kgtk visualize-graph](https://kgtk.readthedocs.io/en/latest/analysis/visualize-graph) command\n",
        "\n",
        "The following command will draw the graph as:\n",
        "\n",
        "- an edge exists between two movie nodes if they have `3` or more common actors\n",
        "- edge width between two movies is proportionate to number of common actors\n",
        "- movie node color represents the genre of the movie"
      ]
    },
    {
      "cell_type": "code",
      "execution_count": 46,
      "metadata": {
        "id": "8RbcqPh7haqd",
        "colab": {
          "base_uri": "https://localhost:8080/"
        },
        "outputId": "16c666b0-fc90-4e84-b643-49c7e744828d"
      },
      "outputs": [
        {
          "output_type": "stream",
          "name": "stdout",
          "text": [
            "Unknown value: categorical for option: --node-color-style. Please choose one of the following: d3.schemeCategory10, d3.schemeAccent, d3.schemeDark2, d3.schemePaired, d3.schemePastel1, d3.schemePastel2, d3.schemeSet1, d3.schemeSet2, d3.schemeSet3, d3.schemeTableau10, d3.interpolateBrBG, d3.interpolatePRGn, d3.interpolatePiYG, d3.interpolatePuOr, d3.interpolateRdBu, d3.interpolateRdGy, d3.interpolateRdYlBu, d3.interpolateRdYlGn, d3.interpolateSpectral, d3.interpolateBlues, d3.interpolateGreens, d3.interpolateOranges, d3.interpolatePurples, d3.interpolateReds, d3.interpolateGreys, d3.interpolateTurbo, d3.interpolateViridis, d3.interpolateInferno, d3.interpolateMagma, d3.interpolatePlasma, d3.interpolateCividis, d3.interpolateWarm, d3.interpolateCool, d3.interpolateCubehelixDefault, d3.interpolateBuGn, d3.interpolateBuPu, d3.interpolateGnBu, d3.interpolateOrRd, d3.interpolatePuBuGn, d3.interpolatePuBu, d3.interpolatePuRd, d3.interpolateRdPu, d3.interpolateYlGnBu, d3.interpolateYlGn, d3.interpolateYlOrBr, d3.interpolateYlOrRd, d3.interpolateRainbow\n",
            "\n"
          ]
        },
        {
          "output_type": "stream",
          "name": "stderr",
          "text": [
            "Exception in thread background thread for pid 2991:\n",
            "Traceback (most recent call last):\n",
            "  File \"/usr/lib/python3.7/threading.py\", line 926, in _bootstrap_inner\n",
            "    self.run()\n",
            "  File \"/usr/lib/python3.7/threading.py\", line 870, in run\n",
            "    self._target(*self._args, **self._kwargs)\n",
            "  File \"/usr/local/lib/python3.7/dist-packages/sh.py\", line 1641, in wrap\n",
            "    fn(*rgs, **kwargs)\n",
            "  File \"/usr/local/lib/python3.7/dist-packages/sh.py\", line 2569, in background_thread\n",
            "    handle_exit_code(exit_code)\n",
            "  File \"/usr/local/lib/python3.7/dist-packages/sh.py\", line 2269, in fn\n",
            "    return self.command.handle_command_exit_code(exit_code)\n",
            "  File \"/usr/local/lib/python3.7/dist-packages/sh.py\", line 869, in handle_command_exit_code\n",
            "    raise exc\n",
            "sh.ErrorReturnCode_1: \n",
            "\n",
            "  RAN: /bin/bash -c 'kgtk visualize-graph          -i $TEMP/movies.common_actors.count.3.tsv.gz         --node-file $TEMP/movies.node.file.2.tsv         --edge-width-column P1114         --edge-width-minimum 0.5         --edge-width-maximum 1         --edge-color-default '\"'\"'#888888'\"'\"'         --edge-width-scale linear         --node-color-column genre         --node-color-style categorical         --tooltip-column tooltip         --show-text above         -o $OUT/movies.gt3.common_actors.genre.html'\n",
            "\n",
            "  STDOUT:\n",
            "\n",
            "\n",
            "  STDERR:\n",
            "\n",
            "\n"
          ]
        }
      ],
      "source": [
        "kgtk(\"\"\"visualize-graph \n",
        "        -i $TEMP/movies.common_actors.count.3.tsv.gz\n",
        "        --node-file $TEMP/movies.node.file.2.tsv\n",
        "        --edge-width-column P1114\n",
        "        --edge-width-minimum 0.5\n",
        "        --edge-width-maximum 1\n",
        "        --edge-color-default '#888888'\n",
        "        --edge-width-scale linear\n",
        "        --node-color-column genre\n",
        "        --node-color-style categorical\n",
        "        --tooltip-column tooltip\n",
        "        --show-text above\n",
        "        -o $OUT/movies.gt3.common_actors.genre.html\"\"\")"
      ]
    },
    {
      "cell_type": "code",
      "execution_count": 48,
      "metadata": {
        "id": "GYEFFnschaqd",
        "colab": {
          "base_uri": "https://localhost:8080/",
          "height": 169
        },
        "outputId": "95f46632-1aee-481b-e183-24c1ec531c39"
      },
      "outputs": [
        {
          "output_type": "error",
          "ename": "AttributeError",
          "evalue": "ignored",
          "traceback": [
            "\u001b[0;31m---------------------------------------------------------------------------\u001b[0m",
            "\u001b[0;31mAttributeError\u001b[0m                            Traceback (most recent call last)",
            "\u001b[0;32m<ipython-input-48-349b0e19a941>\u001b[0m in \u001b[0;36m<module>\u001b[0;34m\u001b[0m\n\u001b[0;32m----> 1\u001b[0;31m \u001b[0mfiles\u001b[0m\u001b[0;34m.\u001b[0m\u001b[0mdownload\u001b[0m\u001b[0;34m(\u001b[0m\u001b[0;34mf\"{os.environ['OUT']}/movies.gt3.common_actors.genre.html\"\u001b[0m\u001b[0;34m)\u001b[0m\u001b[0;34m\u001b[0m\u001b[0;34m\u001b[0m\u001b[0m\n\u001b[0m",
            "\u001b[0;31mAttributeError\u001b[0m: 'list' object has no attribute 'download'"
          ]
        }
      ],
      "source": [
        "files.download(f\"{os.environ['OUT']}/movies.gt3.common_actors.genre.html\")"
      ]
    },
    {
      "cell_type": "markdown",
      "metadata": {
        "id": "HzaU9iGVhaqd"
      },
      "source": [
        "#### Visualize Movies according to Awards won"
      ]
    },
    {
      "cell_type": "code",
      "execution_count": 49,
      "metadata": {
        "id": "Czxue1Uuhaqe"
      },
      "outputs": [],
      "source": [
        "kgtk(\"\"\"\n",
        "    query -i $TEMP/movies.common_actors.count.1.tsv.gz\n",
        "        --match 'common_actor: (film1)-[eid {P1114: count}]->(film2)'\n",
        "        --where 'cast(count, int) > 2'\n",
        "        --return 'film1 as node1, \"Pcommon_actor\" as label, film2 as node2, count as P1114, eid.actors as actors'\n",
        "    -o $TEMP/movies.common_actors.count.4.tsv.gz\n",
        "\"\"\")"
      ]
    },
    {
      "cell_type": "code",
      "execution_count": 50,
      "metadata": {
        "id": "mV43NBxZhaqe"
      },
      "outputs": [],
      "source": [
        "kgtk(f\"\"\"query -i $TEMP/movies.common_actors.count.4.tsv.gz\n",
        "         --match 'common_actor: (n1)-[]->()'\n",
        "         --return 'distinct n1 as node1'\n",
        "         -o $TEMP/movies.common_actors.node41.tsv\n",
        "\"\"\")"
      ]
    },
    {
      "cell_type": "code",
      "execution_count": 51,
      "metadata": {
        "id": "_jo_IGKDhaqe"
      },
      "outputs": [],
      "source": [
        "kgtk(f\"\"\"query -i $TEMP/movies.common_actors.count.4.tsv.gz\n",
        "         --match 'common_actor: ()-[]->(n2)'\n",
        "         --return 'distinct n2 as node1'\n",
        "         -o $TEMP/movies.common_actors.node42.tsv\n",
        "\"\"\")"
      ]
    },
    {
      "cell_type": "code",
      "execution_count": 52,
      "metadata": {
        "id": "vf88L9wmhaqe"
      },
      "outputs": [],
      "source": [
        "kgtk(f\"\"\"cat -i $TEMP/movies.common_actors.node41.tsv \n",
        "             -i $TEMP/movies.common_actors.node42.tsv \n",
        "             --mode NONE  \n",
        "             -o $TEMP/movies.common_actors.node.4.tsv\n",
        "\"\"\")"
      ]
    },
    {
      "cell_type": "markdown",
      "metadata": {
        "id": "V8-j_02ihaqe"
      },
      "source": [
        "The following kypher query create a node file to be used as an input to the `kgtk visualize-graph` command.\n",
        "\n",
        "Finds the awards and actors for a movie, concatenating multiple awards and actors to comma separated strings. Also stores the award count."
      ]
    },
    {
      "cell_type": "code",
      "execution_count": 53,
      "metadata": {
        "id": "5ZhCKNNyhaqe"
      },
      "outputs": [],
      "source": [
        "kgtk(f\"\"\"query -i $TEMP/movies.common_actors.node.4.tsv -i label -i item\n",
        "         --match 'common_actor: (n1)-[]->(),\n",
        "                 label: (n1)-[]->(n1_label),\n",
        "                 item: (n1)-[:P161]->(actor),\n",
        "                 label: (actor)-[]->(actor_label)'\n",
        "        --opt    'item: (n1)-[:P166]->(award),\n",
        "                 label: (award)-[]->(award_label)'\n",
        "         --return 'distinct n1 as id, \n",
        "                   n1_label as label,  \n",
        "                   count(distinct award) as award_count,\n",
        "                   group_concat(distinct kgtk_lqstring_text(award_label)) as awards,\n",
        "                   group_concat(distinct kgtk_lqstring_text(actor_label)) as actors,\n",
        "                   printf(\"%s<BR>Awards (%s): %s<BR>Cast: %s\", kgtk_lqstring_text(n1_label), \n",
        "                   count(distinct award), \n",
        "                   replace(group_concat(distinct kgtk_lqstring_text(award_label)), \",\", \", \"), \n",
        "                   replace(group_concat(distinct kgtk_lqstring_text(actor_label)), \",\", \", \")) as tooltip'\n",
        "         -o $TEMP/movies.node.file.4.tsv\n",
        "\"\"\")"
      ]
    },
    {
      "cell_type": "markdown",
      "metadata": {
        "id": "OCWx8FPThaqe"
      },
      "source": [
        "Run the [kgtk visualize-graph](https://kgtk.readthedocs.io/en/latest/analysis/visualize-graph) command\n",
        "\n",
        "The following command will draw the graph as:\n",
        "\n",
        "- an edge exists between two movie nodes if they have `3` or more common actors\n",
        "- edge width between two movies is proportionate to number of common actors\n",
        "- movie node color represents the award(s) a movie has won\n",
        "- size of the movie node depends on the number of awards it has won"
      ]
    },
    {
      "cell_type": "code",
      "execution_count": 54,
      "metadata": {
        "id": "qLONuRwhhaqf",
        "colab": {
          "base_uri": "https://localhost:8080/"
        },
        "outputId": "0defd710-7e84-4c77-8421-011923d4d178"
      },
      "outputs": [
        {
          "output_type": "stream",
          "name": "stdout",
          "text": [
            "Unknown value: categorical for option: --node-color-style. Please choose one of the following: d3.schemeCategory10, d3.schemeAccent, d3.schemeDark2, d3.schemePaired, d3.schemePastel1, d3.schemePastel2, d3.schemeSet1, d3.schemeSet2, d3.schemeSet3, d3.schemeTableau10, d3.interpolateBrBG, d3.interpolatePRGn, d3.interpolatePiYG, d3.interpolatePuOr, d3.interpolateRdBu, d3.interpolateRdGy, d3.interpolateRdYlBu, d3.interpolateRdYlGn, d3.interpolateSpectral, d3.interpolateBlues, d3.interpolateGreens, d3.interpolateOranges, d3.interpolatePurples, d3.interpolateReds, d3.interpolateGreys, d3.interpolateTurbo, d3.interpolateViridis, d3.interpolateInferno, d3.interpolateMagma, d3.interpolatePlasma, d3.interpolateCividis, d3.interpolateWarm, d3.interpolateCool, d3.interpolateCubehelixDefault, d3.interpolateBuGn, d3.interpolateBuPu, d3.interpolateGnBu, d3.interpolateOrRd, d3.interpolatePuBuGn, d3.interpolatePuBu, d3.interpolatePuRd, d3.interpolateRdPu, d3.interpolateYlGnBu, d3.interpolateYlGn, d3.interpolateYlOrBr, d3.interpolateYlOrRd, d3.interpolateRainbow\n",
            "\n"
          ]
        },
        {
          "output_type": "stream",
          "name": "stderr",
          "text": [
            "Exception in thread background thread for pid 3061:\n",
            "Traceback (most recent call last):\n",
            "  File \"/usr/lib/python3.7/threading.py\", line 926, in _bootstrap_inner\n",
            "    self.run()\n",
            "  File \"/usr/lib/python3.7/threading.py\", line 870, in run\n",
            "    self._target(*self._args, **self._kwargs)\n",
            "  File \"/usr/local/lib/python3.7/dist-packages/sh.py\", line 1641, in wrap\n",
            "    fn(*rgs, **kwargs)\n",
            "  File \"/usr/local/lib/python3.7/dist-packages/sh.py\", line 2569, in background_thread\n",
            "    handle_exit_code(exit_code)\n",
            "  File \"/usr/local/lib/python3.7/dist-packages/sh.py\", line 2269, in fn\n",
            "    return self.command.handle_command_exit_code(exit_code)\n",
            "  File \"/usr/local/lib/python3.7/dist-packages/sh.py\", line 869, in handle_command_exit_code\n",
            "    raise exc\n",
            "sh.ErrorReturnCode_1: \n",
            "\n",
            "  RAN: /bin/bash -c 'kgtk visualize-graph          -i $TEMP/movies.common_actors.count.4.tsv.gz         --node-file $TEMP/movies.node.file.4.tsv         --edge-width-column P1114         --edge-width-minimum 0.5         --edge-width-maximum 1         --edge-color-default '\"'\"'#888888'\"'\"'         --edge-width-scale linear         --node-color-column awards         --node-color-style categorical         --tooltip-column tooltip         --show-text above         --node-size-column award_count         --node-size-scale linear         --node-size-minimum 1         --node-size-maximum 20         -o $OUT/movies.common_actors.awards.html'\n",
            "\n",
            "  STDOUT:\n",
            "\n",
            "\n",
            "  STDERR:\n",
            "\n",
            "\n"
          ]
        }
      ],
      "source": [
        "kgtk(\"\"\"visualize-graph \n",
        "        -i $TEMP/movies.common_actors.count.4.tsv.gz\n",
        "        --node-file $TEMP/movies.node.file.4.tsv\n",
        "        --edge-width-column P1114\n",
        "        --edge-width-minimum 0.5\n",
        "        --edge-width-maximum 1\n",
        "        --edge-color-default '#888888'\n",
        "        --edge-width-scale linear\n",
        "        --node-color-column awards\n",
        "        --node-color-style categorical\n",
        "        --tooltip-column tooltip\n",
        "        --show-text above\n",
        "        --node-size-column award_count\n",
        "        --node-size-scale linear\n",
        "        --node-size-minimum 1\n",
        "        --node-size-maximum 20\n",
        "        -o $OUT/movies.common_actors.awards.html\"\"\")"
      ]
    },
    {
      "cell_type": "code",
      "execution_count": 56,
      "metadata": {
        "id": "2auZRqmOhaqf",
        "colab": {
          "base_uri": "https://localhost:8080/",
          "height": 169
        },
        "outputId": "547c3d61-963a-4d33-a9d2-278e160d946e"
      },
      "outputs": [
        {
          "output_type": "error",
          "ename": "AttributeError",
          "evalue": "ignored",
          "traceback": [
            "\u001b[0;31m---------------------------------------------------------------------------\u001b[0m",
            "\u001b[0;31mAttributeError\u001b[0m                            Traceback (most recent call last)",
            "\u001b[0;32m<ipython-input-56-9d9ee290794e>\u001b[0m in \u001b[0;36m<module>\u001b[0;34m\u001b[0m\n\u001b[0;32m----> 1\u001b[0;31m \u001b[0mfiles\u001b[0m\u001b[0;34m.\u001b[0m\u001b[0mdownload\u001b[0m\u001b[0;34m(\u001b[0m\u001b[0;34mf\"{os.environ['OUT']}/movies.common_actors.awards.html\"\u001b[0m\u001b[0;34m)\u001b[0m\u001b[0;34m\u001b[0m\u001b[0;34m\u001b[0m\u001b[0m\n\u001b[0m",
            "\u001b[0;31mAttributeError\u001b[0m: 'list' object has no attribute 'download'"
          ]
        }
      ],
      "source": [
        "files.download(f\"{os.environ['OUT']}/movies.common_actors.awards.html\")"
      ]
    },
    {
      "cell_type": "markdown",
      "metadata": {
        "id": "oE6nLKgxhaqf"
      },
      "source": [
        "![Movies](https://raw.githubusercontent.com/usc-isi-i2/kgtk-notebooks/main/tutorial/assets/movies.award.png)"
      ]
    },
    {
      "cell_type": "markdown",
      "metadata": {
        "id": "FvoKiJFYhaqf"
      },
      "source": [
        "#### Visualize Movies according to Publication Date and Box Office Collections"
      ]
    },
    {
      "cell_type": "markdown",
      "metadata": {
        "id": "ceD7Sz2ehaqf"
      },
      "source": [
        "The following kypher query create a node file to be used as an input to the `kgtk visualize-graph` command.\n",
        "\n",
        "Finds the publication year and box office collections for a movie, in case of multiple entries, keep the most recent one."
      ]
    },
    {
      "cell_type": "code",
      "execution_count": 57,
      "metadata": {
        "id": "oHx6eqPKhaqf"
      },
      "outputs": [],
      "source": [
        "kgtk(f\"\"\"query -i $TEMP/movies.common_actors.node.4.tsv -i label -i time -i quantity\n",
        "         --match 'common_actor: (n1)-[]->(),\n",
        "                 label: (n1)-[]->(n1_label)'\n",
        "        --opt    'quantity: (n1)-[:P2142]->(box_office),\n",
        "                  time: (n1)-[:P577]->(publication_date)'\n",
        "         --return 'distinct n1 as id, \n",
        "                   n1_label as label,  \n",
        "                   max(kgtk_quantity_number(box_office)) as bo_collection,\n",
        "                   max(distinct(kgtk_date_year(publication_date))) as publication_year,\n",
        "                   printf(\"%s (%s)<BR>Publication Year: %s<BR>Box Office: %s\", kgtk_lqstring_text(n1_label), n1,\n",
        "                   max(distinct(kgtk_date_year(publication_date))),\n",
        "                   printf(\"$%,d\", max(kgtk_quantity_number(box_office)))) as tooltip'\n",
        "         -o $TEMP/movies.node.file.5.tsv\n",
        "\"\"\")"
      ]
    },
    {
      "cell_type": "markdown",
      "metadata": {
        "id": "Ddgg5Pqwhaqf"
      },
      "source": [
        "Run the [kgtk visualize-graph](https://kgtk.readthedocs.io/en/latest/analysis/visualize-graph) command\n",
        "\n",
        "The following command will draw the graph as:\n",
        "\n",
        "- an edge exists between two movie nodes if they have `3` or more common actors\n",
        "- edge width between two movies is proportionate to number of common actors\n",
        "- movie node color represents the year of publication\n",
        "- size of the movie node depends on the box office collections"
      ]
    },
    {
      "cell_type": "code",
      "execution_count": 58,
      "metadata": {
        "id": "LD0ffDWZhaqg",
        "colab": {
          "base_uri": "https://localhost:8080/"
        },
        "outputId": "b6abde6a-39c7-4a86-ae4b-dd2235e724a7"
      },
      "outputs": [
        {
          "output_type": "stream",
          "name": "stdout",
          "text": [
            "usage: kgtk visualize-graph [-h] [-i INPUT_FILE] [-o OUTPUT_FILE]\n",
            "                            [--node-file NODE_FILE] [--direction DIRECTION]\n",
            "                            [--show-edge-label]\n",
            "                            [--edge-color-column EDGE_COLOR_COLUMN]\n",
            "                            [--edge-color-numbers EDGE_COLOR_NUMBERS]\n",
            "                            [--edge-color-hex]\n",
            "                            [--edge-color-style EDGE_COLOR_STYLE]\n",
            "                            [--edge-color-default EDGE_COLOR_DEFAULT]\n",
            "                            [--edge-width-column EDGE_WIDTH_COLUMN]\n",
            "                            [--edge-width-minimum EDGE_WIDTH_MINIMUM]\n",
            "                            [--edge-width-maximum EDGE_WIDTH_MAXIMUM]\n",
            "                            [--edge-width-default EDGE_WIDTH_DEFAULT]\n",
            "                            [--edge-width-scale EDGE_WIDTH_SCALE]\n",
            "                            [--node-color-column NODE_COLOR_COLUMN]\n",
            "                            [--node-color-style NODE_COLOR_STYLE]\n",
            "                            [--node-color-default NODE_COLOR_DEFAULT]\n",
            "                            [--node-color-numbers NODE_COLOR_NUMBERS]\n",
            "                            [--node-color-hex]\n",
            "                            [--node-size-column NODE_SIZE_COLUMN]\n",
            "                            [--node-size-minimum NODE_SIZE_MINIMUM]\n",
            "                            [--node-size-maximum NODE_SIZE_MAXIMUM]\n",
            "                            [--node-size-default NODE_SIZE_DEFAULT]\n",
            "                            [--node-size-scale NODE_SIZE_SCALE]\n",
            "                            [--node-file-id NODE_FILE_ID]\n",
            "                            [--show-text-limit SHOW_TEXT_LIMIT]\n",
            "                            [--node-border-color NODE_BORDER_COLOR]\n",
            "                            [--tooltip-column TOOLTIP_COLUMN]\n",
            "                            [--show-text SHOW_TEXT] [--show-blank-labels]\n",
            "                            [-v [optional True|False]]\n",
            "kgtk visualize-graph: error: argument --node-color-numbers: expected one argument\n",
            "\n"
          ]
        },
        {
          "output_type": "stream",
          "name": "stderr",
          "text": [
            "Exception in thread background thread for pid 3087:\n",
            "Traceback (most recent call last):\n",
            "  File \"/usr/lib/python3.7/threading.py\", line 926, in _bootstrap_inner\n",
            "    self.run()\n",
            "  File \"/usr/lib/python3.7/threading.py\", line 870, in run\n",
            "    self._target(*self._args, **self._kwargs)\n",
            "  File \"/usr/local/lib/python3.7/dist-packages/sh.py\", line 1641, in wrap\n",
            "    fn(*rgs, **kwargs)\n",
            "  File \"/usr/local/lib/python3.7/dist-packages/sh.py\", line 2569, in background_thread\n",
            "    handle_exit_code(exit_code)\n",
            "  File \"/usr/local/lib/python3.7/dist-packages/sh.py\", line 2269, in fn\n",
            "    return self.command.handle_command_exit_code(exit_code)\n",
            "  File \"/usr/local/lib/python3.7/dist-packages/sh.py\", line 869, in handle_command_exit_code\n",
            "    raise exc\n",
            "sh.ErrorReturnCode_2: \n",
            "\n",
            "  RAN: /bin/bash -c 'kgtk visualize-graph          -i $TEMP/movies.common_actors.count.4.tsv.gz         --node-file $TEMP/movies.node.file.5.tsv         --edge-width-column P1114         --edge-width-minimum 0.5         --edge-width-maximum 1         --edge-color-default '\"'\"'#888888'\"'\"'         --edge-width-scale linear         --node-color-column publication_year         --node-color-numbers         --tooltip-column tooltip         --show-text above         --node-size-column bo_collection         --node-size-scale linear         --node-size-minimum 1         --node-size-maximum 20         -o $OUT/movies.common_actors.year.box_office.html'\n",
            "\n",
            "  STDOUT:\n",
            "\n",
            "\n",
            "  STDERR:\n",
            "\n",
            "\n"
          ]
        }
      ],
      "source": [
        "kgtk(\"\"\"visualize-graph \n",
        "        -i $TEMP/movies.common_actors.count.4.tsv.gz\n",
        "        --node-file $TEMP/movies.node.file.5.tsv\n",
        "        --edge-width-column P1114\n",
        "        --edge-width-minimum 0.5\n",
        "        --edge-width-maximum 1\n",
        "        --edge-color-default '#888888'\n",
        "        --edge-width-scale linear\n",
        "        --node-color-column publication_year\n",
        "        --node-color-numbers\n",
        "        --tooltip-column tooltip\n",
        "        --show-text above\n",
        "        --node-size-column bo_collection\n",
        "        --node-size-scale linear\n",
        "        --node-size-minimum 1\n",
        "        --node-size-maximum 20\n",
        "        -o $OUT/movies.common_actors.year.box_office.html\"\"\")"
      ]
    },
    {
      "cell_type": "markdown",
      "metadata": {
        "id": "0YboF0SHhaqg"
      },
      "source": [
        "![Movies](https://raw.githubusercontent.com/usc-isi-i2/kgtk-notebooks/main/tutorial/assets/movies.year.boxoffice.png)"
      ]
    },
    {
      "cell_type": "code",
      "execution_count": 59,
      "metadata": {
        "id": "wb5XNCgkhaqg",
        "colab": {
          "base_uri": "https://localhost:8080/",
          "height": 169
        },
        "outputId": "b42d9f18-84d2-40be-df4c-de10e84ce761"
      },
      "outputs": [
        {
          "output_type": "error",
          "ename": "AttributeError",
          "evalue": "ignored",
          "traceback": [
            "\u001b[0;31m---------------------------------------------------------------------------\u001b[0m",
            "\u001b[0;31mAttributeError\u001b[0m                            Traceback (most recent call last)",
            "\u001b[0;32m<ipython-input-59-db1672182025>\u001b[0m in \u001b[0;36m<module>\u001b[0;34m\u001b[0m\n\u001b[0;32m----> 1\u001b[0;31m \u001b[0mfiles\u001b[0m\u001b[0;34m.\u001b[0m\u001b[0mdownload\u001b[0m\u001b[0;34m(\u001b[0m\u001b[0;34mf\"{os.environ['OUT']}/movies.common_actors.year.box_office.html\"\u001b[0m\u001b[0;34m)\u001b[0m\u001b[0;34m\u001b[0m\u001b[0;34m\u001b[0m\u001b[0m\n\u001b[0m",
            "\u001b[0;31mAttributeError\u001b[0m: 'list' object has no attribute 'download'"
          ]
        }
      ],
      "source": [
        "files.download(f\"{os.environ['OUT']}/movies.common_actors.year.box_office.html\")"
      ]
    },
    {
      "cell_type": "markdown",
      "metadata": {
        "id": "DTXklBM5haqg"
      },
      "source": [
        "### Use Graph Tool for visualization"
      ]
    },
    {
      "cell_type": "markdown",
      "metadata": {
        "id": "tflAtW2ihaqg"
      },
      "source": [
        "The KGTK `export-gt` command makes it easy to export KGs to `graph tool` (https://graph-tool.skewed.de) , a high perfromance graph analytics and visualization tool:"
      ]
    },
    {
      "cell_type": "code",
      "execution_count": 60,
      "metadata": {
        "id": "dhUpRhkdhaqg",
        "colab": {
          "base_uri": "https://localhost:8080/"
        },
        "outputId": "7391b0dc-e3af-4485-e542-4641de3b8a69"
      },
      "outputs": [
        {
          "output_type": "stream",
          "name": "stdout",
          "text": [
            "/usr/lib/python3/dist-packages/graph_tool/draw/cairo_draw.py:32: RuntimeWarning: Error importing cairo. Graph drawing will not work.\n",
            "  warnings.warn(msg, RuntimeWarning)\n",
            "/usr/lib/python3/dist-packages/graph_tool/draw/cairo_draw.py:32: RuntimeWarning: Error importing cairo. Graph drawing will not work.\n",
            "  warnings.warn(msg, RuntimeWarning)\n",
            "/usr/lib/python3/dist-packages/graph_tool/draw/cairo_draw.py:32: RuntimeWarning: Error importing cairo. Graph drawing will not work.\n",
            "  warnings.warn(msg, RuntimeWarning)\n",
            "/usr/lib/python3/dist-packages/graph_tool/all.py:39: RuntimeWarning: Error importing draw module, proceeding nevertheless: No module named 'cairo._cairo'\n",
            "  warnings.warn(msg, RuntimeWarning)\n"
          ]
        }
      ],
      "source": [
        "!kgtk export-gt -i $OUT/arnold.family.tsv -o $OUT/arnold.family.gt"
      ]
    },
    {
      "cell_type": "markdown",
      "metadata": {
        "id": "IbUu82ODhaqg"
      },
      "source": [
        "Once the graph is in `graph-tool` format, it is easy to compute networks metrics such as betweenees centrality, and to visualize the graph.\n",
        "Below is a visualization of Arnold's family graph where the color of the nodes and the thickness of the lines shows betweenees centrality:"
      ]
    },
    {
      "cell_type": "markdown",
      "metadata": {
        "id": "mjy-PcHDhaqg"
      },
      "source": [
        "**DO NOT RUN THE FOLLOWING CELL IN GOOGLE COLAB. graph-tool does not install properly**"
      ]
    },
    {
      "cell_type": "code",
      "execution_count": null,
      "metadata": {
        "id": "ErGHJKmyhaqh"
      },
      "outputs": [],
      "source": [
        "from graph_tool.all import *"
      ]
    },
    {
      "cell_type": "code",
      "execution_count": null,
      "metadata": {
        "id": "gTrEDLuYhaqh"
      },
      "outputs": [],
      "source": [
        "path = os.environ[\"OUT\"] + \"/arnold.family.gt\"\n",
        "g = load_graph(path)\n",
        "\n",
        "bv, be = betweenness(g)\n",
        "be.a /= be.a.max() / 5\n",
        "graph_draw(g, vertex_fill_color=bv, edge_pen_width=be, vertex_size=15)"
      ]
    },
    {
      "cell_type": "markdown",
      "metadata": {
        "id": "kfcZCDq8haqh"
      },
      "source": [
        "`graph-tool` is a very rich library. Here is a visualization of the hierarchical structure of Arnold's extended family:\n",
        "> More work with the library is needed to interpret the visualization (not part of this tutorial)"
      ]
    },
    {
      "cell_type": "markdown",
      "metadata": {
        "id": "hEVp07vHhaqh"
      },
      "source": [
        "**DO NOT RUN IN GOOGLE COLAB. graph-tool does not install properly**"
      ]
    },
    {
      "cell_type": "code",
      "execution_count": null,
      "metadata": {
        "id": "u5YzXkuLhaqh"
      },
      "outputs": [],
      "source": [
        "path = os.environ[\"OUT\"] + \"/arnold.family.gt\"\n",
        "g = load_graph(path)\n",
        "\n",
        "state = minimize_nested_blockmodel_dl(g)\n",
        "draw_hierarchy(state)"
      ]
    },
    {
      "cell_type": "markdown",
      "metadata": {
        "id": "nGQKtMuphaqh"
      },
      "source": [
        "### Summary of this section:\n",
        "In this section we:\n",
        "- Uses the `paths` command to find paths between pairs of nodes.\n",
        "- Used the `export-gt` command to export a KG to `graph tool` format.\n",
        "- Used `graph tool` to compute betweeness centrality and visualize a KG."
      ]
    },
    {
      "cell_type": "markdown",
      "metadata": {
        "id": "WslBaf7phaqi"
      },
      "source": [
        "## Computing connected components\n",
        "In this section we will find the connected components of the tutorial graph and clean up the graph to remove isolated small components.\n",
        "\n",
        "The KGTK command `connected-components` finds the connected components of a graph, and outputs a new graph that records the connected component that each item belongs to."
      ]
    },
    {
      "cell_type": "code",
      "execution_count": 61,
      "metadata": {
        "id": "H1KwMcuohaqi"
      },
      "outputs": [],
      "source": [
        "kgtk(\"\"\"\n",
        "    connected-components -i $item\n",
        "        --minimum-cluster-size 1\n",
        "        --undirected \n",
        "        -o $TEMP/item.connected_components.tsv\n",
        "\"\"\")"
      ]
    },
    {
      "cell_type": "markdown",
      "metadata": {
        "id": "Yu6TmtSVhaqi"
      },
      "source": [
        "The `connected-components` command outputs the connected components as a graph:"
      ]
    },
    {
      "cell_type": "code",
      "execution_count": 62,
      "metadata": {
        "id": "MbWlbBAVhaqi",
        "outputId": "205666c6-17ab-4128-c235-00d3a8895bbc",
        "colab": {
          "base_uri": "https://localhost:8080/"
        }
      },
      "outputs": [
        {
          "output_type": "stream",
          "name": "stdout",
          "text": [
            "node1\tlabel\tnode2\n",
            "Q616342\tconnected_component\tCLUS4XI69VtenTCbHUKSPaVsaQ==\n",
            "Q7560691\tconnected_component\tCLUS4XI69VtenTCbHUKSPaVsaQ==\n",
            "Q11445559\tconnected_component\tCLUSAHfoFvXvhcEZd73lj1z4Bw==\n",
            "Q11524722\tconnected_component\tCLUSAHfoFvXvhcEZd73lj1z4Bw==\n",
            "Q91096397\tconnected_component\tCLUSC4L7DB9+AA0px63bXGxYJA==\n",
            "Q91097216\tconnected_component\tCLUSC4L7DB9+AA0px63bXGxYJA==\n",
            "Q78607259\tconnected_component\tCLUSCv46LgpNynxBUfoaweda7w==\n",
            "Q78607418\tconnected_component\tCLUSCv46LgpNynxBUfoaweda7w==\n",
            "Q17239842\tconnected_component\tCLUSETikQPaem8mOa44EYJ4hWQ==\n"
          ]
        }
      ],
      "source": [
        "!head $TEMP/item.connected_components.tsv"
      ]
    },
    {
      "cell_type": "markdown",
      "metadata": {
        "id": "oAxhO8P-haqi"
      },
      "source": [
        "Find the sizes of each of the connected components using an aggregation query:"
      ]
    },
    {
      "cell_type": "code",
      "execution_count": 64,
      "metadata": {
        "id": "jw8GISX4haqi",
        "outputId": "d7fb3838-e6ae-446c-9c8f-ab506b493d38",
        "colab": {
          "base_uri": "https://localhost:8080/",
          "height": 394
        }
      },
      "outputs": [
        {
          "output_type": "execute_result",
          "data": {
            "text/plain": [
              "                           node1  node2\n",
              "0   CLUS4XI69VtenTCbHUKSPaVsaQ==      2\n",
              "1   CLUSAHfoFvXvhcEZd73lj1z4Bw==      2\n",
              "2   CLUSC4L7DB9+AA0px63bXGxYJA==      2\n",
              "3   CLUSCv46LgpNynxBUfoaweda7w==      2\n",
              "4   CLUSETikQPaem8mOa44EYJ4hWQ==      2\n",
              "5   CLUSMsI+YaR2hce5HnpP/rq9TQ==      2\n",
              "6   CLUSNf+5YYA4pq2TcKQzVUbL4A==      2\n",
              "7   CLUSWhhjZiPd9C8l80phkFJu6Q==      2\n",
              "8   CLUSiSfL49aiC4iMlarD0N2ONg==      2\n",
              "9   CLUSnhDzMpk859X1mzkDWfSLBg==  65994\n",
              "10  CLUSxSQ8e6AE4e+fZWi4ePHyMQ==      2"
            ],
            "text/html": [
              "\n",
              "  <div id=\"df-62f2d1ab-1777-472a-8947-7ac896d01782\">\n",
              "    <div class=\"colab-df-container\">\n",
              "      <div>\n",
              "<style scoped>\n",
              "    .dataframe tbody tr th:only-of-type {\n",
              "        vertical-align: middle;\n",
              "    }\n",
              "\n",
              "    .dataframe tbody tr th {\n",
              "        vertical-align: top;\n",
              "    }\n",
              "\n",
              "    .dataframe thead th {\n",
              "        text-align: right;\n",
              "    }\n",
              "</style>\n",
              "<table border=\"1\" class=\"dataframe\">\n",
              "  <thead>\n",
              "    <tr style=\"text-align: right;\">\n",
              "      <th></th>\n",
              "      <th>node1</th>\n",
              "      <th>node2</th>\n",
              "    </tr>\n",
              "  </thead>\n",
              "  <tbody>\n",
              "    <tr>\n",
              "      <th>0</th>\n",
              "      <td>CLUS4XI69VtenTCbHUKSPaVsaQ==</td>\n",
              "      <td>2</td>\n",
              "    </tr>\n",
              "    <tr>\n",
              "      <th>1</th>\n",
              "      <td>CLUSAHfoFvXvhcEZd73lj1z4Bw==</td>\n",
              "      <td>2</td>\n",
              "    </tr>\n",
              "    <tr>\n",
              "      <th>2</th>\n",
              "      <td>CLUSC4L7DB9+AA0px63bXGxYJA==</td>\n",
              "      <td>2</td>\n",
              "    </tr>\n",
              "    <tr>\n",
              "      <th>3</th>\n",
              "      <td>CLUSCv46LgpNynxBUfoaweda7w==</td>\n",
              "      <td>2</td>\n",
              "    </tr>\n",
              "    <tr>\n",
              "      <th>4</th>\n",
              "      <td>CLUSETikQPaem8mOa44EYJ4hWQ==</td>\n",
              "      <td>2</td>\n",
              "    </tr>\n",
              "    <tr>\n",
              "      <th>5</th>\n",
              "      <td>CLUSMsI+YaR2hce5HnpP/rq9TQ==</td>\n",
              "      <td>2</td>\n",
              "    </tr>\n",
              "    <tr>\n",
              "      <th>6</th>\n",
              "      <td>CLUSNf+5YYA4pq2TcKQzVUbL4A==</td>\n",
              "      <td>2</td>\n",
              "    </tr>\n",
              "    <tr>\n",
              "      <th>7</th>\n",
              "      <td>CLUSWhhjZiPd9C8l80phkFJu6Q==</td>\n",
              "      <td>2</td>\n",
              "    </tr>\n",
              "    <tr>\n",
              "      <th>8</th>\n",
              "      <td>CLUSiSfL49aiC4iMlarD0N2ONg==</td>\n",
              "      <td>2</td>\n",
              "    </tr>\n",
              "    <tr>\n",
              "      <th>9</th>\n",
              "      <td>CLUSnhDzMpk859X1mzkDWfSLBg==</td>\n",
              "      <td>65994</td>\n",
              "    </tr>\n",
              "    <tr>\n",
              "      <th>10</th>\n",
              "      <td>CLUSxSQ8e6AE4e+fZWi4ePHyMQ==</td>\n",
              "      <td>2</td>\n",
              "    </tr>\n",
              "  </tbody>\n",
              "</table>\n",
              "</div>\n",
              "      <button class=\"colab-df-convert\" onclick=\"convertToInteractive('df-62f2d1ab-1777-472a-8947-7ac896d01782')\"\n",
              "              title=\"Convert this dataframe to an interactive table.\"\n",
              "              style=\"display:none;\">\n",
              "        \n",
              "  <svg xmlns=\"http://www.w3.org/2000/svg\" height=\"24px\"viewBox=\"0 0 24 24\"\n",
              "       width=\"24px\">\n",
              "    <path d=\"M0 0h24v24H0V0z\" fill=\"none\"/>\n",
              "    <path d=\"M18.56 5.44l.94 2.06.94-2.06 2.06-.94-2.06-.94-.94-2.06-.94 2.06-2.06.94zm-11 1L8.5 8.5l.94-2.06 2.06-.94-2.06-.94L8.5 2.5l-.94 2.06-2.06.94zm10 10l.94 2.06.94-2.06 2.06-.94-2.06-.94-.94-2.06-.94 2.06-2.06.94z\"/><path d=\"M17.41 7.96l-1.37-1.37c-.4-.4-.92-.59-1.43-.59-.52 0-1.04.2-1.43.59L10.3 9.45l-7.72 7.72c-.78.78-.78 2.05 0 2.83L4 21.41c.39.39.9.59 1.41.59.51 0 1.02-.2 1.41-.59l7.78-7.78 2.81-2.81c.8-.78.8-2.07 0-2.86zM5.41 20L4 18.59l7.72-7.72 1.47 1.35L5.41 20z\"/>\n",
              "  </svg>\n",
              "      </button>\n",
              "      \n",
              "  <style>\n",
              "    .colab-df-container {\n",
              "      display:flex;\n",
              "      flex-wrap:wrap;\n",
              "      gap: 12px;\n",
              "    }\n",
              "\n",
              "    .colab-df-convert {\n",
              "      background-color: #E8F0FE;\n",
              "      border: none;\n",
              "      border-radius: 50%;\n",
              "      cursor: pointer;\n",
              "      display: none;\n",
              "      fill: #1967D2;\n",
              "      height: 32px;\n",
              "      padding: 0 0 0 0;\n",
              "      width: 32px;\n",
              "    }\n",
              "\n",
              "    .colab-df-convert:hover {\n",
              "      background-color: #E2EBFA;\n",
              "      box-shadow: 0px 1px 2px rgba(60, 64, 67, 0.3), 0px 1px 3px 1px rgba(60, 64, 67, 0.15);\n",
              "      fill: #174EA6;\n",
              "    }\n",
              "\n",
              "    [theme=dark] .colab-df-convert {\n",
              "      background-color: #3B4455;\n",
              "      fill: #D2E3FC;\n",
              "    }\n",
              "\n",
              "    [theme=dark] .colab-df-convert:hover {\n",
              "      background-color: #434B5C;\n",
              "      box-shadow: 0px 1px 3px 1px rgba(0, 0, 0, 0.15);\n",
              "      filter: drop-shadow(0px 1px 2px rgba(0, 0, 0, 0.3));\n",
              "      fill: #FFFFFF;\n",
              "    }\n",
              "  </style>\n",
              "\n",
              "      <script>\n",
              "        const buttonEl =\n",
              "          document.querySelector('#df-62f2d1ab-1777-472a-8947-7ac896d01782 button.colab-df-convert');\n",
              "        buttonEl.style.display =\n",
              "          google.colab.kernel.accessAllowed ? 'block' : 'none';\n",
              "\n",
              "        async function convertToInteractive(key) {\n",
              "          const element = document.querySelector('#df-62f2d1ab-1777-472a-8947-7ac896d01782');\n",
              "          const dataTable =\n",
              "            await google.colab.kernel.invokeFunction('convertToInteractive',\n",
              "                                                     [key], {});\n",
              "          if (!dataTable) return;\n",
              "\n",
              "          const docLinkHtml = 'Like what you see? Visit the ' +\n",
              "            '<a target=\"_blank\" href=https://colab.research.google.com/notebooks/data_table.ipynb>data table notebook</a>'\n",
              "            + ' to learn more about interactive tables.';\n",
              "          element.innerHTML = '';\n",
              "          dataTable['output_type'] = 'display_data';\n",
              "          await google.colab.output.renderOutput(dataTable, element);\n",
              "          const docLink = document.createElement('div');\n",
              "          docLink.innerHTML = docLinkHtml;\n",
              "          element.appendChild(docLink);\n",
              "        }\n",
              "      </script>\n",
              "    </div>\n",
              "  </div>\n",
              "  "
            ]
          },
          "metadata": {},
          "execution_count": 64
        }
      ],
      "source": [
        "kgtk(\"\"\"\n",
        "    query -i $TEMP/item.connected_components.tsv\n",
        "        --match '\n",
        "            (item)-[]->(component)'\n",
        "        --return 'distinct component as node1, count(distinct item) as node2'\n",
        "\"\"\")"
      ]
    },
    {
      "cell_type": "markdown",
      "metadata": {
        "id": "yf84B3Xqhaqi"
      },
      "source": [
        "There is one large cluster and several small isolated clusters. We want to keep the large cluster, so we select the nodes that belong to the large cluster:"
      ]
    },
    {
      "cell_type": "code",
      "execution_count": 65,
      "metadata": {
        "id": "yT-tdLvOhaqi",
        "outputId": "5b3ab199-5a63-4d76-d2a1-660a24b40b9c",
        "colab": {
          "base_uri": "https://localhost:8080/",
          "height": 424
        }
      },
      "outputs": [
        {
          "output_type": "execute_result",
          "data": {
            "text/plain": [
              "           node1                                        node1;label\n",
              "0            P10                                         'video'@en\n",
              "1          P1000                                   'record held'@en\n",
              "2          P1001                       'applies to jurisdiction'@en\n",
              "3          P1004                          'MusicBrainz place ID'@en\n",
              "4          P1005                'Portuguese National Library ID'@en\n",
              "...          ...                                                ...\n",
              "65989    Q999726                                'Dale Van Every'@en\n",
              "65990    Q999734  'Albert Lasker Award for Basic Medical Researc...\n",
              "65991  Q99975457  'Faculty of Law of the Károli Gáspár Universit...\n",
              "65992    Q999763       'University of Paris 1 Pantheon-Sorbonne'@en\n",
              "65993  Q99979573                   'Santa Monica Visitor Center'@en\n",
              "\n",
              "[65994 rows x 2 columns]"
            ],
            "text/html": [
              "\n",
              "  <div id=\"df-ec672060-50fa-47c1-91c7-a7fbf4dcfd29\">\n",
              "    <div class=\"colab-df-container\">\n",
              "      <div>\n",
              "<style scoped>\n",
              "    .dataframe tbody tr th:only-of-type {\n",
              "        vertical-align: middle;\n",
              "    }\n",
              "\n",
              "    .dataframe tbody tr th {\n",
              "        vertical-align: top;\n",
              "    }\n",
              "\n",
              "    .dataframe thead th {\n",
              "        text-align: right;\n",
              "    }\n",
              "</style>\n",
              "<table border=\"1\" class=\"dataframe\">\n",
              "  <thead>\n",
              "    <tr style=\"text-align: right;\">\n",
              "      <th></th>\n",
              "      <th>node1</th>\n",
              "      <th>node1;label</th>\n",
              "    </tr>\n",
              "  </thead>\n",
              "  <tbody>\n",
              "    <tr>\n",
              "      <th>0</th>\n",
              "      <td>P10</td>\n",
              "      <td>'video'@en</td>\n",
              "    </tr>\n",
              "    <tr>\n",
              "      <th>1</th>\n",
              "      <td>P1000</td>\n",
              "      <td>'record held'@en</td>\n",
              "    </tr>\n",
              "    <tr>\n",
              "      <th>2</th>\n",
              "      <td>P1001</td>\n",
              "      <td>'applies to jurisdiction'@en</td>\n",
              "    </tr>\n",
              "    <tr>\n",
              "      <th>3</th>\n",
              "      <td>P1004</td>\n",
              "      <td>'MusicBrainz place ID'@en</td>\n",
              "    </tr>\n",
              "    <tr>\n",
              "      <th>4</th>\n",
              "      <td>P1005</td>\n",
              "      <td>'Portuguese National Library ID'@en</td>\n",
              "    </tr>\n",
              "    <tr>\n",
              "      <th>...</th>\n",
              "      <td>...</td>\n",
              "      <td>...</td>\n",
              "    </tr>\n",
              "    <tr>\n",
              "      <th>65989</th>\n",
              "      <td>Q999726</td>\n",
              "      <td>'Dale Van Every'@en</td>\n",
              "    </tr>\n",
              "    <tr>\n",
              "      <th>65990</th>\n",
              "      <td>Q999734</td>\n",
              "      <td>'Albert Lasker Award for Basic Medical Researc...</td>\n",
              "    </tr>\n",
              "    <tr>\n",
              "      <th>65991</th>\n",
              "      <td>Q99975457</td>\n",
              "      <td>'Faculty of Law of the Károli Gáspár Universit...</td>\n",
              "    </tr>\n",
              "    <tr>\n",
              "      <th>65992</th>\n",
              "      <td>Q999763</td>\n",
              "      <td>'University of Paris 1 Pantheon-Sorbonne'@en</td>\n",
              "    </tr>\n",
              "    <tr>\n",
              "      <th>65993</th>\n",
              "      <td>Q99979573</td>\n",
              "      <td>'Santa Monica Visitor Center'@en</td>\n",
              "    </tr>\n",
              "  </tbody>\n",
              "</table>\n",
              "<p>65994 rows × 2 columns</p>\n",
              "</div>\n",
              "      <button class=\"colab-df-convert\" onclick=\"convertToInteractive('df-ec672060-50fa-47c1-91c7-a7fbf4dcfd29')\"\n",
              "              title=\"Convert this dataframe to an interactive table.\"\n",
              "              style=\"display:none;\">\n",
              "        \n",
              "  <svg xmlns=\"http://www.w3.org/2000/svg\" height=\"24px\"viewBox=\"0 0 24 24\"\n",
              "       width=\"24px\">\n",
              "    <path d=\"M0 0h24v24H0V0z\" fill=\"none\"/>\n",
              "    <path d=\"M18.56 5.44l.94 2.06.94-2.06 2.06-.94-2.06-.94-.94-2.06-.94 2.06-2.06.94zm-11 1L8.5 8.5l.94-2.06 2.06-.94-2.06-.94L8.5 2.5l-.94 2.06-2.06.94zm10 10l.94 2.06.94-2.06 2.06-.94-2.06-.94-.94-2.06-.94 2.06-2.06.94z\"/><path d=\"M17.41 7.96l-1.37-1.37c-.4-.4-.92-.59-1.43-.59-.52 0-1.04.2-1.43.59L10.3 9.45l-7.72 7.72c-.78.78-.78 2.05 0 2.83L4 21.41c.39.39.9.59 1.41.59.51 0 1.02-.2 1.41-.59l7.78-7.78 2.81-2.81c.8-.78.8-2.07 0-2.86zM5.41 20L4 18.59l7.72-7.72 1.47 1.35L5.41 20z\"/>\n",
              "  </svg>\n",
              "      </button>\n",
              "      \n",
              "  <style>\n",
              "    .colab-df-container {\n",
              "      display:flex;\n",
              "      flex-wrap:wrap;\n",
              "      gap: 12px;\n",
              "    }\n",
              "\n",
              "    .colab-df-convert {\n",
              "      background-color: #E8F0FE;\n",
              "      border: none;\n",
              "      border-radius: 50%;\n",
              "      cursor: pointer;\n",
              "      display: none;\n",
              "      fill: #1967D2;\n",
              "      height: 32px;\n",
              "      padding: 0 0 0 0;\n",
              "      width: 32px;\n",
              "    }\n",
              "\n",
              "    .colab-df-convert:hover {\n",
              "      background-color: #E2EBFA;\n",
              "      box-shadow: 0px 1px 2px rgba(60, 64, 67, 0.3), 0px 1px 3px 1px rgba(60, 64, 67, 0.15);\n",
              "      fill: #174EA6;\n",
              "    }\n",
              "\n",
              "    [theme=dark] .colab-df-convert {\n",
              "      background-color: #3B4455;\n",
              "      fill: #D2E3FC;\n",
              "    }\n",
              "\n",
              "    [theme=dark] .colab-df-convert:hover {\n",
              "      background-color: #434B5C;\n",
              "      box-shadow: 0px 1px 3px 1px rgba(0, 0, 0, 0.15);\n",
              "      filter: drop-shadow(0px 1px 2px rgba(0, 0, 0, 0.3));\n",
              "      fill: #FFFFFF;\n",
              "    }\n",
              "  </style>\n",
              "\n",
              "      <script>\n",
              "        const buttonEl =\n",
              "          document.querySelector('#df-ec672060-50fa-47c1-91c7-a7fbf4dcfd29 button.colab-df-convert');\n",
              "        buttonEl.style.display =\n",
              "          google.colab.kernel.accessAllowed ? 'block' : 'none';\n",
              "\n",
              "        async function convertToInteractive(key) {\n",
              "          const element = document.querySelector('#df-ec672060-50fa-47c1-91c7-a7fbf4dcfd29');\n",
              "          const dataTable =\n",
              "            await google.colab.kernel.invokeFunction('convertToInteractive',\n",
              "                                                     [key], {});\n",
              "          if (!dataTable) return;\n",
              "\n",
              "          const docLinkHtml = 'Like what you see? Visit the ' +\n",
              "            '<a target=\"_blank\" href=https://colab.research.google.com/notebooks/data_table.ipynb>data table notebook</a>'\n",
              "            + ' to learn more about interactive tables.';\n",
              "          element.innerHTML = '';\n",
              "          dataTable['output_type'] = 'display_data';\n",
              "          await google.colab.output.renderOutput(dataTable, element);\n",
              "          const docLink = document.createElement('div');\n",
              "          docLink.innerHTML = docLinkHtml;\n",
              "          element.appendChild(docLink);\n",
              "        }\n",
              "      </script>\n",
              "    </div>\n",
              "  </div>\n",
              "  "
            ]
          },
          "metadata": {},
          "execution_count": 65
        }
      ],
      "source": [
        "kgtk(\"\"\"\n",
        "    query -i $TEMP/item.connected_components.tsv\n",
        "        --match '\n",
        "            (item)-[]->(:`CLUSnhDzMpk859X1mzkDWfSLBg==`)'\n",
        "        --return 'distinct item as node1'\n",
        "    / add-labels\n",
        "\"\"\")"
      ]
    },
    {
      "cell_type": "markdown",
      "metadata": {
        "id": "kDOUhCEghaqj"
      },
      "source": [
        "Store the large cluster graph in a file (`large-cluster.tsv`) so that we can use it in queries:\n",
        "> In this example we don't give the graph an alias; instead, we use the path where the graph is stored as an input to the `query` command. KGTK will load the graph in the cache database, and reuse it in subsequent queries:"
      ]
    },
    {
      "cell_type": "code",
      "execution_count": 66,
      "metadata": {
        "id": "NgrXIxBbhaqj"
      },
      "outputs": [],
      "source": [
        "kgtk(\"\"\"\n",
        "    query -i $TEMP/item.connected_components.tsv\n",
        "        --match '\n",
        "            (item)-[]->(:`CLUSnhDzMpk859X1mzkDWfSLBg==`)'\n",
        "        --return 'distinct item as node1'\n",
        "    -o $TEMP/large-cluster.tsv\n",
        "\"\"\")"
      ]
    },
    {
      "cell_type": "markdown",
      "metadata": {
        "id": "RG_cl-Khhaqj"
      },
      "source": [
        "Now we want to subset the `item` graph to keep the edges that connect nodes in the large cluster, and discard the edges in the small clusters.\n",
        "We do this in a query that selects all edges from the `item` graph, as long as both nodes in the edge are in the `node1` position in the `large-cluster.tsv` graph.\n",
        "> Note that the `large-cluster` graph consists of a set of nodes stored in `node1`, and the graph has no edges. The `query` command can use graphs with no edges using the shorthand `cluster: (n1)`"
      ]
    },
    {
      "cell_type": "code",
      "execution_count": 67,
      "metadata": {
        "id": "tSzzb2pyhaqj",
        "outputId": "959e3151-5fb0-4705-bf14-ba4546583cba",
        "colab": {
          "base_uri": "https://localhost:8080/",
          "height": 459
        }
      },
      "outputs": [
        {
          "output_type": "stream",
          "name": "stdout",
          "text": [
            "CPU times: user 4.21 s, sys: 1.49 s, total: 5.7 s\n",
            "Wall time: 9.21 s\n"
          ]
        },
        {
          "output_type": "execute_result",
          "data": {
            "text/plain": [
              "            node1  label      node2                                  id\n",
              "0             P10    P31  Q18610173        P10-P31-Q18610173-85ef4d24-0\n",
              "1           P1000    P31  Q18608871      P1000-P31-Q18608871-093affb5-0\n",
              "2           P1001  P1855     Q11696       P1001-P1855-Q11696-cdbf391b-0\n",
              "3           P1001  P1855  Q12371988    P1001-P1855-Q12371988-12c10bc0-0\n",
              "4           P1001  P1855    Q181574      P1001-P1855-Q181574-7f428c9b-0\n",
              "...           ...    ...        ...                                 ...\n",
              "393699    Q999763   P463    Q868940     Q999763-P463-Q868940-d7659dce-0\n",
              "393700  Q99979573   P131     Q47164    Q99979573-P131-Q47164-c6e86b16-0\n",
              "393701  Q99979573    P17        Q30        Q99979573-P17-Q30-aa56b597-0\n",
              "393702  Q99979573    P30        Q49        Q99979573-P30-Q49-ac39cd28-0\n",
              "393703  Q99979573    P31  Q18411786  Q99979573-P31-Q18411786-39f4778f-0\n",
              "\n",
              "[393704 rows x 4 columns]"
            ],
            "text/html": [
              "\n",
              "  <div id=\"df-34e30e7c-d6cd-43b8-b48c-20f6ce3a7f22\">\n",
              "    <div class=\"colab-df-container\">\n",
              "      <div>\n",
              "<style scoped>\n",
              "    .dataframe tbody tr th:only-of-type {\n",
              "        vertical-align: middle;\n",
              "    }\n",
              "\n",
              "    .dataframe tbody tr th {\n",
              "        vertical-align: top;\n",
              "    }\n",
              "\n",
              "    .dataframe thead th {\n",
              "        text-align: right;\n",
              "    }\n",
              "</style>\n",
              "<table border=\"1\" class=\"dataframe\">\n",
              "  <thead>\n",
              "    <tr style=\"text-align: right;\">\n",
              "      <th></th>\n",
              "      <th>node1</th>\n",
              "      <th>label</th>\n",
              "      <th>node2</th>\n",
              "      <th>id</th>\n",
              "    </tr>\n",
              "  </thead>\n",
              "  <tbody>\n",
              "    <tr>\n",
              "      <th>0</th>\n",
              "      <td>P10</td>\n",
              "      <td>P31</td>\n",
              "      <td>Q18610173</td>\n",
              "      <td>P10-P31-Q18610173-85ef4d24-0</td>\n",
              "    </tr>\n",
              "    <tr>\n",
              "      <th>1</th>\n",
              "      <td>P1000</td>\n",
              "      <td>P31</td>\n",
              "      <td>Q18608871</td>\n",
              "      <td>P1000-P31-Q18608871-093affb5-0</td>\n",
              "    </tr>\n",
              "    <tr>\n",
              "      <th>2</th>\n",
              "      <td>P1001</td>\n",
              "      <td>P1855</td>\n",
              "      <td>Q11696</td>\n",
              "      <td>P1001-P1855-Q11696-cdbf391b-0</td>\n",
              "    </tr>\n",
              "    <tr>\n",
              "      <th>3</th>\n",
              "      <td>P1001</td>\n",
              "      <td>P1855</td>\n",
              "      <td>Q12371988</td>\n",
              "      <td>P1001-P1855-Q12371988-12c10bc0-0</td>\n",
              "    </tr>\n",
              "    <tr>\n",
              "      <th>4</th>\n",
              "      <td>P1001</td>\n",
              "      <td>P1855</td>\n",
              "      <td>Q181574</td>\n",
              "      <td>P1001-P1855-Q181574-7f428c9b-0</td>\n",
              "    </tr>\n",
              "    <tr>\n",
              "      <th>...</th>\n",
              "      <td>...</td>\n",
              "      <td>...</td>\n",
              "      <td>...</td>\n",
              "      <td>...</td>\n",
              "    </tr>\n",
              "    <tr>\n",
              "      <th>393699</th>\n",
              "      <td>Q999763</td>\n",
              "      <td>P463</td>\n",
              "      <td>Q868940</td>\n",
              "      <td>Q999763-P463-Q868940-d7659dce-0</td>\n",
              "    </tr>\n",
              "    <tr>\n",
              "      <th>393700</th>\n",
              "      <td>Q99979573</td>\n",
              "      <td>P131</td>\n",
              "      <td>Q47164</td>\n",
              "      <td>Q99979573-P131-Q47164-c6e86b16-0</td>\n",
              "    </tr>\n",
              "    <tr>\n",
              "      <th>393701</th>\n",
              "      <td>Q99979573</td>\n",
              "      <td>P17</td>\n",
              "      <td>Q30</td>\n",
              "      <td>Q99979573-P17-Q30-aa56b597-0</td>\n",
              "    </tr>\n",
              "    <tr>\n",
              "      <th>393702</th>\n",
              "      <td>Q99979573</td>\n",
              "      <td>P30</td>\n",
              "      <td>Q49</td>\n",
              "      <td>Q99979573-P30-Q49-ac39cd28-0</td>\n",
              "    </tr>\n",
              "    <tr>\n",
              "      <th>393703</th>\n",
              "      <td>Q99979573</td>\n",
              "      <td>P31</td>\n",
              "      <td>Q18411786</td>\n",
              "      <td>Q99979573-P31-Q18411786-39f4778f-0</td>\n",
              "    </tr>\n",
              "  </tbody>\n",
              "</table>\n",
              "<p>393704 rows × 4 columns</p>\n",
              "</div>\n",
              "      <button class=\"colab-df-convert\" onclick=\"convertToInteractive('df-34e30e7c-d6cd-43b8-b48c-20f6ce3a7f22')\"\n",
              "              title=\"Convert this dataframe to an interactive table.\"\n",
              "              style=\"display:none;\">\n",
              "        \n",
              "  <svg xmlns=\"http://www.w3.org/2000/svg\" height=\"24px\"viewBox=\"0 0 24 24\"\n",
              "       width=\"24px\">\n",
              "    <path d=\"M0 0h24v24H0V0z\" fill=\"none\"/>\n",
              "    <path d=\"M18.56 5.44l.94 2.06.94-2.06 2.06-.94-2.06-.94-.94-2.06-.94 2.06-2.06.94zm-11 1L8.5 8.5l.94-2.06 2.06-.94-2.06-.94L8.5 2.5l-.94 2.06-2.06.94zm10 10l.94 2.06.94-2.06 2.06-.94-2.06-.94-.94-2.06-.94 2.06-2.06.94z\"/><path d=\"M17.41 7.96l-1.37-1.37c-.4-.4-.92-.59-1.43-.59-.52 0-1.04.2-1.43.59L10.3 9.45l-7.72 7.72c-.78.78-.78 2.05 0 2.83L4 21.41c.39.39.9.59 1.41.59.51 0 1.02-.2 1.41-.59l7.78-7.78 2.81-2.81c.8-.78.8-2.07 0-2.86zM5.41 20L4 18.59l7.72-7.72 1.47 1.35L5.41 20z\"/>\n",
              "  </svg>\n",
              "      </button>\n",
              "      \n",
              "  <style>\n",
              "    .colab-df-container {\n",
              "      display:flex;\n",
              "      flex-wrap:wrap;\n",
              "      gap: 12px;\n",
              "    }\n",
              "\n",
              "    .colab-df-convert {\n",
              "      background-color: #E8F0FE;\n",
              "      border: none;\n",
              "      border-radius: 50%;\n",
              "      cursor: pointer;\n",
              "      display: none;\n",
              "      fill: #1967D2;\n",
              "      height: 32px;\n",
              "      padding: 0 0 0 0;\n",
              "      width: 32px;\n",
              "    }\n",
              "\n",
              "    .colab-df-convert:hover {\n",
              "      background-color: #E2EBFA;\n",
              "      box-shadow: 0px 1px 2px rgba(60, 64, 67, 0.3), 0px 1px 3px 1px rgba(60, 64, 67, 0.15);\n",
              "      fill: #174EA6;\n",
              "    }\n",
              "\n",
              "    [theme=dark] .colab-df-convert {\n",
              "      background-color: #3B4455;\n",
              "      fill: #D2E3FC;\n",
              "    }\n",
              "\n",
              "    [theme=dark] .colab-df-convert:hover {\n",
              "      background-color: #434B5C;\n",
              "      box-shadow: 0px 1px 3px 1px rgba(0, 0, 0, 0.15);\n",
              "      filter: drop-shadow(0px 1px 2px rgba(0, 0, 0, 0.3));\n",
              "      fill: #FFFFFF;\n",
              "    }\n",
              "  </style>\n",
              "\n",
              "      <script>\n",
              "        const buttonEl =\n",
              "          document.querySelector('#df-34e30e7c-d6cd-43b8-b48c-20f6ce3a7f22 button.colab-df-convert');\n",
              "        buttonEl.style.display =\n",
              "          google.colab.kernel.accessAllowed ? 'block' : 'none';\n",
              "\n",
              "        async function convertToInteractive(key) {\n",
              "          const element = document.querySelector('#df-34e30e7c-d6cd-43b8-b48c-20f6ce3a7f22');\n",
              "          const dataTable =\n",
              "            await google.colab.kernel.invokeFunction('convertToInteractive',\n",
              "                                                     [key], {});\n",
              "          if (!dataTable) return;\n",
              "\n",
              "          const docLinkHtml = 'Like what you see? Visit the ' +\n",
              "            '<a target=\"_blank\" href=https://colab.research.google.com/notebooks/data_table.ipynb>data table notebook</a>'\n",
              "            + ' to learn more about interactive tables.';\n",
              "          element.innerHTML = '';\n",
              "          dataTable['output_type'] = 'display_data';\n",
              "          await google.colab.output.renderOutput(dataTable, element);\n",
              "          const docLink = document.createElement('div');\n",
              "          docLink.innerHTML = docLinkHtml;\n",
              "          element.appendChild(docLink);\n",
              "        }\n",
              "      </script>\n",
              "    </div>\n",
              "  </div>\n",
              "  "
            ]
          },
          "metadata": {},
          "execution_count": 67
        }
      ],
      "source": [
        "%%time\n",
        "kgtk(\"\"\"\n",
        "    query -i $TEMP/large-cluster.tsv -i item\n",
        "        --match '\n",
        "            item: (n1)-[l]->(n2),\n",
        "            cluster: (n1),\n",
        "            cluster: (n2)'\n",
        "        --return 'distinct n1 as node1, l.label as label, n2 as node2, l as id'\n",
        "\"\"\")"
      ]
    },
    {
      "cell_type": "markdown",
      "metadata": {
        "id": "uDP6ColAhaqj"
      },
      "source": [
        "Compare the number of edges of our new graph consisting of the large connected component with the number of edges in the original graph. \n",
        "We use the Unix `wc` command to count the number of edges in the original `item` graph:"
      ]
    },
    {
      "cell_type": "code",
      "execution_count": 68,
      "metadata": {
        "id": "B3TWobEBhaqj",
        "outputId": "b8720842-928c-465d-94b7-fd80405471da",
        "colab": {
          "base_uri": "https://localhost:8080/"
        }
      },
      "outputs": [
        {
          "output_type": "stream",
          "name": "stdout",
          "text": [
            "393717\n"
          ]
        }
      ],
      "source": [
        "!zcat< $item | wc -l"
      ]
    },
    {
      "cell_type": "markdown",
      "metadata": {
        "id": "8OIQ0qbbhaqk"
      },
      "source": [
        "The original graph had a few more edges, so looks like our query did the job. Store the large cluster graph in a file so that we can visualize it:"
      ]
    },
    {
      "cell_type": "code",
      "execution_count": 69,
      "metadata": {
        "id": "iDpvbggMhaqk",
        "outputId": "ee242367-47c8-4a28-8ff4-384e7bc30425",
        "colab": {
          "base_uri": "https://localhost:8080/"
        }
      },
      "outputs": [
        {
          "output_type": "stream",
          "name": "stdout",
          "text": [
            "CPU times: user 81.3 ms, sys: 24.9 ms, total: 106 ms\n",
            "Wall time: 11.7 s\n"
          ]
        }
      ],
      "source": [
        "%%time\n",
        "kgtk(\"\"\"\n",
        "    query -i $TEMP/large-cluster.tsv -i item\n",
        "        --match '\n",
        "            item: (n1)-[l]->(n2),\n",
        "            cluster: (n1),\n",
        "            cluster: (n2)'\n",
        "        --return 'distinct n1 as node1, l.label as label, n2 as node2, l as id'\n",
        "    / compact\n",
        "    -o $OUT/item.large-cluster.tsv\n",
        "\"\"\")"
      ]
    },
    {
      "cell_type": "markdown",
      "metadata": {
        "id": "Ujk9EcsShaqk"
      },
      "source": [
        "### Visualization of the large connected component\n",
        "\n",
        "To compute the visualization, use the `export-gt` to export the large connected component to `graph-tool format`:"
      ]
    },
    {
      "cell_type": "code",
      "execution_count": 70,
      "metadata": {
        "id": "E7tHC43Ihaqk",
        "colab": {
          "base_uri": "https://localhost:8080/"
        },
        "outputId": "9b6ff1ee-b3c3-4772-ad44-eef5926378ff"
      },
      "outputs": [
        {
          "output_type": "stream",
          "name": "stdout",
          "text": [
            "/usr/lib/python3/dist-packages/graph_tool/draw/cairo_draw.py:32: RuntimeWarning: Error importing cairo. Graph drawing will not work.\n",
            "  warnings.warn(msg, RuntimeWarning)\n",
            "/usr/lib/python3/dist-packages/graph_tool/draw/cairo_draw.py:32: RuntimeWarning: Error importing cairo. Graph drawing will not work.\n",
            "  warnings.warn(msg, RuntimeWarning)\n",
            "/usr/lib/python3/dist-packages/graph_tool/draw/cairo_draw.py:32: RuntimeWarning: Error importing cairo. Graph drawing will not work.\n",
            "  warnings.warn(msg, RuntimeWarning)\n",
            "/usr/lib/python3/dist-packages/graph_tool/all.py:39: RuntimeWarning: Error importing draw module, proceeding nevertheless: No module named 'cairo._cairo'\n",
            "  warnings.warn(msg, RuntimeWarning)\n"
          ]
        }
      ],
      "source": [
        "!kgtk export-gt -i $OUT/item.large-cluster.tsv -o $OUT/item.large-cluster.gt"
      ]
    },
    {
      "cell_type": "markdown",
      "metadata": {
        "id": "c6T4oEmshaqk"
      },
      "source": [
        "The following code loads the graph in `graph-tool` and computes the visualization. It takes 3 minutes to compute the layout and render the visualization, so the code is commented out. An image of the visualization appears below."
      ]
    },
    {
      "cell_type": "markdown",
      "metadata": {
        "id": "-bUA1tihhaqk"
      },
      "source": [
        "```\n",
        "%%time\n",
        "path = os.environ[\"OUT\"] + \"/item.large-cluster.gt\"\n",
        "g = load_graph(path)\n",
        "\n",
        "pos = sfdp_layout(g)\n",
        "graph_draw(g, pos=pos, output_size=(1000, 1000))\n",
        "```"
      ]
    },
    {
      "cell_type": "markdown",
      "metadata": {
        "id": "AkpBRcxthaqk"
      },
      "source": [
        "Visualization of the large connected component of the tutorial graph (393,704 edges). The visualization illustrates the process we used to build the graph: we started at the `Arnold Schwarzenegger (Q2685)` and did a breath first expansion for 3 levels. Then we did a depth-first starting from the nodes representing classes to find the complete closure of the classes.\n",
        "\n",
        "![Visualization of the tutorial graph](https://github.com/usc-isi-i2/kgtk-tutorial-files/blob/main/media/arnold-graph-vsualization.png?raw=true)"
      ]
    },
    {
      "cell_type": "markdown",
      "metadata": {
        "id": "FFxv_IYLhaqk"
      },
      "source": [
        "> The following code computes betweeness centrality of the large connected component and visualizes it"
      ]
    },
    {
      "cell_type": "markdown",
      "metadata": {
        "id": "NkuvJGMjhaql"
      },
      "source": [
        "```\n",
        "%%time\n",
        "path = os.environ[\"OUT\"] + \"/item.large-cluster.gt\"\n",
        "g = load_graph(path)\n",
        "\n",
        "bv, be = betweenness(g)\n",
        "be.a /= be.a.max() / 5\n",
        "graph_draw(g, vertex_fill_color=bv, edge_pen_width=be, output_size=(1500, 1500))\n",
        "```"
      ]
    },
    {
      "cell_type": "markdown",
      "metadata": {
        "id": "a-9edEH3haql"
      },
      "source": [
        "### Summary of this section\n",
        "In this section we:\n",
        "- Computed the connected components of the tutorial graph using the `connected-components` command.\n",
        "- Discovered that the tutorial graph contained one large cluster (expected) and a few isolated tiny clusters (unexpected).\n",
        "- Created a new graph discarding the tiny isolated clusters.\n",
        "- Visualized the large connected component."
      ]
    },
    {
      "cell_type": "code",
      "execution_count": 70,
      "metadata": {
        "id": "2T58zZWqhaql"
      },
      "outputs": [],
      "source": []
    }
  ],
  "metadata": {
    "kernelspec": {
      "display_name": "kgtk-env",
      "language": "python",
      "name": "kgtk-env"
    },
    "language_info": {
      "codemirror_mode": {
        "name": "ipython",
        "version": 3
      },
      "file_extension": ".py",
      "mimetype": "text/x-python",
      "name": "python",
      "nbconvert_exporter": "python",
      "pygments_lexer": "ipython3",
      "version": "3.9.7"
    },
    "colab": {
      "provenance": [],
      "collapsed_sections": [
        "HV6bPXWwhaqU",
        "nGQKtMuphaqh",
        "a-9edEH3haql"
      ]
    }
  },
  "nbformat": 4,
  "nbformat_minor": 0
}