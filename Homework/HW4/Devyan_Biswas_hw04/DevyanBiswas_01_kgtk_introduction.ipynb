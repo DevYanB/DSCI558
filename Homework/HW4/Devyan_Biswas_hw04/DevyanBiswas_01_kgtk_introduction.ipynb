{
  "cells": [
    {
      "cell_type": "markdown",
      "id": "51d077a7",
      "metadata": {
        "id": "51d077a7"
      },
      "source": [
        "# Query knowledge graphs with KGTK Kypher"
      ]
    },
    {
      "cell_type": "markdown",
      "id": "a0bef068",
      "metadata": {
        "id": "a0bef068"
      },
      "source": [
        "This tutorial gives an overview of the core features of the KGTK Kypher query language.  \n",
        "\n",
        "For additional details refer to the reading list at the end. "
      ]
    },
    {
      "cell_type": "markdown",
      "id": "1617744d-8f2d-4af9-af36-9d8b570b4aa0",
      "metadata": {
        "id": "1617744d-8f2d-4af9-af36-9d8b570b4aa0"
      },
      "source": [
        "## Step 0: Install KGTK"
      ]
    },
    {
      "cell_type": "markdown",
      "id": "fd4818d0-ffd4-4bfd-bc15-6a28e6067d62",
      "metadata": {
        "id": "fd4818d0-ffd4-4bfd-bc15-6a28e6067d62"
      },
      "source": [
        "Only run the following cell if KGTK is not installed.\n",
        " For example, if running in [Google Colab](https://colab.research.google.com/)"
      ]
    },
    {
      "cell_type": "code",
      "execution_count": 1,
      "id": "30d32722-d768-4b12-8723-3596c33cdaab",
      "metadata": {
        "id": "30d32722-d768-4b12-8723-3596c33cdaab",
        "colab": {
          "base_uri": "https://localhost:8080/"
        },
        "outputId": "2d498e96-48f1-4df9-abf4-da071d279f9f"
      },
      "outputs": [
        {
          "output_type": "stream",
          "name": "stdout",
          "text": [
            "Looking in indexes: https://pypi.org/simple, https://us-python.pkg.dev/colab-wheels/public/simple/\n",
            "Requirement already satisfied: kgtk in /usr/local/lib/python3.7/dist-packages (1.4.3)\n",
            "Requirement already satisfied: rltk in /usr/local/lib/python3.7/dist-packages (from kgtk) (2.0.0a20)\n",
            "Requirement already satisfied: rdflib>=6.0.2 in /usr/local/lib/python3.7/dist-packages (from kgtk) (6.2.0)\n",
            "Requirement already satisfied: pyshacl>=0.17.1 in /usr/local/lib/python3.7/dist-packages (from kgtk) (0.20.0)\n",
            "Requirement already satisfied: mypy in /usr/local/lib/python3.7/dist-packages (from kgtk) (0.982)\n",
            "Requirement already satisfied: thinc==7.4.0 in /usr/local/lib/python3.7/dist-packages (from kgtk) (7.4.0)\n",
            "Requirement already satisfied: torchbiggraph in /usr/local/lib/python3.7/dist-packages (from kgtk) (1.0.0)\n",
            "Requirement already satisfied: rdflib-jsonld>=0.6.2 in /usr/local/lib/python3.7/dist-packages (from kgtk) (0.6.2)\n",
            "Requirement already satisfied: redis in /usr/local/lib/python3.7/dist-packages (from kgtk) (4.3.4)\n",
            "Requirement already satisfied: loguru in /usr/local/lib/python3.7/dist-packages (from kgtk) (0.6.0)\n",
            "Requirement already satisfied: rfc3986 in /usr/local/lib/python3.7/dist-packages (from kgtk) (2.0.0)\n",
            "Requirement already satisfied: sklearn in /usr/local/lib/python3.7/dist-packages (from kgtk) (0.0)\n",
            "Requirement already satisfied: attrs in /usr/local/lib/python3.7/dist-packages (from kgtk) (22.1.0)\n",
            "Requirement already satisfied: odictliteral in /usr/local/lib/python3.7/dist-packages (from kgtk) (1.0.0)\n",
            "Requirement already satisfied: pycountry in /usr/local/lib/python3.7/dist-packages (from kgtk) (22.3.5)\n",
            "Requirement already satisfied: usc-isi-i2-mgzip>=0.2.1.3 in /usr/local/lib/python3.7/dist-packages (from kgtk) (0.2.1.3)\n",
            "Requirement already satisfied: sentence-transformers in /usr/local/lib/python3.7/dist-packages (from kgtk) (2.2.2)\n",
            "Requirement already satisfied: pyrallel.lib==0.0.9 in /usr/local/lib/python3.7/dist-packages (from kgtk) (0.0.9)\n",
            "Requirement already satisfied: shortuuid in /usr/local/lib/python3.7/dist-packages (from kgtk) (1.0.9)\n",
            "Requirement already satisfied: sh>=1.13 in /usr/local/lib/python3.7/dist-packages (from kgtk) (1.14.3)\n",
            "Requirement already satisfied: parsley>=1.3 in /usr/local/lib/python3.7/dist-packages (from kgtk) (1.3)\n",
            "Requirement already satisfied: tqdm in /usr/local/lib/python3.7/dist-packages (from kgtk) (4.64.1)\n",
            "Requirement already satisfied: SPARQLWrapper in /usr/local/lib/python3.7/dist-packages (from kgtk) (2.0.0)\n",
            "Requirement already satisfied: unidecode in /usr/local/lib/python3.7/dist-packages (from kgtk) (1.3.6)\n",
            "Requirement already satisfied: iso-639 in /usr/local/lib/python3.7/dist-packages (from kgtk) (0.4.5)\n",
            "Requirement already satisfied: plac==1.1.3 in /usr/local/lib/python3.7/dist-packages (from kgtk) (1.1.3)\n",
            "Requirement already satisfied: simplejson in /usr/local/lib/python3.7/dist-packages (from kgtk) (3.17.6)\n",
            "Requirement already satisfied: lz4 in /usr/local/lib/python3.7/dist-packages (from kgtk) (4.0.2)\n",
            "Requirement already satisfied: dill>=0.3.2 in /usr/local/lib/python3.7/dist-packages (from kgtk) (0.3.5.1)\n",
            "Requirement already satisfied: seaborn in /usr/local/lib/python3.7/dist-packages (from kgtk) (0.11.2)\n",
            "Requirement already satisfied: multiprocess>=0.70 in /usr/local/lib/python3.7/dist-packages (from pyrallel.lib==0.0.9->kgtk) (0.70.13)\n",
            "Requirement already satisfied: typing>=3.6 in /usr/local/lib/python3.7/dist-packages (from pyrallel.lib==0.0.9->kgtk) (3.7.4.3)\n",
            "Requirement already satisfied: numpy>=1.7.0 in /usr/local/lib/python3.7/dist-packages (from thinc==7.4.0->kgtk) (1.21.6)\n",
            "Requirement already satisfied: blis<0.5.0,>=0.4.0 in /usr/local/lib/python3.7/dist-packages (from thinc==7.4.0->kgtk) (0.4.1)\n",
            "Requirement already satisfied: cymem<2.1.0,>=2.0.2 in /usr/local/lib/python3.7/dist-packages (from thinc==7.4.0->kgtk) (2.0.6)\n",
            "Requirement already satisfied: catalogue<1.1.0,>=0.0.7 in /usr/local/lib/python3.7/dist-packages (from thinc==7.4.0->kgtk) (1.0.1)\n",
            "Requirement already satisfied: wasabi<1.1.0,>=0.0.9 in /usr/local/lib/python3.7/dist-packages (from thinc==7.4.0->kgtk) (0.10.1)\n",
            "Requirement already satisfied: srsly<1.1.0,>=0.0.6 in /usr/local/lib/python3.7/dist-packages (from thinc==7.4.0->kgtk) (1.0.5)\n",
            "Requirement already satisfied: preshed<3.1.0,>=1.0.1 in /usr/local/lib/python3.7/dist-packages (from thinc==7.4.0->kgtk) (3.0.7)\n",
            "Requirement already satisfied: murmurhash<1.1.0,>=0.28.0 in /usr/local/lib/python3.7/dist-packages (from thinc==7.4.0->kgtk) (1.0.8)\n",
            "Requirement already satisfied: typing-extensions>=3.6.4 in /usr/local/lib/python3.7/dist-packages (from catalogue<1.1.0,>=0.0.7->thinc==7.4.0->kgtk) (4.1.1)\n",
            "Requirement already satisfied: zipp>=0.5 in /usr/local/lib/python3.7/dist-packages (from catalogue<1.1.0,>=0.0.7->thinc==7.4.0->kgtk) (3.9.0)\n",
            "Requirement already satisfied: packaging>=21.3 in /usr/local/lib/python3.7/dist-packages (from pyshacl>=0.17.1->kgtk) (21.3)\n",
            "Requirement already satisfied: html5lib<2,>=1.1 in /usr/local/lib/python3.7/dist-packages (from pyshacl>=0.17.1->kgtk) (1.1)\n",
            "Requirement already satisfied: prettytable<3.0.0,>=2.2.1 in /usr/local/lib/python3.7/dist-packages (from pyshacl>=0.17.1->kgtk) (2.5.0)\n",
            "Requirement already satisfied: owlrl<7,>=6.0.2 in /usr/local/lib/python3.7/dist-packages (from pyshacl>=0.17.1->kgtk) (6.0.2)\n",
            "Requirement already satisfied: six>=1.9 in /usr/local/lib/python3.7/dist-packages (from html5lib<2,>=1.1->pyshacl>=0.17.1->kgtk) (1.15.0)\n",
            "Requirement already satisfied: webencodings in /usr/local/lib/python3.7/dist-packages (from html5lib<2,>=1.1->pyshacl>=0.17.1->kgtk) (0.5.1)\n",
            "Requirement already satisfied: pyparsing!=3.0.5,>=2.0.2 in /usr/local/lib/python3.7/dist-packages (from packaging>=21.3->pyshacl>=0.17.1->kgtk) (3.0.9)\n",
            "Requirement already satisfied: importlib-metadata in /usr/local/lib/python3.7/dist-packages (from prettytable<3.0.0,>=2.2.1->pyshacl>=0.17.1->kgtk) (5.0.0)\n",
            "Requirement already satisfied: wcwidth in /usr/local/lib/python3.7/dist-packages (from prettytable<3.0.0,>=2.2.1->pyshacl>=0.17.1->kgtk) (0.2.5)\n",
            "Requirement already satisfied: isodate in /usr/local/lib/python3.7/dist-packages (from rdflib>=6.0.2->kgtk) (0.6.1)\n",
            "Requirement already satisfied: setuptools in /usr/local/lib/python3.7/dist-packages (from rdflib>=6.0.2->kgtk) (57.4.0)\n",
            "Requirement already satisfied: tomli>=1.1.0 in /usr/local/lib/python3.7/dist-packages (from mypy->kgtk) (2.0.1)\n",
            "Requirement already satisfied: mypy-extensions>=0.4.3 in /usr/local/lib/python3.7/dist-packages (from mypy->kgtk) (0.4.3)\n",
            "Requirement already satisfied: typed-ast<2,>=1.4.0 in /usr/local/lib/python3.7/dist-packages (from mypy->kgtk) (1.5.4)\n",
            "Requirement already satisfied: async-timeout>=4.0.2 in /usr/local/lib/python3.7/dist-packages (from redis->kgtk) (4.0.2)\n",
            "Requirement already satisfied: deprecated>=1.2.3 in /usr/local/lib/python3.7/dist-packages (from redis->kgtk) (1.2.13)\n",
            "Requirement already satisfied: wrapt<2,>=1.10 in /usr/local/lib/python3.7/dist-packages (from deprecated>=1.2.3->redis->kgtk) (1.14.1)\n",
            "Requirement already satisfied: distributed>=1.23 in /usr/local/lib/python3.7/dist-packages (from rltk->kgtk) (2022.2.0)\n",
            "Requirement already satisfied: pandas>=1.2.0 in /usr/local/lib/python3.7/dist-packages (from rltk->kgtk) (1.3.5)\n",
            "Requirement already satisfied: matplotlib>=2.0.0 in /usr/local/lib/python3.7/dist-packages (from rltk->kgtk) (3.2.2)\n",
            "Requirement already satisfied: dask>=0.19.2 in /usr/local/lib/python3.7/dist-packages (from rltk->kgtk) (2022.2.0)\n",
            "Requirement already satisfied: scipy>=1.1.0 in /usr/local/lib/python3.7/dist-packages (from rltk->kgtk) (1.7.3)\n",
            "Requirement already satisfied: Cython>=0.28.0 in /usr/local/lib/python3.7/dist-packages (from rltk->kgtk) (0.29.32)\n",
            "Requirement already satisfied: partd>=0.3.10 in /usr/local/lib/python3.7/dist-packages (from dask>=0.19.2->rltk->kgtk) (1.3.0)\n",
            "Requirement already satisfied: fsspec>=0.6.0 in /usr/local/lib/python3.7/dist-packages (from dask>=0.19.2->rltk->kgtk) (2022.8.2)\n",
            "Requirement already satisfied: toolz>=0.8.2 in /usr/local/lib/python3.7/dist-packages (from dask>=0.19.2->rltk->kgtk) (0.12.0)\n",
            "Requirement already satisfied: pyyaml>=5.3.1 in /usr/local/lib/python3.7/dist-packages (from dask>=0.19.2->rltk->kgtk) (6.0)\n",
            "Requirement already satisfied: cloudpickle>=1.1.1 in /usr/local/lib/python3.7/dist-packages (from dask>=0.19.2->rltk->kgtk) (1.5.0)\n",
            "Requirement already satisfied: sortedcontainers!=2.0.0,!=2.0.1 in /usr/local/lib/python3.7/dist-packages (from distributed>=1.23->rltk->kgtk) (2.4.0)\n",
            "Requirement already satisfied: jinja2 in /usr/local/lib/python3.7/dist-packages (from distributed>=1.23->rltk->kgtk) (2.11.3)\n",
            "Requirement already satisfied: tblib>=1.6.0 in /usr/local/lib/python3.7/dist-packages (from distributed>=1.23->rltk->kgtk) (1.7.0)\n",
            "Requirement already satisfied: msgpack>=0.6.0 in /usr/local/lib/python3.7/dist-packages (from distributed>=1.23->rltk->kgtk) (1.0.4)\n",
            "Requirement already satisfied: tornado>=5 in /usr/local/lib/python3.7/dist-packages (from distributed>=1.23->rltk->kgtk) (5.1.1)\n",
            "Requirement already satisfied: click>=6.6 in /usr/local/lib/python3.7/dist-packages (from distributed>=1.23->rltk->kgtk) (7.1.2)\n",
            "Requirement already satisfied: zict>=0.1.3 in /usr/local/lib/python3.7/dist-packages (from distributed>=1.23->rltk->kgtk) (2.2.0)\n",
            "Requirement already satisfied: psutil>=5.0 in /usr/local/lib/python3.7/dist-packages (from distributed>=1.23->rltk->kgtk) (5.4.8)\n",
            "Requirement already satisfied: cycler>=0.10 in /usr/local/lib/python3.7/dist-packages (from matplotlib>=2.0.0->rltk->kgtk) (0.11.0)\n",
            "Requirement already satisfied: python-dateutil>=2.1 in /usr/local/lib/python3.7/dist-packages (from matplotlib>=2.0.0->rltk->kgtk) (2.8.2)\n",
            "Requirement already satisfied: kiwisolver>=1.0.1 in /usr/local/lib/python3.7/dist-packages (from matplotlib>=2.0.0->rltk->kgtk) (1.4.4)\n",
            "Requirement already satisfied: pytz>=2017.3 in /usr/local/lib/python3.7/dist-packages (from pandas>=1.2.0->rltk->kgtk) (2022.4)\n",
            "Requirement already satisfied: locket in /usr/local/lib/python3.7/dist-packages (from partd>=0.3.10->dask>=0.19.2->rltk->kgtk) (1.0.0)\n",
            "Requirement already satisfied: heapdict in /usr/local/lib/python3.7/dist-packages (from zict>=0.1.3->distributed>=1.23->rltk->kgtk) (1.0.1)\n",
            "Requirement already satisfied: MarkupSafe>=0.23 in /usr/local/lib/python3.7/dist-packages (from jinja2->distributed>=1.23->rltk->kgtk) (2.0.1)\n",
            "Requirement already satisfied: transformers<5.0.0,>=4.6.0 in /usr/local/lib/python3.7/dist-packages (from sentence-transformers->kgtk) (4.23.1)\n",
            "Requirement already satisfied: huggingface-hub>=0.4.0 in /usr/local/lib/python3.7/dist-packages (from sentence-transformers->kgtk) (0.10.1)\n",
            "Requirement already satisfied: scikit-learn in /usr/local/lib/python3.7/dist-packages (from sentence-transformers->kgtk) (1.0.2)\n",
            "Requirement already satisfied: sentencepiece in /usr/local/lib/python3.7/dist-packages (from sentence-transformers->kgtk) (0.1.97)\n",
            "Requirement already satisfied: nltk in /usr/local/lib/python3.7/dist-packages (from sentence-transformers->kgtk) (3.7)\n",
            "Requirement already satisfied: torch>=1.6.0 in /usr/local/lib/python3.7/dist-packages (from sentence-transformers->kgtk) (1.12.1+cu113)\n",
            "Requirement already satisfied: torchvision in /usr/local/lib/python3.7/dist-packages (from sentence-transformers->kgtk) (0.13.1+cu113)\n",
            "Requirement already satisfied: filelock in /usr/local/lib/python3.7/dist-packages (from huggingface-hub>=0.4.0->sentence-transformers->kgtk) (3.8.0)\n",
            "Requirement already satisfied: requests in /usr/local/lib/python3.7/dist-packages (from huggingface-hub>=0.4.0->sentence-transformers->kgtk) (2.23.0)\n",
            "Requirement already satisfied: regex!=2019.12.17 in /usr/local/lib/python3.7/dist-packages (from transformers<5.0.0,>=4.6.0->sentence-transformers->kgtk) (2022.6.2)\n",
            "Requirement already satisfied: tokenizers!=0.11.3,<0.14,>=0.11.1 in /usr/local/lib/python3.7/dist-packages (from transformers<5.0.0,>=4.6.0->sentence-transformers->kgtk) (0.13.1)\n",
            "Requirement already satisfied: joblib in /usr/local/lib/python3.7/dist-packages (from nltk->sentence-transformers->kgtk) (1.2.0)\n",
            "Requirement already satisfied: chardet<4,>=3.0.2 in /usr/local/lib/python3.7/dist-packages (from requests->huggingface-hub>=0.4.0->sentence-transformers->kgtk) (3.0.4)\n",
            "Requirement already satisfied: urllib3!=1.25.0,!=1.25.1,<1.26,>=1.21.1 in /usr/local/lib/python3.7/dist-packages (from requests->huggingface-hub>=0.4.0->sentence-transformers->kgtk) (1.24.3)\n",
            "Requirement already satisfied: idna<3,>=2.5 in /usr/local/lib/python3.7/dist-packages (from requests->huggingface-hub>=0.4.0->sentence-transformers->kgtk) (2.10)\n",
            "Requirement already satisfied: certifi>=2017.4.17 in /usr/local/lib/python3.7/dist-packages (from requests->huggingface-hub>=0.4.0->sentence-transformers->kgtk) (2022.9.24)\n",
            "Requirement already satisfied: threadpoolctl>=2.0.0 in /usr/local/lib/python3.7/dist-packages (from scikit-learn->sentence-transformers->kgtk) (3.1.0)\n",
            "Requirement already satisfied: h5py>=2.8 in /usr/local/lib/python3.7/dist-packages (from torchbiggraph->kgtk) (3.1.0)\n",
            "Requirement already satisfied: cached-property in /usr/local/lib/python3.7/dist-packages (from h5py>=2.8->torchbiggraph->kgtk) (1.5.2)\n",
            "Requirement already satisfied: pillow!=8.3.*,>=5.3.0 in /usr/local/lib/python3.7/dist-packages (from torchvision->sentence-transformers->kgtk) (7.1.2)\n"
          ]
        }
      ],
      "source": [
        "!pip install kgtk"
      ]
    },
    {
      "cell_type": "markdown",
      "id": "28ca9cbc",
      "metadata": {
        "id": "28ca9cbc"
      },
      "source": [
        "### Notebook data setup"
      ]
    },
    {
      "cell_type": "code",
      "execution_count": 2,
      "id": "2d11ddcf",
      "metadata": {
        "id": "2d11ddcf"
      },
      "outputs": [],
      "source": [
        "import os\n",
        "import os.path\n",
        "\n",
        "from kgtk.configure_kgtk_notebooks import ConfigureKGTK"
      ]
    },
    {
      "cell_type": "code",
      "execution_count": 3,
      "id": "cfe8ba35",
      "metadata": {
        "tags": [
          "parameters"
        ],
        "id": "cfe8ba35"
      },
      "outputs": [],
      "source": [
        "# Parameters\n",
        "\n",
        "# Folders on local machine where to create the output and temporary files:\n",
        "input_path = None\n",
        "output_path = \"/tmp/projects\"\n",
        "project_name = \"tutorial-kypher\""
      ]
    },
    {
      "cell_type": "code",
      "execution_count": 4,
      "id": "0e28525d",
      "metadata": {
        "id": "0e28525d",
        "colab": {
          "base_uri": "https://localhost:8080/"
        },
        "outputId": "b9e7e83f-32d3-4ccb-8528-0be633b5170f"
      },
      "outputs": [
        {
          "output_type": "stream",
          "name": "stdout",
          "text": [
            "User home: /root\n",
            "Current dir: /content\n",
            "KGTK dir: /\n",
            "Use-cases dir: //use-cases\n",
            "--2022-10-17 16:30:52--  https://github.com/usc-isi-i2/kgtk-tutorial-files/raw/main/datasets/arnold/all.tsv.gz\n",
            "Resolving github.com (github.com)... 140.82.113.4\n",
            "Connecting to github.com (github.com)|140.82.113.4|:443... connected.\n",
            "HTTP request sent, awaiting response... 301 Moved Permanently\n",
            "Location: https://github.com/usc-isi-i2/kgtk-notebooks/raw/main/datasets/arnold/all.tsv.gz [following]\n",
            "--2022-10-17 16:30:52--  https://github.com/usc-isi-i2/kgtk-notebooks/raw/main/datasets/arnold/all.tsv.gz\n",
            "Reusing existing connection to github.com:443.\n",
            "HTTP request sent, awaiting response... 302 Found\n",
            "Location: https://raw.githubusercontent.com/usc-isi-i2/kgtk-notebooks/main/datasets/arnold/all.tsv.gz [following]\n",
            "--2022-10-17 16:30:52--  https://raw.githubusercontent.com/usc-isi-i2/kgtk-notebooks/main/datasets/arnold/all.tsv.gz\n",
            "Resolving raw.githubusercontent.com (raw.githubusercontent.com)... 185.199.108.133, 185.199.109.133, 185.199.110.133, ...\n",
            "Connecting to raw.githubusercontent.com (raw.githubusercontent.com)|185.199.108.133|:443... connected.\n",
            "HTTP request sent, awaiting response... 200 OK\n",
            "Length: 45510513 (43M) [application/octet-stream]\n",
            "Saving to: ‘/root/isi-kgtk-tutorial/tutorial-kypher_input/all.tsv.gz’\n",
            "\n",
            "     0K .......... .......... .......... .......... ..........  0% 4.13M 11s\n",
            "    50K .......... .......... .......... .......... ..........  0% 5.77M 9s\n",
            "   100K .......... .......... .......... .......... ..........  0% 17.0M 7s\n",
            "   150K .......... .......... .......... .......... ..........  0% 31.7M 5s\n",
            "   200K .......... .......... .......... .......... ..........  0% 8.00M 5s\n",
            "   250K .......... .......... .......... .......... ..........  0% 37.5M 5s\n",
            "   300K .......... .......... .......... .......... ..........  0% 29.7M 4s\n",
            "   350K .......... .......... .......... .......... ..........  0% 49.7M 4s\n",
            "   400K .......... .......... .......... .......... ..........  1% 37.9M 4s\n",
            "   450K .......... .......... .......... .......... ..........  1% 9.38M 4s\n",
            "   500K .......... .......... .......... .......... ..........  1%  103M 3s\n",
            "   550K .......... .......... .......... .......... ..........  1% 62.2M 3s\n",
            "   600K .......... .......... .......... .......... ..........  1% 39.8M 3s\n",
            "   650K .......... .......... .......... .......... ..........  1% 13.3M 3s\n",
            "   700K .......... .......... .......... .......... ..........  1%  119M 3s\n",
            "   750K .......... .......... .......... .......... ..........  1%  136M 3s\n",
            "   800K .......... .......... .......... .......... ..........  1%  131M 2s\n",
            "   850K .......... .......... .......... .......... ..........  2% 70.8M 2s\n",
            "   900K .......... .......... .......... .......... ..........  2% 75.0M 2s\n",
            "   950K .......... .......... .......... .......... ..........  2% 25.5M 2s\n",
            "  1000K .......... .......... .......... .......... ..........  2% 89.0M 2s\n",
            "  1050K .......... .......... .......... .......... ..........  2% 97.9M 2s\n",
            "  1100K .......... .......... .......... .......... ..........  2%  117M 2s\n",
            "  1150K .......... .......... .......... .......... ..........  2%  130M 2s\n",
            "  1200K .......... .......... .......... .......... ..........  2%  117M 2s\n",
            "  1250K .......... .......... .......... .......... ..........  2%  112M 2s\n",
            "  1300K .......... .......... .......... .......... ..........  3% 14.2M 2s\n",
            "  1350K .......... .......... .......... .......... ..........  3%  139M 2s\n",
            "  1400K .......... .......... .......... .......... ..........  3%  123M 2s\n",
            "  1450K .......... .......... .......... .......... ..........  3% 96.5M 2s\n",
            "  1500K .......... .......... .......... .......... ..........  3%  129M 2s\n",
            "  1550K .......... .......... .......... .......... ..........  3%  127M 2s\n",
            "  1600K .......... .......... .......... .......... ..........  3%  178M 2s\n",
            "  1650K .......... .......... .......... .......... ..........  3%  174M 2s\n",
            "  1700K .......... .......... .......... .......... ..........  3%  156M 1s\n",
            "  1750K .......... .......... .......... .......... ..........  4%  148M 1s\n",
            "  1800K .......... .......... .......... .......... ..........  4%  127M 1s\n",
            "  1850K .......... .......... .......... .......... ..........  4%  131M 1s\n",
            "  1900K .......... .......... .......... .......... ..........  4%  129M 1s\n",
            "  1950K .......... .......... .......... .......... ..........  4%  106M 1s\n",
            "  2000K .......... .......... .......... .......... ..........  4%  140M 1s\n",
            "  2050K .......... .......... .......... .......... ..........  4%  111M 1s\n",
            "  2100K .......... .......... .......... .......... ..........  4%  117M 1s\n",
            "  2150K .......... .......... .......... .......... ..........  4%  122M 1s\n",
            "  2200K .......... .......... .......... .......... ..........  5% 81.3M 1s\n",
            "  2250K .......... .......... .......... .......... ..........  5%  138M 1s\n",
            "  2300K .......... .......... .......... .......... ..........  5%  156M 1s\n",
            "  2350K .......... .......... .......... .......... ..........  5%  176M 1s\n",
            "  2400K .......... .......... .......... .......... ..........  5%  205M 1s\n",
            "  2450K .......... .......... .......... .......... ..........  5%  164M 1s\n",
            "  2500K .......... .......... .......... .......... ..........  5%  161M 1s\n",
            "  2550K .......... .......... .......... .......... ..........  5%  182M 1s\n",
            "  2600K .......... .......... .......... .......... ..........  5%  201M 1s\n",
            "  2650K .......... .......... .......... .......... ..........  6% 51.5M 1s\n",
            "  2700K .......... .......... .......... .......... ..........  6% 85.1M 1s\n",
            "  2750K .......... .......... .......... .......... ..........  6%  171M 1s\n",
            "  2800K .......... .......... .......... .......... ..........  6%  141M 1s\n",
            "  2850K .......... .......... .......... .......... ..........  6%  119M 1s\n",
            "  2900K .......... .......... .......... .......... ..........  6% 76.8M 1s\n",
            "  2950K .......... .......... .......... .......... ..........  6%  110M 1s\n",
            "  3000K .......... .......... .......... .......... ..........  6%  112M 1s\n",
            "  3050K .......... .......... .......... .......... ..........  6%  126M 1s\n",
            "  3100K .......... .......... .......... .......... ..........  7%  129M 1s\n",
            "  3150K .......... .......... .......... .......... ..........  7%  166M 1s\n",
            "  3200K .......... .......... .......... .......... ..........  7%  134M 1s\n",
            "  3250K .......... .......... .......... .......... ..........  7%  146M 1s\n",
            "  3300K .......... .......... .......... .......... ..........  7%  138M 1s\n",
            "  3350K .......... .......... .......... .......... ..........  7%  125M 1s\n",
            "  3400K .......... .......... .......... .......... ..........  7%  102M 1s\n",
            "  3450K .......... .......... .......... .......... ..........  7%  108M 1s\n",
            "  3500K .......... .......... .......... .......... ..........  7%  135M 1s\n",
            "  3550K .......... .......... .......... .......... ..........  8%  138M 1s\n",
            "  3600K .......... .......... .......... .......... ..........  8%  146M 1s\n",
            "  3650K .......... .......... .......... .......... ..........  8%  159M 1s\n",
            "  3700K .......... .......... .......... .......... ..........  8%  175M 1s\n",
            "  3750K .......... .......... .......... .......... ..........  8%  169M 1s\n",
            "  3800K .......... .......... .......... .......... ..........  8%  153M 1s\n",
            "  3850K .......... .......... .......... .......... ..........  8%  130M 1s\n",
            "  3900K .......... .......... .......... .......... ..........  8%  168M 1s\n",
            "  3950K .......... .......... .......... .......... ..........  9%  153M 1s\n",
            "  4000K .......... .......... .......... .......... ..........  9%  149M 1s\n",
            "  4050K .......... .......... .......... .......... ..........  9%  135M 1s\n",
            "  4100K .......... .......... .......... .......... ..........  9%  130M 1s\n",
            "  4150K .......... .......... .......... .......... ..........  9%  133M 1s\n",
            "  4200K .......... .......... .......... .......... ..........  9%  155M 1s\n",
            "  4250K .......... .......... .......... .......... ..........  9% 83.0M 1s\n",
            "  4300K .......... .......... .......... .......... ..........  9%  141M 1s\n",
            "  4350K .......... .......... .......... .......... ..........  9%  101M 1s\n",
            "  4400K .......... .......... .......... .......... .......... 10%  104M 1s\n",
            "  4450K .......... .......... .......... .......... .......... 10%  118M 1s\n",
            "  4500K .......... .......... .......... .......... .......... 10%  156M 1s\n",
            "  4550K .......... .......... .......... .......... .......... 10%  160M 1s\n",
            "  4600K .......... .......... .......... .......... .......... 10%  150M 1s\n",
            "  4650K .......... .......... .......... .......... .......... 10%  121M 1s\n",
            "  4700K .......... .......... .......... .......... .......... 10%  142M 1s\n",
            "  4750K .......... .......... .......... .......... .......... 10%  163M 1s\n",
            "  4800K .......... .......... .......... .......... .......... 10%  156M 1s\n",
            "  4850K .......... .......... .......... .......... .......... 11%  123M 1s\n",
            "  4900K .......... .......... .......... .......... .......... 11%  152M 1s\n",
            "  4950K .......... .......... .......... .......... .......... 11%  149M 1s\n",
            "  5000K .......... .......... .......... .......... .......... 11%  139M 1s\n",
            "  5050K .......... .......... .......... .......... .......... 11%  180M 1s\n",
            "  5100K .......... .......... .......... .......... .......... 11%  141M 1s\n",
            "  5150K .......... .......... .......... .......... .......... 11%  158M 1s\n",
            "  5200K .......... .......... .......... .......... .......... 11%  179M 1s\n",
            "  5250K .......... .......... .......... .......... .......... 11%  141M 1s\n",
            "  5300K .......... .......... .......... .......... .......... 12%  139M 1s\n",
            "  5350K .......... .......... .......... .......... .......... 12% 98.6M 1s\n",
            "  5400K .......... .......... .......... .......... .......... 12%  100M 1s\n",
            "  5450K .......... .......... .......... .......... .......... 12%  118M 1s\n",
            "  5500K .......... .......... .......... .......... .......... 12%  118M 1s\n",
            "  5550K .......... .......... .......... .......... .......... 12%  141M 1s\n",
            "  5600K .......... .......... .......... .......... .......... 12%  140M 1s\n",
            "  5650K .......... .......... .......... .......... .......... 12%  152M 1s\n",
            "  5700K .......... .......... .......... .......... .......... 12%  150M 1s\n",
            "  5750K .......... .......... .......... .......... .......... 13%  139M 1s\n",
            "  5800K .......... .......... .......... .......... .......... 13%  183M 1s\n",
            "  5850K .......... .......... .......... .......... .......... 13%  163M 1s\n",
            "  5900K .......... .......... .......... .......... .......... 13%  144M 1s\n",
            "  5950K .......... .......... .......... .......... .......... 13%  126M 1s\n",
            "  6000K .......... .......... .......... .......... .......... 13%  163M 1s\n",
            "  6050K .......... .......... .......... .......... .......... 13%  157M 1s\n",
            "  6100K .......... .......... .......... .......... .......... 13%  156M 1s\n",
            "  6150K .......... .......... .......... .......... .......... 13%  139M 1s\n",
            "  6200K .......... .......... .......... .......... .......... 14%  120M 1s\n",
            "  6250K .......... .......... .......... .......... .......... 14%  189M 1s\n",
            "  6300K .......... .......... .......... .......... .......... 14%  164M 1s\n",
            "  6350K .......... .......... .......... .......... .......... 14%  183M 1s\n",
            "  6400K .......... .......... .......... .......... .......... 14%  192M 1s\n",
            "  6450K .......... .......... .......... .......... .......... 14%  212M 1s\n",
            "  6500K .......... .......... .......... .......... .......... 14%  145M 1s\n",
            "  6550K .......... .......... .......... .......... .......... 14%  111M 1s\n",
            "  6600K .......... .......... .......... .......... .......... 14%  185M 1s\n",
            "  6650K .......... .......... .......... .......... .......... 15%  134M 1s\n",
            "  6700K .......... .......... .......... .......... .......... 15%  165M 1s\n",
            "  6750K .......... .......... .......... .......... .......... 15%  170M 1s\n",
            "  6800K .......... .......... .......... .......... .......... 15%  145M 1s\n",
            "  6850K .......... .......... .......... .......... .......... 15%  172M 1s\n",
            "  6900K .......... .......... .......... .......... .......... 15%  109M 1s\n",
            "  6950K .......... .......... .......... .......... .......... 15% 6.90M 1s\n",
            "  7000K .......... .......... .......... .......... .......... 15%  173M 1s\n",
            "  7050K .......... .......... .......... .......... .......... 15%  160M 1s\n",
            "  7100K .......... .......... .......... .......... .......... 16%  151M 1s\n",
            "  7150K .......... .......... .......... .......... .......... 16%  155M 1s\n",
            "  7200K .......... .......... .......... .......... .......... 16%  140M 1s\n",
            "  7250K .......... .......... .......... .......... .......... 16%  167M 1s\n",
            "  7300K .......... .......... .......... .......... .......... 16%  182M 1s\n",
            "  7350K .......... .......... .......... .......... .......... 16%  180M 1s\n",
            "  7400K .......... .......... .......... .......... .......... 16%  159M 1s\n",
            "  7450K .......... .......... .......... .......... .......... 16%  164M 1s\n",
            "  7500K .......... .......... .......... .......... .......... 16%  193M 1s\n",
            "  7550K .......... .......... .......... .......... .......... 17%  212M 1s\n",
            "  7600K .......... .......... .......... .......... .......... 17%  199M 1s\n",
            "  7650K .......... .......... .......... .......... .......... 17%  210M 1s\n",
            "  7700K .......... .......... .......... .......... .......... 17% 64.5M 1s\n",
            "  7750K .......... .......... .......... .......... .......... 17% 80.0M 1s\n",
            "  7800K .......... .......... .......... .......... .......... 17% 86.5M 1s\n",
            "  7850K .......... .......... .......... .......... .......... 17% 81.5M 1s\n",
            "  7900K .......... .......... .......... .......... .......... 17% 84.4M 1s\n",
            "  7950K .......... .......... .......... .......... .......... 18% 76.2M 1s\n",
            "  8000K .......... .......... .......... .......... .......... 18% 83.1M 1s\n",
            "  8050K .......... .......... .......... .......... .......... 18% 85.5M 1s\n",
            "  8100K .......... .......... .......... .......... .......... 18% 82.6M 1s\n",
            "  8150K .......... .......... .......... .......... .......... 18% 68.9M 1s\n",
            "  8200K .......... .......... .......... .......... .......... 18% 80.0M 1s\n",
            "  8250K .......... .......... .......... .......... .......... 18% 65.6M 1s\n",
            "  8300K .......... .......... .......... .......... .......... 18% 62.0M 1s\n",
            "  8350K .......... .......... .......... .......... .......... 18% 62.5M 1s\n",
            "  8400K .......... .......... .......... .......... .......... 19% 73.6M 1s\n",
            "  8450K .......... .......... .......... .......... .......... 19%  127M 1s\n",
            "  8500K .......... .......... .......... .......... .......... 19%  108M 1s\n",
            "  8550K .......... .......... .......... .......... .......... 19%  160M 1s\n",
            "  8600K .......... .......... .......... .......... .......... 19%  124M 1s\n",
            "  8650K .......... .......... .......... .......... .......... 19%  170M 0s\n",
            "  8700K .......... .......... .......... .......... .......... 19%  166M 0s\n",
            "  8750K .......... .......... .......... .......... .......... 19%  158M 0s\n",
            "  8800K .......... .......... .......... .......... .......... 19%  153M 0s\n",
            "  8850K .......... .......... .......... .......... .......... 20%  170M 0s\n",
            "  8900K .......... .......... .......... .......... .......... 20%  159M 0s\n",
            "  8950K .......... .......... .......... .......... .......... 20%  174M 0s\n",
            "  9000K .......... .......... .......... .......... .......... 20%  158M 0s\n",
            "  9050K .......... .......... .......... .......... .......... 20%  145M 0s\n",
            "  9100K .......... .......... .......... .......... .......... 20%  145M 0s\n",
            "  9150K .......... .......... .......... .......... .......... 20%  171M 0s\n",
            "  9200K .......... .......... .......... .......... .......... 20%  162M 0s\n",
            "  9250K .......... .......... .......... .......... .......... 20%  155M 0s\n",
            "  9300K .......... .......... .......... .......... .......... 21%  146M 0s\n",
            "  9350K .......... .......... .......... .......... .......... 21%  166M 0s\n",
            "  9400K .......... .......... .......... .......... .......... 21%  168M 0s\n",
            "  9450K .......... .......... .......... .......... .......... 21%  168M 0s\n",
            "  9500K .......... .......... .......... .......... .......... 21%  159M 0s\n",
            "  9550K .......... .......... .......... .......... .......... 21%  164M 0s\n",
            "  9600K .......... .......... .......... .......... .......... 21%  130M 0s\n",
            "  9650K .......... .......... .......... .......... .......... 21%  133M 0s\n",
            "  9700K .......... .......... .......... .......... .......... 21%  115M 0s\n",
            "  9750K .......... .......... .......... .......... .......... 22%  145M 0s\n",
            "  9800K .......... .......... .......... .......... .......... 22%  134M 0s\n",
            "  9850K .......... .......... .......... .......... .......... 22%  160M 0s\n",
            "  9900K .......... .......... .......... .......... .......... 22%  178M 0s\n",
            "  9950K .......... .......... .......... .......... .......... 22%  177M 0s\n",
            " 10000K .......... .......... .......... .......... .......... 22%  125M 0s\n",
            " 10050K .......... .......... .......... .......... .......... 22%  181M 0s\n",
            " 10100K .......... .......... .......... .......... .......... 22%  178M 0s\n",
            " 10150K .......... .......... .......... .......... .......... 22%  164M 0s\n",
            " 10200K .......... .......... .......... .......... .......... 23%  131M 0s\n",
            " 10250K .......... .......... .......... .......... .......... 23%  176M 0s\n",
            " 10300K .......... .......... .......... .......... .......... 23%  183M 0s\n",
            " 10350K .......... .......... .......... .......... .......... 23%  105M 0s\n",
            " 10400K .......... .......... .......... .......... .......... 23%  127M 0s\n",
            " 10450K .......... .......... .......... .......... .......... 23%  171M 0s\n",
            " 10500K .......... .......... .......... .......... .......... 23%  142M 0s\n",
            " 10550K .......... .......... .......... .......... .......... 23%  162M 0s\n",
            " 10600K .......... .......... .......... .......... .......... 23%  169M 0s\n",
            " 10650K .......... .......... .......... .......... .......... 24%  174M 0s\n",
            " 10700K .......... .......... .......... .......... .......... 24%  158M 0s\n",
            " 10750K .......... .......... .......... .......... .......... 24%  165M 0s\n",
            " 10800K .......... .......... .......... .......... .......... 24%  170M 0s\n",
            " 10850K .......... .......... .......... .......... .......... 24%  171M 0s\n",
            " 10900K .......... .......... .......... .......... .......... 24%  146M 0s\n",
            " 10950K .......... .......... .......... .......... .......... 24%  167M 0s\n",
            " 11000K .......... .......... .......... .......... .......... 24%  159M 0s\n",
            " 11050K .......... .......... .......... .......... .......... 24%  174M 0s\n",
            " 11100K .......... .......... .......... .......... .......... 25%  176M 0s\n",
            " 11150K .......... .......... .......... .......... .......... 25%  145M 0s\n",
            " 11200K .......... .......... .......... .......... .......... 25%  177M 0s\n",
            " 11250K .......... .......... .......... .......... .......... 25%  131M 0s\n",
            " 11300K .......... .......... .......... .......... .......... 25%  118M 0s\n",
            " 11350K .......... .......... .......... .......... .......... 25%  109M 0s\n",
            " 11400K .......... .......... .......... .......... .......... 25%  112M 0s\n",
            " 11450K .......... .......... .......... .......... .......... 25%  128M 0s\n",
            " 11500K .......... .......... .......... .......... .......... 25%  137M 0s\n",
            " 11550K .......... .......... .......... .......... .......... 26%  133M 0s\n",
            " 11600K .......... .......... .......... .......... .......... 26%  142M 0s\n",
            " 11650K .......... .......... .......... .......... .......... 26%  142M 0s\n",
            " 11700K .......... .......... .......... .......... .......... 26%  146M 0s\n",
            " 11750K .......... .......... .......... .......... .......... 26%  123M 0s\n",
            " 11800K .......... .......... .......... .......... .......... 26%  160M 0s\n",
            " 11850K .......... .......... .......... .......... .......... 26%  146M 0s\n",
            " 11900K .......... .......... .......... .......... .......... 26%  169M 0s\n",
            " 11950K .......... .......... .......... .......... .......... 27%  177M 0s\n",
            " 12000K .......... .......... .......... .......... .......... 27%  162M 0s\n",
            " 12050K .......... .......... .......... .......... .......... 27%  156M 0s\n",
            " 12100K .......... .......... .......... .......... .......... 27%  145M 0s\n",
            " 12150K .......... .......... .......... .......... .......... 27%  171M 0s\n",
            " 12200K .......... .......... .......... .......... .......... 27%  179M 0s\n",
            " 12250K .......... .......... .......... .......... .......... 27%  172M 0s\n",
            " 12300K .......... .......... .......... .......... .......... 27%  145M 0s\n",
            " 12350K .......... .......... .......... .......... .......... 27%  171M 0s\n",
            " 12400K .......... .......... .......... .......... .......... 28%  160M 0s\n",
            " 12450K .......... .......... .......... .......... .......... 28%  175M 0s\n",
            " 12500K .......... .......... .......... .......... .......... 28%  141M 0s\n",
            " 12550K .......... .......... .......... .......... .......... 28%  174M 0s\n",
            " 12600K .......... .......... .......... .......... .......... 28%  170M 0s\n",
            " 12650K .......... .......... .......... .......... .......... 28%  161M 0s\n",
            " 12700K .......... .......... .......... .......... .......... 28%  157M 0s\n",
            " 12750K .......... .......... .......... .......... .......... 28%  167M 0s\n",
            " 12800K .......... .......... .......... .......... .......... 28%  174M 0s\n",
            " 12850K .......... .......... .......... .......... .......... 29%  127M 0s\n",
            " 12900K .......... .......... .......... .......... .......... 29% 65.5M 0s\n",
            " 12950K .......... .......... .......... .......... .......... 29%  162M 0s\n",
            " 13000K .......... .......... .......... .......... .......... 29%  127M 0s\n",
            " 13050K .......... .......... .......... .......... .......... 29%  110M 0s\n",
            " 13100K .......... .......... .......... .......... .......... 29%  147M 0s\n",
            " 13150K .......... .......... .......... .......... .......... 29%  126M 0s\n",
            " 13200K .......... .......... .......... .......... .......... 29%  160M 0s\n",
            " 13250K .......... .......... .......... .......... .......... 29%  166M 0s\n",
            " 13300K .......... .......... .......... .......... .......... 30%  145M 0s\n",
            " 13350K .......... .......... .......... .......... .......... 30%  126M 0s\n",
            " 13400K .......... .......... .......... .......... .......... 30%  128M 0s\n",
            " 13450K .......... .......... .......... .......... .......... 30%  172M 0s\n",
            " 13500K .......... .......... .......... .......... .......... 30%  180M 0s\n",
            " 13550K .......... .......... .......... .......... .......... 30%  153M 0s\n",
            " 13600K .......... .......... .......... .......... .......... 30%  157M 0s\n",
            " 13650K .......... .......... .......... .......... .......... 30%  167M 0s\n",
            " 13700K .......... .......... .......... .......... .......... 30%  165M 0s\n",
            " 13750K .......... .......... .......... .......... .......... 31%  199M 0s\n",
            " 13800K .......... .......... .......... .......... .......... 31%  168M 0s\n",
            " 13850K .......... .......... .......... .......... .......... 31%  187M 0s\n",
            " 13900K .......... .......... .......... .......... .......... 31%  160M 0s\n",
            " 13950K .......... .......... .......... .......... .......... 31%  169M 0s\n",
            " 14000K .......... .......... .......... .......... .......... 31%  140M 0s\n",
            " 14050K .......... .......... .......... .......... .......... 31%  174M 0s\n",
            " 14100K .......... .......... .......... .......... .......... 31%  183M 0s\n",
            " 14150K .......... .......... .......... .......... .......... 31%  155M 0s\n",
            " 14200K .......... .......... .......... .......... .......... 32%  162M 0s\n",
            " 14250K .......... .......... .......... .......... .......... 32%  167M 0s\n",
            " 14300K .......... .......... .......... .......... .......... 32%  173M 0s\n",
            " 14350K .......... .......... .......... .......... .......... 32%  176M 0s\n",
            " 14400K .......... .......... .......... .......... .......... 32%  130M 0s\n",
            " 14450K .......... .......... .......... .......... .......... 32%  120M 0s\n",
            " 14500K .......... .......... .......... .......... .......... 32%  137M 0s\n",
            " 14550K .......... .......... .......... .......... .......... 32%  124M 0s\n",
            " 14600K .......... .......... .......... .......... .......... 32%  131M 0s\n",
            " 14650K .......... .......... .......... .......... .......... 33%  105M 0s\n",
            " 14700K .......... .......... .......... .......... .......... 33%  153M 0s\n",
            " 14750K .......... .......... .......... .......... .......... 33%  150M 0s\n",
            " 14800K .......... .......... .......... .......... .......... 33%  169M 0s\n",
            " 14850K .......... .......... .......... .......... .......... 33%  158M 0s\n",
            " 14900K .......... .......... .......... .......... .......... 33%  167M 0s\n",
            " 14950K .......... .......... .......... .......... .......... 33%  148M 0s\n",
            " 15000K .......... .......... .......... .......... .......... 33%  124M 0s\n",
            " 15050K .......... .......... .......... .......... .......... 33%  132M 0s\n",
            " 15100K .......... .......... .......... .......... .......... 34%  180M 0s\n",
            " 15150K .......... .......... .......... .......... .......... 34%  155M 0s\n",
            " 15200K .......... .......... .......... .......... .......... 34%  175M 0s\n",
            " 15250K .......... .......... .......... .......... .......... 34%  177M 0s\n",
            " 15300K .......... .......... .......... .......... .......... 34%  176M 0s\n",
            " 15350K .......... .......... .......... .......... .......... 34%  148M 0s\n",
            " 15400K .......... .......... .......... .......... .......... 34%  174M 0s\n",
            " 15450K .......... .......... .......... .......... .......... 34%  176M 0s\n",
            " 15500K .......... .......... .......... .......... .......... 34%  180M 0s\n",
            " 15550K .......... .......... .......... .......... .......... 35%  146M 0s\n",
            " 15600K .......... .......... .......... .......... .......... 35%  183M 0s\n",
            " 15650K .......... .......... .......... .......... .......... 35%  141M 0s\n",
            " 15700K .......... .......... .......... .......... .......... 35%  175M 0s\n",
            " 15750K .......... .......... .......... .......... .......... 35%  184M 0s\n",
            " 15800K .......... .......... .......... .......... .......... 35%  174M 0s\n",
            " 15850K .......... .......... .......... .......... .......... 35%  161M 0s\n",
            " 15900K .......... .......... .......... .......... .......... 35%  151M 0s\n",
            " 15950K .......... .......... .......... .......... .......... 36%  177M 0s\n",
            " 16000K .......... .......... .......... .......... .......... 36% 99.5M 0s\n",
            " 16050K .......... .......... .......... .......... .......... 36%  124M 0s\n",
            " 16100K .......... .......... .......... .......... .......... 36% 99.2M 0s\n",
            " 16150K .......... .......... .......... .......... .......... 36% 93.3M 0s\n",
            " 16200K .......... .......... .......... .......... .......... 36%  101M 0s\n",
            " 16250K .......... .......... .......... .......... .......... 36%  119M 0s\n",
            " 16300K .......... .......... .......... .......... .......... 36%  107M 0s\n",
            " 16350K .......... .......... .......... .......... .......... 36%  168M 0s\n",
            " 16400K .......... .......... .......... .......... .......... 37%  177M 0s\n",
            " 16450K .......... .......... .......... .......... .......... 37%  172M 0s\n",
            " 16500K .......... .......... .......... .......... .......... 37%  154M 0s\n",
            " 16550K .......... .......... .......... .......... .......... 37%  120M 0s\n",
            " 16600K .......... .......... .......... .......... .......... 37%  106M 0s\n",
            " 16650K .......... .......... .......... .......... .......... 37%  118M 0s\n",
            " 16700K .......... .......... .......... .......... .......... 37%  130M 0s\n",
            " 16750K .......... .......... .......... .......... .......... 37%  110M 0s\n",
            " 16800K .......... .......... .......... .......... .......... 37%  163M 0s\n",
            " 16850K .......... .......... .......... .......... .......... 38%  162M 0s\n",
            " 16900K .......... .......... .......... .......... .......... 38%  165M 0s\n",
            " 16950K .......... .......... .......... .......... .......... 38%  150M 0s\n",
            " 17000K .......... .......... .......... .......... .......... 38%  155M 0s\n",
            " 17050K .......... .......... .......... .......... .......... 38%  163M 0s\n",
            " 17100K .......... .......... .......... .......... .......... 38%  168M 0s\n",
            " 17150K .......... .......... .......... .......... .......... 38%  149M 0s\n",
            " 17200K .......... .......... .......... .......... .......... 38%  174M 0s\n",
            " 17250K .......... .......... .......... .......... .......... 38%  109M 0s\n",
            " 17300K .......... .......... .......... .......... .......... 39%  148M 0s\n",
            " 17350K .......... .......... .......... .......... .......... 39%  167M 0s\n",
            " 17400K .......... .......... .......... .......... .......... 39%  159M 0s\n",
            " 17450K .......... .......... .......... .......... .......... 39%  179M 0s\n",
            " 17500K .......... .......... .......... .......... .......... 39%  130M 0s\n",
            " 17550K .......... .......... .......... .......... .......... 39%  115M 0s\n",
            " 17600K .......... .......... .......... .......... .......... 39%  126M 0s\n",
            " 17650K .......... .......... .......... .......... .......... 39%  127M 0s\n",
            " 17700K .......... .......... .......... .......... .......... 39%  116M 0s\n",
            " 17750K .......... .......... .......... .......... .......... 40%  126M 0s\n",
            " 17800K .......... .......... .......... .......... .......... 40%  138M 0s\n",
            " 17850K .......... .......... .......... .......... .......... 40%  177M 0s\n",
            " 17900K .......... .......... .......... .......... .......... 40%  173M 0s\n",
            " 17950K .......... .......... .......... .......... .......... 40%  146M 0s\n",
            " 18000K .......... .......... .......... .......... .......... 40%  160M 0s\n",
            " 18050K .......... .......... .......... .......... .......... 40%  160M 0s\n",
            " 18100K .......... .......... .......... .......... .......... 40%  116M 0s\n",
            " 18150K .......... .......... .......... .......... .......... 40%  148M 0s\n",
            " 18200K .......... .......... .......... .......... .......... 41%  141M 0s\n",
            " 18250K .......... .......... .......... .......... .......... 41%  164M 0s\n",
            " 18300K .......... .......... .......... .......... .......... 41%  174M 0s\n",
            " 18350K .......... .......... .......... .......... .......... 41%  177M 0s\n",
            " 18400K .......... .......... .......... .......... .......... 41%  149M 0s\n",
            " 18450K .......... .......... .......... .......... .......... 41%  169M 0s\n",
            " 18500K .......... .......... .......... .......... .......... 41%  176M 0s\n",
            " 18550K .......... .......... .......... .......... .......... 41%  176M 0s\n",
            " 18600K .......... .......... .......... .......... .......... 41%  153M 0s\n",
            " 18650K .......... .......... .......... .......... .......... 42%  186M 0s\n",
            " 18700K .......... .......... .......... .......... .......... 42% 85.9M 0s\n",
            " 18750K .......... .......... .......... .......... .......... 42%  119M 0s\n",
            " 18800K .......... .......... .......... .......... .......... 42%  119M 0s\n",
            " 18850K .......... .......... .......... .......... .......... 42%  129M 0s\n",
            " 18900K .......... .......... .......... .......... .......... 42%  115M 0s\n",
            " 18950K .......... .......... .......... .......... .......... 42%  127M 0s\n",
            " 19000K .......... .......... .......... .......... .......... 42%  123M 0s\n",
            " 19050K .......... .......... .......... .......... .......... 42% 99.3M 0s\n",
            " 19100K .......... .......... .......... .......... .......... 43% 84.6M 0s\n",
            " 19150K .......... .......... .......... .......... .......... 43%  107M 0s\n",
            " 19200K .......... .......... .......... .......... .......... 43%  104M 0s\n",
            " 19250K .......... .......... .......... .......... .......... 43%  117M 0s\n",
            " 19300K .......... .......... .......... .......... .......... 43%  124M 0s\n",
            " 19350K .......... .......... .......... .......... .......... 43%  105M 0s\n",
            " 19400K .......... .......... .......... .......... .......... 43%  136M 0s\n",
            " 19450K .......... .......... .......... .......... .......... 43% 99.4M 0s\n",
            " 19500K .......... .......... .......... .......... .......... 43%  127M 0s\n",
            " 19550K .......... .......... .......... .......... .......... 44%  118M 0s\n",
            " 19600K .......... .......... .......... .......... .......... 44%  129M 0s\n",
            " 19650K .......... .......... .......... .......... .......... 44%  128M 0s\n",
            " 19700K .......... .......... .......... .......... .......... 44%  131M 0s\n",
            " 19750K .......... .......... .......... .......... .......... 44%  116M 0s\n",
            " 19800K .......... .......... .......... .......... .......... 44%  128M 0s\n",
            " 19850K .......... .......... .......... .......... .......... 44%  133M 0s\n",
            " 19900K .......... .......... .......... .......... .......... 44%  131M 0s\n",
            " 19950K .......... .......... .......... .......... .......... 45%  115M 0s\n",
            " 20000K .......... .......... .......... .......... .......... 45%  125M 0s\n",
            " 20050K .......... .......... .......... .......... .......... 45%  111M 0s\n",
            " 20100K .......... .......... .......... .......... .......... 45% 96.9M 0s\n",
            " 20150K .......... .......... .......... .......... .......... 45%  122M 0s\n",
            " 20200K .......... .......... .......... .......... .......... 45%  110M 0s\n",
            " 20250K .......... .......... .......... .......... .......... 45%  128M 0s\n",
            " 20300K .......... .......... .......... .......... .......... 45% 88.8M 0s\n",
            " 20350K .......... .......... .......... .......... .......... 45%  114M 0s\n",
            " 20400K .......... .......... .......... .......... .......... 46% 97.2M 0s\n",
            " 20450K .......... .......... .......... .......... .......... 46% 98.7M 0s\n",
            " 20500K .......... .......... .......... .......... .......... 46% 98.6M 0s\n",
            " 20550K .......... .......... .......... .......... .......... 46%  125M 0s\n",
            " 20600K .......... .......... .......... .......... .......... 46%  117M 0s\n",
            " 20650K .......... .......... .......... .......... .......... 46%  131M 0s\n",
            " 20700K .......... .......... .......... .......... .......... 46% 86.0M 0s\n",
            " 20750K .......... .......... .......... .......... .......... 46%  120M 0s\n",
            " 20800K .......... .......... .......... .......... .......... 46%  147M 0s\n",
            " 20850K .......... .......... .......... .......... .......... 47%  129M 0s\n",
            " 20900K .......... .......... .......... .......... .......... 47%  118M 0s\n",
            " 20950K .......... .......... .......... .......... .......... 47%  123M 0s\n",
            " 21000K .......... .......... .......... .......... .......... 47%  131M 0s\n",
            " 21050K .......... .......... .......... .......... .......... 47%  135M 0s\n",
            " 21100K .......... .......... .......... .......... .......... 47%  111M 0s\n",
            " 21150K .......... .......... .......... .......... .......... 47%  134M 0s\n",
            " 21200K .......... .......... .......... .......... .......... 47%  109M 0s\n",
            " 21250K .......... .......... .......... .......... .......... 47%  136M 0s\n",
            " 21300K .......... .......... .......... .......... .......... 48%  165M 0s\n",
            " 21350K .......... .......... .......... .......... .......... 48%  183M 0s\n",
            " 21400K .......... .......... .......... .......... .......... 48%  169M 0s\n",
            " 21450K .......... .......... .......... .......... .......... 48%  129M 0s\n",
            " 21500K .......... .......... .......... .......... .......... 48%  171M 0s\n",
            " 21550K .......... .......... .......... .......... .......... 48%  172M 0s\n",
            " 21600K .......... .......... .......... .......... .......... 48%  110M 0s\n",
            " 21650K .......... .......... .......... .......... .......... 48%  104M 0s\n",
            " 21700K .......... .......... .......... .......... .......... 48%  131M 0s\n",
            " 21750K .......... .......... .......... .......... .......... 49%  120M 0s\n",
            " 21800K .......... .......... .......... .......... .......... 49%  133M 0s\n",
            " 21850K .......... .......... .......... .......... .......... 49%  148M 0s\n",
            " 21900K .......... .......... .......... .......... .......... 49%  155M 0s\n",
            " 21950K .......... .......... .......... .......... .......... 49%  156M 0s\n",
            " 22000K .......... .......... .......... .......... .......... 49%  151M 0s\n",
            " 22050K .......... .......... .......... .......... .......... 49%  155M 0s\n",
            " 22100K .......... .......... .......... .......... .......... 49%  163M 0s\n",
            " 22150K .......... .......... .......... .......... .......... 49%  133M 0s\n",
            " 22200K .......... .......... .......... .......... .......... 50%  142M 0s\n",
            " 22250K .......... .......... .......... .......... .......... 50%  134M 0s\n",
            " 22300K .......... .......... .......... .......... .......... 50%  170M 0s\n",
            " 22350K .......... .......... .......... .......... .......... 50%  182M 0s\n",
            " 22400K .......... .......... .......... .......... .......... 50%  164M 0s\n",
            " 22450K .......... .......... .......... .......... .......... 50%  145M 0s\n",
            " 22500K .......... .......... .......... .......... .......... 50%  156M 0s\n",
            " 22550K .......... .......... .......... .......... .......... 50%  164M 0s\n",
            " 22600K .......... .......... .......... .......... .......... 50%  177M 0s\n",
            " 22650K .......... .......... .......... .......... .......... 51%  112M 0s\n",
            " 22700K .......... .......... .......... .......... .......... 51%  144M 0s\n",
            " 22750K .......... .......... .......... .......... .......... 51%  178M 0s\n",
            " 22800K .......... .......... .......... .......... .......... 51%  155M 0s\n",
            " 22850K .......... .......... .......... .......... .......... 51%  178M 0s\n",
            " 22900K .......... .......... .......... .......... .......... 51%  139M 0s\n",
            " 22950K .......... .......... .......... .......... .......... 51%  151M 0s\n",
            " 23000K .......... .......... .......... .......... .......... 51%  176M 0s\n",
            " 23050K .......... .......... .......... .......... .......... 51%  166M 0s\n",
            " 23100K .......... .......... .......... .......... .......... 52%  145M 0s\n",
            " 23150K .......... .......... .......... .......... .......... 52%  122M 0s\n",
            " 23200K .......... .......... .......... .......... .......... 52%  138M 0s\n",
            " 23250K .......... .......... .......... .......... .......... 52% 91.2M 0s\n",
            " 23300K .......... .......... .......... .......... .......... 52% 96.7M 0s\n",
            " 23350K .......... .......... .......... .......... .......... 52%  137M 0s\n",
            " 23400K .......... .......... .......... .......... .......... 52%  147M 0s\n",
            " 23450K .......... .......... .......... .......... .......... 52%  143M 0s\n",
            " 23500K .......... .......... .......... .......... .......... 52%  154M 0s\n",
            " 23550K .......... .......... .......... .......... .......... 53% 77.1M 0s\n",
            " 23600K .......... .......... .......... .......... .......... 53%  101M 0s\n",
            " 23650K .......... .......... .......... .......... .......... 53% 98.6M 0s\n",
            " 23700K .......... .......... .......... .......... .......... 53%  124M 0s\n",
            " 23750K .......... .......... .......... .......... .......... 53%  115M 0s\n",
            " 23800K .......... .......... .......... .......... .......... 53%  130M 0s\n",
            " 23850K .......... .......... .......... .......... .......... 53%  126M 0s\n",
            " 23900K .......... .......... .......... .......... .......... 53%  127M 0s\n",
            " 23950K .......... .......... .......... .......... .......... 54%  109M 0s\n",
            " 24000K .......... .......... .......... .......... .......... 54%  129M 0s\n",
            " 24050K .......... .......... .......... .......... .......... 54%  132M 0s\n",
            " 24100K .......... .......... .......... .......... .......... 54%  134M 0s\n",
            " 24150K .......... .......... .......... .......... .......... 54%  109M 0s\n",
            " 24200K .......... .......... .......... .......... .......... 54%  121M 0s\n",
            " 24250K .......... .......... .......... .......... .......... 54%  129M 0s\n",
            " 24300K .......... .......... .......... .......... .......... 54% 89.1M 0s\n",
            " 24350K .......... .......... .......... .......... .......... 54%  157M 0s\n",
            " 24400K .......... .......... .......... .......... .......... 55%  152M 0s\n",
            " 24450K .......... .......... .......... .......... .......... 55%  139M 0s\n",
            " 24500K .......... .......... .......... .......... .......... 55% 85.6M 0s\n",
            " 24550K .......... .......... .......... .......... .......... 55%  141M 0s\n",
            " 24600K .......... .......... .......... .......... .......... 55%  119M 0s\n",
            " 24650K .......... .......... .......... .......... .......... 55%  127M 0s\n",
            " 24700K .......... .......... .......... .......... .......... 55% 51.4M 0s\n",
            " 24750K .......... .......... .......... .......... .......... 55%  152M 0s\n",
            " 24800K .......... .......... .......... .......... .......... 55%  134M 0s\n",
            " 24850K .......... .......... .......... .......... .......... 56%  127M 0s\n",
            " 24900K .......... .......... .......... .......... .......... 56%  127M 0s\n",
            " 24950K .......... .......... .......... .......... .......... 56%  132M 0s\n",
            " 25000K .......... .......... .......... .......... .......... 56%  171M 0s\n",
            " 25050K .......... .......... .......... .......... .......... 56%  173M 0s\n",
            " 25100K .......... .......... .......... .......... .......... 56%  103M 0s\n",
            " 25150K .......... .......... .......... .......... .......... 56%  169M 0s\n",
            " 25200K .......... .......... .......... .......... .......... 56%  130M 0s\n",
            " 25250K .......... .......... .......... .......... .......... 56%  157M 0s\n",
            " 25300K .......... .......... .......... .......... .......... 57%  136M 0s\n",
            " 25350K .......... .......... .......... .......... .......... 57%  167M 0s\n",
            " 25400K .......... .......... .......... .......... .......... 57%  148M 0s\n",
            " 25450K .......... .......... .......... .......... .......... 57%  159M 0s\n",
            " 25500K .......... .......... .......... .......... .......... 57%  136M 0s\n",
            " 25550K .......... .......... .......... .......... .......... 57%  169M 0s\n",
            " 25600K .......... .......... .......... .......... .......... 57%  171M 0s\n",
            " 25650K .......... .......... .......... .......... .......... 57%  175M 0s\n",
            " 25700K .......... .......... .......... .......... .......... 57%  156M 0s\n",
            " 25750K .......... .......... .......... .......... .......... 58%  154M 0s\n",
            " 25800K .......... .......... .......... .......... .......... 58%  153M 0s\n",
            " 25850K .......... .......... .......... .......... .......... 58%  169M 0s\n",
            " 25900K .......... .......... .......... .......... .......... 58%  178M 0s\n",
            " 25950K .......... .......... .......... .......... .......... 58%  111M 0s\n",
            " 26000K .......... .......... .......... .......... .......... 58%  105M 0s\n",
            " 26050K .......... .......... .......... .......... .......... 58%  146M 0s\n",
            " 26100K .......... .......... .......... .......... .......... 58%  137M 0s\n",
            " 26150K .......... .......... .......... .......... .......... 58%  143M 0s\n",
            " 26200K .......... .......... .......... .......... .......... 59%  153M 0s\n",
            " 26250K .......... .......... .......... .......... .......... 59%  129M 0s\n",
            " 26300K .......... .......... .......... .......... .......... 59%  113M 0s\n",
            " 26350K .......... .......... .......... .......... .......... 59%  180M 0s\n",
            " 26400K .......... .......... .......... .......... .......... 59%  155M 0s\n",
            " 26450K .......... .......... .......... .......... .......... 59%  138M 0s\n",
            " 26500K .......... .......... .......... .......... .......... 59%  113M 0s\n",
            " 26550K .......... .......... .......... .......... .......... 59%  165M 0s\n",
            " 26600K .......... .......... .......... .......... .......... 59%  166M 0s\n",
            " 26650K .......... .......... .......... .......... .......... 60%  164M 0s\n",
            " 26700K .......... .......... .......... .......... .......... 60%  171M 0s\n",
            " 26750K .......... .......... .......... .......... .......... 60%  149M 0s\n",
            " 26800K .......... .......... .......... .......... .......... 60%  181M 0s\n",
            " 26850K .......... .......... .......... .......... .......... 60%  145M 0s\n",
            " 26900K .......... .......... .......... .......... .......... 60%  156M 0s\n",
            " 26950K .......... .......... .......... .......... .......... 60%  169M 0s\n",
            " 27000K .......... .......... .......... .......... .......... 60%  208M 0s\n",
            " 27050K .......... .......... .......... .......... .......... 60%  163M 0s\n",
            " 27100K .......... .......... .......... .......... .......... 61%  125M 0s\n",
            " 27150K .......... .......... .......... .......... .......... 61%  115M 0s\n",
            " 27200K .......... .......... .......... .......... .......... 61%  163M 0s\n",
            " 27250K .......... .......... .......... .......... .......... 61%  157M 0s\n",
            " 27300K .......... .......... .......... .......... .......... 61%  177M 0s\n",
            " 27350K .......... .......... .......... .......... .......... 61%  153M 0s\n",
            " 27400K .......... .......... .......... .......... .......... 61%  170M 0s\n",
            " 27450K .......... .......... .......... .......... .......... 61%  182M 0s\n",
            " 27500K .......... .......... .......... .......... .......... 61%  165M 0s\n",
            " 27550K .......... .......... .......... .......... .......... 62%  105M 0s\n",
            " 27600K .......... .......... .......... .......... .......... 62% 96.2M 0s\n",
            " 27650K .......... .......... .......... .......... .......... 62%  118M 0s\n",
            " 27700K .......... .......... .......... .......... .......... 62%  150M 0s\n",
            " 27750K .......... .......... .......... .......... .......... 62%  152M 0s\n",
            " 27800K .......... .......... .......... .......... .......... 62% 93.2M 0s\n",
            " 27850K .......... .......... .......... .......... .......... 62%  162M 0s\n",
            " 27900K .......... .......... .......... .......... .......... 62%  155M 0s\n",
            " 27950K .......... .......... .......... .......... .......... 63%  132M 0s\n",
            " 28000K .......... .......... .......... .......... .......... 63%  116M 0s\n",
            " 28050K .......... .......... .......... .......... .......... 63% 89.2M 0s\n",
            " 28100K .......... .......... .......... .......... .......... 63%  162M 0s\n",
            " 28150K .......... .......... .......... .......... .......... 63%  178M 0s\n",
            " 28200K .......... .......... .......... .......... .......... 63%  170M 0s\n",
            " 28250K .......... .......... .......... .......... .......... 63%  105M 0s\n",
            " 28300K .......... .......... .......... .......... .......... 63%  174M 0s\n",
            " 28350K .......... .......... .......... .......... .......... 63%  171M 0s\n",
            " 28400K .......... .......... .......... .......... .......... 64%  177M 0s\n",
            " 28450K .......... .......... .......... .......... .......... 64%  135M 0s\n",
            " 28500K .......... .......... .......... .......... .......... 64%  131M 0s\n",
            " 28550K .......... .......... .......... .......... .......... 64%  131M 0s\n",
            " 28600K .......... .......... .......... .......... .......... 64%  133M 0s\n",
            " 28650K .......... .......... .......... .......... .......... 64%  168M 0s\n",
            " 28700K .......... .......... .......... .......... .......... 64%  113M 0s\n",
            " 28750K .......... .......... .......... .......... .......... 64%  163M 0s\n",
            " 28800K .......... .......... .......... .......... .......... 64%  141M 0s\n",
            " 28850K .......... .......... .......... .......... .......... 65%  175M 0s\n",
            " 28900K .......... .......... .......... .......... .......... 65%  170M 0s\n",
            " 28950K .......... .......... .......... .......... .......... 65%  167M 0s\n",
            " 29000K .......... .......... .......... .......... .......... 65%  122M 0s\n",
            " 29050K .......... .......... .......... .......... .......... 65%  126M 0s\n",
            " 29100K .......... .......... .......... .......... .......... 65%  135M 0s\n",
            " 29150K .......... .......... .......... .......... .......... 65%  119M 0s\n",
            " 29200K .......... .......... .......... .......... .......... 65%  116M 0s\n",
            " 29250K .......... .......... .......... .......... .......... 65%  142M 0s\n",
            " 29300K .......... .......... .......... .......... .......... 66%  155M 0s\n",
            " 29350K .......... .......... .......... .......... .......... 66%  144M 0s\n",
            " 29400K .......... .......... .......... .......... .......... 66%  176M 0s\n",
            " 29450K .......... .......... .......... .......... .......... 66%  159M 0s\n",
            " 29500K .......... .......... .......... .......... .......... 66%  116M 0s\n",
            " 29550K .......... .......... .......... .......... .......... 66%  172M 0s\n",
            " 29600K .......... .......... .......... .......... .......... 66%  155M 0s\n",
            " 29650K .......... .......... .......... .......... .......... 66%  158M 0s\n",
            " 29700K .......... .......... .......... .......... .......... 66%  152M 0s\n",
            " 29750K .......... .......... .......... .......... .......... 67%  149M 0s\n",
            " 29800K .......... .......... .......... .......... .......... 67%  175M 0s\n",
            " 29850K .......... .......... .......... .......... .......... 67%  115M 0s\n",
            " 29900K .......... .......... .......... .......... .......... 67%  160M 0s\n",
            " 29950K .......... .......... .......... .......... .......... 67%  158M 0s\n",
            " 30000K .......... .......... .......... .......... .......... 67%  166M 0s\n",
            " 30050K .......... .......... .......... .......... .......... 67%  184M 0s\n",
            " 30100K .......... .......... .......... .......... .......... 67%  178M 0s\n",
            " 30150K .......... .......... .......... .......... .......... 67%  139M 0s\n",
            " 30200K .......... .......... .......... .......... .......... 68%  172M 0s\n",
            " 30250K .......... .......... .......... .......... .......... 68%  130M 0s\n",
            " 30300K .......... .......... .......... .......... .......... 68%  174M 0s\n",
            " 30350K .......... .......... .......... .......... .......... 68%  192M 0s\n",
            " 30400K .......... .......... .......... .......... .......... 68%  194M 0s\n",
            " 30450K .......... .......... .......... .......... .......... 68%  165M 0s\n",
            " 30500K .......... .......... .......... .......... .......... 68%  171M 0s\n",
            " 30550K .......... .......... .......... .......... .......... 68%  171M 0s\n",
            " 30600K .......... .......... .......... .......... .......... 68%  148M 0s\n",
            " 30650K .......... .......... .......... .......... .......... 69%  114M 0s\n",
            " 30700K .......... .......... .......... .......... .......... 69%  173M 0s\n",
            " 30750K .......... .......... .......... .......... .......... 69%  140M 0s\n",
            " 30800K .......... .......... .......... .......... .......... 69%  158M 0s\n",
            " 30850K .......... .......... .......... .......... .......... 69%  122M 0s\n",
            " 30900K .......... .......... .......... .......... .......... 69%  131M 0s\n",
            " 30950K .......... .......... .......... .......... .......... 69%  153M 0s\n",
            " 31000K .......... .......... .......... .......... .......... 69%  170M 0s\n",
            " 31050K .......... .......... .......... .......... .......... 69%  152M 0s\n",
            " 31100K .......... .......... .......... .......... .......... 70%  166M 0s\n",
            " 31150K .......... .......... .......... .......... .......... 70% 99.7M 0s\n",
            " 31200K .......... .......... .......... .......... .......... 70%  166M 0s\n",
            " 31250K .......... .......... .......... .......... .......... 70%  130M 0s\n",
            " 31300K .......... .......... .......... .......... .......... 70%  151M 0s\n",
            " 31350K .......... .......... .......... .......... .......... 70%  179M 0s\n",
            " 31400K .......... .......... .......... .......... .......... 70%  100M 0s\n",
            " 31450K .......... .......... .......... .......... .......... 70%  157M 0s\n",
            " 31500K .......... .......... .......... .......... .......... 70%  154M 0s\n",
            " 31550K .......... .......... .......... .......... .......... 71%  165M 0s\n",
            " 31600K .......... .......... .......... .......... .......... 71%  158M 0s\n",
            " 31650K .......... .......... .......... .......... .......... 71%  197M 0s\n",
            " 31700K .......... .......... .......... .......... .......... 71%  176M 0s\n",
            " 31750K .......... .......... .......... .......... .......... 71%  191M 0s\n",
            " 31800K .......... .......... .......... .......... .......... 71%  147M 0s\n",
            " 31850K .......... .......... .......... .......... .......... 71%  198M 0s\n",
            " 31900K .......... .......... .......... .......... .......... 71%  180M 0s\n",
            " 31950K .......... .......... .......... .......... .......... 72%  210M 0s\n",
            " 32000K .......... .......... .......... .......... .......... 72%  136M 0s\n",
            " 32050K .......... .......... .......... .......... .......... 72%  175M 0s\n",
            " 32100K .......... .......... .......... .......... .......... 72%  188M 0s\n",
            " 32150K .......... .......... .......... .......... .......... 72%  191M 0s\n",
            " 32200K .......... .......... .......... .......... .......... 72%  171M 0s\n",
            " 32250K .......... .......... .......... .......... .......... 72%  175M 0s\n",
            " 32300K .......... .......... .......... .......... .......... 72%  136M 0s\n",
            " 32350K .......... .......... .......... .......... .......... 72%  132M 0s\n",
            " 32400K .......... .......... .......... .......... .......... 73%  123M 0s\n",
            " 32450K .......... .......... .......... .......... .......... 73%  191M 0s\n",
            " 32500K .......... .......... .......... .......... .......... 73%  149M 0s\n",
            " 32550K .......... .......... .......... .......... .......... 73%  139M 0s\n",
            " 32600K .......... .......... .......... .......... .......... 73%  106M 0s\n",
            " 32650K .......... .......... .......... .......... .......... 73%  214M 0s\n",
            " 32700K .......... .......... .......... .......... .......... 73%  185M 0s\n",
            " 32750K .......... .......... .......... .......... .......... 73%  164M 0s\n",
            " 32800K .......... .......... .......... .......... .......... 73%  142M 0s\n",
            " 32850K .......... .......... .......... .......... .......... 74%  155M 0s\n",
            " 32900K .......... .......... .......... .......... .......... 74%  184M 0s\n",
            " 32950K .......... .......... .......... .......... .......... 74%  117M 0s\n",
            " 33000K .......... .......... .......... .......... .......... 74%  156M 0s\n",
            " 33050K .......... .......... .......... .......... .......... 74%  184M 0s\n",
            " 33100K .......... .......... .......... .......... .......... 74%  183M 0s\n",
            " 33150K .......... .......... .......... .......... .......... 74%  168M 0s\n",
            " 33200K .......... .......... .......... .......... .......... 74%  184M 0s\n",
            " 33250K .......... .......... .......... .......... .......... 74% 50.0M 0s\n",
            " 33300K .......... .......... .......... .......... .......... 75%  195M 0s\n",
            " 33350K .......... .......... .......... .......... .......... 75%  157M 0s\n",
            " 33400K .......... .......... .......... .......... .......... 75% 19.7M 0s\n",
            " 33450K .......... .......... .......... .......... .......... 75%  183M 0s\n",
            " 33500K .......... .......... .......... .......... .......... 75%  142M 0s\n",
            " 33550K .......... .......... .......... .......... .......... 75%  150M 0s\n",
            " 33600K .......... .......... .......... .......... .......... 75%  195M 0s\n",
            " 33650K .......... .......... .......... .......... .......... 75%  128M 0s\n",
            " 33700K .......... .......... .......... .......... .......... 75%  178M 0s\n",
            " 33750K .......... .......... .......... .......... .......... 76%  204M 0s\n",
            " 33800K .......... .......... .......... .......... .......... 76%  192M 0s\n",
            " 33850K .......... .......... .......... .......... .......... 76%  178M 0s\n",
            " 33900K .......... .......... .......... .......... .......... 76%  185M 0s\n",
            " 33950K .......... .......... .......... .......... .......... 76%  196M 0s\n",
            " 34000K .......... .......... .......... .......... .......... 76%  174M 0s\n",
            " 34050K .......... .......... .......... .......... .......... 76%  192M 0s\n",
            " 34100K .......... .......... .......... .......... .......... 76%  162M 0s\n",
            " 34150K .......... .......... .......... .......... .......... 76%  199M 0s\n",
            " 34200K .......... .......... .......... .......... .......... 77%  195M 0s\n",
            " 34250K .......... .......... .......... .......... .......... 77%  203M 0s\n",
            " 34300K .......... .......... .......... .......... .......... 77%  155M 0s\n",
            " 34350K .......... .......... .......... .......... .......... 77%  196M 0s\n",
            " 34400K .......... .......... .......... .......... .......... 77%  171M 0s\n",
            " 34450K .......... .......... .......... .......... .......... 77%  192M 0s\n",
            " 34500K .......... .......... .......... .......... .......... 77%  163M 0s\n",
            " 34550K .......... .......... .......... .......... .......... 77%  179M 0s\n",
            " 34600K .......... .......... .......... .......... .......... 77%  165M 0s\n",
            " 34650K .......... .......... .......... .......... .......... 78%  206M 0s\n",
            " 34700K .......... .......... .......... .......... .......... 78%  228M 0s\n",
            " 34750K .......... .......... .......... .......... .......... 78%  189M 0s\n",
            " 34800K .......... .......... .......... .......... .......... 78%  184M 0s\n",
            " 34850K .......... .......... .......... .......... .......... 78%  190M 0s\n",
            " 34900K .......... .......... .......... .......... .......... 78%  208M 0s\n",
            " 34950K .......... .......... .......... .......... .......... 78%  188M 0s\n",
            " 35000K .......... .......... .......... .......... .......... 78%  200M 0s\n",
            " 35050K .......... .......... .......... .......... .......... 78%  158M 0s\n",
            " 35100K .......... .......... .......... .......... .......... 79%  179M 0s\n",
            " 35150K .......... .......... .......... .......... .......... 79%  184M 0s\n",
            " 35200K .......... .......... .......... .......... .......... 79%  206M 0s\n",
            " 35250K .......... .......... .......... .......... .......... 79%  189M 0s\n",
            " 35300K .......... .......... .......... .......... .......... 79%  170M 0s\n",
            " 35350K .......... .......... .......... .......... .......... 79%  193M 0s\n",
            " 35400K .......... .......... .......... .......... .......... 79%  204M 0s\n",
            " 35450K .......... .......... .......... .......... .......... 79%  196M 0s\n",
            " 35500K .......... .......... .......... .......... .......... 79%  164M 0s\n",
            " 35550K .......... .......... .......... .......... .......... 80%  193M 0s\n",
            " 35600K .......... .......... .......... .......... .......... 80%  190M 0s\n",
            " 35650K .......... .......... .......... .......... .......... 80%  195M 0s\n",
            " 35700K .......... .......... .......... .......... .......... 80%  207M 0s\n",
            " 35750K .......... .......... .......... .......... .......... 80%  188M 0s\n",
            " 35800K .......... .......... .......... .......... .......... 80%  219M 0s\n",
            " 35850K .......... .......... .......... .......... .......... 80%  222M 0s\n",
            " 35900K .......... .......... .......... .......... .......... 80%  204M 0s\n",
            " 35950K .......... .......... .......... .......... .......... 81%  205M 0s\n",
            " 36000K .......... .......... .......... .......... .......... 81%  209M 0s\n",
            " 36050K .......... .......... .......... .......... .......... 81%  204M 0s\n",
            " 36100K .......... .......... .......... .......... .......... 81%  220M 0s\n",
            " 36150K .......... .......... .......... .......... .......... 81%  182M 0s\n",
            " 36200K .......... .......... .......... .......... .......... 81%  228M 0s\n",
            " 36250K .......... .......... .......... .......... .......... 81%  195M 0s\n",
            " 36300K .......... .......... .......... .......... .......... 81%  194M 0s\n",
            " 36350K .......... .......... .......... .......... .......... 81%  169M 0s\n",
            " 36400K .......... .......... .......... .......... .......... 82%  203M 0s\n",
            " 36450K .......... .......... .......... .......... .......... 82%  186M 0s\n",
            " 36500K .......... .......... .......... .......... .......... 82%  173M 0s\n",
            " 36550K .......... .......... .......... .......... .......... 82%  184M 0s\n",
            " 36600K .......... .......... .......... .......... .......... 82%  189M 0s\n",
            " 36650K .......... .......... .......... .......... .......... 82%  186M 0s\n",
            " 36700K .......... .......... .......... .......... .......... 82%  162M 0s\n",
            " 36750K .......... .......... .......... .......... .......... 82%  189M 0s\n",
            " 36800K .......... .......... .......... .......... .......... 82%  174M 0s\n",
            " 36850K .......... .......... .......... .......... .......... 83%  195M 0s\n",
            " 36900K .......... .......... .......... .......... .......... 83%  193M 0s\n",
            " 36950K .......... .......... .......... .......... .......... 83%  170M 0s\n",
            " 37000K .......... .......... .......... .......... .......... 83%  190M 0s\n",
            " 37050K .......... .......... .......... .......... .......... 83%  201M 0s\n",
            " 37100K .......... .......... .......... .......... .......... 83%  174M 0s\n",
            " 37150K .......... .......... .......... .......... .......... 83%  163M 0s\n",
            " 37200K .......... .......... .......... .......... .......... 83%  198M 0s\n",
            " 37250K .......... .......... .......... .......... .......... 83%  187M 0s\n",
            " 37300K .......... .......... .......... .......... .......... 84%  183M 0s\n",
            " 37350K .......... .......... .......... .......... .......... 84%  186M 0s\n",
            " 37400K .......... .......... .......... .......... .......... 84%  157M 0s\n",
            " 37450K .......... .......... .......... .......... .......... 84%  186M 0s\n",
            " 37500K .......... .......... .......... .......... .......... 84%  183M 0s\n",
            " 37550K .......... .......... .......... .......... .......... 84%  181M 0s\n",
            " 37600K .......... .......... .......... .......... .......... 84%  183M 0s\n",
            " 37650K .......... .......... .......... .......... .......... 84%  157M 0s\n",
            " 37700K .......... .......... .......... .......... .......... 84%  207M 0s\n",
            " 37750K .......... .......... .......... .......... .......... 85%  178M 0s\n",
            " 37800K .......... .......... .......... .......... .......... 85% 7.85M 0s\n",
            " 37850K .......... .......... .......... .......... .......... 85%  175M 0s\n",
            " 37900K .......... .......... .......... .......... .......... 85%  162M 0s\n",
            " 37950K .......... .......... .......... .......... .......... 85%  174M 0s\n",
            " 38000K .......... .......... .......... .......... .......... 85%  176M 0s\n",
            " 38050K .......... .......... .......... .......... .......... 85%  197M 0s\n",
            " 38100K .......... .......... .......... .......... .......... 85%  165M 0s\n",
            " 38150K .......... .......... .......... .......... .......... 85%  201M 0s\n",
            " 38200K .......... .......... .......... .......... .......... 86%  191M 0s\n",
            " 38250K .......... .......... .......... .......... .......... 86%  179M 0s\n",
            " 38300K .......... .......... .......... .......... .......... 86%  160M 0s\n",
            " 38350K .......... .......... .......... .......... .......... 86%  201M 0s\n",
            " 38400K .......... .......... .......... .......... .......... 86%  170M 0s\n",
            " 38450K .......... .......... .......... .......... .......... 86%  190M 0s\n",
            " 38500K .......... .......... .......... .......... .......... 86%  179M 0s\n",
            " 38550K .......... .......... .......... .......... .......... 86%  191M 0s\n",
            " 38600K .......... .......... .......... .......... .......... 86%  156M 0s\n",
            " 38650K .......... .......... .......... .......... .......... 87% 11.5M 0s\n",
            " 38700K .......... .......... .......... .......... .......... 87% 82.2M 0s\n",
            " 38750K .......... .......... .......... .......... .......... 87% 83.6M 0s\n",
            " 38800K .......... .......... .......... .......... .......... 87% 67.3M 0s\n",
            " 38850K .......... .......... .......... .......... .......... 87% 64.0M 0s\n",
            " 38900K .......... .......... .......... .......... .......... 87% 66.3M 0s\n",
            " 38950K .......... .......... .......... .......... .......... 87% 71.8M 0s\n",
            " 39000K .......... .......... .......... .......... .......... 87% 6.96M 0s\n",
            " 39050K .......... .......... .......... .......... .......... 87% 73.0M 0s\n",
            " 39100K .......... .......... .......... .......... .......... 88% 64.2M 0s\n",
            " 39150K .......... .......... .......... .......... .......... 88% 91.7M 0s\n",
            " 39200K .......... .......... .......... .......... .......... 88% 77.7M 0s\n",
            " 39250K .......... .......... .......... .......... .......... 88% 75.8M 0s\n",
            " 39300K .......... .......... .......... .......... .......... 88% 87.9M 0s\n",
            " 39350K .......... .......... .......... .......... .......... 88% 79.8M 0s\n",
            " 39400K .......... .......... .......... .......... .......... 88% 67.9M 0s\n",
            " 39450K .......... .......... .......... .......... .......... 88% 77.5M 0s\n",
            " 39500K .......... .......... .......... .......... .......... 88% 8.98M 0s\n",
            " 39550K .......... .......... .......... .......... .......... 89%  135M 0s\n",
            " 39600K .......... .......... .......... .......... .......... 89%  179M 0s\n",
            " 39650K .......... .......... .......... .......... .......... 89%  172M 0s\n",
            " 39700K .......... .......... .......... .......... .......... 89%  172M 0s\n",
            " 39750K .......... .......... .......... .......... .......... 89%  158M 0s\n",
            " 39800K .......... .......... .......... .......... .......... 89%  150M 0s\n",
            " 39850K .......... .......... .......... .......... .......... 89%  146M 0s\n",
            " 39900K .......... .......... .......... .......... .......... 89%  121M 0s\n",
            " 39950K .......... .......... .......... .......... .......... 90% 89.1M 0s\n",
            " 40000K .......... .......... .......... .......... .......... 90%  127M 0s\n",
            " 40050K .......... .......... .......... .......... .......... 90%  144M 0s\n",
            " 40100K .......... .......... .......... .......... .......... 90%  141M 0s\n",
            " 40150K .......... .......... .......... .......... .......... 90%  144M 0s\n",
            " 40200K .......... .......... .......... .......... .......... 90%  129M 0s\n",
            " 40250K .......... .......... .......... .......... .......... 90%  145M 0s\n",
            " 40300K .......... .......... .......... .......... .......... 90%  137M 0s\n",
            " 40350K .......... .......... .......... .......... .......... 90%  138M 0s\n",
            " 40400K .......... .......... .......... .......... .......... 91%  147M 0s\n",
            " 40450K .......... .......... .......... .......... .......... 91%  127M 0s\n",
            " 40500K .......... .......... .......... .......... .......... 91%  149M 0s\n",
            " 40550K .......... .......... .......... .......... .......... 91%  144M 0s\n",
            " 40600K .......... .......... .......... .......... .......... 91%  147M 0s\n",
            " 40650K .......... .......... .......... .......... .......... 91%  130M 0s\n",
            " 40700K .......... .......... .......... .......... .......... 91%  135M 0s\n",
            " 40750K .......... .......... .......... .......... .......... 91%  146M 0s\n",
            " 40800K .......... .......... .......... .......... .......... 91%  147M 0s\n",
            " 40850K .......... .......... .......... .......... .......... 92%  125M 0s\n",
            " 40900K .......... .......... .......... .......... .......... 92%  141M 0s\n",
            " 40950K .......... .......... .......... .......... .......... 92%  126M 0s\n",
            " 41000K .......... .......... .......... .......... .......... 92%  149M 0s\n",
            " 41050K .......... .......... .......... .......... .......... 92%  142M 0s\n",
            " 41100K .......... .......... .......... .......... .......... 92%  146M 0s\n",
            " 41150K .......... .......... .......... .......... .......... 92%  126M 0s\n",
            " 41200K .......... .......... .......... .......... .......... 92%  134M 0s\n",
            " 41250K .......... .......... .......... .......... .......... 92%  145M 0s\n",
            " 41300K .......... .......... .......... .......... .......... 93%  121M 0s\n",
            " 41350K .......... .......... .......... .......... .......... 93%  111M 0s\n",
            " 41400K .......... .......... .......... .......... .......... 93%  123M 0s\n",
            " 41450K .......... .......... .......... .......... .......... 93%  136M 0s\n",
            " 41500K .......... .......... .......... .......... .......... 93%  144M 0s\n",
            " 41550K .......... .......... .......... .......... .......... 93%  132M 0s\n",
            " 41600K .......... .......... .......... .......... .......... 93%  143M 0s\n",
            " 41650K .......... .......... .......... .......... .......... 93%  145M 0s\n",
            " 41700K .......... .......... .......... .......... .......... 93%  148M 0s\n",
            " 41750K .......... .......... .......... .......... .......... 94%  141M 0s\n",
            " 41800K .......... .......... .......... .......... .......... 94%  158M 0s\n",
            " 41850K .......... .......... .......... .......... .......... 94%  158M 0s\n",
            " 41900K .......... .......... .......... .......... .......... 94%  138M 0s\n",
            " 41950K .......... .......... .......... .......... .......... 94%  123M 0s\n",
            " 42000K .......... .......... .......... .......... .......... 94%  152M 0s\n",
            " 42050K .......... .......... .......... .......... .......... 94%  146M 0s\n",
            " 42100K .......... .......... .......... .......... .......... 94%  127M 0s\n",
            " 42150K .......... .......... .......... .......... .......... 94%  146M 0s\n",
            " 42200K .......... .......... .......... .......... .......... 95%  145M 0s\n",
            " 42250K .......... .......... .......... .......... .......... 95%  152M 0s\n",
            " 42300K .......... .......... .......... .......... .......... 95%  136M 0s\n",
            " 42350K .......... .......... .......... .......... .......... 95%  156M 0s\n",
            " 42400K .......... .......... .......... .......... .......... 95% 55.3M 0s\n",
            " 42450K .......... .......... .......... .......... .......... 95%  145M 0s\n",
            " 42500K .......... .......... .......... .......... .......... 95%  123M 0s\n",
            " 42550K .......... .......... .......... .......... .......... 95%  142M 0s\n",
            " 42600K .......... .......... .......... .......... .......... 95%  154M 0s\n",
            " 42650K .......... .......... .......... .......... .......... 96%  160M 0s\n",
            " 42700K .......... .......... .......... .......... .......... 96%  131M 0s\n",
            " 42750K .......... .......... .......... .......... .......... 96%  148M 0s\n",
            " 42800K .......... .......... .......... .......... .......... 96%  151M 0s\n",
            " 42850K .......... .......... .......... .......... .......... 96% 99.3M 0s\n",
            " 42900K .......... .......... .......... .......... .......... 96%  138M 0s\n",
            " 42950K .......... .......... .......... .......... .......... 96%  140M 0s\n",
            " 43000K .......... .......... .......... .......... .......... 96%  114M 0s\n",
            " 43050K .......... .......... .......... .......... .......... 96%  149M 0s\n",
            " 43100K .......... .......... .......... .......... .......... 97%  134M 0s\n",
            " 43150K .......... .......... .......... .......... .......... 97%  148M 0s\n",
            " 43200K .......... .......... .......... .......... .......... 97%  157M 0s\n",
            " 43250K .......... .......... .......... .......... .......... 97%  125M 0s\n",
            " 43300K .......... .......... .......... .......... .......... 97%  147M 0s\n",
            " 43350K .......... .......... .......... .......... .......... 97%  153M 0s\n",
            " 43400K .......... .......... .......... .......... .......... 97%  139M 0s\n",
            " 43450K .......... .......... .......... .......... .......... 97% 8.15M 0s\n",
            " 43500K .......... .......... .......... .......... .......... 97%  139M 0s\n",
            " 43550K .......... .......... .......... .......... .......... 98%  119M 0s\n",
            " 43600K .......... .......... .......... .......... .......... 98%  154M 0s\n",
            " 43650K .......... .......... .......... .......... .......... 98%  133M 0s\n",
            " 43700K .......... .......... .......... .......... .......... 98%  124M 0s\n",
            " 43750K .......... .......... .......... .......... .......... 98%  112M 0s\n",
            " 43800K .......... .......... .......... .......... .......... 98%  146M 0s\n",
            " 43850K .......... .......... .......... .......... .......... 98% 24.2M 0s\n",
            " 43900K .......... .......... .......... .......... .......... 98%  127M 0s\n",
            " 43950K .......... .......... .......... .......... .......... 99%  141M 0s\n",
            " 44000K .......... .......... .......... .......... .......... 99% 20.3M 0s\n",
            " 44050K .......... .......... .......... .......... .......... 99%  145M 0s\n",
            " 44100K .......... .......... .......... .......... .......... 99%  153M 0s\n",
            " 44150K .......... .......... .......... .......... .......... 99%  115M 0s\n",
            " 44200K .......... .......... .......... .......... .......... 99%  142M 0s\n",
            " 44250K .......... .......... .......... .......... .......... 99%  150M 0s\n",
            " 44300K .......... .......... .......... .......... .......... 99% 14.4M 0s\n",
            " 44350K .......... .......... .......... .......... .......... 99%  131M 0s\n",
            " 44400K .......... .......... .......... .......... ...       100%  159M=0.4s\n",
            "\n",
            "2022-10-17 16:30:53 (108 MB/s) - ‘/root/isi-kgtk-tutorial/tutorial-kypher_input/all.tsv.gz’ saved [45510513/45510513]\n",
            "\n",
            "--2022-10-17 16:30:54--  https://github.com/usc-isi-i2/kgtk-tutorial-files/raw/main/datasets/arnold/labels.en.tsv.gz\n",
            "Resolving github.com (github.com)... 140.82.112.3\n",
            "Connecting to github.com (github.com)|140.82.112.3|:443... connected.\n",
            "HTTP request sent, awaiting response... 301 Moved Permanently\n",
            "Location: https://github.com/usc-isi-i2/kgtk-notebooks/raw/main/datasets/arnold/labels.en.tsv.gz [following]\n",
            "--2022-10-17 16:30:54--  https://github.com/usc-isi-i2/kgtk-notebooks/raw/main/datasets/arnold/labels.en.tsv.gz\n",
            "Reusing existing connection to github.com:443.\n",
            "HTTP request sent, awaiting response... 302 Found\n",
            "Location: https://raw.githubusercontent.com/usc-isi-i2/kgtk-notebooks/main/datasets/arnold/labels.en.tsv.gz [following]\n",
            "--2022-10-17 16:30:54--  https://raw.githubusercontent.com/usc-isi-i2/kgtk-notebooks/main/datasets/arnold/labels.en.tsv.gz\n",
            "Resolving raw.githubusercontent.com (raw.githubusercontent.com)... 185.199.108.133, 185.199.109.133, 185.199.110.133, ...\n",
            "Connecting to raw.githubusercontent.com (raw.githubusercontent.com)|185.199.108.133|:443... connected.\n",
            "HTTP request sent, awaiting response... 200 OK\n",
            "Length: 1070169 (1.0M) [application/octet-stream]\n",
            "Saving to: ‘/root/isi-kgtk-tutorial/tutorial-kypher_input/labels.en.tsv.gz’\n",
            "\n",
            "     0K .......... .......... .......... .......... ..........  4% 4.37M 0s\n",
            "    50K .......... .......... .......... .......... ..........  9% 5.22M 0s\n",
            "   100K .......... .......... .......... .......... .......... 14% 27.2M 0s\n",
            "   150K .......... .......... .......... .......... .......... 19% 24.2M 0s\n",
            "   200K .......... .......... .......... .......... .......... 23% 6.40M 0s\n",
            "   250K .......... .......... .......... .......... .......... 28%  185M 0s\n",
            "   300K .......... .......... .......... .......... .......... 33% 50.7M 0s\n",
            "   350K .......... .......... .......... .......... .......... 38% 36.8M 0s\n",
            "   400K .......... .......... .......... .......... .......... 43% 56.8M 0s\n",
            "   450K .......... .......... .......... .......... .......... 47% 70.4M 0s\n",
            "   500K .......... .......... .......... .......... .......... 52% 9.76M 0s\n",
            "   550K .......... .......... .......... .......... .......... 57% 35.5M 0s\n",
            "   600K .......... .......... .......... .......... .......... 62% 92.7M 0s\n",
            "   650K .......... .......... .......... .......... .......... 66%  109M 0s\n",
            "   700K .......... .......... .......... .......... .......... 71% 82.9M 0s\n",
            "   750K .......... .......... .......... .......... .......... 76% 69.9M 0s\n",
            "   800K .......... .......... .......... .......... .......... 81% 96.0M 0s\n",
            "   850K .......... .......... .......... .......... .......... 86%  124M 0s\n",
            "   900K .......... .......... .......... .......... .......... 90%  114M 0s\n",
            "   950K .......... .......... .......... .......... .......... 95% 71.0M 0s\n",
            "  1000K .......... .......... .......... .......... .....     100%  132M=0.05s\n",
            "\n",
            "2022-10-17 16:30:54 (21.7 MB/s) - ‘/root/isi-kgtk-tutorial/tutorial-kypher_input/labels.en.tsv.gz’ saved [1070169/1070169]\n",
            "\n",
            "--2022-10-17 16:30:54--  https://github.com/usc-isi-i2/kgtk-tutorial-files/raw/main/datasets/arnold/metadata.pagerank.undirected.tsv.gz\n",
            "Resolving github.com (github.com)... 140.82.112.4\n",
            "Connecting to github.com (github.com)|140.82.112.4|:443... connected.\n",
            "HTTP request sent, awaiting response... 301 Moved Permanently\n",
            "Location: https://github.com/usc-isi-i2/kgtk-notebooks/raw/main/datasets/arnold/metadata.pagerank.undirected.tsv.gz [following]\n",
            "--2022-10-17 16:30:54--  https://github.com/usc-isi-i2/kgtk-notebooks/raw/main/datasets/arnold/metadata.pagerank.undirected.tsv.gz\n",
            "Reusing existing connection to github.com:443.\n",
            "HTTP request sent, awaiting response... 302 Found\n",
            "Location: https://raw.githubusercontent.com/usc-isi-i2/kgtk-notebooks/main/datasets/arnold/metadata.pagerank.undirected.tsv.gz [following]\n",
            "--2022-10-17 16:30:55--  https://raw.githubusercontent.com/usc-isi-i2/kgtk-notebooks/main/datasets/arnold/metadata.pagerank.undirected.tsv.gz\n",
            "Resolving raw.githubusercontent.com (raw.githubusercontent.com)... 185.199.108.133, 185.199.109.133, 185.199.110.133, ...\n",
            "Connecting to raw.githubusercontent.com (raw.githubusercontent.com)|185.199.108.133|:443... connected.\n",
            "HTTP request sent, awaiting response... 200 OK\n",
            "Length: 2208946 (2.1M) [application/octet-stream]\n",
            "Saving to: ‘/root/isi-kgtk-tutorial/tutorial-kypher_input/metadata.pagerank.undirected.tsv.gz’\n",
            "\n",
            "     0K .......... .......... .......... .......... ..........  2% 4.25M 0s\n",
            "    50K .......... .......... .......... .......... ..........  4% 4.22M 0s\n",
            "   100K .......... .......... .......... .......... ..........  6%  133M 0s\n",
            "   150K .......... .......... .......... .......... ..........  9% 34.9M 0s\n",
            "   200K .......... .......... .......... .......... .......... 11% 6.77M 0s\n",
            "   250K .......... .......... .......... .......... .......... 13%  109M 0s\n",
            "   300K .......... .......... .......... .......... .......... 16% 31.4M 0s\n",
            "   350K .......... .......... .......... .......... .......... 18% 61.4M 0s\n",
            "   400K .......... .......... .......... .......... .......... 20% 35.9M 0s\n",
            "   450K .......... .......... .......... .......... .......... 23% 9.71M 0s\n",
            "   500K .......... .......... .......... .......... .......... 25%  175M 0s\n",
            "   550K .......... .......... .......... .......... .......... 27% 38.2M 0s\n",
            "   600K .......... .......... .......... .......... .......... 30% 58.5M 0s\n",
            "   650K .......... .......... .......... .......... .......... 32% 69.2M 0s\n",
            "   700K .......... .......... .......... .......... .......... 34%  109M 0s\n",
            "   750K .......... .......... .......... .......... .......... 37%  174M 0s\n",
            "   800K .......... .......... .......... .......... .......... 39% 66.0M 0s\n",
            "   850K .......... .......... .......... .......... .......... 41% 12.2M 0s\n",
            "   900K .......... .......... .......... .......... .......... 44% 50.5M 0s\n",
            "   950K .......... .......... .......... .......... .......... 46% 53.3M 0s\n",
            "  1000K .......... .......... .......... .......... .......... 48% 60.9M 0s\n",
            "  1050K .......... .......... .......... .......... .......... 50%  133M 0s\n",
            "  1100K .......... .......... .......... .......... .......... 53%  177M 0s\n",
            "  1150K .......... .......... .......... .......... .......... 55%  166M 0s\n",
            "  1200K .......... .......... .......... .......... .......... 57%  164M 0s\n",
            "  1250K .......... .......... .......... .......... .......... 60%  106M 0s\n",
            "  1300K .......... .......... .......... .......... .......... 62%  123M 0s\n",
            "  1350K .......... .......... .......... .......... .......... 64%  112M 0s\n",
            "  1400K .......... .......... .......... .......... .......... 67% 97.5M 0s\n",
            "  1450K .......... .......... .......... .......... .......... 69%  112M 0s\n",
            "  1500K .......... .......... .......... .......... .......... 71%  118M 0s\n",
            "  1550K .......... .......... .......... .......... .......... 74%  101M 0s\n",
            "  1600K .......... .......... .......... .......... .......... 76%  111M 0s\n",
            "  1650K .......... .......... .......... .......... .......... 78%  109M 0s\n",
            "  1700K .......... .......... .......... .......... .......... 81%  134M 0s\n",
            "  1750K .......... .......... .......... .......... .......... 83%  117M 0s\n",
            "  1800K .......... .......... .......... .......... .......... 85%  101M 0s\n",
            "  1850K .......... .......... .......... .......... .......... 88%  116M 0s\n",
            "  1900K .......... .......... .......... .......... .......... 90%  101M 0s\n",
            "  1950K .......... .......... .......... .......... .......... 92%  102M 0s\n",
            "  2000K .......... .......... .......... .......... .......... 95%  152M 0s\n",
            "  2050K .......... .......... .......... .......... .......... 97%  146M 0s\n",
            "  2100K .......... .......... .......... .......... .......... 99%  137M 0s\n",
            "  2150K .......                                               100%  149M=0.06s\n",
            "\n",
            "2022-10-17 16:30:55 (34.3 MB/s) - ‘/root/isi-kgtk-tutorial/tutorial-kypher_input/metadata.pagerank.undirected.tsv.gz’ saved [2208946/2208946]\n",
            "\n",
            "--2022-10-17 16:30:55--  https://github.com/usc-isi-i2/kgtk-tutorial-files/raw/main/datasets/arnold/small-graph.tsv\n",
            "Resolving github.com (github.com)... 140.82.114.4\n",
            "Connecting to github.com (github.com)|140.82.114.4|:443... connected.\n",
            "HTTP request sent, awaiting response... 301 Moved Permanently\n",
            "Location: https://github.com/usc-isi-i2/kgtk-notebooks/raw/main/datasets/arnold/small-graph.tsv [following]\n",
            "--2022-10-17 16:30:55--  https://github.com/usc-isi-i2/kgtk-notebooks/raw/main/datasets/arnold/small-graph.tsv\n",
            "Reusing existing connection to github.com:443.\n",
            "HTTP request sent, awaiting response... 302 Found\n",
            "Location: https://raw.githubusercontent.com/usc-isi-i2/kgtk-notebooks/main/datasets/arnold/small-graph.tsv [following]\n",
            "--2022-10-17 16:30:56--  https://raw.githubusercontent.com/usc-isi-i2/kgtk-notebooks/main/datasets/arnold/small-graph.tsv\n",
            "Resolving raw.githubusercontent.com (raw.githubusercontent.com)... 185.199.108.133, 185.199.109.133, 185.199.110.133, ...\n",
            "Connecting to raw.githubusercontent.com (raw.githubusercontent.com)|185.199.108.133|:443... connected.\n",
            "HTTP request sent, awaiting response... 200 OK\n",
            "Length: 382 [text/plain]\n",
            "Saving to: ‘/root/isi-kgtk-tutorial/tutorial-kypher_input/small-graph.tsv’\n",
            "\n",
            "     0K                                                       100% 14.6M=0s\n",
            "\n",
            "2022-10-17 16:30:56 (14.6 MB/s) - ‘/root/isi-kgtk-tutorial/tutorial-kypher_input/small-graph.tsv’ saved [382/382]\n",
            "\n",
            "--2022-10-17 16:30:56--  https://github.com/usc-isi-i2/kgtk-tutorial-files/raw/main/datasets/arnold/small-films.tsv\n",
            "Resolving github.com (github.com)... 140.82.114.4\n",
            "Connecting to github.com (github.com)|140.82.114.4|:443... connected.\n",
            "HTTP request sent, awaiting response... 301 Moved Permanently\n",
            "Location: https://github.com/usc-isi-i2/kgtk-notebooks/raw/main/datasets/arnold/small-films.tsv [following]\n",
            "--2022-10-17 16:30:56--  https://github.com/usc-isi-i2/kgtk-notebooks/raw/main/datasets/arnold/small-films.tsv\n",
            "Reusing existing connection to github.com:443.\n",
            "HTTP request sent, awaiting response... 302 Found\n",
            "Location: https://raw.githubusercontent.com/usc-isi-i2/kgtk-notebooks/main/datasets/arnold/small-films.tsv [following]\n",
            "--2022-10-17 16:30:56--  https://raw.githubusercontent.com/usc-isi-i2/kgtk-notebooks/main/datasets/arnold/small-films.tsv\n",
            "Resolving raw.githubusercontent.com (raw.githubusercontent.com)... 185.199.108.133, 185.199.109.133, 185.199.110.133, ...\n",
            "Connecting to raw.githubusercontent.com (raw.githubusercontent.com)|185.199.108.133|:443... connected.\n",
            "HTTP request sent, awaiting response... 200 OK\n",
            "Length: 590 [text/plain]\n",
            "Saving to: ‘/root/isi-kgtk-tutorial/tutorial-kypher_input/small-films.tsv’\n",
            "\n",
            "     0K                                                       100% 14.3M=0s\n",
            "\n",
            "2022-10-17 16:30:56 (14.3 MB/s) - ‘/root/isi-kgtk-tutorial/tutorial-kypher_input/small-films.tsv’ saved [590/590]\n",
            "\n",
            "--2022-10-17 16:30:56--  https://github.com/usc-isi-i2/kgtk-tutorial-files/raw/main/datasets/arnold/small-props.tsv\n",
            "Resolving github.com (github.com)... 140.82.114.4\n",
            "Connecting to github.com (github.com)|140.82.114.4|:443... connected.\n",
            "HTTP request sent, awaiting response... 301 Moved Permanently\n",
            "Location: https://github.com/usc-isi-i2/kgtk-notebooks/raw/main/datasets/arnold/small-props.tsv [following]\n",
            "--2022-10-17 16:30:56--  https://github.com/usc-isi-i2/kgtk-notebooks/raw/main/datasets/arnold/small-props.tsv\n",
            "Reusing existing connection to github.com:443.\n",
            "HTTP request sent, awaiting response... 302 Found\n",
            "Location: https://raw.githubusercontent.com/usc-isi-i2/kgtk-notebooks/main/datasets/arnold/small-props.tsv [following]\n",
            "--2022-10-17 16:30:56--  https://raw.githubusercontent.com/usc-isi-i2/kgtk-notebooks/main/datasets/arnold/small-props.tsv\n",
            "Resolving raw.githubusercontent.com (raw.githubusercontent.com)... 185.199.110.133, 185.199.109.133, 185.199.111.133, ...\n",
            "Connecting to raw.githubusercontent.com (raw.githubusercontent.com)|185.199.110.133|:443... connected.\n",
            "HTTP request sent, awaiting response... 200 OK\n",
            "Length: 93 [text/plain]\n",
            "Saving to: ‘/root/isi-kgtk-tutorial/tutorial-kypher_input/small-props.tsv’\n",
            "\n",
            "     0K                                                       100% 3.89M=0s\n",
            "\n",
            "2022-10-17 16:30:57 (3.89 MB/s) - ‘/root/isi-kgtk-tutorial/tutorial-kypher_input/small-props.tsv’ saved [93/93]\n",
            "\n",
            "--2022-10-17 16:30:57--  https://github.com/usc-isi-i2/kgtk-tutorial-files/raw/main/datasets/arnold/small-quals.tsv\n",
            "Resolving github.com (github.com)... 140.82.114.4\n",
            "Connecting to github.com (github.com)|140.82.114.4|:443... connected.\n",
            "HTTP request sent, awaiting response... 301 Moved Permanently\n",
            "Location: https://github.com/usc-isi-i2/kgtk-notebooks/raw/main/datasets/arnold/small-quals.tsv [following]\n",
            "--2022-10-17 16:30:57--  https://github.com/usc-isi-i2/kgtk-notebooks/raw/main/datasets/arnold/small-quals.tsv\n",
            "Reusing existing connection to github.com:443.\n",
            "HTTP request sent, awaiting response... 302 Found\n",
            "Location: https://raw.githubusercontent.com/usc-isi-i2/kgtk-notebooks/main/datasets/arnold/small-quals.tsv [following]\n",
            "--2022-10-17 16:30:57--  https://raw.githubusercontent.com/usc-isi-i2/kgtk-notebooks/main/datasets/arnold/small-quals.tsv\n",
            "Resolving raw.githubusercontent.com (raw.githubusercontent.com)... 185.199.109.133, 185.199.110.133, 185.199.108.133, ...\n",
            "Connecting to raw.githubusercontent.com (raw.githubusercontent.com)|185.199.109.133|:443... connected.\n",
            "HTTP request sent, awaiting response... 200 OK\n",
            "Length: 285 [text/plain]\n",
            "Saving to: ‘/root/isi-kgtk-tutorial/tutorial-kypher_input/small-quals.tsv’\n",
            "\n",
            "     0K                                                       100% 11.5M=0s\n",
            "\n",
            "2022-10-17 16:30:57 (11.5 MB/s) - ‘/root/isi-kgtk-tutorial/tutorial-kypher_input/small-quals.tsv’ saved [285/285]\n",
            "\n"
          ]
        }
      ],
      "source": [
        "# These are all the KG files that we use in this notebook:\n",
        "additional_files = {\n",
        "    \"small_graph\": \"small-graph.tsv\",\n",
        "    \"small_films\": \"small-films.tsv\",\n",
        "    \"small_props\": \"small-props.tsv\",\n",
        "    \"small_quals\": \"small-quals.tsv\",\n",
        "}\n",
        "\n",
        "big_files = [\n",
        "    \"all\",\n",
        "    \"label\",\n",
        "    \"pagerank_undirected\",\n",
        "]\n",
        "\n",
        "ck = ConfigureKGTK(big_files)\n",
        "ck.configure_kgtk(input_graph_path=input_path, \n",
        "                  output_path=output_path, \n",
        "                  project_name=project_name,\n",
        "                  additional_files=additional_files)"
      ]
    },
    {
      "cell_type": "code",
      "execution_count": 5,
      "id": "22ddd656",
      "metadata": {
        "id": "22ddd656",
        "outputId": "2c74b946-96d2-445e-eaa5-d02c72f50262",
        "colab": {
          "base_uri": "https://localhost:8080/"
        }
      },
      "outputs": [
        {
          "output_type": "stream",
          "name": "stdout",
          "text": [
            "KGTK_GRAPH_CACHE: /tmp/projects/tutorial-kypher/temp.tutorial-kypher/wikidata.sqlite3.db\n",
            "STORE: /tmp/projects/tutorial-kypher/temp.tutorial-kypher/wikidata.sqlite3.db\n",
            "KGTK_LABEL_FILE: /root/isi-kgtk-tutorial/tutorial-kypher_input/labels.en.tsv.gz\n",
            "EXAMPLES_DIR: //examples\n",
            "kgtk: kgtk\n",
            "OUT: /tmp/projects/tutorial-kypher\n",
            "TEMP: /tmp/projects/tutorial-kypher/temp.tutorial-kypher\n",
            "kypher: kgtk query --graph-cache /tmp/projects/tutorial-kypher/temp.tutorial-kypher/wikidata.sqlite3.db\n",
            "GRAPH: /root/isi-kgtk-tutorial/tutorial-kypher_input\n",
            "KGTK_OPTION_DEBUG: false\n",
            "USE_CASES_DIR: //use-cases\n",
            "all: /root/isi-kgtk-tutorial/tutorial-kypher_input/all.tsv.gz\n",
            "label: /root/isi-kgtk-tutorial/tutorial-kypher_input/labels.en.tsv.gz\n",
            "pagerank_undirected: /root/isi-kgtk-tutorial/tutorial-kypher_input/metadata.pagerank.undirected.tsv.gz\n",
            "small_graph: /root/isi-kgtk-tutorial/tutorial-kypher_input/small-graph.tsv\n",
            "small_films: /root/isi-kgtk-tutorial/tutorial-kypher_input/small-films.tsv\n",
            "small_props: /root/isi-kgtk-tutorial/tutorial-kypher_input/small-props.tsv\n",
            "small_quals: /root/isi-kgtk-tutorial/tutorial-kypher_input/small-quals.tsv\n"
          ]
        }
      ],
      "source": [
        "ck.print_env_variables()"
      ]
    },
    {
      "cell_type": "markdown",
      "id": "50f97f88",
      "metadata": {
        "lines_to_next_cell": 2,
        "id": "50f97f88"
      },
      "source": [
        "## Usage of `query` command\n",
        "```\n",
        "usage: kgtk query [-h] [-i INPUT_FILE [INPUT_FILE ...]] [--as NAME]\n",
        "                  [--comment COMMENT] [--query QUERY] [--match PATTERN]\n",
        "                  [--where CLAUSE] [--opt PATTERN] [--with CLAUSE]\n",
        "                  [--where: CLAUSE] [--return CLAUSE] [--order-by CLAUSE]\n",
        "                  [--skip CLAUSE] [--limit CLAUSE] [--para NAME=VAL]\n",
        "                  [--spara NAME=VAL] [--lqpara NAME=VAL] [--no-header]\n",
        "                  [--force] [--index MODE [MODE ...]] [--idx SPEC [SPEC ...]]\n",
        "                  [--explain [MODE]] [--graph-cache GRAPH_CACHE_FILE]\n",
        "                  [--show-cache] [--import MODULE_LIST] [-o OUTPUT]\n",
        "\n",
        "Query one or more KGTK files with Kypher.\n",
        "IMPORTANT: input can come from stdin but chaining queries is not yet supported.\n",
        "\n",
        "Input options:\n",
        "  -i INPUT_FILE [INPUT_FILE ...], --input-files INPUT_FILE [INPUT_FILE ...]\n",
        "                        One or more input files to query, maybe compressed\n",
        "                        (May be omitted or '-' for stdin.)\n",
        "  --as NAME             alias name to be used for preceding input\n",
        "  --comment COMMENT     comment string to store for the preceding input\n",
        "                        (displayed by --show-cache)\n",
        "\n",
        "Query options:\n",
        "  --query QUERY         complete Kypher query combining all clauses, if\n",
        "                        supplied, all other specialized clause arguments will\n",
        "                        be ignored\n",
        "  --match PATTERN       MATCH pattern of a Kypher query, defaults to universal\n",
        "                        node pattern `()'\n",
        "  --where CLAUSE        WHERE clause to a preceding --match, --opt or --with\n",
        "                        clause\n",
        "  --opt PATTERN, --optional PATTERN\n",
        "                        OPTIONAL MATCH pattern(s) of a Kypher query (zero or\n",
        "                        more)\n",
        "  --with CLAUSE         WITH clause of a Kypher query (only 'WITH * ...' is\n",
        "                        currently supported)\n",
        "  --where: CLAUSE       final global WHERE clause, shorthand for 'WITH * WHERE\n",
        "                        ...'\n",
        "  --return CLAUSE       RETURN clause of a Kypher query (defaults to *)\n",
        "  --order-by CLAUSE     ORDER BY clause of a Kypher query\n",
        "  --skip CLAUSE         SKIP clause of a Kypher query\n",
        "  --limit CLAUSE        LIMIT clause of a Kypher query\n",
        "  --para NAME=VAL       zero or more named value parameters to be passed to\n",
        "                        the query\n",
        "  --spara NAME=VAL      zero or more named string parameters to be passed to\n",
        "                        the query\n",
        "  --lqpara NAME=VAL     zero or more named LQ-string parameters to be passed\n",
        "                        to the query\n",
        "\n",
        "Output options:\n",
        "  --no-header           do not generate a header row with column names\n",
        "  -o OUTPUT, --out OUTPUT\n",
        "                        output file to write to, if `-' (the default) output\n",
        "                        goes to stdout. Files with extensions .gz, .bz2 or .xz\n",
        "                        will be appropriately compressed.\n",
        "\n",
        "Control options:\n",
        "  --force               force problematic queries to run against advice\n",
        "  --index MODE [MODE ...], --index-mode MODE [MODE ...]\n",
        "                        default index creation MODE for all inputs (default:\n",
        "                        auto); can be overridden with --idx for specific\n",
        "                        inputs\n",
        "  --idx SPEC [SPEC ...], --input-index SPEC [SPEC ...]\n",
        "                        create index(es) according to SPEC for the preceding\n",
        "                        input only\n",
        "  --explain [MODE]      explain the query execution and indexing plan\n",
        "                        according to MODE (plan, full, expert, default: plan).\n",
        "                        This will not actually run or create anything.\n",
        "  --graph-cache GRAPH_CACHE_FILE\n",
        "                        database cache where graphs will be imported before\n",
        "                        they are queried (defaults to per-user temporary file)\n",
        "  --show-cache          describe the current content of the graph cache and\n",
        "                        exit (does not actually run a query or import data)\n",
        "  --import MODULE_LIST  Python modules needed to define user extensions to\n",
        "                        built-in functions\n",
        "  -h, --help            show this help message and exit\n",
        "```"
      ]
    },
    {
      "cell_type": "markdown",
      "id": "becbc95b",
      "metadata": {
        "id": "becbc95b"
      },
      "source": [
        "## Selecting edges with the `--match` clause"
      ]
    },
    {
      "cell_type": "markdown",
      "id": "6bfb0429",
      "metadata": {
        "id": "6bfb0429"
      },
      "source": [
        "- KGTK `query` either takes a full Kypher `--query` or individual Kypher clauses such as `--match`,\n",
        "  `--return`, etc.\n",
        "- individual clauses are automatically assembled into the proper order, easier in Unix shell environment"
      ]
    },
    {
      "cell_type": "markdown",
      "id": "1bcfa3a4",
      "metadata": {
        "id": "1bcfa3a4"
      },
      "source": [
        "**Example**\n",
        "- simple query on a single input graph with an anonymous edge pattern\n",
        "- for convenience we use shell variable `$GRAPH` to point to small data file\n",
        "- **IMPORTANT**: use quotes around the match pattern to protect from the shell\n",
        "- this matches all edges and returns the whole file"
      ]
    },
    {
      "cell_type": "code",
      "execution_count": 6,
      "id": "1d2a9d08",
      "metadata": {
        "id": "1d2a9d08",
        "outputId": "7460c660-ae07-4fa2-83f6-46c07cffaf47",
        "colab": {
          "base_uri": "https://localhost:8080/"
        }
      },
      "outputs": [
        {
          "output_type": "stream",
          "name": "stdout",
          "text": [
            "/root/isi-kgtk-tutorial/tutorial-kypher_input/small-graph.tsv\n"
          ]
        }
      ],
      "source": [
        "!echo $small_graph"
      ]
    },
    {
      "cell_type": "code",
      "execution_count": 7,
      "id": "5130f672",
      "metadata": {
        "id": "5130f672",
        "outputId": "c5e089df-7b53-4d13-93fb-303e95d33b98",
        "colab": {
          "base_uri": "https://localhost:8080/"
        }
      },
      "outputs": [
        {
          "output_type": "stream",
          "name": "stdout",
          "text": [
            "id\tnode1\tlabel\tnode2\n",
            "e1\tm_shriver\tspouse\ta_schwarzenegger\n",
            "e2\ta_schwarzenegger\tcoactor\tl_hamilton\n",
            "e3\tg_rydstrom\tcolleague\tg_borders\n",
            "e4\tg_rydstrom\tcolleague\ta_schwarzenegger\n",
            "e5\ta_schwarzenegger\tname\t'Arnold Schwarzenegger'@de\n",
            "e6\tl_hamilton\tname\t'Linda Hamilton'@en\n",
            "e7\tg_rydstrom\tname\t'Gary R. Rydstrom'@en\n",
            "e8\tg_borders\tname\t'Gloria S. Borders'@en\n",
            "e9\tm_shriver\tname\t'Maria Shriver'@en\n"
          ]
        }
      ],
      "source": [
        "!kgtk query -i $small_graph --match '()-[]->()'"
      ]
    },
    {
      "cell_type": "markdown",
      "id": "7733bff5",
      "metadata": {
        "id": "7733bff5"
      },
      "source": [
        "- match pattern starts with anonymous node connecting via an\n",
        "  anonymous relation to another anonymous node\n",
        "- matched against the four core columns specifying an edge in each line of the KGTK\n",
        "  input file\n",
        "- from-node is matched against `node1`, relation is\n",
        "  matched against `id` and `label` (more on that distinction later), and\n",
        "  the to-node is matched against `node2`\n",
        "- for each KGTK line matching the pattern, output is generated according to the `--return` clause\n",
        "- default for `--return` is `*` which means all columns of a matching line will be output"
      ]
    },
    {
      "cell_type": "markdown",
      "id": "9c4fb588",
      "metadata": {
        "id": "9c4fb588"
      },
      "source": [
        "**Equivalent query:**\n",
        "- singular anonymous node pattern will be completed to a full edge"
      ]
    },
    {
      "cell_type": "code",
      "execution_count": 8,
      "id": "db30d4a5",
      "metadata": {
        "id": "db30d4a5",
        "outputId": "92022ae2-75c1-47b7-b019-069a6cd4bd8a",
        "colab": {
          "base_uri": "https://localhost:8080/"
        }
      },
      "outputs": [
        {
          "output_type": "stream",
          "name": "stdout",
          "text": [
            "id\tnode1\tlabel\tnode2\n",
            "e1\tm_shriver\tspouse\ta_schwarzenegger\n",
            "e2\ta_schwarzenegger\tcoactor\tl_hamilton\n",
            "e3\tg_rydstrom\tcolleague\tg_borders\n",
            "e4\tg_rydstrom\tcolleague\ta_schwarzenegger\n",
            "e5\ta_schwarzenegger\tname\t'Arnold Schwarzenegger'@de\n",
            "e6\tl_hamilton\tname\t'Linda Hamilton'@en\n",
            "e7\tg_rydstrom\tname\t'Gary R. Rydstrom'@en\n",
            "e8\tg_borders\tname\t'Gloria S. Borders'@en\n",
            "e9\tm_shriver\tname\t'Maria Shriver'@en\n"
          ]
        }
      ],
      "source": [
        "!kgtk query -i $small_graph --match '()'"
      ]
    },
    {
      "cell_type": "markdown",
      "id": "547b54f2",
      "metadata": {
        "id": "547b54f2"
      },
      "source": [
        "**Equivalent query:**\n",
        "- that pattern is also the default for `--match`"
      ]
    },
    {
      "cell_type": "code",
      "execution_count": 9,
      "id": "3510b2fc",
      "metadata": {
        "id": "3510b2fc",
        "outputId": "8091aa35-bddd-4cec-fdbe-b4b0b789c479",
        "colab": {
          "base_uri": "https://localhost:8080/"
        }
      },
      "outputs": [
        {
          "output_type": "stream",
          "name": "stdout",
          "text": [
            "id\tnode1\tlabel\tnode2\n",
            "e1\tm_shriver\tspouse\ta_schwarzenegger\n",
            "e2\ta_schwarzenegger\tcoactor\tl_hamilton\n",
            "e3\tg_rydstrom\tcolleague\tg_borders\n",
            "e4\tg_rydstrom\tcolleague\ta_schwarzenegger\n",
            "e5\ta_schwarzenegger\tname\t'Arnold Schwarzenegger'@de\n",
            "e6\tl_hamilton\tname\t'Linda Hamilton'@en\n",
            "e7\tg_rydstrom\tname\t'Gary R. Rydstrom'@en\n",
            "e8\tg_borders\tname\t'Gloria S. Borders'@en\n",
            "e9\tm_shriver\tname\t'Maria Shriver'@en\n"
          ]
        }
      ],
      "source": [
        "!kgtk query -i $small_graph"
      ]
    },
    {
      "cell_type": "markdown",
      "id": "2634d31c",
      "metadata": {
        "id": "2634d31c"
      },
      "source": [
        "**Equivalent command:** `kgtk cat`"
      ]
    },
    {
      "cell_type": "code",
      "execution_count": 10,
      "id": "9f348d66",
      "metadata": {
        "lines_to_next_cell": 2,
        "id": "9f348d66",
        "outputId": "7eb95cf1-56d5-439b-dc1f-2687d75afd33",
        "colab": {
          "base_uri": "https://localhost:8080/"
        }
      },
      "outputs": [
        {
          "output_type": "stream",
          "name": "stdout",
          "text": [
            "id\tnode1\tlabel\tnode2\n",
            "e1\tm_shriver\tspouse\ta_schwarzenegger\n",
            "e2\ta_schwarzenegger\tcoactor\tl_hamilton\n",
            "e3\tg_rydstrom\tcolleague\tg_borders\n",
            "e4\tg_rydstrom\tcolleague\ta_schwarzenegger\n",
            "e5\ta_schwarzenegger\tname\t'Arnold Schwarzenegger'@de\n",
            "e6\tl_hamilton\tname\t'Linda Hamilton'@en\n",
            "e7\tg_rydstrom\tname\t'Gary R. Rydstrom'@en\n",
            "e8\tg_borders\tname\t'Gloria S. Borders'@en\n",
            "e9\tm_shriver\tname\t'Maria Shriver'@en\n"
          ]
        }
      ],
      "source": [
        "!kgtk cat -i $small_graph"
      ]
    },
    {
      "cell_type": "markdown",
      "id": "cc441053",
      "metadata": {
        "id": "cc441053"
      },
      "source": [
        "### Restricting output\n",
        "- use `--limit` and/or `--skip` to control output volume,\n",
        "  especially to test queries on larger data"
      ]
    },
    {
      "cell_type": "code",
      "execution_count": 11,
      "id": "6807d9af",
      "metadata": {
        "id": "6807d9af",
        "outputId": "5ef7f6c1-24b3-49a7-aef3-f98f5a41f5b9",
        "colab": {
          "base_uri": "https://localhost:8080/"
        }
      },
      "outputs": [
        {
          "output_type": "stream",
          "name": "stdout",
          "text": [
            "id\tnode1\tlabel\tnode2\n",
            "e1\tm_shriver\tspouse\ta_schwarzenegger\n",
            "e2\ta_schwarzenegger\tcoactor\tl_hamilton\n",
            "e3\tg_rydstrom\tcolleague\tg_borders\n"
          ]
        }
      ],
      "source": [
        "!kgtk query -i $small_graph --limit 3"
      ]
    },
    {
      "cell_type": "code",
      "execution_count": 12,
      "id": "bbd440e1",
      "metadata": {
        "id": "bbd440e1",
        "outputId": "e40cf1b6-b94a-4ff0-a5b9-d6d37a0b9338",
        "colab": {
          "base_uri": "https://localhost:8080/"
        }
      },
      "outputs": [
        {
          "output_type": "stream",
          "name": "stdout",
          "text": [
            "id\tnode1\tlabel\tnode2\n",
            "e3\tg_rydstrom\tcolleague\tg_borders\n",
            "e4\tg_rydstrom\tcolleague\ta_schwarzenegger\n",
            "e5\ta_schwarzenegger\tname\t'Arnold Schwarzenegger'@de\n"
          ]
        }
      ],
      "source": [
        "!kgtk query -i $small_graph --skip 2 --limit 3"
      ]
    },
    {
      "cell_type": "code",
      "execution_count": 13,
      "id": "caa2991c",
      "metadata": {
        "lines_to_next_cell": 2,
        "id": "caa2991c",
        "outputId": "c03b7bb6-57df-4629-ab37-62f66c961208",
        "colab": {
          "base_uri": "https://localhost:8080/"
        }
      },
      "outputs": [
        {
          "output_type": "stream",
          "name": "stdout",
          "text": [
            "id\tnode1\tlabel\tnode2\n",
            "e1\tm_shriver\tspouse\ta_schwarzenegger\n",
            "e2\ta_schwarzenegger\tcoactor\tl_hamilton\n",
            "e3\tg_rydstrom\tcolleague\tg_borders\n"
          ]
        }
      ],
      "source": [
        "!kgtk query -i $small_graph / head -n 3"
      ]
    },
    {
      "cell_type": "markdown",
      "id": "21484bae",
      "metadata": {
        "id": "21484bae"
      },
      "source": [
        "### Restricting edges\n",
        "- patterns can be made more specific by restricting some of the elements of an edge\n",
        "- for example, filter for all edges that start with `m_shriver`"
      ]
    },
    {
      "cell_type": "code",
      "execution_count": 14,
      "id": "579b24f6",
      "metadata": {
        "id": "579b24f6",
        "outputId": "d223d12d-2d7c-4cc3-ba2f-523125a62a2d",
        "colab": {
          "base_uri": "https://localhost:8080/"
        }
      },
      "outputs": [
        {
          "output_type": "stream",
          "name": "stdout",
          "text": [
            "id\tnode1\tlabel\tnode2\n",
            "e1\tm_shriver\tspouse\ta_schwarzenegger\n",
            "e9\tm_shriver\tname\t'Maria Shriver'@en\n"
          ]
        }
      ],
      "source": [
        "!kgtk query -i $small_graph --match '(:m_shriver)-[]->()'"
      ]
    },
    {
      "cell_type": "markdown",
      "id": "56ac3776",
      "metadata": {
        "id": "56ac3776"
      },
      "source": [
        "- **Kypher vs. Cypher**: in Cypher the restriction `m_shriver` would be interpreted as a node *type* in a property graph, in KGTK Kypher\n",
        "it is interpreted as the ID of a particular node"
      ]
    },
    {
      "cell_type": "markdown",
      "id": "af32722e",
      "metadata": {
        "id": "af32722e"
      },
      "source": [
        "**Example**\n",
        "- filter on the relation of an edge\n",
        "- select all edges with label `name` using the same colon-restriction syntax we used for nodes"
      ]
    },
    {
      "cell_type": "code",
      "execution_count": 15,
      "id": "fa10dac3",
      "metadata": {
        "id": "fa10dac3",
        "outputId": "1c06838e-f8e9-461b-f74a-985fe8ddea06",
        "colab": {
          "base_uri": "https://localhost:8080/"
        }
      },
      "outputs": [
        {
          "output_type": "stream",
          "name": "stdout",
          "text": [
            "id\tnode1\tlabel\tnode2\n",
            "e5\ta_schwarzenegger\tname\t'Arnold Schwarzenegger'@de\n",
            "e6\tl_hamilton\tname\t'Linda Hamilton'@en\n",
            "e7\tg_rydstrom\tname\t'Gary R. Rydstrom'@en\n",
            "e8\tg_borders\tname\t'Gloria S. Borders'@en\n",
            "e9\tm_shriver\tname\t'Maria Shriver'@en\n"
          ]
        }
      ],
      "source": [
        "!kgtk query -i $small_graph --match '()-[:name]->()'"
      ]
    },
    {
      "cell_type": "markdown",
      "id": "70207f7c",
      "metadata": {
        "id": "70207f7c"
      },
      "source": [
        "- for relations, the interpretation of restrictions on the label of an\n",
        "edge (as opposed to its `id`) is more in line with standard Cypher."
      ]
    },
    {
      "cell_type": "markdown",
      "id": "841a95e3",
      "metadata": {
        "id": "841a95e3"
      },
      "source": [
        "**Example**\n",
        "- node and relation restrictions can be combined\n",
        "- for example, here we select all `name` edges starting from node `a_schwarzenegger`"
      ]
    },
    {
      "cell_type": "code",
      "execution_count": 16,
      "id": "d54b0533",
      "metadata": {
        "lines_to_next_cell": 2,
        "id": "d54b0533",
        "outputId": "0e477d38-9c50-4bb9-a21e-47fc9ac4306d",
        "colab": {
          "base_uri": "https://localhost:8080/"
        }
      },
      "outputs": [
        {
          "output_type": "stream",
          "name": "stdout",
          "text": [
            "id\tnode1\tlabel\tnode2\n",
            "e5\ta_schwarzenegger\tname\t'Arnold Schwarzenegger'@de\n"
          ]
        }
      ],
      "source": [
        "!kgtk query -i $small_graph --match '(:a_schwarzenegger)-[:name]->()'"
      ]
    },
    {
      "cell_type": "markdown",
      "id": "7dd48f36",
      "metadata": {
        "id": "7dd48f36"
      },
      "source": [
        "## Filtering with the `--where` clause"
      ]
    },
    {
      "cell_type": "markdown",
      "id": "0ecba3ba",
      "metadata": {
        "id": "0ecba3ba"
      },
      "source": [
        "- `--where` holds a possibly complex Boolean expression that gets evaluated as additional edge filter\n",
        "- only edges for which it evaluates to true will be returned\n",
        "- `--where` can be used to express more complex conditions and computations that cannot be expressed in `--match`\n",
        "- to connect to values selected by `--match` we need pattern *variables*\n",
        "- variables are specified with simple names in the node or relationship part of a pattern\n",
        "- below we use `p` as the variable for the starting node of the edge pattern\n",
        "- in the `--where` clause we restrict which values are allowed for `p`\n",
        "- this query is equivalent to the one above where we restricted the starting node directly in the match pattern:"
      ]
    },
    {
      "cell_type": "code",
      "execution_count": 17,
      "id": "3ec0af12",
      "metadata": {
        "id": "3ec0af12",
        "outputId": "acb76789-51cb-4737-8013-f66f8c9b77dc",
        "colab": {
          "base_uri": "https://localhost:8080/"
        }
      },
      "outputs": [
        {
          "output_type": "stream",
          "name": "stdout",
          "text": [
            "id\tnode1\tlabel\tnode2\n",
            "e9\tm_shriver\tname\t'Maria Shriver'@en\n"
          ]
        }
      ],
      "source": [
        "!kgtk query -i $small_graph \\\n",
        "     --match '(p)-[:name]->()' \\\n",
        "     --where 'p = \"m_shriver\"'"
      ]
    },
    {
      "cell_type": "markdown",
      "id": "7957db5f",
      "metadata": {
        "id": "7957db5f"
      },
      "source": [
        "**Equivalent query:**\n",
        "- specifies the starting node restriction twice which is ok but redundant"
      ]
    },
    {
      "cell_type": "code",
      "execution_count": 18,
      "id": "a394af91",
      "metadata": {
        "id": "a394af91",
        "outputId": "a6528079-21cd-4517-8750-65d73264066b",
        "colab": {
          "base_uri": "https://localhost:8080/"
        }
      },
      "outputs": [
        {
          "output_type": "stream",
          "name": "stdout",
          "text": [
            "id\tnode1\tlabel\tnode2\n",
            "e9\tm_shriver\tname\t'Maria Shriver'@en\n"
          ]
        }
      ],
      "source": [
        "!kgtk query -i $small_graph \\\n",
        "     --match '(p:m_shriver)-[:name]->()' \\\n",
        "     --where 'p = \"m_shriver\"'"
      ]
    },
    {
      "cell_type": "markdown",
      "id": "5ffdb95d",
      "metadata": {
        "id": "5ffdb95d"
      },
      "source": [
        "- **IMPORTANT**: constants such as `m_shriver` need to be quoted when used in `--where`, similar to SQL\n",
        "- this needs extra care so quotes will not be consumed by the Unix shell"
      ]
    },
    {
      "cell_type": "markdown",
      "id": "b08921e4",
      "metadata": {
        "id": "b08921e4"
      },
      "source": [
        "**Example**\n",
        "- use a regular expression to filter on the names attached to nodes\n",
        "- the `=~` operator matches a value against a regular expression\n",
        "- **Kypher vs. Cypher**: Kypher use Python regexp syntax, Cypher uses Java regexps\n",
        "- select all `name` edges that lead to a name that contains a double letter:"
      ]
    },
    {
      "cell_type": "code",
      "execution_count": 19,
      "id": "8df2fb4c",
      "metadata": {
        "id": "8df2fb4c",
        "outputId": "34883b78-4e49-40e3-8ad3-d69e9cd2c35c",
        "colab": {
          "base_uri": "https://localhost:8080/"
        }
      },
      "outputs": [
        {
          "output_type": "stream",
          "name": "stdout",
          "text": [
            "id\tnode1\tlabel\tnode2\n",
            "e5\ta_schwarzenegger\tname\t'Arnold Schwarzenegger'@de\n"
          ]
        }
      ],
      "source": [
        "!kgtk query -i $small_graph \\\n",
        "     --match '(p)-[:name]->(n)' \\\n",
        "     --where 'n =~ \".*(.)\\\\1.*\"'"
      ]
    },
    {
      "cell_type": "markdown",
      "id": "b3263a68",
      "metadata": {
        "id": "b3263a68"
      },
      "source": [
        "**Example**\n",
        "- filter based on a list of values (a form of disjunction)\n",
        "- any edge where `p` is equal to one of the listed values will be returned\n",
        "- **Kypher vs. Cypher**: Kypher only allows lists of literals such as strings\n",
        "  or numbers, Cypher also allows variables and expressions"
      ]
    },
    {
      "cell_type": "code",
      "execution_count": 20,
      "id": "e0b986bf",
      "metadata": {
        "id": "e0b986bf",
        "outputId": "fe09e994-11fb-4661-8c89-fb2cdfa79eee",
        "colab": {
          "base_uri": "https://localhost:8080/"
        }
      },
      "outputs": [
        {
          "output_type": "stream",
          "name": "stdout",
          "text": [
            "id\tnode1\tlabel\tnode2\n",
            "e7\tg_rydstrom\tname\t'Gary R. Rydstrom'@en\n",
            "e8\tg_borders\tname\t'Gloria S. Borders'@en\n"
          ]
        }
      ],
      "source": [
        "!kgtk query -i $small_graph \\\n",
        "     --match '(p)-[:name]->(n)' \\\n",
        "     --where 'p IN [\"g_borders\", \"g_rydstrom\"]'"
      ]
    },
    {
      "cell_type": "markdown",
      "id": "b83cbdf1",
      "metadata": {
        "id": "b83cbdf1"
      },
      "source": [
        "**Example**\n",
        "- filter based on a comparison operator and a computation using built-in functions\n",
        "- **IMPORTANT**: all columns in a KGTK file are treated as text (even if they contain numbers)\n",
        "- the expression below filters for names that start with the letter `L` or later\n",
        "- note that quotes of KGTK string literals are part of their value and need to be accounted for\n",
        "- for this we use the built-in function `substr` to extract the first letter of each name"
      ]
    },
    {
      "cell_type": "code",
      "execution_count": 21,
      "id": "f80eb655",
      "metadata": {
        "lines_to_next_cell": 2,
        "id": "f80eb655",
        "outputId": "e49cb0bf-4464-4c92-e741-304eaedccf11",
        "colab": {
          "base_uri": "https://localhost:8080/"
        }
      },
      "outputs": [
        {
          "output_type": "stream",
          "name": "stdout",
          "text": [
            "id\tnode1\tlabel\tnode2\n",
            "e6\tl_hamilton\tname\t'Linda Hamilton'@en\n",
            "e9\tm_shriver\tname\t'Maria Shriver'@en\n"
          ]
        }
      ],
      "source": [
        "!kgtk query -i $small_graph \\\n",
        "     --match '(p)-[:name]->(n)' \\\n",
        "     --where \"substr(n,2,1) >= 'L'\""
      ]
    },
    {
      "cell_type": "markdown",
      "id": "2d4ceebc",
      "metadata": {
        "id": "2d4ceebc"
      },
      "source": [
        "## Sorting results with the `--order-by` clause"
      ]
    },
    {
      "cell_type": "markdown",
      "id": "d513b98a",
      "metadata": {
        "id": "d513b98a"
      },
      "source": [
        "- use `--order-by` to sort results just like in Cypher and SQL\n",
        "- this query sorts matched results by names in ascending order:"
      ]
    },
    {
      "cell_type": "code",
      "execution_count": 22,
      "id": "a0f82ae8",
      "metadata": {
        "lines_to_next_cell": 2,
        "id": "a0f82ae8",
        "outputId": "816b2b15-21e7-47b7-f397-1356ce694272",
        "colab": {
          "base_uri": "https://localhost:8080/"
        }
      },
      "outputs": [
        {
          "output_type": "stream",
          "name": "stdout",
          "text": [
            "id\tnode1\tlabel\tnode2\n",
            "e6\tl_hamilton\tname\t'Linda Hamilton'@en\n",
            "e9\tm_shriver\tname\t'Maria Shriver'@en\n"
          ]
        }
      ],
      "source": [
        "!kgtk query -i $small_graph \\\n",
        "     --match '(p)-[:name]->(n)' \\\n",
        "     --where \"upper(substr(n,2,1)) >= 'L'\" \\\n",
        "     --order-by n"
      ]
    },
    {
      "cell_type": "markdown",
      "id": "7a375a76",
      "metadata": {
        "id": "7a375a76"
      },
      "source": [
        "- order by an expression value, this time in descending order:"
      ]
    },
    {
      "cell_type": "code",
      "execution_count": 23,
      "id": "180baf9d",
      "metadata": {
        "lines_to_next_cell": 2,
        "id": "180baf9d",
        "outputId": "60b4ce61-7399-430c-ad33-d7ad47fa363f",
        "colab": {
          "base_uri": "https://localhost:8080/"
        }
      },
      "outputs": [
        {
          "output_type": "stream",
          "name": "stdout",
          "text": [
            "id\tnode1\tlabel\tnode2\n",
            "e9\tm_shriver\tname\t'Maria Shriver'@en\n",
            "e6\tl_hamilton\tname\t'Linda Hamilton'@en\n"
          ]
        }
      ],
      "source": [
        "!kgtk query -i $small_graph \\\n",
        "     --match '(p)-[:name]->(n)' \\\n",
        "     --where \"substr(n,2,1) >= 'L'\" \\\n",
        "     --order-by \"substr(n,2,1) desc\""
      ]
    },
    {
      "cell_type": "markdown",
      "id": "f27a5dac",
      "metadata": {
        "id": "f27a5dac"
      },
      "source": [
        "## Controlling results with the `--return` clause"
      ]
    },
    {
      "cell_type": "markdown",
      "id": "7755871b",
      "metadata": {
        "id": "7755871b"
      },
      "source": [
        "- use `--return` to control which columns are output, in which order, with what headers\n",
        "- by default `*` is used which means all columns of matching edge(s) are output\n",
        "- use KGTK and SQLite built-in functions to transform output values or compute additional ones\n",
        "- use `distict` to eliminate duplicates\n",
        "- use aggregation function to get counts, max, average, etc."
      ]
    },
    {
      "cell_type": "markdown",
      "id": "7ca3b0fd",
      "metadata": {
        "id": "7ca3b0fd"
      },
      "source": [
        "**Example**\n",
        "- select only the `node1` and `node2` columns by referencing pattern variables `p` and `n`\n",
        "- note, that the result generated here is not valid KGTK (missing `id` and `label`)"
      ]
    },
    {
      "cell_type": "code",
      "execution_count": 24,
      "id": "c2ebb33c",
      "metadata": {
        "id": "c2ebb33c",
        "outputId": "2a05f4e8-f9a2-424a-ce66-43c8e432fa52",
        "colab": {
          "base_uri": "https://localhost:8080/"
        }
      },
      "outputs": [
        {
          "output_type": "stream",
          "name": "stdout",
          "text": [
            "node1\tnode2\n",
            "a_schwarzenegger\t'Arnold Schwarzenegger'@de\n"
          ]
        }
      ],
      "source": [
        "!kgtk query -i $small_graph \\\n",
        "     --match '(p)-[:name]->(n)' \\\n",
        "     --where 'n =~ \".*(.)\\\\1.*\"' \\\n",
        "     --return 'p, n'"
      ]
    },
    {
      "cell_type": "markdown",
      "id": "f04c5488",
      "metadata": {
        "id": "f04c5488"
      },
      "source": [
        "**Example**\n",
        "- return all columns but switching their order\n",
        "- **Kypher vs. Cypher**: Kypher relation variables such as `r` below\n",
        "  get bound to edge IDs; other components of an edge such as its `label`\n",
        "  can then be access via property syntax such as `r.label`\n",
        "- this query now produces valid KGTK"
      ]
    },
    {
      "cell_type": "code",
      "execution_count": 25,
      "id": "6a07ab49",
      "metadata": {
        "id": "6a07ab49",
        "outputId": "5b3d1567-378b-43c2-9f3c-13995ecb4558",
        "colab": {
          "base_uri": "https://localhost:8080/"
        }
      },
      "outputs": [
        {
          "output_type": "stream",
          "name": "stdout",
          "text": [
            "node1\tnode2\tid\tlabel\n",
            "a_schwarzenegger\t'Arnold Schwarzenegger'@de\te5\tname\n"
          ]
        }
      ],
      "source": [
        "!kgtk query -i $small_graph \\\n",
        "     --match '(p)-[r:name]->(n)' \\\n",
        "     --where 'n =~ \".*(.)\\\\1.*\"' \\\n",
        "     --return 'p, n, r, r.label'"
      ]
    },
    {
      "cell_type": "markdown",
      "id": "49970cf4",
      "metadata": {
        "id": "49970cf4"
      },
      "source": [
        "**Example**\n",
        "- summarize data via `distinct` to eliminate duplicates"
      ]
    },
    {
      "cell_type": "code",
      "execution_count": 26,
      "id": "6d286af7",
      "metadata": {
        "id": "6d286af7",
        "outputId": "6fe38187-9fe5-40c1-c493-6f7791b57533",
        "colab": {
          "base_uri": "https://localhost:8080/"
        }
      },
      "outputs": [
        {
          "output_type": "stream",
          "name": "stdout",
          "text": [
            "label\n",
            "coactor\n",
            "colleague\n",
            "name\n",
            "spouse\n"
          ]
        }
      ],
      "source": [
        "!kgtk query -i $small_graph \\\n",
        "     --match '(p)-[r]->(n)' \\\n",
        "     --return 'distinct r.label' \\\n",
        "     --order-by r.label"
      ]
    },
    {
      "cell_type": "markdown",
      "id": "ecd5305b",
      "metadata": {
        "id": "ecd5305b"
      },
      "source": [
        "**Example**\n",
        "- transform data with built-in functions, e.g., change value to lower case"
      ]
    },
    {
      "cell_type": "code",
      "execution_count": 27,
      "id": "fcb5c6f4",
      "metadata": {
        "id": "fcb5c6f4",
        "outputId": "8379b67e-5984-4175-e9e9-a15a141e5a7e",
        "colab": {
          "base_uri": "https://localhost:8080/"
        }
      },
      "outputs": [
        {
          "output_type": "stream",
          "name": "stdout",
          "text": [
            "node1\tlabel\tlower(graph_1_c1.\"node2\")\tid\n",
            "a_schwarzenegger\tname\t'arnold schwarzenegger'@de\te5\n"
          ]
        }
      ],
      "source": [
        "!kgtk query -i $small_graph \\\n",
        "     --match '(p)-[r:name]->(n)' \\\n",
        "     --where 'n =~ \".*(.)\\\\1.*\"' \\\n",
        "     --return 'p, r.label, lower(n), r'"
      ]
    },
    {
      "cell_type": "markdown",
      "id": "c0d7b19f",
      "metadata": {
        "id": "c0d7b19f"
      },
      "source": [
        "**Example**\n",
        "- specify proper column headers for output values, e.g., designate the transformed value as `node2`"
      ]
    },
    {
      "cell_type": "code",
      "execution_count": 28,
      "id": "6ff2aa95",
      "metadata": {
        "id": "6ff2aa95",
        "outputId": "0fe20213-7ad9-4f55-e328-741d448f865f",
        "colab": {
          "base_uri": "https://localhost:8080/"
        }
      },
      "outputs": [
        {
          "output_type": "stream",
          "name": "stdout",
          "text": [
            "node1\tlabel\tnode2\tid\n",
            "a_schwarzenegger\tname\t'arnold schwarzenegger'@de\te5\n"
          ]
        }
      ],
      "source": [
        "!kgtk query -i $small_graph \\\n",
        "     --match '(p)-[r:name]->(n)' \\\n",
        "     --where 'n =~ \".*(.)\\\\1.*\"' \\\n",
        "     --return 'p, r.label, lower(n) as node2, r'"
      ]
    },
    {
      "cell_type": "markdown",
      "id": "ffa27b10",
      "metadata": {
        "id": "ffa27b10"
      },
      "source": [
        "**Example**\n",
        "- use KGTK built-in functions to manipulate KGTK values\n",
        "- here we change a symbol to a string (which is a legal `node1` in KGTK data model)"
      ]
    },
    {
      "cell_type": "code",
      "execution_count": 29,
      "id": "da737147",
      "metadata": {
        "id": "da737147",
        "outputId": "479871c7-c392-4866-f94d-d8681cdd9591",
        "colab": {
          "base_uri": "https://localhost:8080/"
        }
      },
      "outputs": [
        {
          "output_type": "stream",
          "name": "stdout",
          "text": [
            "node1\tlabel\tnode2\tid\n",
            "\"a_schwarzenegger\"\tname\t'Arnold Schwarzenegger'@de\te5\n"
          ]
        }
      ],
      "source": [
        "!kgtk query -i $small_graph \\\n",
        "     --match '(p)-[r:name]->(n)' \\\n",
        "     --where 'n =~ \".*(.)\\\\1.*\"' \\\n",
        "     --return 'kgtk_stringify(p) as node1, r.label, n, r'"
      ]
    },
    {
      "cell_type": "markdown",
      "id": "472d713e",
      "metadata": {
        "id": "472d713e"
      },
      "source": [
        "**Example**\n",
        "- access components of structured literals with property syntax (treat them as *virtual properties*)\n",
        "- but this is just syntactic sugar for calling the KGTK function\n",
        "- extra output column is named with column path syntax (`lang` of `node2`)\n",
        "- special characters need to be backtick-quoted"
      ]
    },
    {
      "cell_type": "code",
      "execution_count": 30,
      "id": "afd031b8",
      "metadata": {
        "lines_to_next_cell": 2,
        "id": "afd031b8",
        "outputId": "166da5f7-a2eb-449b-fe78-06e9a940d181",
        "colab": {
          "base_uri": "https://localhost:8080/"
        }
      },
      "outputs": [
        {
          "output_type": "stream",
          "name": "stdout",
          "text": [
            "id\tnode1\tlabel\tnode2\tnode2;lang\n",
            "e5\ta_schwarzenegger\tname\t'arnold schwarzenegger'@de\tde\n"
          ]
        }
      ],
      "source": [
        "!kgtk query -i $small_graph \\\n",
        "     --match '(p)-[r:name]->(n)' \\\n",
        "     --where 'kgtk_lqstring(n) and n.kgtk_lqstring_lang != \"en\"' \\\n",
        "     --return 'r, p, r.label, lower(n) as node2, n.kgtk_lqstring_lang as `node2;lang`'"
      ]
    },
    {
      "cell_type": "markdown",
      "id": "e65fa69d",
      "metadata": {
        "id": "e65fa69d"
      },
      "source": [
        "## Querying connected edges through graph patterns"
      ]
    },
    {
      "cell_type": "markdown",
      "id": "c5f8938d",
      "metadata": {
        "id": "c5f8938d"
      },
      "source": [
        "- in KGs  we will often want to combine multiple edges into a query\n",
        "- connection could be within a graph or across graphs or both\n",
        "- in database parlance this is generally called a *join*\n",
        "- in Kypher (or Cypher) we can express such queries very concisely using graph patterns\n",
        "- this ASCII pattern language is probably the single-most useful aspect of K/Cypher\n",
        "- for example, find colleagues and their names:"
      ]
    },
    {
      "cell_type": "code",
      "execution_count": 31,
      "id": "a25f411b",
      "metadata": {
        "id": "a25f411b",
        "outputId": "1a3450b6-40f9-43ed-8e47-2958ed482e1b",
        "colab": {
          "base_uri": "https://localhost:8080/"
        }
      },
      "outputs": [
        {
          "output_type": "stream",
          "name": "stdout",
          "text": [
            "id\tnode1\tlabel\tnode2\n",
            "e3\t'Gary R. Rydstrom'@en\tcolleague\t'Gloria S. Borders'@en\n",
            "e4\t'Gary R. Rydstrom'@en\tcolleague\t'Arnold Schwarzenegger'@de\n"
          ]
        }
      ],
      "source": [
        "!kgtk query -i $small_graph \\\n",
        "     --match '(na)<-[:name]-(a)-[r:colleague]->(b)-[:name]->(nb)' \\\n",
        "     --return 'r, na as node1, r.label, nb as node2'"
      ]
    },
    {
      "cell_type": "markdown",
      "id": "0ace1986",
      "metadata": {
        "id": "0ace1986"
      },
      "source": [
        "**Example**\n",
        "- combine path patterns with `--where` expression for more elaborate filtering\n",
        "- below we select starting edges where at least one of the nodes has a German name"
      ]
    },
    {
      "cell_type": "code",
      "execution_count": 32,
      "id": "955b4593",
      "metadata": {
        "id": "955b4593",
        "outputId": "91295409-b76f-4647-dfd8-4fc144f2d8d4",
        "colab": {
          "base_uri": "https://localhost:8080/"
        }
      },
      "outputs": [
        {
          "output_type": "stream",
          "name": "stdout",
          "text": [
            "id\tnode1\tlabel\tnode2\n",
            "e4\t'Gary R. Rydstrom'@en\tcolleague\t'Arnold Schwarzenegger'@de\n"
          ]
        }
      ],
      "source": [
        "!kgtk query -i $small_graph \\\n",
        "     --match '(na)<-[:name]-(a)-[r:colleague]->(b)-[:name]->(nb)' \\\n",
        "     --where 'na.kgtk_lqstring_lang = \"de\" OR nb.kgtk_lqstring_lang = \"de\"' \\\n",
        "     --return 'r, na as node1, r.label, nb as node2'"
      ]
    },
    {
      "cell_type": "markdown",
      "id": "3b6840fc",
      "metadata": {
        "id": "3b6840fc"
      },
      "source": [
        "**Example**\n",
        "- it is good practice to only name pattern variables that are actually needed and leave others anonymous"
      ]
    },
    {
      "cell_type": "code",
      "execution_count": 33,
      "id": "09fdf20d",
      "metadata": {
        "lines_to_next_cell": 2,
        "id": "09fdf20d",
        "outputId": "4ddf7652-48ab-4c45-f9e3-3e44286ab60e",
        "colab": {
          "base_uri": "https://localhost:8080/"
        }
      },
      "outputs": [
        {
          "output_type": "stream",
          "name": "stdout",
          "text": [
            "id\tnode1\tlabel\tnode2\n",
            "e3\t'Gary R. Rydstrom'@en\tcolleague\t'Gloria S. Borders'@en\n",
            "e4\t'Gary R. Rydstrom'@en\tcolleague\t'Arnold Schwarzenegger'@de\n"
          ]
        }
      ],
      "source": [
        "!kgtk query -i $small_graph \\\n",
        "     --match '(na)<-[:name]-()-[r:colleague]->()-[:name]->(nb)' \\\n",
        "     --return 'r, na as node1, r.label, nb as node2'"
      ]
    },
    {
      "cell_type": "markdown",
      "id": "4ec2f765",
      "metadata": {
        "id": "4ec2f765"
      },
      "source": [
        "## Querying connected edges across multiple graphs"
      ]
    },
    {
      "cell_type": "markdown",
      "id": "8061cef7",
      "metadata": {
        "id": "8061cef7"
      },
      "source": [
        "- Kypher can combine information from different graphs described in separate KGTK files\n",
        "- allows one to mix and match information, or to organize data into different logical parts\n",
        "- to query multiple graphs we need to specify two or more input files\n",
        "- *graph variables* are used to associate pattern clauses with the graph they apply to\n",
        "- for graphs to connect they need to have some node or edge IDs in common\n",
        "- **Kypher vs. Cypher*: Cypher does not address multi-graph queries\n",
        "- to illustrate this we use a second example graph of film data shown here:"
      ]
    },
    {
      "cell_type": "code",
      "execution_count": 34,
      "id": "98faf82c",
      "metadata": {
        "id": "98faf82c",
        "outputId": "55bdda60-91d6-41f8-d24f-7aeadfc1c848",
        "colab": {
          "base_uri": "https://localhost:8080/"
        }
      },
      "outputs": [
        {
          "output_type": "stream",
          "name": "stdout",
          "text": [
            "/root/isi-kgtk-tutorial/tutorial-kypher_input/small-films.tsv\n"
          ]
        }
      ],
      "source": [
        "!echo $small_films"
      ]
    },
    {
      "cell_type": "code",
      "execution_count": 35,
      "id": "2834c11b",
      "metadata": {
        "id": "2834c11b",
        "outputId": "b159f6da-80a7-4f73-f428-28da51faadd2",
        "colab": {
          "base_uri": "https://localhost:8080/"
        }
      },
      "outputs": [
        {
          "output_type": "stream",
          "name": "stdout",
          "text": [
            "id\tnode1\tlabel\tnode2\n",
            "t1\tterminator2_jd\tname\t'Terminator 2'@en\n",
            "t2\tterminator2_jd\tinstance_of\tfilm\n",
            "t3\tterminator2_jd\tgenre\tscience_fiction\n",
            "t4\tterminator2_jd\tgenre\taction\n",
            "t5\tterminator2_jd\tcast\ta_schwarzenegger\n",
            "t6\tterminator2_jd\tcast\tl_hamilton\n",
            "t7\tterminator2_jd\tcrew\tg_rydstrom\n",
            "t8\tterminator2_jd\tcrew\tg_borders\n",
            "t9\tterminator2_jd\taward\tacademy-best-sound-editing\n",
            "t10\tterminator2_jd\tpublication_date\t^1991-07-03T00:00:00Z/11\n",
            "t11\tterminator2_jd\tpublication_date\t^1995-07-01T00:00:00Z/11\n",
            "t12\tfilm\tsubclass_of\tvisual_artwork\n",
            "t13\ts_connor\tname\t'Sarah Connor'@en\n",
            "t14\tterminator\tname\t'Terminator'@en\n"
          ]
        }
      ],
      "source": [
        "!kgtk query -i $small_films --match '()-[]->()'"
      ]
    },
    {
      "cell_type": "markdown",
      "id": "a5b19871",
      "metadata": {
        "id": "a5b19871"
      },
      "source": [
        "**Example**\n",
        "- let's query for people whose spouse is a film actor\n",
        "- a graph variable followed by `:` means all clauses following it are to be applied to that graph,\n",
        "  until overridden by another graph variable\n",
        "- graph variables are matched to input files in a simple greedy matching scheme (see manual),\n",
        "  for example, here we use a substring of each input file name\n",
        "- multiple edges in the pattern are separated by commas to allow for graph switching"
      ]
    },
    {
      "cell_type": "code",
      "execution_count": 36,
      "id": "3100a084",
      "metadata": {
        "id": "3100a084",
        "outputId": "8d78ed22-b623-4051-ba00-3c0c2549f61d",
        "colab": {
          "base_uri": "https://localhost:8080/"
        }
      },
      "outputs": [
        {
          "output_type": "stream",
          "name": "stdout",
          "text": [
            "id\tnode1\tlabel\tnode2\tnode2;acted_in\n",
            "e1\tm_shriver\tspouse\ta_schwarzenegger\tterminator2_jd\n"
          ]
        }
      ],
      "source": [
        "!kgtk query -i $small_graph -i $small_films \\\n",
        "     --match 'graph: (x)-[r:spouse]->(y), \\\n",
        "              films: (y)<-[:cast]-(f)-[:instance_of]->(:film)' \\\n",
        "     --return 'r, x, r.label, y, f as `node2;acted_in`'"
      ]
    },
    {
      "cell_type": "markdown",
      "id": "86f272e7",
      "metadata": {
        "id": "86f272e7"
      },
      "source": [
        "**Example**\n",
        "- let's further restrict that the acting had to be done before 1985"
      ]
    },
    {
      "cell_type": "code",
      "execution_count": 37,
      "id": "1fb135c4",
      "metadata": {
        "lines_to_next_cell": 2,
        "id": "1fb135c4",
        "outputId": "71b26b0e-5f30-4bf5-915d-0856624b5cae",
        "colab": {
          "base_uri": "https://localhost:8080/"
        }
      },
      "outputs": [
        {
          "output_type": "stream",
          "name": "stdout",
          "text": [
            "id\tnode1\tlabel\tnode2\tnode2;acted_in\tnode2;acted_when\n",
            "e1\tm_shriver\tspouse\ta_schwarzenegger\tterminator2_jd\t^1991-07-03T00:00:00Z/11\n"
          ]
        }
      ],
      "source": [
        "!kgtk query -i $small_graph -i $small_films \\\n",
        "     --match 'graph: (x)-[r:spouse]->(y), \\\n",
        "              films: (y)<-[:cast]-(f)-[:instance_of]->(:film), \\\n",
        "                     (f)-[:publication_date]->(d)' \\\n",
        "     --where 'd < \"^1995\"' \\\n",
        "     --return 'r, x, r.label, y, f as `node2;acted_in`, d as `node2;acted_when`'"
      ]
    },
    {
      "cell_type": "markdown",
      "id": "040183db",
      "metadata": {
        "id": "040183db"
      },
      "source": [
        "## Aggregation"
      ]
    },
    {
      "cell_type": "markdown",
      "id": "878f3af7",
      "metadata": {
        "id": "878f3af7"
      },
      "source": [
        "- similar to SQL and Cypher, Kypher supports aggregation functions such\n",
        "  as `count`, `min`, `max`, `avg`, etc.\n",
        "- one of the simplest and most frequently used operations is counting rows via `count`"
      ]
    },
    {
      "cell_type": "markdown",
      "id": "3a27616e",
      "metadata": {
        "id": "3a27616e"
      },
      "source": [
        "**Example**\n",
        "- count how many edges have `terminator2_jd` as their starting node"
      ]
    },
    {
      "cell_type": "code",
      "execution_count": 38,
      "id": "d093572e",
      "metadata": {
        "id": "d093572e",
        "outputId": "631fd428-4534-4ad2-abe6-34f33af7bef6",
        "colab": {
          "base_uri": "https://localhost:8080/"
        }
      },
      "outputs": [
        {
          "output_type": "stream",
          "name": "stdout",
          "text": [
            "N\n",
            "11\n"
          ]
        }
      ],
      "source": [
        "!kgtk query -i $small_films \\\n",
        "     --match '(:terminator2_jd)-[r]->()' \\\n",
        "     --return 'count(r) as N'"
      ]
    },
    {
      "cell_type": "markdown",
      "id": "c24a502d",
      "metadata": {
        "id": "c24a502d"
      },
      "source": [
        "**Example**\n",
        "- counts may include duplicate values (every selected edge will be counted)\n",
        "- we can use `distinct` keyword as the first argument to `count` (or any aggregation function) to exclude duplicates"
      ]
    },
    {
      "cell_type": "code",
      "execution_count": 39,
      "id": "3d5e4e83",
      "metadata": {
        "id": "3d5e4e83",
        "outputId": "88647527-439c-44df-f35e-8c48c3b7f5ca",
        "colab": {
          "base_uri": "https://localhost:8080/"
        }
      },
      "outputs": [
        {
          "output_type": "stream",
          "name": "stdout",
          "text": [
            "N\n",
            "7\n"
          ]
        }
      ],
      "source": [
        "!kgtk query -i $small_films \\\n",
        "     --match '(:terminator2_jd)-[r]->()' \\\n",
        "     --return 'count(distinct r.label) as N'"
      ]
    },
    {
      "cell_type": "markdown",
      "id": "838358eb",
      "metadata": {
        "id": "838358eb"
      },
      "source": [
        "**Example**\n",
        "- Kypher does not have an explicit `group by` clause (different from SPARQL or SQL)\n",
        "- grouping is inferred from clause type and order in the `return` statement\n",
        "  and sorts rows into into groups before an aggregation operation is applied to each group\n",
        "- below we group by relation label and then select the maximum `node2` for each label (lexicographically)"
      ]
    },
    {
      "cell_type": "code",
      "execution_count": 40,
      "id": "28935f79",
      "metadata": {
        "id": "28935f79",
        "outputId": "acb02653-39e9-41d5-bd42-0afcd4764c19",
        "colab": {
          "base_uri": "https://localhost:8080/"
        }
      },
      "outputs": [
        {
          "output_type": "stream",
          "name": "stdout",
          "text": [
            "label\tnode2\tnode1\tid\n",
            "award\tacademy-best-sound-editing\tterminator2_jd\tt9\n",
            "cast\tl_hamilton\tterminator2_jd\tt6\n",
            "crew\tg_rydstrom\tterminator2_jd\tt7\n",
            "genre\tscience_fiction\tterminator2_jd\tt3\n",
            "instance_of\tfilm\tterminator2_jd\tt2\n",
            "name\t'Terminator'@en\tterminator\tt14\n",
            "publication_date\t^1995-07-01T00:00:00Z/11\tterminator2_jd\tt11\n",
            "subclass_of\tvisual_artwork\tfilm\tt12\n"
          ]
        }
      ],
      "source": [
        "!kgtk query -i $small_films \\\n",
        "     --match '(x)-[r]->(y)' \\\n",
        "     --return 'r.label, max(y) as node2, x, r'"
      ]
    },
    {
      "cell_type": "markdown",
      "id": "bc9ea6c6",
      "metadata": {
        "lines_to_next_cell": 2,
        "id": "bc9ea6c6"
      },
      "source": [
        "**Mildly tricky**: the query applied the `max` function to groups of\n",
        "result rows where `r.label` had the same value.  But for this to\n",
        "work we had to move the other output variables `x` and `r` to the\n",
        "end, otherwise they would have been the grouping criterion (that's\n",
        "the drawback of implicit grouping)."
      ]
    },
    {
      "cell_type": "markdown",
      "id": "f35835f3",
      "metadata": {
        "id": "f35835f3"
      },
      "source": [
        "## Optional match"
      ]
    },
    {
      "cell_type": "markdown",
      "id": "9e44058a",
      "metadata": {
        "id": "9e44058a"
      },
      "source": [
        "- real-world KGs often only have partial coverage of certain relations\n",
        "- for example, not every node might have a name or label\n",
        "- Kypher's optional match patterns can be used to hande incomplete information,\n",
        "  since they are allowed to fail and will generate NULL values for such cases\n",
        "- each Kypher query must have exactly one strict `--match` clause and\n",
        "  can have zero or more optional match clauses introduced by `--opt`\n",
        "- **Kypher vs. Cypher**: this is more than Cypher which can have any\n",
        "  number of strict and/or optional patterns in any order\n",
        "- each strict and optional match clause can have its own `--where` clause\n",
        "- below we sometimes use a third graph of edge qualifiers shown here:"
      ]
    },
    {
      "cell_type": "code",
      "execution_count": 41,
      "id": "16ad326b",
      "metadata": {
        "id": "16ad326b",
        "outputId": "69321f57-0528-4699-e1da-295c577bd871",
        "colab": {
          "base_uri": "https://localhost:8080/"
        }
      },
      "outputs": [
        {
          "output_type": "stream",
          "name": "stdout",
          "text": [
            "/root/isi-kgtk-tutorial/tutorial-kypher_input/small-quals.tsv\n"
          ]
        }
      ],
      "source": [
        "!echo $small_quals"
      ]
    },
    {
      "cell_type": "code",
      "execution_count": 42,
      "id": "11b32803",
      "metadata": {
        "id": "11b32803",
        "outputId": "b6de9a88-063b-4dc6-814b-762a23d79b16",
        "colab": {
          "base_uri": "https://localhost:8080/"
        }
      },
      "outputs": [
        {
          "output_type": "stream",
          "name": "stdout",
          "text": [
            "id\tnode1\tlabel\tnode2\n",
            "q1\tt5\trole\tterminator\n",
            "q2\tt6\trole\ts_connor\n",
            "q3\tt9\tpoint_in_time\t^1992-03-30T00:00:00Z/11\n",
            "q4 \tt9\twinner\tg_rydstrom\n",
            "q5 \tt9\twinner\tg_borders\n",
            "q6 \tt10\tlocation\tunited_states\n",
            "q8 \tt11\tlocation\trussia\n",
            "q9\te1\tstart\t^1986-04-26T08:00:00Z/11\n",
            "q10\te1\tend\t^2011-07-01T10:00:00Z/11\n"
          ]
        }
      ],
      "source": [
        "!kgtk query -i $small_quals"
      ]
    },
    {
      "cell_type": "markdown",
      "id": "d774227d",
      "metadata": {
        "id": "d774227d"
      },
      "source": [
        "**Example**\n",
        "- start with a strict query to find people associated with a movie and\n",
        "  any awards they may have won"
      ]
    },
    {
      "cell_type": "code",
      "execution_count": 43,
      "id": "d1cea397",
      "metadata": {
        "id": "d1cea397",
        "outputId": "269652f9-96bd-437e-8252-f483cbf7121a",
        "colab": {
          "base_uri": "https://localhost:8080/"
        }
      },
      "outputs": [
        {
          "output_type": "stream",
          "name": "stdout",
          "text": [
            "person\tfilm\taward\n",
            "g_rydstrom\tterminator2_jd\tacademy-best-sound-editing\n",
            "g_borders\tterminator2_jd\tacademy-best-sound-editing\n"
          ]
        }
      ],
      "source": [
        "!kgtk query -i $small_graph -i $small_films -i $small_quals \\\n",
        "     --match  'graph: (p)-[:name]->(), \\\n",
        "               films: (f)-[:instance_of]->(:film), (f)-[]->(p), (f)-[ra:award]->(a), \\\n",
        "               quals: (ra)-[:winner]->(p)' \\\n",
        "     --return 'p as person, f as film, a as award'"
      ]
    },
    {
      "cell_type": "markdown",
      "id": "3f394b5d",
      "metadata": {
        "id": "3f394b5d"
      },
      "source": [
        "- result only lists some of the people, since not all participants won awards\n",
        "- this makes us miss some potentially useful data\n",
        "- to make sure we retrieve all people associated with a movie and optionally\n",
        "  any awards they may have received, we can use this query:"
      ]
    },
    {
      "cell_type": "code",
      "execution_count": 44,
      "id": "7a03c50b",
      "metadata": {
        "id": "7a03c50b",
        "outputId": "9a50c85e-c6b6-4b68-a2dc-d41fa76a7301",
        "colab": {
          "base_uri": "https://localhost:8080/"
        }
      },
      "outputs": [
        {
          "output_type": "stream",
          "name": "stdout",
          "text": [
            "person\tfilm\taward\n",
            "a_schwarzenegger\tterminator2_jd\t\n",
            "l_hamilton\tterminator2_jd\t\n",
            "g_rydstrom\tterminator2_jd\tacademy-best-sound-editing\n",
            "g_borders\tterminator2_jd\tacademy-best-sound-editing\n"
          ]
        }
      ],
      "source": [
        "!kgtk query -i $small_graph -i $small_films -i $small_quals \\\n",
        "     --match  'graph: (p)-[:name]->(), \\\n",
        "               films: (f)-[:instance_of]->(:film), (f)-[]->(p)' \\\n",
        "     --opt    'films: (f)-[ra:award]->(a), \\\n",
        "               quals: (ra)-[:winner]->(p)' \\\n",
        "     --return 'p as person, f as film, a as award'"
      ]
    },
    {
      "cell_type": "markdown",
      "id": "edf97278",
      "metadata": {
        "id": "edf97278"
      },
      "source": [
        "- now we get all relevant people and missing awards are simply empty (or NULL)\n",
        "- note how edge qualifiers associate information to an edge ID (e.g., the winner of an award)\n",
        "- optional patterns are either fully satisfied for a set of bindings, or not at all,\n",
        "  there are no partial matches"
      ]
    },
    {
      "cell_type": "markdown",
      "id": "5d1ab442",
      "metadata": {
        "id": "5d1ab442"
      },
      "source": [
        "**Example**\n",
        "- multiple independent optional clauses to also get spouses and to filter awards\n",
        "  after 1990"
      ]
    },
    {
      "cell_type": "code",
      "execution_count": 45,
      "id": "20da4b70",
      "metadata": {
        "id": "20da4b70",
        "outputId": "10200b18-b6fc-43e5-e4d2-a568bb1dce18",
        "colab": {
          "base_uri": "https://localhost:8080/"
        }
      },
      "outputs": [
        {
          "output_type": "stream",
          "name": "stdout",
          "text": [
            "person\tfilm\taward\tspouse\n",
            "a_schwarzenegger\tterminator2_jd\t\tm_shriver\n",
            "l_hamilton\tterminator2_jd\t\t\n",
            "g_rydstrom\tterminator2_jd\tacademy-best-sound-editing\t\n",
            "g_borders\tterminator2_jd\tacademy-best-sound-editing\t\n"
          ]
        }
      ],
      "source": [
        "!kgtk query -i $small_graph -i $small_films -i $small_quals \\\n",
        "     --match  'graph: (p)-[:name]->(), \\\n",
        "               films: (f)-[:instance_of]->(:film), (f)-[]->(p)' \\\n",
        "     --opt    'films: (f)-[ra:award]->(a), \\\n",
        "               quals: (ra)-[:winner]->(p), (ra)-[:point_in_time]->(ad)' \\\n",
        "     --where  'ad >= 1990' \\\n",
        "     --opt    'graph: (s)-[:spouse]->(p)' \\\n",
        "     --return 'p as person, f as film, a as award, s as spouse'"
      ]
    },
    {
      "cell_type": "markdown",
      "id": "3d137982",
      "metadata": {
        "id": "3d137982"
      },
      "source": [
        "**Example**\n",
        "- compare that to the SQL produced"
      ]
    },
    {
      "cell_type": "code",
      "execution_count": 46,
      "id": "e04ba8cf",
      "metadata": {
        "id": "e04ba8cf",
        "outputId": "28440a7e-7d76-4565-f161-197a5f3a91be",
        "colab": {
          "base_uri": "https://localhost:8080/"
        }
      },
      "outputs": [
        {
          "output_type": "stream",
          "name": "stdout",
          "text": [
            "[2022-10-17 16:31:49 query]: SQL Translation:\n",
            "---------------------------------------------\n",
            "  SELECT graph_1_c1.\"node1\" \"_aLias.person\", graph_2_c2.\"node1\" \"_aLias.film\", graph_2_c4.\"node2\" \"_aLias.award\", graph_1_c7.\"node1\" \"_aLias.spouse\"\n",
            "     FROM graph_1 AS graph_1_c1\n",
            "     INNER JOIN graph_2 AS graph_2_c2, graph_2 AS graph_2_c3\n",
            "     ON graph_1_c1.\"node1\" = graph_2_c3.\"node2\"\n",
            "        AND graph_2_c2.\"node1\" = graph_2_c3.\"node1\"\n",
            "        AND graph_1_c1.\"label\" = ?\n",
            "        AND graph_2_c2.\"label\" = ?\n",
            "        AND graph_2_c2.\"node2\" = ?\n",
            "     LEFT JOIN (graph_2 AS graph_2_c4\n",
            "         INNER JOIN graph_3 AS graph_3_c5, graph_3 AS graph_3_c6\n",
            "         ON graph_2_c4.\"id\" = graph_3_c5.\"node1\"\n",
            "            AND graph_2_c4.\"id\" = graph_3_c6.\"node1\"\n",
            "            AND graph_2_c4.\"label\" = ?\n",
            "            AND graph_3_c5.\"label\" = ?\n",
            "            AND graph_3_c6.\"label\" = ?\n",
            "            AND (graph_3_c6.\"node2\" >= ?))\n",
            "     ON graph_1_c1.\"node1\" = graph_3_c5.\"node2\"\n",
            "        AND graph_2_c2.\"node1\" = graph_2_c4.\"node1\"\n",
            "     LEFT JOIN graph_1 AS graph_1_c7\n",
            "     ON graph_1_c1.\"node1\" = graph_1_c7.\"node2\"\n",
            "        AND graph_1_c7.\"label\" = ?\n",
            "  PARAS: ['name', 'instance_of', 'film', 'award', 'winner', 'point_in_time', 1990, 'spouse']\n",
            "---------------------------------------------\n",
            "person\tfilm\taward\tspouse\n",
            "a_schwarzenegger\tterminator2_jd\t\tm_shriver\n",
            "l_hamilton\tterminator2_jd\t\t\n",
            "g_rydstrom\tterminator2_jd\tacademy-best-sound-editing\t\n",
            "g_borders\tterminator2_jd\tacademy-best-sound-editing\t\n"
          ]
        }
      ],
      "source": [
        "!kgtk --debug query -i $small_graph -i $small_films -i $small_quals \\\n",
        "     --match  'graph: (p)-[:name]->(), \\\n",
        "               films: (f)-[:instance_of]->(:film), (f)-[]->(p)' \\\n",
        "     --opt    'films: (f)-[ra:award]->(a), \\\n",
        "               quals: (ra)-[:winner]->(p), (ra)-[:point_in_time]->(ad)' \\\n",
        "     --where  'ad >= 1990' \\\n",
        "     --opt    'graph: (s)-[:spouse]->(p)' \\\n",
        "     --return 'p as person, f as film, a as award, s as spouse'"
      ]
    },
    {
      "cell_type": "markdown",
      "id": "8b7017cf",
      "metadata": {
        "lines_to_next_cell": 2,
        "id": "8b7017cf"
      },
      "source": [
        "- see the manual for more examples\n",
        "- e.g., how to do `NOT EXISTS` with an optional clause"
      ]
    },
    {
      "cell_type": "markdown",
      "id": "27883225",
      "metadata": {
        "id": "27883225"
      },
      "source": [
        "## Full-text search"
      ]
    },
    {
      "cell_type": "markdown",
      "id": "17fc223a",
      "metadata": {
        "id": "17fc223a"
      },
      "source": [
        "- Kypher supports efficient full-text search over large graph data via SQLite's FTS5 module\n",
        "- matching uses specialized indexes which can be created easily and efficiently"
      ]
    },
    {
      "cell_type": "markdown",
      "id": "bd6efd32",
      "metadata": {
        "id": "bd6efd32"
      },
      "source": [
        "**Example**\n",
        "- we define a text index on the `node2` column of `GRAPH` and then use `textmatch` to match against `node2` values\n",
        "- multiple indexes can be defined on the same graph column, we can provide names to disambiguate\n",
        "- **minor caveat**: use of an older Python version requires us to provide extra index definition options,\n",
        "  since the default `trigram` tokenizer is currently only supported in Python 3.9 or later\n",
        "- match scores are negative with the best being the smallest (most negative) "
      ]
    },
    {
      "cell_type": "code",
      "execution_count": 47,
      "id": "d00ef3eb",
      "metadata": {
        "id": "d00ef3eb"
      },
      "outputs": [],
      "source": [
        "!rm -f $KGTK_GRAPH_CACHE  # bug workaround"
      ]
    },
    {
      "cell_type": "code",
      "execution_count": 48,
      "id": "b5280356",
      "metadata": {
        "lines_to_next_cell": 2,
        "id": "b5280356",
        "outputId": "ce969f29-bde3-43c4-d51d-ca501d16e199",
        "colab": {
          "base_uri": "https://localhost:8080/"
        }
      },
      "outputs": [
        {
          "output_type": "stream",
          "name": "stdout",
          "text": [
            "node1\tlabel\tnode2\tscore\n",
            "m_shriver\tspouse\ta_schwarzenegger\t-0.6991202559002525\n",
            "g_rydstrom\tcolleague\ta_schwarzenegger\t-0.6991202559002525\n",
            "a_schwarzenegger\tname\t'Arnold Schwarzenegger'@de\t-0.5994217687032093\n"
          ]
        }
      ],
      "source": [
        "!kgtk query -i $small_graph --idx auto text:node2//name=myidx//tokenize=ascii//prefix=3 \\\n",
        "     --match '(x)-[r]->(y)' \\\n",
        "     --where 'textmatch(y, \"sch*\")' \\\n",
        "     --return 'x, r.label, y, matchscore(y) as score' \\\n",
        "     --order 'score'"
      ]
    },
    {
      "cell_type": "markdown",
      "id": "c723779c",
      "metadata": {
        "id": "c723779c"
      },
      "source": [
        "**Example**\n",
        "- `textmatch` patterns use a phrase-based language that allows\n",
        "  multi-word phrases, Boolean expressions, multi-column expressions, suffix patterns, etc. (see manual)\n",
        "- here is an example of a Boolean expression\n",
        "- note that the index only needs to be specified the first time around, repeating it is a no-op"
      ]
    },
    {
      "cell_type": "code",
      "execution_count": 49,
      "id": "8824450f",
      "metadata": {
        "id": "8824450f",
        "outputId": "ccb60497-745a-4dee-f439-11ef56676b38",
        "colab": {
          "base_uri": "https://localhost:8080/"
        }
      },
      "outputs": [
        {
          "output_type": "stream",
          "name": "stdout",
          "text": [
            "node1\tlabel\tnode2\tscore\n",
            "l_hamilton\tname\t'Linda Hamilton'@en\t-1.6796313036328494\n",
            "m_shriver\tspouse\ta_schwarzenegger\t-0.6991202559002525\n",
            "g_rydstrom\tcolleague\ta_schwarzenegger\t-0.6991202559002525\n",
            "a_schwarzenegger\tname\t'Arnold Schwarzenegger'@de\t-0.5994217687032093\n"
          ]
        }
      ],
      "source": [
        "!kgtk query -i $small_graph \\\n",
        "     --match '(x)-[r]->(y)' \\\n",
        "     --where 'textmatch(y, \"sch* OR linda\")' \\\n",
        "     --return 'x, r.label, y, matchscore(y) as score' \\\n",
        "     --order 'score'"
      ]
    },
    {
      "cell_type": "markdown",
      "id": "766202b2",
      "metadata": {
        "id": "766202b2"
      },
      "source": [
        "The `trigram` tokenizer (available with Python 3.9) also supports\n",
        "case-insensitive SQL `LIKE` patterns and case-sensitive `GLOB`\n",
        "patterns (see manual)."
      ]
    },
    {
      "cell_type": "markdown",
      "id": "84bc14e9",
      "metadata": {
        "id": "84bc14e9"
      },
      "source": [
        "**Example**\n",
        "- text indexes can be qualified with their name to select between multiple options"
      ]
    },
    {
      "cell_type": "code",
      "execution_count": 50,
      "id": "c21dada9",
      "metadata": {
        "id": "c21dada9",
        "outputId": "e8a40400-a3ad-4965-a671-7ab9bd68dc85",
        "colab": {
          "base_uri": "https://localhost:8080/"
        }
      },
      "outputs": [
        {
          "output_type": "stream",
          "name": "stdout",
          "text": [
            "node1\tlabel\tnode2\tscore\n",
            "m_shriver\tspouse\ta_schwarzenegger\t-0.6991202559002525\n",
            "g_rydstrom\tcolleague\ta_schwarzenegger\t-0.6991202559002525\n",
            "a_schwarzenegger\tname\t'Arnold Schwarzenegger'@de\t-0.5994217687032093\n"
          ]
        }
      ],
      "source": [
        "!kgtk query -i $small_graph \\\n",
        "     --match '(x)-[r]->(y)' \\\n",
        "     --where 'textmatch(myidx.y, \"schw*\")' \\\n",
        "     --return 'x, r.label, y, matchscore(myidx.y) as score' \\\n",
        "     --order 'score'"
      ]
    },
    {
      "cell_type": "markdown",
      "id": "515437d9",
      "metadata": {
        "id": "515437d9"
      },
      "source": [
        "**Example**\n",
        "- a text index may index more than one column\n",
        "- then the text match expression can use column-specific filters"
      ]
    },
    {
      "cell_type": "code",
      "execution_count": 51,
      "id": "e223c619",
      "metadata": {
        "id": "e223c619",
        "outputId": "02523482-3ff0-4fb1-e637-970036ac45b1",
        "colab": {
          "base_uri": "https://localhost:8080/"
        }
      },
      "outputs": [
        {
          "output_type": "stream",
          "name": "stdout",
          "text": [
            "node1\tlabel\tnode2\tscore\n",
            "g_rydstrom\tcolleague\tg_borders\t-1.391983808592556\n",
            "g_borders\tname\t'Gloria S. Borders'@en\t-1.1761930172126576\n"
          ]
        }
      ],
      "source": [
        "!kgtk query -i $small_graph --idx auto text:node1,node2//name=multi//tokenize=ascii//prefix=3 \\\n",
        "     --match '(x)-[r]->(y)' \\\n",
        "     --where 'textmatch(multi.r, \"node1: g* AND node2 : borders\")' \\\n",
        "     --return 'x, r.label, y, matchscore(multi.r) as score' \\\n",
        "     --order 'score'"
      ]
    },
    {
      "cell_type": "code",
      "execution_count": 52,
      "id": "aa5b9961",
      "metadata": {
        "lines_to_next_cell": 2,
        "id": "aa5b9961",
        "outputId": "9effe207-739f-4dac-893b-47fe7723430c",
        "colab": {
          "base_uri": "https://localhost:8080/"
        }
      },
      "outputs": [
        {
          "output_type": "stream",
          "name": "stdout",
          "text": [
            "node1\tlabel\tnode2\tscore\n",
            "g_rydstrom\tcolleague\ta_schwarzenegger\t-0.2149880837001077\n",
            "g_rydstrom\tname\t'Gary R. Rydstrom'@en\t-0.18165978747100012\n"
          ]
        }
      ],
      "source": [
        "!kgtk query -i $small_graph \\\n",
        "     --match '(x)-[r]->(y)' \\\n",
        "     --where 'textmatch(multi.r, \"node1: g* NOT node2 : borders\")' \\\n",
        "     --return 'x, r.label, y, matchscore(multi.r) as score' \\\n",
        "     --order 'score'"
      ]
    },
    {
      "cell_type": "markdown",
      "id": "f639e370",
      "metadata": {
        "id": "f639e370"
      },
      "source": [
        "## Input and output specification options"
      ]
    },
    {
      "cell_type": "markdown",
      "id": "6d2198c1",
      "metadata": {
        "id": "6d2198c1"
      },
      "source": [
        "```\n",
        "  -i INPUT_FILE [INPUT_FILE ...], --input-files INPUT_FILE [INPUT_FILE ...]\n",
        "                        One or more input files to query (maybe compressed).\n",
        "                        (Required, use '-' for stdin.)\n",
        "  --as NAME             alias name to be used for preceding input\n",
        "  --comment COMMENT     comment string to store for the preceding input\n",
        "                        (displayed by --show-cache)\n",
        "  --no-header           do not generate a header row with column names\n",
        "  -o OUTPUT, --out OUTPUT\n",
        "                        output file to write to, if `-' (the default) output\n",
        "                        goes to stdout. Files with extensions .gz, .bz2 or .xz\n",
        "                        will be appropriately compressed.\n",
        "```"
      ]
    },
    {
      "cell_type": "markdown",
      "id": "ef7fdcd3",
      "metadata": {
        "id": "ef7fdcd3"
      },
      "source": [
        "**Example**"
      ]
    },
    {
      "cell_type": "code",
      "execution_count": 53,
      "id": "7fb32f69",
      "metadata": {
        "lines_to_next_cell": 2,
        "id": "7fb32f69"
      },
      "outputs": [],
      "source": [
        "!kgtk query -i $small_graph -i $small_films --as works --comment 'Film information' --no-header \\\n",
        "     --match 'graph: (x)-[]->(y), works: (f)-[r]->(x)' \\\n",
        "     --return 'r, f, r.label, x' \\\n",
        "     -o $TEMP/example-query.tsv.gz"
      ]
    },
    {
      "cell_type": "markdown",
      "id": "e62f7dca",
      "metadata": {
        "id": "e62f7dca"
      },
      "source": [
        "## Graph cache"
      ]
    },
    {
      "cell_type": "markdown",
      "id": "ed49d72e",
      "metadata": {
        "id": "ed49d72e"
      },
      "source": [
        "- when input files are queries they are first imported into SQLite database tables\n",
        "- this is very fast but can be noticable for larger data\n",
        "- import of WD claims file with 1B edges (~16 GB compressed) takes 20 minutes on laptop\n",
        "- resulting database is cached into a *graph cache* to amortize this over multiple queries\n",
        "- indexes built to speed up queries or text search are also cached\n",
        "- if data change is detected, data will be re-imported and re-indexed automatically"
      ]
    },
    {
      "cell_type": "markdown",
      "id": "cf1e0351",
      "metadata": {
        "id": "cf1e0351"
      },
      "source": [
        "- location of the cache file can be controlled with `--graph-cache FILE` or the `KGTK_GRAPH_CACHE`\n",
        "  environment variable\n",
        "- otherwise a default location in `/tmp` will be used"
      ]
    },
    {
      "cell_type": "markdown",
      "id": "5168ef96",
      "metadata": {
        "id": "5168ef96"
      },
      "source": [
        "- cache is a *true cache*, that is it is safe to delete it and it will be rebuilt automatically\n",
        "  (as long as the relevant data files are still available)\n",
        "- however, we increasingly find cases where the cache is explicitly managed, for example,\n",
        "  to support the browser or to ship large data to somebody else\n",
        "- cache files can become very large and should be on an SSD drive for best performance"
      ]
    },
    {
      "cell_type": "markdown",
      "id": "b5e9f195",
      "metadata": {
        "id": "b5e9f195"
      },
      "source": [
        "**Example**\n",
        "- display the current content of the cache with `--show-cache`"
      ]
    },
    {
      "cell_type": "code",
      "execution_count": 54,
      "id": "ee45124d",
      "metadata": {
        "lines_to_next_cell": 2,
        "id": "ee45124d",
        "outputId": "b8f72071-412f-4b45-c809-a1fc92ba3fa2",
        "colab": {
          "base_uri": "https://localhost:8080/"
        }
      },
      "outputs": [
        {
          "output_type": "stream",
          "name": "stdout",
          "text": [
            "Graph Cache:\n",
            "DB file: /tmp/projects/tutorial-kypher/temp.tutorial-kypher/wikidata.sqlite3.db\n",
            "  size:  72.00 KB   \tfree:  0 Bytes   \tmodified:  2022-10-17 16:31:57\n",
            "\n",
            "KGTK File Information:\n",
            "/root/isi-kgtk-tutorial/tutorial-kypher_input/small-graph.tsv:\n",
            "  size:  382 Bytes   \tmodified:  2022-10-17 16:30:56   \tgraph:  graph_1\n",
            "works:\n",
            "  size:  590 Bytes   \tmodified:  2022-10-17 16:30:56   \tgraph:  graph_2\n",
            "  comment:  Film information\n",
            "\n",
            "Graph Table Information:\n",
            "graph_1:\n",
            "  size:  40.00 KB   \tcreated:  2022-10-17 16:31:51\n",
            "  header:  ['id', 'node1', 'label', 'node2']\n",
            "graph_2:\n",
            "  size:  12.00 KB   \tcreated:  2022-10-17 16:31:57\n",
            "  header:  ['id', 'node1', 'label', 'node2']\n"
          ]
        }
      ],
      "source": [
        "!kgtk query --show-cache"
      ]
    },
    {
      "cell_type": "markdown",
      "id": "18ec64d4",
      "metadata": {
        "id": "18ec64d4"
      },
      "source": [
        "## Defining and using custom functions"
      ]
    },
    {
      "cell_type": "markdown",
      "id": "b87f16f5",
      "metadata": {
        "id": "b87f16f5"
      },
      "source": [
        "- when provided built-in functions are not enough, custom functions can be executed via Python"
      ]
    },
    {
      "cell_type": "markdown",
      "id": "ca613f46",
      "metadata": {
        "id": "ca613f46"
      },
      "source": [
        "**Example**\n",
        "- perform some random modifications on the `GRAPH` data\n",
        "- note that values returned by `pyeval` and `pycall` must be simple literals"
      ]
    },
    {
      "cell_type": "code",
      "execution_count": 55,
      "id": "d6032d24",
      "metadata": {
        "lines_to_next_cell": 2,
        "id": "d6032d24",
        "outputId": "ce5c3e3b-e9a1-445e-aca6-f68a9c18c12c",
        "colab": {
          "base_uri": "https://localhost:8080/"
        }
      },
      "outputs": [
        {
          "output_type": "stream",
          "name": "stdout",
          "text": [
            "name\tswapname\tisodd\tuuid\n",
            "'Arnold Schwarzenegger'@de\t'aRNOLD sCHWARZENEGGER'@DE\t0.0\ta56f27e3-1fba-4ee8-939b-caf8d236d598\n",
            "'Linda Hamilton'@en\t'lINDA hAMILTON'@EN\t1.0\tfc16d187-71be-405e-b524-6efbb302147a\n",
            "'Gary R. Rydstrom'@en\t'gARY r. rYDSTROM'@EN\t1.0\tccd4bd72-1f6e-485f-99ef-d10793f410da\n",
            "'Gloria S. Borders'@en\t'gLORIA s. bORDERS'@EN\t0.0\t9f48c779-c0b2-4e6b-9773-f60a9aa88600\n",
            "'Maria Shriver'@en\t'mARIA sHRIVER'@EN\t0.0\t8e392745-1a3b-4009-b10e-cbdc8b089fed\n"
          ]
        }
      ],
      "source": [
        "!kgtk query -i $small_graph --import 'uuid, math as m' \\\n",
        "     --match '(x)-[r:name]->(y)' \\\n",
        "     --where 'kgtk_lqstring(y)' \\\n",
        "     --return 'y as name, \\\n",
        "               pyeval(printf($FMT, y)) as swapname, \\\n",
        "               pycall(\"m.fmod\", length(y), 2) as isodd, \\\n",
        "               pycall(\"uuid.uuid4\") as uuid' \\\n",
        "     --para FMT='\"%s\".swapcase()'"
      ]
    },
    {
      "cell_type": "markdown",
      "id": "2d53abb0",
      "metadata": {
        "id": "2d53abb0"
      },
      "source": [
        "## Debugging"
      ]
    },
    {
      "cell_type": "markdown",
      "id": "7e2fee34",
      "metadata": {
        "id": "7e2fee34"
      },
      "source": [
        "**Example**\n",
        "- `query` accepts the `--debug` and `--expert` options to show additional output\n",
        "- this shows query translation, data import and indexing, etc.\n",
        "- here we can see how built-in functions are called directly in SQL:"
      ]
    },
    {
      "cell_type": "code",
      "execution_count": 56,
      "id": "9c61736f",
      "metadata": {
        "lines_to_next_cell": 2,
        "id": "9c61736f",
        "outputId": "bd9ba028-4927-4d21-e44f-b49aabe4bdc1",
        "colab": {
          "base_uri": "https://localhost:8080/"
        }
      },
      "outputs": [
        {
          "output_type": "stream",
          "name": "stdout",
          "text": [
            "[2022-10-17 16:32:01 sqlstore]: IMPORT graph via csv.reader into table graph_1 from /root/isi-kgtk-tutorial/tutorial-kypher_input/small-graph.tsv ...\n",
            "[2022-10-17 16:32:01 query]: SQL Translation:\n",
            "---------------------------------------------\n",
            "  SELECT *\n",
            "     FROM graph_1 AS graph_1_c1\n",
            "     WHERE graph_1_c1.\"label\" = ?\n",
            "        AND (kgtk_lqstring_lang(graph_1_c1.\"node2\") = ?)\n",
            "  PARAS: ['name', 'de']\n",
            "---------------------------------------------\n",
            "[2022-10-17 16:32:01 sqlstore]: CREATE INDEX \"graph_1_label_idx\" ON \"graph_1\" (\"label\")\n",
            "[2022-10-17 16:32:01 sqlstore]: ANALYZE \"graph_1_label_idx\"\n",
            "id\tnode1\tlabel\tnode2\n",
            "e5\ta_schwarzenegger\tname\t'Arnold Schwarzenegger'@de\n"
          ]
        }
      ],
      "source": [
        "!rm -f $KGTK_GRAPH_CACHE\n",
        "\n",
        "!kgtk --debug query -i $small_graph \\\n",
        "     --match '(p)-[r:name]->(n)' \\\n",
        "     --where 'n.kgtk_lqstring_lang = \"de\"'"
      ]
    },
    {
      "cell_type": "markdown",
      "id": "c0f3bd4a",
      "metadata": {
        "id": "c0f3bd4a"
      },
      "source": [
        "- run it again to show how imported data and indexes are reused"
      ]
    },
    {
      "cell_type": "code",
      "execution_count": 57,
      "id": "a0272483",
      "metadata": {
        "lines_to_next_cell": 2,
        "id": "a0272483",
        "outputId": "4ab24318-6f4e-4072-c128-8830212c7976",
        "colab": {
          "base_uri": "https://localhost:8080/"
        }
      },
      "outputs": [
        {
          "output_type": "stream",
          "name": "stdout",
          "text": [
            "[2022-10-17 16:32:03 query]: SQL Translation:\n",
            "---------------------------------------------\n",
            "  SELECT *\n",
            "     FROM graph_1 AS graph_1_c1\n",
            "     WHERE graph_1_c1.\"label\" = ?\n",
            "        AND (kgtk_lqstring_lang(graph_1_c1.\"node2\") = ?)\n",
            "  PARAS: ['name', 'de']\n",
            "---------------------------------------------\n",
            "id\tnode1\tlabel\tnode2\n",
            "e5\ta_schwarzenegger\tname\t'Arnold Schwarzenegger'@de\n"
          ]
        }
      ],
      "source": [
        "!kgtk --debug query -i $small_graph \\\n",
        "     --match '(p)-[r:name]->(n)' \\\n",
        "     --where 'n.kgtk_lqstring_lang = \"de\"'"
      ]
    },
    {
      "cell_type": "markdown",
      "id": "f57eb238",
      "metadata": {
        "id": "f57eb238"
      },
      "source": [
        "## Querying based on edge qualifiers"
      ]
    },
    {
      "cell_type": "markdown",
      "id": "cc83ef1c",
      "metadata": {
        "id": "cc83ef1c"
      },
      "source": [
        "- one of the motivations for developing Kypher was the \"Wikidata time machine use case\"\n",
        "- find all statements with temporal annotations after a certain time and remove them\n",
        "  to only retain facts known before that time\n",
        "- in Wikidata temporal annotations are attached via edge qualifiers\n",
        "- in KGTK those are represented via edges linked to another edge's ID"
      ]
    },
    {
      "cell_type": "markdown",
      "id": "19f71825",
      "metadata": {
        "id": "19f71825"
      },
      "source": [
        "**Example**\n",
        "1. look for base edges in the `GRAPH` graph\n",
        "2. link to qualifiers in the `QUALS` graph via edge id `r`\n",
        "3. restrict the qualifiers based on edge labels\n",
        "   `ql` that are listed in the `PROPS` graph\n",
        "4. restrict to edges that have a time with year of at most 2000\n",
        "5. output the qualifying base edges with their temporal annotations"
      ]
    },
    {
      "cell_type": "code",
      "execution_count": 58,
      "id": "4c70b1bd",
      "metadata": {
        "id": "4c70b1bd",
        "outputId": "79dfe55f-235f-4ed1-9672-7c6fb5f969ea",
        "colab": {
          "base_uri": "https://localhost:8080/"
        }
      },
      "outputs": [
        {
          "output_type": "stream",
          "name": "stdout",
          "text": [
            "id\tnode1\tlabel\tnode2\n",
            "q1\tt5\trole\tterminator\n",
            "q2\tt6\trole\ts_connor\n",
            "q3\tt9\tpoint_in_time\t^1992-03-30T00:00:00Z/11\n",
            "q4 \tt9\twinner\tg_rydstrom\n",
            "q5 \tt9\twinner\tg_borders\n",
            "q6 \tt10\tlocation\tunited_states\n",
            "q8 \tt11\tlocation\trussia\n",
            "q9\te1\tstart\t^1986-04-26T08:00:00Z/11\n",
            "q10\te1\tend\t^2011-07-01T10:00:00Z/11\n"
          ]
        }
      ],
      "source": [
        "!kgtk query -i $small_quals"
      ]
    },
    {
      "cell_type": "code",
      "execution_count": 59,
      "id": "af9b03bc",
      "metadata": {
        "id": "af9b03bc",
        "outputId": "39ebd408-8d19-4eaf-8264-c795b82f87a0",
        "colab": {
          "base_uri": "https://localhost:8080/"
        }
      },
      "outputs": [
        {
          "output_type": "stream",
          "name": "stdout",
          "text": [
            "id\tnode1\tlabel\tnode2\n",
            "p11\tstart\tmember\tset1\n",
            "p12\tend\tmember\tset1\n",
            "p12\tpoint_in_time\tmember\tset1\n"
          ]
        }
      ],
      "source": [
        "!kgtk query -i $small_props"
      ]
    },
    {
      "cell_type": "markdown",
      "id": "cd7867ea",
      "metadata": {
        "id": "cd7867ea"
      },
      "source": [
        "- the crucial part of the query below is how we use the `id` of the base edge `r` as the `node1` of the qualifier edge `q` whose label `ql` has to be one of the properties listed in `PROPS`\n",
        "- we also need to use Kypher property syntax to introduce the match variable `ql`"
      ]
    },
    {
      "cell_type": "code",
      "execution_count": 60,
      "id": "a96b0621",
      "metadata": {
        "lines_to_next_cell": 2,
        "id": "a96b0621",
        "outputId": "1c9f1d5b-d815-4e14-a056-8525d47ec09f",
        "colab": {
          "base_uri": "https://localhost:8080/"
        }
      },
      "outputs": [
        {
          "output_type": "stream",
          "name": "stdout",
          "text": [
            "id\tnode1\tlabel\tnode2\ttrel\ttime\n",
            "e1\tm_shriver\tspouse\ta_schwarzenegger\tstart\t^1986-04-26T08:00:00Z/11\n"
          ]
        }
      ],
      "source": [
        "!kgtk query -i $small_graph -i $small_quals -i $small_props  \\\n",
        "     --match \"graph: (x)-[r]->(y),  \\\n",
        "              quals: (r)-[q {label: ql}]->(time), \\\n",
        "              props: (ql)-[]->()\" \\\n",
        "     --where \"time.kgtk_date_year <= 2000\" \\\n",
        "     --return \"r as id, x, r.label, y, ql as trel, time as time\""
      ]
    },
    {
      "cell_type": "markdown",
      "id": "16b1ac79",
      "metadata": {
        "id": "16b1ac79"
      },
      "source": [
        "## Further reading"
      ]
    },
    {
      "cell_type": "markdown",
      "id": "b87e6aa7",
      "metadata": {
        "id": "b87e6aa7"
      },
      "source": [
        "- [Kypher manual](https://github.com/usc-isi-i2/kgtk/blob/dev/docs/transform/query.md)\n",
        "  - [Kypher vs. Cypher and unfinished features](https://github.com/usc-isi-i2/kgtk/blob/dev/docs/transform/query.md#differences-to-cypher)\n",
        "  - [Kypher API](https://github.com/usc-isi-i2/kgtk/blob/dev/kgtk/kypher/api.py)\n",
        "- [KGTK manual](https://kgtk.readthedocs.io/en/dev/)\n",
        "- [KGTK data model](https://kgtk.readthedocs.io/en/dev/data_model/)\n",
        "- [KGTK GitHub site](https://github.com/usc-isi-i2/kgtk)\n",
        "- [KGTK Tutorial use cases](https://github.com/usc-isi-i2/kgtk-notebooks/tree/main/tutorial)\n",
        "- [KGTK use cases](https://github.com/usc-isi-i2/kgtk/tree/dev/use-cases)\n",
        "- [openCypher](https://www.opencypher.org/)\n",
        "- [Cypher](https://neo4j.com/developer/cypher/)"
      ]
    }
  ],
  "metadata": {
    "jupytext": {
      "formats": "ipynb,py:light"
    },
    "kernelspec": {
      "display_name": "kgtk-env",
      "language": "python",
      "name": "kgtk-env"
    },
    "language_info": {
      "codemirror_mode": {
        "name": "ipython",
        "version": 3
      },
      "file_extension": ".py",
      "mimetype": "text/x-python",
      "name": "python",
      "nbconvert_exporter": "python",
      "pygments_lexer": "ipython3",
      "version": "3.9.7"
    },
    "colab": {
      "provenance": [],
      "collapsed_sections": []
    }
  },
  "nbformat": 4,
  "nbformat_minor": 5
}