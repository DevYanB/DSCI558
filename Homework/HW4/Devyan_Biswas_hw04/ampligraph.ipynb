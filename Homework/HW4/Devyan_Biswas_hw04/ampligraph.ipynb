{
 "cells": [
  {
   "cell_type": "markdown",
   "metadata": {},
   "source": [
    "# AMPLIGRAPH TUTORIAL"
   ]
  },
  {
   "cell_type": "markdown",
   "metadata": {},
   "source": [
    "## Section 2.1"
   ]
  },
  {
   "cell_type": "code",
   "execution_count": 1,
   "metadata": {},
   "outputs": [],
   "source": [
    "import numpy as np\n",
    "import pandas as pd\n",
    "import ampligraph\n",
    "import requests\n",
    "from ampligraph.datasets import load_from_csv"
   ]
  },
  {
   "cell_type": "code",
   "execution_count": 2,
   "metadata": {},
   "outputs": [
    {
     "data": {
      "text/plain": [
       "'1.4.0'"
      ]
     },
     "execution_count": 2,
     "metadata": {},
     "output_type": "execute_result"
    }
   ],
   "source": [
    "ampligraph.__version__"
   ]
  },
  {
   "cell_type": "code",
   "execution_count": 3,
   "metadata": {},
   "outputs": [
    {
     "data": {
      "text/plain": [
       "array([['Smithyton', 'SEAT_OF', 'House Shermer of Smithyton'],\n",
       "       ['House Mormont of Bear Island', 'LED_BY', 'Maege Mormont'],\n",
       "       ['Margaery Tyrell', 'SPOUSE', 'Joffrey Baratheon'],\n",
       "       ['Maron Nymeros Martell', 'ALLIED_WITH',\n",
       "        'House Nymeros Martell of Sunspear'],\n",
       "       ['House Gargalen of Salt Shore', 'IN_REGION', 'Dorne']],\n",
       "      dtype=object)"
      ]
     },
     "execution_count": 3,
     "metadata": {},
     "output_type": "execute_result"
    }
   ],
   "source": [
    "url = 'https://ampligraph.s3-eu-west-1.amazonaws.com/datasets/GoT.csv'\n",
    "open('GoT.csv', 'wb').write(requests.get(url).content)\n",
    "X = load_from_csv('.', 'GoT.csv', sep=',')\n",
    "X[:5, ]"
   ]
  },
  {
   "cell_type": "code",
   "execution_count": 4,
   "metadata": {},
   "outputs": [
    {
     "data": {
      "text/plain": [
       "array(['Abelar Hightower', 'Acorn Hall', 'Addam Frey', ..., 'the Antlers',\n",
       "       'the Paps', 'unnamed tower'], dtype=object)"
      ]
     },
     "execution_count": 4,
     "metadata": {},
     "output_type": "execute_result"
    }
   ],
   "source": [
    "entities = np.unique(np.concatenate([X[:, 0], X[:, 2]]))\n",
    "entities"
   ]
  },
  {
   "cell_type": "code",
   "execution_count": 5,
   "metadata": {},
   "outputs": [
    {
     "data": {
      "text/plain": [
       "array(['ALLIED_WITH', 'BRANCH_OF', 'FOUNDED_BY', 'HEIR_TO', 'IN_REGION',\n",
       "       'LED_BY', 'PARENT_OF', 'SEAT_OF', 'SPOUSE', 'SWORN_TO'],\n",
       "      dtype=object)"
      ]
     },
     "execution_count": 5,
     "metadata": {},
     "output_type": "execute_result"
    }
   ],
   "source": [
    "relations = np.unique(X[:, 1])\n",
    "relations"
   ]
  },
  {
   "cell_type": "code",
   "execution_count": 6,
   "metadata": {},
   "outputs": [],
   "source": [
    "X_train, X_test = X[:3000], X[3000:]"
   ]
  },
  {
   "cell_type": "code",
   "execution_count": 7,
   "metadata": {},
   "outputs": [
    {
     "name": "stdout",
     "output_type": "stream",
     "text": [
      "Train set size:  (3000, 3)\n",
      "Test set size:  (175, 3)\n"
     ]
    }
   ],
   "source": [
    "print('Train set size: ', X_train.shape)\n",
    "print('Test set size: ', X_test.shape)"
   ]
  },
  {
   "cell_type": "code",
   "execution_count": 8,
   "metadata": {},
   "outputs": [],
   "source": [
    "from ampligraph.latent_features import ComplEx, TransE, DistMult"
   ]
  },
  {
   "cell_type": "code",
   "execution_count": 9,
   "metadata": {},
   "outputs": [],
   "source": [
    "model_cex = ComplEx(batches_count=100, \n",
    "                seed=0, \n",
    "                epochs=200, \n",
    "                k=150, \n",
    "                eta=5,\n",
    "                optimizer='adam', \n",
    "                optimizer_params={'lr':1e-3},\n",
    "                loss='multiclass_nll', \n",
    "                regularizer='LP', \n",
    "                regularizer_params={'p':3, 'lambda':1e-5}, \n",
    "                verbose=True)"
   ]
  },
  {
   "cell_type": "code",
   "execution_count": 10,
   "metadata": {},
   "outputs": [],
   "source": [
    "model_te = TransE(batches_count=100, \n",
    "                seed=0, \n",
    "                epochs=200, \n",
    "                k=150, \n",
    "                eta=5,\n",
    "                optimizer='adam', \n",
    "                optimizer_params={'lr':1e-3},\n",
    "                loss='multiclass_nll', \n",
    "                regularizer='LP', \n",
    "                regularizer_params={'p':3, 'lambda':1e-5}, \n",
    "                verbose=True)"
   ]
  },
  {
   "cell_type": "code",
   "execution_count": 11,
   "metadata": {},
   "outputs": [],
   "source": [
    "model_dm = DistMult(batches_count=100, \n",
    "                seed=0, \n",
    "                epochs=200, \n",
    "                k=150, \n",
    "                eta=5,\n",
    "                optimizer='adam', \n",
    "                optimizer_params={'lr':1e-3},\n",
    "                loss='multiclass_nll', \n",
    "                regularizer='LP', \n",
    "                regularizer_params={'p':3, 'lambda':1e-5}, \n",
    "                verbose=True)"
   ]
  },
  {
   "cell_type": "code",
   "execution_count": 12,
   "metadata": {},
   "outputs": [],
   "source": [
    "positives_filter = X"
   ]
  },
  {
   "cell_type": "code",
   "execution_count": 13,
   "metadata": {},
   "outputs": [
    {
     "name": "stderr",
     "output_type": "stream",
     "text": [
      "2022-10-17 10:36:40.364861: I tensorflow/core/platform/cpu_feature_guard.cc:142] Your CPU supports instructions that this TensorFlow binary was not compiled to use: AVX2 FMA\n",
      "2022-10-17 10:36:40.380194: I tensorflow/compiler/xla/service/service.cc:168] XLA service 0x7f94f3591d40 initialized for platform Host (this does not guarantee that XLA will be used). Devices:\n",
      "2022-10-17 10:36:40.380212: I tensorflow/compiler/xla/service/service.cc:176]   StreamExecutor device (0): Host, Default Version\n",
      "Average ComplEx Loss:   0.032386: 100%|██████████| 200/200 [02:42<00:00,  1.23epoch/s]\n",
      "Average TransE Loss:   0.046736: 100%|██████████| 200/200 [00:57<00:00,  3.50epoch/s]\n",
      "Average DistMult Loss:   0.031232: 100%|██████████| 200/200 [00:53<00:00,  3.75epoch/s]\n"
     ]
    }
   ],
   "source": [
    "import tensorflow as tf\n",
    "tf.logging.set_verbosity(tf.logging.ERROR)\n",
    "\n",
    "model_cex.fit(X_train, early_stopping = False)\n",
    "model_te.fit(X_train, early_stopping = False)\n",
    "model_dm.fit(X_train, early_stopping = False)"
   ]
  },
  {
   "cell_type": "code",
   "execution_count": 14,
   "metadata": {},
   "outputs": [],
   "source": [
    "from ampligraph.latent_features import save_model, restore_model"
   ]
  },
  {
   "cell_type": "code",
   "execution_count": 15,
   "metadata": {},
   "outputs": [],
   "source": [
    "save_model(model_cex, './best_model_cex.pkl')\n",
    "save_model(model_te, './best_model_te.pkl')\n",
    "save_model(model_dm, './best_model_dm.pkl')"
   ]
  },
  {
   "cell_type": "code",
   "execution_count": 16,
   "metadata": {},
   "outputs": [],
   "source": [
    "from ampligraph.evaluation import evaluate_performance"
   ]
  },
  {
   "cell_type": "code",
   "execution_count": 17,
   "metadata": {},
   "outputs": [
    {
     "name": "stdout",
     "output_type": "stream",
     "text": [
      "WARNING - DeprecationWarning: use_default_protocol will be removed in future. Please use corrupt_side argument instead.\n"
     ]
    },
    {
     "name": "stderr",
     "output_type": "stream",
     "text": [
      "100%|██████████| 119/119 [00:01<00:00, 73.97it/s]\n"
     ]
    },
    {
     "name": "stdout",
     "output_type": "stream",
     "text": [
      "WARNING - DeprecationWarning: use_default_protocol will be removed in future. Please use corrupt_side argument instead.\n"
     ]
    },
    {
     "name": "stderr",
     "output_type": "stream",
     "text": [
      "100%|██████████| 119/119 [00:00<00:00, 306.43it/s]\n"
     ]
    },
    {
     "name": "stdout",
     "output_type": "stream",
     "text": [
      "WARNING - DeprecationWarning: use_default_protocol will be removed in future. Please use corrupt_side argument instead.\n"
     ]
    },
    {
     "name": "stderr",
     "output_type": "stream",
     "text": [
      "100%|██████████| 119/119 [00:00<00:00, 309.82it/s]\n"
     ]
    }
   ],
   "source": [
    "ranks_cex = evaluate_performance(X_test, \n",
    "                             model=model_cex, \n",
    "                             filter_triples=positives_filter,   # Corruption strategy filter defined above \n",
    "                             use_default_protocol=True, # corrupt subj and obj separately while evaluating\n",
    "                             verbose=True)\n",
    "\n",
    "ranks_te = evaluate_performance(X_test, \n",
    "                             model=model_te, \n",
    "                             filter_triples=positives_filter,   # Corruption strategy filter defined above \n",
    "                             use_default_protocol=True, # corrupt subj and obj separately while evaluating\n",
    "                             verbose=True)\n",
    "\n",
    "ranks_dm = evaluate_performance(X_test, \n",
    "                             model=model_dm, \n",
    "                             filter_triples=positives_filter,   # Corruption strategy filter defined above \n",
    "                             use_default_protocol=True, # corrupt subj and obj separately while evaluating\n",
    "                             verbose=True)"
   ]
  },
  {
   "cell_type": "code",
   "execution_count": 18,
   "metadata": {},
   "outputs": [],
   "source": [
    "from ampligraph.evaluation import mr_score, mrr_score, hits_at_n_score"
   ]
  },
  {
   "cell_type": "code",
   "execution_count": 19,
   "metadata": {},
   "outputs": [
    {
     "name": "stdout",
     "output_type": "stream",
     "text": [
      "MRR for CompleX: 0.49\n",
      "MRR for TransE: 0.36\n",
      "MRR for DistMult: 0.47\n",
      "\n",
      "Hits@10 for CompleX: 0.62\n",
      "Hits@10 for TransE: 0.55\n",
      "Hits@10 for DistMult: 0.60\n",
      "\n",
      "Hits@3 for CompleX: 0.52\n",
      "Hits@3 for TransE: 0.43\n",
      "Hits@3 for DistMult: 0.51\n",
      "\n",
      "Hits@1 for CompleX: 0.43\n",
      "Hits@1 for TransE: 0.22\n",
      "Hits@1 for DistMult: 0.40\n",
      "\n"
     ]
    }
   ],
   "source": [
    "mrr_cex = mrr_score(ranks_cex)\n",
    "mrr_te = mrr_score(ranks_te)\n",
    "mrr_dm = mrr_score(ranks_dm)\n",
    "print(\"MRR for CompleX: %.2f\" % (mrr_cex))\n",
    "print(\"MRR for TransE: %.2f\" % (mrr_te))\n",
    "print(\"MRR for DistMult: %.2f\" % (mrr_dm))\n",
    "print(\"\")\n",
    "\n",
    "\n",
    "hits_10_cex = hits_at_n_score(ranks_cex, n=10)\n",
    "hits_10_te = hits_at_n_score(ranks_te, n=10)\n",
    "hits_10_dm = hits_at_n_score(ranks_dm, n=10)\n",
    "print(\"Hits@10 for CompleX: %.2f\" % (hits_10_cex))\n",
    "print(\"Hits@10 for TransE: %.2f\" % (hits_10_te))\n",
    "print(\"Hits@10 for DistMult: %.2f\" % (hits_10_dm))\n",
    "print(\"\")\n",
    "\n",
    "hits_3_cex = hits_at_n_score(ranks_cex, n=3)\n",
    "hits_3_te = hits_at_n_score(ranks_te, n=3)\n",
    "hits_3_dm = hits_at_n_score(ranks_dm, n=3)\n",
    "print(\"Hits@3 for CompleX: %.2f\" % (hits_3_cex))\n",
    "print(\"Hits@3 for TransE: %.2f\" % (hits_3_te))\n",
    "print(\"Hits@3 for DistMult: %.2f\" % (hits_3_dm))\n",
    "print(\"\")\n",
    "\n",
    "\n",
    "hits_1_cex = hits_at_n_score(ranks_cex, n=1)\n",
    "hits_1_te = hits_at_n_score(ranks_te, n=1)\n",
    "hits_1_dm = hits_at_n_score(ranks_dm, n=1)\n",
    "print(\"Hits@1 for CompleX: %.2f\" % (hits_1_cex))\n",
    "print(\"Hits@1 for TransE: %.2f\" % (hits_1_te))\n",
    "print(\"Hits@1 for DistMult: %.2f\" % (hits_1_dm))\n",
    "print(\"\")"
   ]
  },
  {
   "cell_type": "code",
   "execution_count": 20,
   "metadata": {},
   "outputs": [],
   "source": [
    "X_unseen = np.array([\n",
    "    ['Jorah Mormont', 'SPOUSE', 'Daenerys Targaryen'],\n",
    "    ['Tyrion Lannister', 'SPOUSE', 'Missandei'],\n",
    "    [\"King's Landing\", 'SEAT_OF', 'House Lannister of Casterly Rock'],\n",
    "    ['Sansa Stark', 'SPOUSE', 'Petyr Baelish'],\n",
    "    ['Daenerys Targaryen', 'SPOUSE', 'Jon Snow'],\n",
    "    ['Daenerys Targaryen', 'SPOUSE', 'Craster'],\n",
    "    ['House Stark of Winterfell', 'IN_REGION', 'The North'],\n",
    "    ['House Stark of Winterfell', 'IN_REGION', 'Dorne'],\n",
    "    ['House Tyrell of Highgarden', 'IN_REGION', 'Beyond the Wall'],\n",
    "    ['Brandon Stark', 'ALLIED_WITH', 'House Stark of Winterfell'],\n",
    "    ['Brandon Stark', 'ALLIED_WITH', 'House Lannister of Casterly Rock'],    \n",
    "    ['Rhaegar Targaryen', 'PARENT_OF', 'Jon Snow'],\n",
    "    ['House Hutcheson', 'SWORN_TO', 'House Tyrell of Highgarden'],\n",
    "    ['Daenerys Targaryen', 'ALLIED_WITH', 'House Stark of Winterfell'],\n",
    "    ['Daenerys Targaryen', 'ALLIED_WITH', 'House Lannister of Casterly Rock'],\n",
    "    ['Jaime Lannister', 'PARENT_OF', 'Myrcella Baratheon'],\n",
    "    ['Robert I Baratheon', 'PARENT_OF', 'Myrcella Baratheon'],\n",
    "    ['Cersei Lannister', 'PARENT_OF', 'Myrcella Baratheon'],\n",
    "    ['Cersei Lannister', 'PARENT_OF', 'Brandon Stark'],\n",
    "    [\"Tywin Lannister\", 'PARENT_OF', 'Jaime Lannister'],\n",
    "    [\"Missandei\", 'SPOUSE', 'Grey Worm'],\n",
    "    [\"Brienne of Tarth\", 'SPOUSE', 'Jaime Lannister']\n",
    "])"
   ]
  },
  {
   "cell_type": "code",
   "execution_count": 21,
   "metadata": {},
   "outputs": [],
   "source": [
    "unseen_filter = np.array(list({tuple(i) for i in np.vstack((positives_filter, X_unseen))}))"
   ]
  },
  {
   "cell_type": "code",
   "execution_count": 22,
   "metadata": {},
   "outputs": [
    {
     "name": "stderr",
     "output_type": "stream",
     "text": [
      "100%|██████████| 22/22 [00:00<00:00, 78.01it/s]\n",
      "100%|██████████| 22/22 [00:00<00:00, 197.12it/s]\n",
      "100%|██████████| 22/22 [00:00<00:00, 195.50it/s]\n"
     ]
    }
   ],
   "source": [
    "ranks_unseen_cex = evaluate_performance(\n",
    "    X_unseen, \n",
    "    model=model_cex, \n",
    "    filter_triples=unseen_filter,   # Corruption strategy filter defined above \n",
    "    corrupt_side = 's+o',\n",
    "    use_default_protocol=False, # corrupt subj and obj separately while evaluating\n",
    "    verbose=True\n",
    ")\n",
    "\n",
    "ranks_unseen_te = evaluate_performance(\n",
    "    X_unseen, \n",
    "    model=model_te, \n",
    "    filter_triples=unseen_filter,   # Corruption strategy filter defined above \n",
    "    corrupt_side = 's+o',\n",
    "    use_default_protocol=False, # corrupt subj and obj separately while evaluating\n",
    "    verbose=True\n",
    ")\n",
    "\n",
    "ranks_unseen_dm = evaluate_performance(\n",
    "    X_unseen, \n",
    "    model=model_dm, \n",
    "    filter_triples=unseen_filter,   # Corruption strategy filter defined above \n",
    "    corrupt_side = 's+o',\n",
    "    use_default_protocol=False, # corrupt subj and obj separately while evaluating\n",
    "    verbose=True\n",
    ")"
   ]
  },
  {
   "cell_type": "code",
   "execution_count": 23,
   "metadata": {},
   "outputs": [
    {
     "data": {
      "text/plain": [
       "array([2410, 1993,  672,  471, 2469, 3298,    1, 1696, 3646,    1,  978,\n",
       "        865,    2, 1242,  738,  774,  263,   21,  420,   13,   85,  282],\n",
       "      dtype=int32)"
      ]
     },
     "execution_count": 23,
     "metadata": {},
     "output_type": "execute_result"
    }
   ],
   "source": [
    "ranks_unseen_cex"
   ]
  },
  {
   "cell_type": "code",
   "execution_count": 24,
   "metadata": {},
   "outputs": [],
   "source": [
    "scores_cex = model_cex.predict(X_unseen)\n",
    "scores_te = model_te.predict(X_unseen)\n",
    "scores_dm = model_dm.predict(X_unseen)"
   ]
  },
  {
   "cell_type": "code",
   "execution_count": 25,
   "metadata": {},
   "outputs": [],
   "source": [
    "from scipy.special import expit"
   ]
  },
  {
   "cell_type": "code",
   "execution_count": 26,
   "metadata": {},
   "outputs": [],
   "source": [
    "probs_cex = expit(scores_cex)\n",
    "probs_te = expit(scores_te)\n",
    "probs_dm = expit(scores_dm)"
   ]
  },
  {
   "cell_type": "code",
   "execution_count": 27,
   "metadata": {},
   "outputs": [
    {
     "data": {
      "text/html": [
       "<div>\n",
       "<style scoped>\n",
       "    .dataframe tbody tr th:only-of-type {\n",
       "        vertical-align: middle;\n",
       "    }\n",
       "\n",
       "    .dataframe tbody tr th {\n",
       "        vertical-align: top;\n",
       "    }\n",
       "\n",
       "    .dataframe thead th {\n",
       "        text-align: right;\n",
       "    }\n",
       "</style>\n",
       "<table border=\"1\" class=\"dataframe\">\n",
       "  <thead>\n",
       "    <tr style=\"text-align: right;\">\n",
       "      <th></th>\n",
       "      <th>statement</th>\n",
       "      <th>rank</th>\n",
       "      <th>score</th>\n",
       "      <th>prob</th>\n",
       "    </tr>\n",
       "  </thead>\n",
       "  <tbody>\n",
       "    <tr>\n",
       "      <th>8</th>\n",
       "      <td>House Tyrell of Highgarden IN_REGION Beyond th...</td>\n",
       "      <td>3646</td>\n",
       "      <td>-0.865583</td>\n",
       "      <td>0.296174</td>\n",
       "    </tr>\n",
       "    <tr>\n",
       "      <th>5</th>\n",
       "      <td>Daenerys Targaryen SPOUSE Craster</td>\n",
       "      <td>3298</td>\n",
       "      <td>-0.720684</td>\n",
       "      <td>0.327242</td>\n",
       "    </tr>\n",
       "    <tr>\n",
       "      <th>4</th>\n",
       "      <td>Daenerys Targaryen SPOUSE Jon Snow</td>\n",
       "      <td>2469</td>\n",
       "      <td>-0.243896</td>\n",
       "      <td>0.439326</td>\n",
       "    </tr>\n",
       "    <tr>\n",
       "      <th>13</th>\n",
       "      <td>Daenerys Targaryen ALLIED_WITH House Stark of ...</td>\n",
       "      <td>1242</td>\n",
       "      <td>-0.180674</td>\n",
       "      <td>0.454954</td>\n",
       "    </tr>\n",
       "    <tr>\n",
       "      <th>1</th>\n",
       "      <td>Tyrion Lannister SPOUSE Missandei</td>\n",
       "      <td>1993</td>\n",
       "      <td>-0.073245</td>\n",
       "      <td>0.481697</td>\n",
       "    </tr>\n",
       "    <tr>\n",
       "      <th>0</th>\n",
       "      <td>Jorah Mormont SPOUSE Daenerys Targaryen</td>\n",
       "      <td>2410</td>\n",
       "      <td>-0.010857</td>\n",
       "      <td>0.497286</td>\n",
       "    </tr>\n",
       "    <tr>\n",
       "      <th>7</th>\n",
       "      <td>House Stark of Winterfell IN_REGION Dorne</td>\n",
       "      <td>1696</td>\n",
       "      <td>0.001867</td>\n",
       "      <td>0.500467</td>\n",
       "    </tr>\n",
       "    <tr>\n",
       "      <th>10</th>\n",
       "      <td>Brandon Stark ALLIED_WITH House Lannister of C...</td>\n",
       "      <td>978</td>\n",
       "      <td>0.058437</td>\n",
       "      <td>0.514605</td>\n",
       "    </tr>\n",
       "    <tr>\n",
       "      <th>14</th>\n",
       "      <td>Daenerys Targaryen ALLIED_WITH House Lannister...</td>\n",
       "      <td>738</td>\n",
       "      <td>0.082403</td>\n",
       "      <td>0.520589</td>\n",
       "    </tr>\n",
       "    <tr>\n",
       "      <th>11</th>\n",
       "      <td>Rhaegar Targaryen PARENT_OF Jon Snow</td>\n",
       "      <td>865</td>\n",
       "      <td>0.282471</td>\n",
       "      <td>0.570152</td>\n",
       "    </tr>\n",
       "    <tr>\n",
       "      <th>15</th>\n",
       "      <td>Jaime Lannister PARENT_OF Myrcella Baratheon</td>\n",
       "      <td>774</td>\n",
       "      <td>0.352451</td>\n",
       "      <td>0.587212</td>\n",
       "    </tr>\n",
       "    <tr>\n",
       "      <th>2</th>\n",
       "      <td>King's Landing SEAT_OF House Lannister of Cast...</td>\n",
       "      <td>672</td>\n",
       "      <td>0.769483</td>\n",
       "      <td>0.683409</td>\n",
       "    </tr>\n",
       "    <tr>\n",
       "      <th>3</th>\n",
       "      <td>Sansa Stark SPOUSE Petyr Baelish</td>\n",
       "      <td>471</td>\n",
       "      <td>0.872143</td>\n",
       "      <td>0.705191</td>\n",
       "    </tr>\n",
       "    <tr>\n",
       "      <th>18</th>\n",
       "      <td>Cersei Lannister PARENT_OF Brandon Stark</td>\n",
       "      <td>420</td>\n",
       "      <td>0.929882</td>\n",
       "      <td>0.717051</td>\n",
       "    </tr>\n",
       "    <tr>\n",
       "      <th>21</th>\n",
       "      <td>Brienne of Tarth SPOUSE Jaime Lannister</td>\n",
       "      <td>282</td>\n",
       "      <td>1.096662</td>\n",
       "      <td>0.749634</td>\n",
       "    </tr>\n",
       "    <tr>\n",
       "      <th>16</th>\n",
       "      <td>Robert I Baratheon PARENT_OF Myrcella Baratheon</td>\n",
       "      <td>263</td>\n",
       "      <td>1.100983</td>\n",
       "      <td>0.750444</td>\n",
       "    </tr>\n",
       "    <tr>\n",
       "      <th>19</th>\n",
       "      <td>Tywin Lannister PARENT_OF Jaime Lannister</td>\n",
       "      <td>13</td>\n",
       "      <td>1.513997</td>\n",
       "      <td>0.819653</td>\n",
       "    </tr>\n",
       "    <tr>\n",
       "      <th>17</th>\n",
       "      <td>Cersei Lannister PARENT_OF Myrcella Baratheon</td>\n",
       "      <td>21</td>\n",
       "      <td>1.718589</td>\n",
       "      <td>0.847947</td>\n",
       "    </tr>\n",
       "    <tr>\n",
       "      <th>20</th>\n",
       "      <td>Missandei SPOUSE Grey Worm</td>\n",
       "      <td>85</td>\n",
       "      <td>2.293420</td>\n",
       "      <td>0.908331</td>\n",
       "    </tr>\n",
       "    <tr>\n",
       "      <th>6</th>\n",
       "      <td>House Stark of Winterfell IN_REGION The North</td>\n",
       "      <td>1</td>\n",
       "      <td>2.741057</td>\n",
       "      <td>0.939406</td>\n",
       "    </tr>\n",
       "    <tr>\n",
       "      <th>12</th>\n",
       "      <td>House Hutcheson SWORN_TO House Tyrell of Highg...</td>\n",
       "      <td>2</td>\n",
       "      <td>6.497103</td>\n",
       "      <td>0.998495</td>\n",
       "    </tr>\n",
       "    <tr>\n",
       "      <th>9</th>\n",
       "      <td>Brandon Stark ALLIED_WITH House Stark of Winte...</td>\n",
       "      <td>1</td>\n",
       "      <td>6.791900</td>\n",
       "      <td>0.998878</td>\n",
       "    </tr>\n",
       "  </tbody>\n",
       "</table>\n",
       "</div>"
      ],
      "text/plain": [
       "                                            statement  rank     score  \\\n",
       "8   House Tyrell of Highgarden IN_REGION Beyond th...  3646 -0.865583   \n",
       "5                   Daenerys Targaryen SPOUSE Craster  3298 -0.720684   \n",
       "4                  Daenerys Targaryen SPOUSE Jon Snow  2469 -0.243896   \n",
       "13  Daenerys Targaryen ALLIED_WITH House Stark of ...  1242 -0.180674   \n",
       "1                   Tyrion Lannister SPOUSE Missandei  1993 -0.073245   \n",
       "0             Jorah Mormont SPOUSE Daenerys Targaryen  2410 -0.010857   \n",
       "7           House Stark of Winterfell IN_REGION Dorne  1696  0.001867   \n",
       "10  Brandon Stark ALLIED_WITH House Lannister of C...   978  0.058437   \n",
       "14  Daenerys Targaryen ALLIED_WITH House Lannister...   738  0.082403   \n",
       "11               Rhaegar Targaryen PARENT_OF Jon Snow   865  0.282471   \n",
       "15       Jaime Lannister PARENT_OF Myrcella Baratheon   774  0.352451   \n",
       "2   King's Landing SEAT_OF House Lannister of Cast...   672  0.769483   \n",
       "3                    Sansa Stark SPOUSE Petyr Baelish   471  0.872143   \n",
       "18           Cersei Lannister PARENT_OF Brandon Stark   420  0.929882   \n",
       "21            Brienne of Tarth SPOUSE Jaime Lannister   282  1.096662   \n",
       "16    Robert I Baratheon PARENT_OF Myrcella Baratheon   263  1.100983   \n",
       "19          Tywin Lannister PARENT_OF Jaime Lannister    13  1.513997   \n",
       "17      Cersei Lannister PARENT_OF Myrcella Baratheon    21  1.718589   \n",
       "20                         Missandei SPOUSE Grey Worm    85  2.293420   \n",
       "6       House Stark of Winterfell IN_REGION The North     1  2.741057   \n",
       "12  House Hutcheson SWORN_TO House Tyrell of Highg...     2  6.497103   \n",
       "9   Brandon Stark ALLIED_WITH House Stark of Winte...     1  6.791900   \n",
       "\n",
       "        prob  \n",
       "8   0.296174  \n",
       "5   0.327242  \n",
       "4   0.439326  \n",
       "13  0.454954  \n",
       "1   0.481697  \n",
       "0   0.497286  \n",
       "7   0.500467  \n",
       "10  0.514605  \n",
       "14  0.520589  \n",
       "11  0.570152  \n",
       "15  0.587212  \n",
       "2   0.683409  \n",
       "3   0.705191  \n",
       "18  0.717051  \n",
       "21  0.749634  \n",
       "16  0.750444  \n",
       "19  0.819653  \n",
       "17  0.847947  \n",
       "20  0.908331  \n",
       "6   0.939406  \n",
       "12  0.998495  \n",
       "9   0.998878  "
      ]
     },
     "execution_count": 27,
     "metadata": {},
     "output_type": "execute_result"
    }
   ],
   "source": [
    "pd.DataFrame(list(zip([' '.join(x) for x in X_unseen], \n",
    "                      ranks_unseen_cex, \n",
    "                      np.squeeze(scores_cex),\n",
    "                      np.squeeze(probs_cex))), \n",
    "             columns=['statement', 'rank', 'score', 'prob']).sort_values(\"score\")"
   ]
  },
  {
   "cell_type": "code",
   "execution_count": 28,
   "metadata": {},
   "outputs": [
    {
     "data": {
      "text/html": [
       "<div>\n",
       "<style scoped>\n",
       "    .dataframe tbody tr th:only-of-type {\n",
       "        vertical-align: middle;\n",
       "    }\n",
       "\n",
       "    .dataframe tbody tr th {\n",
       "        vertical-align: top;\n",
       "    }\n",
       "\n",
       "    .dataframe thead th {\n",
       "        text-align: right;\n",
       "    }\n",
       "</style>\n",
       "<table border=\"1\" class=\"dataframe\">\n",
       "  <thead>\n",
       "    <tr style=\"text-align: right;\">\n",
       "      <th></th>\n",
       "      <th>statement</th>\n",
       "      <th>rank</th>\n",
       "      <th>score</th>\n",
       "      <th>prob</th>\n",
       "    </tr>\n",
       "  </thead>\n",
       "  <tbody>\n",
       "    <tr>\n",
       "      <th>8</th>\n",
       "      <td>House Tyrell of Highgarden IN_REGION Beyond th...</td>\n",
       "      <td>1986</td>\n",
       "      <td>-31.161249</td>\n",
       "      <td>0.799314</td>\n",
       "    </tr>\n",
       "    <tr>\n",
       "      <th>5</th>\n",
       "      <td>Daenerys Targaryen SPOUSE Craster</td>\n",
       "      <td>2419</td>\n",
       "      <td>-30.023510</td>\n",
       "      <td>0.627172</td>\n",
       "    </tr>\n",
       "    <tr>\n",
       "      <th>7</th>\n",
       "      <td>House Stark of Winterfell IN_REGION Dorne</td>\n",
       "      <td>386</td>\n",
       "      <td>-25.503752</td>\n",
       "      <td>0.439759</td>\n",
       "    </tr>\n",
       "    <tr>\n",
       "      <th>18</th>\n",
       "      <td>Cersei Lannister PARENT_OF Brandon Stark</td>\n",
       "      <td>1133</td>\n",
       "      <td>-25.293221</td>\n",
       "      <td>0.641591</td>\n",
       "    </tr>\n",
       "    <tr>\n",
       "      <th>2</th>\n",
       "      <td>King's Landing SEAT_OF House Lannister of Cast...</td>\n",
       "      <td>205</td>\n",
       "      <td>-25.096880</td>\n",
       "      <td>0.703194</td>\n",
       "    </tr>\n",
       "    <tr>\n",
       "      <th>15</th>\n",
       "      <td>Jaime Lannister PARENT_OF Myrcella Baratheon</td>\n",
       "      <td>995</td>\n",
       "      <td>-24.875906</td>\n",
       "      <td>0.601366</td>\n",
       "    </tr>\n",
       "    <tr>\n",
       "      <th>0</th>\n",
       "      <td>Jorah Mormont SPOUSE Daenerys Targaryen</td>\n",
       "      <td>1058</td>\n",
       "      <td>-23.700720</td>\n",
       "      <td>0.377389</td>\n",
       "    </tr>\n",
       "    <tr>\n",
       "      <th>16</th>\n",
       "      <td>Robert I Baratheon PARENT_OF Myrcella Baratheon</td>\n",
       "      <td>65</td>\n",
       "      <td>-23.576920</td>\n",
       "      <td>0.784650</td>\n",
       "    </tr>\n",
       "    <tr>\n",
       "      <th>4</th>\n",
       "      <td>Daenerys Targaryen SPOUSE Jon Snow</td>\n",
       "      <td>592</td>\n",
       "      <td>-23.258270</td>\n",
       "      <td>0.722639</td>\n",
       "    </tr>\n",
       "    <tr>\n",
       "      <th>6</th>\n",
       "      <td>House Stark of Winterfell IN_REGION The North</td>\n",
       "      <td>26</td>\n",
       "      <td>-22.809088</td>\n",
       "      <td>0.972980</td>\n",
       "    </tr>\n",
       "    <tr>\n",
       "      <th>11</th>\n",
       "      <td>Rhaegar Targaryen PARENT_OF Jon Snow</td>\n",
       "      <td>473</td>\n",
       "      <td>-22.772696</td>\n",
       "      <td>0.508229</td>\n",
       "    </tr>\n",
       "    <tr>\n",
       "      <th>10</th>\n",
       "      <td>Brandon Stark ALLIED_WITH House Lannister of C...</td>\n",
       "      <td>520</td>\n",
       "      <td>-22.419487</td>\n",
       "      <td>0.322740</td>\n",
       "    </tr>\n",
       "    <tr>\n",
       "      <th>17</th>\n",
       "      <td>Cersei Lannister PARENT_OF Myrcella Baratheon</td>\n",
       "      <td>197</td>\n",
       "      <td>-22.339176</td>\n",
       "      <td>0.567172</td>\n",
       "    </tr>\n",
       "    <tr>\n",
       "      <th>3</th>\n",
       "      <td>Sansa Stark SPOUSE Petyr Baelish</td>\n",
       "      <td>228</td>\n",
       "      <td>-22.200098</td>\n",
       "      <td>0.935458</td>\n",
       "    </tr>\n",
       "    <tr>\n",
       "      <th>21</th>\n",
       "      <td>Brienne of Tarth SPOUSE Jaime Lannister</td>\n",
       "      <td>404</td>\n",
       "      <td>-21.856346</td>\n",
       "      <td>0.473120</td>\n",
       "    </tr>\n",
       "    <tr>\n",
       "      <th>1</th>\n",
       "      <td>Tyrion Lannister SPOUSE Missandei</td>\n",
       "      <td>466</td>\n",
       "      <td>-21.467360</td>\n",
       "      <td>0.424665</td>\n",
       "    </tr>\n",
       "    <tr>\n",
       "      <th>14</th>\n",
       "      <td>Daenerys Targaryen ALLIED_WITH House Lannister...</td>\n",
       "      <td>58</td>\n",
       "      <td>-19.958330</td>\n",
       "      <td>0.181463</td>\n",
       "    </tr>\n",
       "    <tr>\n",
       "      <th>20</th>\n",
       "      <td>Missandei SPOUSE Grey Worm</td>\n",
       "      <td>75</td>\n",
       "      <td>-19.689651</td>\n",
       "      <td>0.708989</td>\n",
       "    </tr>\n",
       "    <tr>\n",
       "      <th>13</th>\n",
       "      <td>Daenerys Targaryen ALLIED_WITH House Stark of ...</td>\n",
       "      <td>44</td>\n",
       "      <td>-19.592260</td>\n",
       "      <td>0.852826</td>\n",
       "    </tr>\n",
       "    <tr>\n",
       "      <th>19</th>\n",
       "      <td>Tywin Lannister PARENT_OF Jaime Lannister</td>\n",
       "      <td>32</td>\n",
       "      <td>-18.350245</td>\n",
       "      <td>0.488510</td>\n",
       "    </tr>\n",
       "    <tr>\n",
       "      <th>9</th>\n",
       "      <td>Brandon Stark ALLIED_WITH House Stark of Winte...</td>\n",
       "      <td>1</td>\n",
       "      <td>-17.260471</td>\n",
       "      <td>0.999377</td>\n",
       "    </tr>\n",
       "    <tr>\n",
       "      <th>12</th>\n",
       "      <td>House Hutcheson SWORN_TO House Tyrell of Highg...</td>\n",
       "      <td>2</td>\n",
       "      <td>-15.894374</td>\n",
       "      <td>0.999242</td>\n",
       "    </tr>\n",
       "  </tbody>\n",
       "</table>\n",
       "</div>"
      ],
      "text/plain": [
       "                                            statement  rank      score  \\\n",
       "8   House Tyrell of Highgarden IN_REGION Beyond th...  1986 -31.161249   \n",
       "5                   Daenerys Targaryen SPOUSE Craster  2419 -30.023510   \n",
       "7           House Stark of Winterfell IN_REGION Dorne   386 -25.503752   \n",
       "18           Cersei Lannister PARENT_OF Brandon Stark  1133 -25.293221   \n",
       "2   King's Landing SEAT_OF House Lannister of Cast...   205 -25.096880   \n",
       "15       Jaime Lannister PARENT_OF Myrcella Baratheon   995 -24.875906   \n",
       "0             Jorah Mormont SPOUSE Daenerys Targaryen  1058 -23.700720   \n",
       "16    Robert I Baratheon PARENT_OF Myrcella Baratheon    65 -23.576920   \n",
       "4                  Daenerys Targaryen SPOUSE Jon Snow   592 -23.258270   \n",
       "6       House Stark of Winterfell IN_REGION The North    26 -22.809088   \n",
       "11               Rhaegar Targaryen PARENT_OF Jon Snow   473 -22.772696   \n",
       "10  Brandon Stark ALLIED_WITH House Lannister of C...   520 -22.419487   \n",
       "17      Cersei Lannister PARENT_OF Myrcella Baratheon   197 -22.339176   \n",
       "3                    Sansa Stark SPOUSE Petyr Baelish   228 -22.200098   \n",
       "21            Brienne of Tarth SPOUSE Jaime Lannister   404 -21.856346   \n",
       "1                   Tyrion Lannister SPOUSE Missandei   466 -21.467360   \n",
       "14  Daenerys Targaryen ALLIED_WITH House Lannister...    58 -19.958330   \n",
       "20                         Missandei SPOUSE Grey Worm    75 -19.689651   \n",
       "13  Daenerys Targaryen ALLIED_WITH House Stark of ...    44 -19.592260   \n",
       "19          Tywin Lannister PARENT_OF Jaime Lannister    32 -18.350245   \n",
       "9   Brandon Stark ALLIED_WITH House Stark of Winte...     1 -17.260471   \n",
       "12  House Hutcheson SWORN_TO House Tyrell of Highg...     2 -15.894374   \n",
       "\n",
       "        prob  \n",
       "8   0.799314  \n",
       "5   0.627172  \n",
       "7   0.439759  \n",
       "18  0.641591  \n",
       "2   0.703194  \n",
       "15  0.601366  \n",
       "0   0.377389  \n",
       "16  0.784650  \n",
       "4   0.722639  \n",
       "6   0.972980  \n",
       "11  0.508229  \n",
       "10  0.322740  \n",
       "17  0.567172  \n",
       "3   0.935458  \n",
       "21  0.473120  \n",
       "1   0.424665  \n",
       "14  0.181463  \n",
       "20  0.708989  \n",
       "13  0.852826  \n",
       "19  0.488510  \n",
       "9   0.999377  \n",
       "12  0.999242  "
      ]
     },
     "execution_count": 28,
     "metadata": {},
     "output_type": "execute_result"
    }
   ],
   "source": [
    "pd.DataFrame(list(zip([' '.join(x) for x in X_unseen], \n",
    "                      ranks_unseen_te, \n",
    "                      np.squeeze(scores_te),\n",
    "                      np.squeeze(probs_dm))), \n",
    "             columns=['statement', 'rank', 'score', 'prob']).sort_values(\"score\")"
   ]
  },
  {
   "cell_type": "code",
   "execution_count": 29,
   "metadata": {},
   "outputs": [
    {
     "data": {
      "text/html": [
       "<div>\n",
       "<style scoped>\n",
       "    .dataframe tbody tr th:only-of-type {\n",
       "        vertical-align: middle;\n",
       "    }\n",
       "\n",
       "    .dataframe tbody tr th {\n",
       "        vertical-align: top;\n",
       "    }\n",
       "\n",
       "    .dataframe thead th {\n",
       "        text-align: right;\n",
       "    }\n",
       "</style>\n",
       "<table border=\"1\" class=\"dataframe\">\n",
       "  <thead>\n",
       "    <tr style=\"text-align: right;\">\n",
       "      <th></th>\n",
       "      <th>statement</th>\n",
       "      <th>rank</th>\n",
       "      <th>score</th>\n",
       "      <th>prob</th>\n",
       "    </tr>\n",
       "  </thead>\n",
       "  <tbody>\n",
       "    <tr>\n",
       "      <th>14</th>\n",
       "      <td>Daenerys Targaryen ALLIED_WITH House Lannister...</td>\n",
       "      <td>3653</td>\n",
       "      <td>-1.506466</td>\n",
       "      <td>0.181463</td>\n",
       "    </tr>\n",
       "    <tr>\n",
       "      <th>10</th>\n",
       "      <td>Brandon Stark ALLIED_WITH House Lannister of C...</td>\n",
       "      <td>2978</td>\n",
       "      <td>-0.741210</td>\n",
       "      <td>0.322740</td>\n",
       "    </tr>\n",
       "    <tr>\n",
       "      <th>0</th>\n",
       "      <td>Jorah Mormont SPOUSE Daenerys Targaryen</td>\n",
       "      <td>2870</td>\n",
       "      <td>-0.500647</td>\n",
       "      <td>0.377389</td>\n",
       "    </tr>\n",
       "    <tr>\n",
       "      <th>1</th>\n",
       "      <td>Tyrion Lannister SPOUSE Missandei</td>\n",
       "      <td>2482</td>\n",
       "      <td>-0.303652</td>\n",
       "      <td>0.424665</td>\n",
       "    </tr>\n",
       "    <tr>\n",
       "      <th>7</th>\n",
       "      <td>House Stark of Winterfell IN_REGION Dorne</td>\n",
       "      <td>2160</td>\n",
       "      <td>-0.242142</td>\n",
       "      <td>0.439759</td>\n",
       "    </tr>\n",
       "    <tr>\n",
       "      <th>21</th>\n",
       "      <td>Brienne of Tarth SPOUSE Jaime Lannister</td>\n",
       "      <td>2047</td>\n",
       "      <td>-0.107624</td>\n",
       "      <td>0.473120</td>\n",
       "    </tr>\n",
       "    <tr>\n",
       "      <th>19</th>\n",
       "      <td>Tywin Lannister PARENT_OF Jaime Lannister</td>\n",
       "      <td>2361</td>\n",
       "      <td>-0.045968</td>\n",
       "      <td>0.488510</td>\n",
       "    </tr>\n",
       "    <tr>\n",
       "      <th>11</th>\n",
       "      <td>Rhaegar Targaryen PARENT_OF Jon Snow</td>\n",
       "      <td>1732</td>\n",
       "      <td>0.032920</td>\n",
       "      <td>0.508229</td>\n",
       "    </tr>\n",
       "    <tr>\n",
       "      <th>17</th>\n",
       "      <td>Cersei Lannister PARENT_OF Myrcella Baratheon</td>\n",
       "      <td>1289</td>\n",
       "      <td>0.270324</td>\n",
       "      <td>0.567172</td>\n",
       "    </tr>\n",
       "    <tr>\n",
       "      <th>15</th>\n",
       "      <td>Jaime Lannister PARENT_OF Myrcella Baratheon</td>\n",
       "      <td>635</td>\n",
       "      <td>0.411162</td>\n",
       "      <td>0.601366</td>\n",
       "    </tr>\n",
       "    <tr>\n",
       "      <th>5</th>\n",
       "      <td>Daenerys Targaryen SPOUSE Craster</td>\n",
       "      <td>1319</td>\n",
       "      <td>0.520104</td>\n",
       "      <td>0.627172</td>\n",
       "    </tr>\n",
       "    <tr>\n",
       "      <th>18</th>\n",
       "      <td>Cersei Lannister PARENT_OF Brandon Stark</td>\n",
       "      <td>897</td>\n",
       "      <td>0.582277</td>\n",
       "      <td>0.641591</td>\n",
       "    </tr>\n",
       "    <tr>\n",
       "      <th>2</th>\n",
       "      <td>King's Landing SEAT_OF House Lannister of Cast...</td>\n",
       "      <td>614</td>\n",
       "      <td>0.862553</td>\n",
       "      <td>0.703194</td>\n",
       "    </tr>\n",
       "    <tr>\n",
       "      <th>20</th>\n",
       "      <td>Missandei SPOUSE Grey Worm</td>\n",
       "      <td>277</td>\n",
       "      <td>0.890478</td>\n",
       "      <td>0.708989</td>\n",
       "    </tr>\n",
       "    <tr>\n",
       "      <th>4</th>\n",
       "      <td>Daenerys Targaryen SPOUSE Jon Snow</td>\n",
       "      <td>416</td>\n",
       "      <td>0.957588</td>\n",
       "      <td>0.722639</td>\n",
       "    </tr>\n",
       "    <tr>\n",
       "      <th>16</th>\n",
       "      <td>Robert I Baratheon PARENT_OF Myrcella Baratheon</td>\n",
       "      <td>154</td>\n",
       "      <td>1.292974</td>\n",
       "      <td>0.784650</td>\n",
       "    </tr>\n",
       "    <tr>\n",
       "      <th>8</th>\n",
       "      <td>House Tyrell of Highgarden IN_REGION Beyond th...</td>\n",
       "      <td>130</td>\n",
       "      <td>1.382012</td>\n",
       "      <td>0.799314</td>\n",
       "    </tr>\n",
       "    <tr>\n",
       "      <th>13</th>\n",
       "      <td>Daenerys Targaryen ALLIED_WITH House Stark of ...</td>\n",
       "      <td>45</td>\n",
       "      <td>1.756939</td>\n",
       "      <td>0.852826</td>\n",
       "    </tr>\n",
       "    <tr>\n",
       "      <th>3</th>\n",
       "      <td>Sansa Stark SPOUSE Petyr Baelish</td>\n",
       "      <td>35</td>\n",
       "      <td>2.673717</td>\n",
       "      <td>0.935458</td>\n",
       "    </tr>\n",
       "    <tr>\n",
       "      <th>6</th>\n",
       "      <td>House Stark of Winterfell IN_REGION The North</td>\n",
       "      <td>1</td>\n",
       "      <td>3.583780</td>\n",
       "      <td>0.972980</td>\n",
       "    </tr>\n",
       "    <tr>\n",
       "      <th>12</th>\n",
       "      <td>House Hutcheson SWORN_TO House Tyrell of Highg...</td>\n",
       "      <td>1</td>\n",
       "      <td>7.183494</td>\n",
       "      <td>0.999242</td>\n",
       "    </tr>\n",
       "    <tr>\n",
       "      <th>9</th>\n",
       "      <td>Brandon Stark ALLIED_WITH House Stark of Winte...</td>\n",
       "      <td>1</td>\n",
       "      <td>7.380463</td>\n",
       "      <td>0.999377</td>\n",
       "    </tr>\n",
       "  </tbody>\n",
       "</table>\n",
       "</div>"
      ],
      "text/plain": [
       "                                            statement  rank     score  \\\n",
       "14  Daenerys Targaryen ALLIED_WITH House Lannister...  3653 -1.506466   \n",
       "10  Brandon Stark ALLIED_WITH House Lannister of C...  2978 -0.741210   \n",
       "0             Jorah Mormont SPOUSE Daenerys Targaryen  2870 -0.500647   \n",
       "1                   Tyrion Lannister SPOUSE Missandei  2482 -0.303652   \n",
       "7           House Stark of Winterfell IN_REGION Dorne  2160 -0.242142   \n",
       "21            Brienne of Tarth SPOUSE Jaime Lannister  2047 -0.107624   \n",
       "19          Tywin Lannister PARENT_OF Jaime Lannister  2361 -0.045968   \n",
       "11               Rhaegar Targaryen PARENT_OF Jon Snow  1732  0.032920   \n",
       "17      Cersei Lannister PARENT_OF Myrcella Baratheon  1289  0.270324   \n",
       "15       Jaime Lannister PARENT_OF Myrcella Baratheon   635  0.411162   \n",
       "5                   Daenerys Targaryen SPOUSE Craster  1319  0.520104   \n",
       "18           Cersei Lannister PARENT_OF Brandon Stark   897  0.582277   \n",
       "2   King's Landing SEAT_OF House Lannister of Cast...   614  0.862553   \n",
       "20                         Missandei SPOUSE Grey Worm   277  0.890478   \n",
       "4                  Daenerys Targaryen SPOUSE Jon Snow   416  0.957588   \n",
       "16    Robert I Baratheon PARENT_OF Myrcella Baratheon   154  1.292974   \n",
       "8   House Tyrell of Highgarden IN_REGION Beyond th...   130  1.382012   \n",
       "13  Daenerys Targaryen ALLIED_WITH House Stark of ...    45  1.756939   \n",
       "3                    Sansa Stark SPOUSE Petyr Baelish    35  2.673717   \n",
       "6       House Stark of Winterfell IN_REGION The North     1  3.583780   \n",
       "12  House Hutcheson SWORN_TO House Tyrell of Highg...     1  7.183494   \n",
       "9   Brandon Stark ALLIED_WITH House Stark of Winte...     1  7.380463   \n",
       "\n",
       "        prob  \n",
       "14  0.181463  \n",
       "10  0.322740  \n",
       "0   0.377389  \n",
       "1   0.424665  \n",
       "7   0.439759  \n",
       "21  0.473120  \n",
       "19  0.488510  \n",
       "11  0.508229  \n",
       "17  0.567172  \n",
       "15  0.601366  \n",
       "5   0.627172  \n",
       "18  0.641591  \n",
       "2   0.703194  \n",
       "20  0.708989  \n",
       "4   0.722639  \n",
       "16  0.784650  \n",
       "8   0.799314  \n",
       "13  0.852826  \n",
       "3   0.935458  \n",
       "6   0.972980  \n",
       "12  0.999242  \n",
       "9   0.999377  "
      ]
     },
     "execution_count": 29,
     "metadata": {},
     "output_type": "execute_result"
    }
   ],
   "source": [
    "pd.DataFrame(list(zip([' '.join(x) for x in X_unseen], \n",
    "                      ranks_unseen_dm, \n",
    "                      np.squeeze(scores_dm),\n",
    "                      np.squeeze(probs_dm))), \n",
    "             columns=['statement', 'rank', 'score', 'prob']).sort_values(\"score\")"
   ]
  },
  {
   "cell_type": "code",
   "execution_count": 30,
   "metadata": {},
   "outputs": [],
   "source": [
    "from ampligraph.utils import create_tensorboard_visualizations"
   ]
  },
  {
   "cell_type": "code",
   "execution_count": 31,
   "metadata": {},
   "outputs": [],
   "source": [
    "create_tensorboard_visualizations(model_cex, 'GoT_embeddings_cex')\n",
    "create_tensorboard_visualizations(model_te, 'GoT_embeddings_te')\n",
    "create_tensorboard_visualizations(model_dm, 'GoT_embeddings_dm')"
   ]
  },
  {
   "cell_type": "code",
   "execution_count": 32,
   "metadata": {},
   "outputs": [
    {
     "name": "stdout",
     "output_type": "stream",
     "text": [
      "Traceback (most recent call last):\n",
      "  File \"/Users/devyanbiswas/Desktop/DSCI558/Homework/558/bin/tensorboard\", line 10, in <module>\n",
      "    sys.exit(run_main())\n",
      "  File \"/Users/devyanbiswas/Desktop/DSCI558/Homework/558/lib/python3.7/site-packages/tensorboard/main.py\", line 58, in run_main\n",
      "    default.get_plugins() + default.get_dynamic_plugins(),\n",
      "  File \"/Users/devyanbiswas/Desktop/DSCI558/Homework/558/lib/python3.7/site-packages/tensorboard/default.py\", line 110, in get_dynamic_plugins\n",
      "    for entry_point in pkg_resources.iter_entry_points('tensorboard_plugins')\n",
      "  File \"/Users/devyanbiswas/Desktop/DSCI558/Homework/558/lib/python3.7/site-packages/tensorboard/default.py\", line 110, in <listcomp>\n",
      "    for entry_point in pkg_resources.iter_entry_points('tensorboard_plugins')\n",
      "  File \"/Users/devyanbiswas/Desktop/DSCI558/Homework/558/lib/python3.7/site-packages/pkg_resources/__init__.py\", line 2470, in load\n",
      "    self.require(*args, **kwargs)\n",
      "  File \"/Users/devyanbiswas/Desktop/DSCI558/Homework/558/lib/python3.7/site-packages/pkg_resources/__init__.py\", line 2493, in require\n",
      "    items = working_set.resolve(reqs, env, installer, extras=self.extras)\n",
      "  File \"/Users/devyanbiswas/Desktop/DSCI558/Homework/558/lib/python3.7/site-packages/pkg_resources/__init__.py\", line 800, in resolve\n",
      "    raise VersionConflict(dist, req).with_context(dependent_req)\n",
      "pkg_resources.ContextualVersionConflict: (importlib-metadata 4.2.0 (/Users/devyanbiswas/Desktop/DSCI558/Homework/558/lib/python3.7/site-packages), Requirement.parse('importlib-metadata>=4.4; python_version < \"3.10\"'), {'markdown'})\n"
     ]
    }
   ],
   "source": [
    "!tensorboard --logdir=./visualizations"
   ]
  },
  {
   "cell_type": "markdown",
   "metadata": {},
   "source": [
    "## 2.2"
   ]
  },
  {
   "cell_type": "markdown",
   "metadata": {},
   "source": [
    "NOTE: \"The model returns a rank of 7. This tells us that while it’s not the highest likelihood true statement (which would be given a rank 1), it’s pretty likely.\" tells us that lowest will be most likely"
   ]
  },
  {
   "cell_type": "code",
   "execution_count": 33,
   "metadata": {},
   "outputs": [],
   "source": [
    "def relation_pred(subject, object, model):\n",
    "    possible_triples = list()\n",
    "    for relation in relations:\n",
    "        temp = list()\n",
    "        temp.append(subject)\n",
    "        temp.append(relation)\n",
    "        temp.append(object)\n",
    "        possible_triples.append(temp)\n",
    "\n",
    "    possible_triples = np.array(possible_triples)\n",
    "\n",
    "    unseen_filter = np.array(list({tuple(i) for i in np.vstack((possible_triples, X_unseen))}))\n",
    "    \n",
    "    ranks_unseen = evaluate_performance(\n",
    "        possible_triples, \n",
    "        model=model, \n",
    "        filter_triples=unseen_filter,   # Corruption strategy filter defined above \n",
    "        corrupt_side = 's+o',\n",
    "        use_default_protocol=False, # corrupt subj and obj separately while evaluating\n",
    "        verbose=True\n",
    "    )\n",
    "    scores = model.predict(possible_triples)\n",
    "    probs = expit(scores)\n",
    "\n",
    "    df = pd.DataFrame(list(zip(possible_triples, \n",
    "                      ranks_unseen, \n",
    "                      np.squeeze(scores),\n",
    "                      np.squeeze(probs))), \n",
    "             columns=['statement', 'rank', 'score', 'prob']).sort_values(\"score\")\n",
    "\n",
    "    row = df[df['rank']==df['rank'].min()]\n",
    "    top_relation = row['statement'].tolist()[0][1]\n",
    "\n",
    "    return top_relation\n"
   ]
  },
  {
   "cell_type": "code",
   "execution_count": 34,
   "metadata": {},
   "outputs": [
    {
     "name": "stderr",
     "output_type": "stream",
     "text": [
      "100%|██████████| 10/10 [00:00<00:00, 45.91it/s]\n",
      "100%|██████████| 10/10 [00:00<00:00, 101.77it/s]\n",
      "100%|██████████| 10/10 [00:00<00:00, 106.55it/s]"
     ]
    },
    {
     "name": "stdout",
     "output_type": "stream",
     "text": [
      "ALLIED_WITH\n",
      "SPOUSE\n",
      "FOUNDED_BY\n"
     ]
    },
    {
     "name": "stderr",
     "output_type": "stream",
     "text": [
      "\n"
     ]
    }
   ],
   "source": [
    "cex_relation_pred = relation_pred('Jorah Mormont', 'Daenerys Targaryen', model_cex)\n",
    "te_relation_pred = relation_pred('Jorah Mormont', 'Daenerys Targaryen', model_te)\n",
    "dm_relation_pred = relation_pred('Jorah Mormont', 'Daenerys Targaryen', model_dm)\n",
    "\n",
    "print(cex_relation_pred)\n",
    "print(te_relation_pred)\n",
    "print(dm_relation_pred)"
   ]
  },
  {
   "cell_type": "markdown",
   "metadata": {},
   "source": [
    "## 2.3"
   ]
  },
  {
   "cell_type": "code",
   "execution_count": 35,
   "metadata": {},
   "outputs": [],
   "source": [
    "from ampligraph.discovery import find_nearest_neighbours"
   ]
  },
  {
   "cell_type": "code",
   "execution_count": 36,
   "metadata": {},
   "outputs": [
    {
     "name": "stdout",
     "output_type": "stream",
     "text": [
      "CEX ARYA NEIGHBORS ['Edrick Stark' 'Desmond' 'Gariss' 'Poxy Tym' 'Edwyn Stark']\n",
      "TE ARYA NEIGHBORS ['Hayhead' 'Jonos Stark' 'TomToo' 'Quent' 'Edrick Stark']\n",
      "DM ARYA NEIGHBORS ['Desmond' 'Edrick Stark' 'Poxy Tym' 'Kyra' 'Gariss']\n"
     ]
    }
   ],
   "source": [
    "\n",
    "arya_stark_neighbors_cex = find_nearest_neighbours(model_cex, entities=['Arya Stark'], n_neighbors=6)[0][0][1:]\n",
    "arya_stark_neighbors_te = find_nearest_neighbours(model_te, entities=['Arya Stark'], n_neighbors=6)[0][0][1:]\n",
    "arya_stark_neighbors_dm = find_nearest_neighbours(model_dm, entities=['Arya Stark'], n_neighbors=6)[0][0][1:]\n",
    "print(\"CEX ARYA NEIGHBORS\", arya_stark_neighbors_cex)\n",
    "print(\"TE ARYA NEIGHBORS\", arya_stark_neighbors_te)\n",
    "print(\"DM ARYA NEIGHBORS\", arya_stark_neighbors_dm)"
   ]
  }
 ],
 "metadata": {
  "kernelspec": {
   "display_name": "Python 3.7.5 ('558': venv)",
   "language": "python",
   "name": "python3"
  },
  "language_info": {
   "codemirror_mode": {
    "name": "ipython",
    "version": 3
   },
   "file_extension": ".py",
   "mimetype": "text/x-python",
   "name": "python",
   "nbconvert_exporter": "python",
   "pygments_lexer": "ipython3",
   "version": "3.7.5"
  },
  "orig_nbformat": 4,
  "vscode": {
   "interpreter": {
    "hash": "9283565c2edb4b4d683f503e764f8eab77581b5966062eabe376875498269cc6"
   }
  }
 },
 "nbformat": 4,
 "nbformat_minor": 2
}
